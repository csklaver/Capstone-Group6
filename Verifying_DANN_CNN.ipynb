{
 "cells": [
  {
   "cell_type": "code",
   "execution_count": 1,
   "metadata": {},
   "outputs": [
    {
     "name": "stderr",
     "output_type": "stream",
     "text": [
      "/opt/anaconda3/lib/python3.7/site-packages/tensorflow/python/framework/dtypes.py:516: FutureWarning: Passing (type, 1) or '1type' as a synonym of type is deprecated; in a future version of numpy, it will be understood as (type, (1,)) / '(1,)type'.\n",
      "  _np_qint8 = np.dtype([(\"qint8\", np.int8, 1)])\n",
      "/opt/anaconda3/lib/python3.7/site-packages/tensorflow/python/framework/dtypes.py:517: FutureWarning: Passing (type, 1) or '1type' as a synonym of type is deprecated; in a future version of numpy, it will be understood as (type, (1,)) / '(1,)type'.\n",
      "  _np_quint8 = np.dtype([(\"quint8\", np.uint8, 1)])\n",
      "/opt/anaconda3/lib/python3.7/site-packages/tensorflow/python/framework/dtypes.py:518: FutureWarning: Passing (type, 1) or '1type' as a synonym of type is deprecated; in a future version of numpy, it will be understood as (type, (1,)) / '(1,)type'.\n",
      "  _np_qint16 = np.dtype([(\"qint16\", np.int16, 1)])\n",
      "/opt/anaconda3/lib/python3.7/site-packages/tensorflow/python/framework/dtypes.py:519: FutureWarning: Passing (type, 1) or '1type' as a synonym of type is deprecated; in a future version of numpy, it will be understood as (type, (1,)) / '(1,)type'.\n",
      "  _np_quint16 = np.dtype([(\"quint16\", np.uint16, 1)])\n",
      "/opt/anaconda3/lib/python3.7/site-packages/tensorflow/python/framework/dtypes.py:520: FutureWarning: Passing (type, 1) or '1type' as a synonym of type is deprecated; in a future version of numpy, it will be understood as (type, (1,)) / '(1,)type'.\n",
      "  _np_qint32 = np.dtype([(\"qint32\", np.int32, 1)])\n",
      "/opt/anaconda3/lib/python3.7/site-packages/tensorflow/python/framework/dtypes.py:525: FutureWarning: Passing (type, 1) or '1type' as a synonym of type is deprecated; in a future version of numpy, it will be understood as (type, (1,)) / '(1,)type'.\n",
      "  np_resource = np.dtype([(\"resource\", np.ubyte, 1)])\n",
      "/opt/anaconda3/lib/python3.7/site-packages/tensorboard/compat/tensorflow_stub/dtypes.py:541: FutureWarning: Passing (type, 1) or '1type' as a synonym of type is deprecated; in a future version of numpy, it will be understood as (type, (1,)) / '(1,)type'.\n",
      "  _np_qint8 = np.dtype([(\"qint8\", np.int8, 1)])\n",
      "/opt/anaconda3/lib/python3.7/site-packages/tensorboard/compat/tensorflow_stub/dtypes.py:542: FutureWarning: Passing (type, 1) or '1type' as a synonym of type is deprecated; in a future version of numpy, it will be understood as (type, (1,)) / '(1,)type'.\n",
      "  _np_quint8 = np.dtype([(\"quint8\", np.uint8, 1)])\n",
      "/opt/anaconda3/lib/python3.7/site-packages/tensorboard/compat/tensorflow_stub/dtypes.py:543: FutureWarning: Passing (type, 1) or '1type' as a synonym of type is deprecated; in a future version of numpy, it will be understood as (type, (1,)) / '(1,)type'.\n",
      "  _np_qint16 = np.dtype([(\"qint16\", np.int16, 1)])\n",
      "/opt/anaconda3/lib/python3.7/site-packages/tensorboard/compat/tensorflow_stub/dtypes.py:544: FutureWarning: Passing (type, 1) or '1type' as a synonym of type is deprecated; in a future version of numpy, it will be understood as (type, (1,)) / '(1,)type'.\n",
      "  _np_quint16 = np.dtype([(\"quint16\", np.uint16, 1)])\n",
      "/opt/anaconda3/lib/python3.7/site-packages/tensorboard/compat/tensorflow_stub/dtypes.py:545: FutureWarning: Passing (type, 1) or '1type' as a synonym of type is deprecated; in a future version of numpy, it will be understood as (type, (1,)) / '(1,)type'.\n",
      "  _np_qint32 = np.dtype([(\"qint32\", np.int32, 1)])\n",
      "/opt/anaconda3/lib/python3.7/site-packages/tensorboard/compat/tensorflow_stub/dtypes.py:550: FutureWarning: Passing (type, 1) or '1type' as a synonym of type is deprecated; in a future version of numpy, it will be understood as (type, (1,)) / '(1,)type'.\n",
      "  np_resource = np.dtype([(\"resource\", np.ubyte, 1)])\n",
      "Using TensorFlow backend.\n"
     ]
    }
   ],
   "source": [
    "# %% --------------------------------------- Imports -------------------------------------------------------------------\n",
    "import os\n",
    "from time import time\n",
    "import random\n",
    "import numpy as np\n",
    "import pandas as pd\n",
    "import tensorflow as tf\n",
    "from keras.models import Sequential\n",
    "from keras.layers import Dense, Dropout, BatchNormalization\n",
    "from keras.optimizers import Adam\n",
    "from sklearn.model_selection import train_test_split\n",
    "from keras.wrappers.scikit_learn import KerasRegressor\n",
    "from sklearn.model_selection import GridSearchCV, KFold\n",
    "import pandas as pd\n",
    "import numpy as np\n",
    "import math\n",
    "import matplotlib.pyplot as plt\n",
    "import keras\n",
    "from keras import layers\n",
    "from sklearn.model_selection import KFold\n",
    "import numpy as np\n",
    "import keras.backend as K\n",
    "path = ('/Users/carolinesklaver/Desktop/Capstone/NHANES/data/csv_data/')\n",
    "\n",
    "import os\n",
    "os.chdir(path)\n",
    "\n",
    "SEED = 42\n",
    "\n",
    "target = 'depressed'"
   ]
  },
  {
   "cell_type": "code",
   "execution_count": 2,
   "metadata": {},
   "outputs": [],
   "source": [
    "#df_raw = pd.read_csv('df_mean_75_ext.csv')\n",
    "df_raw = pd.read_csv('df_progressive_mlp_ext.csv')"
   ]
  },
  {
   "cell_type": "markdown",
   "metadata": {},
   "source": [
    "## Get feature types"
   ]
  },
  {
   "cell_type": "code",
   "execution_count": 3,
   "metadata": {},
   "outputs": [],
   "source": [
    "def var_type(df):\n",
    "    # input dataframe\n",
    "    # return continuous, non-continous, and multi-categorical features\n",
    " \n",
    "    cols = df.columns\n",
    "    cont = []\n",
    "    non_cont = []\n",
    "    cat_encode = []\n",
    "    \n",
    "    # get continuous variables\n",
    "    for c in cols:\n",
    "        if df[c].nunique() > 6:\n",
    "            cont.append(c)\n",
    "    \n",
    "    # non cont is the difference\n",
    "    non_cont = np.setdiff1d(cols, [cont])\n",
    "    \n",
    "    # multi-cat are those greater than 2\n",
    "    for n in non_cont:\n",
    "        if df[n].nunique() > 2:\n",
    "            cat_encode.append(n)\n",
    "    \n",
    "    return cont, non_cont, cat_encode\n",
    "    "
   ]
  },
  {
   "cell_type": "code",
   "execution_count": null,
   "metadata": {},
   "outputs": [],
   "source": []
  },
  {
   "cell_type": "markdown",
   "metadata": {},
   "source": [
    "## Encode multi-categorical features"
   ]
  },
  {
   "cell_type": "code",
   "execution_count": 4,
   "metadata": {},
   "outputs": [],
   "source": [
    "def one_hot_encode(df, cat_encode):\n",
    "    # takes in df and multi-cat features\n",
    "    # returns df with features that are one-hot-encoded encoded and feature names\n",
    "    \n",
    "    cols = df.columns\n",
    "    e_cols = list(set(cols).intersection(set(cat_encode)))\n",
    "    df_encode = pd.get_dummies(df, columns=e_cols)\n",
    "    \n",
    "    features = np.setdiff1d(df_encode.columns, [target])\n",
    "\n",
    "    return (df_encode, features)"
   ]
  },
  {
   "cell_type": "markdown",
   "metadata": {},
   "source": [
    "## Split into training and testing & scale data"
   ]
  },
  {
   "cell_type": "code",
   "execution_count": 5,
   "metadata": {},
   "outputs": [],
   "source": [
    "import pandas as pd\n",
    "pd.options.mode.chained_assignment = None \n",
    "from sklearn.preprocessing import StandardScaler\n",
    "ss = StandardScaler()\n",
    "\n",
    "def split_train_test(df, features, cont):\n",
    "    # take in dataframe\n",
    "    # output training features and binary target\n",
    "    # output testing features and binary target\n",
    "    \n",
    "    \n",
    "    # divide into training and testing\n",
    "    df_raw_train, df_raw_test = train_test_split(df, test_size=0.33, random_state=SEED)\n",
    "    # Reset the index\n",
    "    df_raw_train, df_raw_test = df_raw_train.reset_index(drop=True), df_raw_test.reset_index(drop=True)\n",
    "\n",
    "    # split training into train and validation\n",
    "    df_train_split, df_raw_val = train_test_split(df_raw_train, test_size=0.2, random_state=SEED)\n",
    "    # Reset the index\n",
    "    df_train_split, df_raw_val = df_train_split.reset_index(drop=True), df_raw_val.reset_index(drop=True)\n",
    "\n",
    "   \n",
    "    \n",
    "    # Make a copy of df_raw_train\n",
    "    df_train = df_train_split.copy(deep=True)\n",
    "    df_val = df_raw_val.copy(deep=True)\n",
    "    # Make a copy of df_raw_test\n",
    "    df_test = df_raw_test.copy(deep=True)\n",
    "\n",
    "\n",
    "    # get feautre matrix\n",
    "    x_train = df_train[features]\n",
    "    x_val = df_val[features]\n",
    "    x_test = df_test[features]\n",
    "    \n",
    "    y_train = df_train[target]\n",
    "    y_val = df_val[target]\n",
    "    y_test = df_test[target]\n",
    "    \n",
    "    \n",
    "    # ---------------------- scale the continuous features --------------------\n",
    "    x_train.astype('float32')\n",
    "    x_val.astype('float32')\n",
    "    x_test.astype('float32')\n",
    "\n",
    "    cont_ss = []\n",
    "    for var in cont:\n",
    "        if var in x_train.columns:\n",
    "            cont_ss.append(var)\n",
    "\n",
    "    x_train[cont_ss] = ss.fit_transform(x_train[cont_ss])\n",
    "    x_val[cont_ss] =ss.fit_transform(x_val[cont_ss])\n",
    "    x_test[cont_ss] = ss.transform(x_test[cont_ss])\n",
    "    # ---------------------------------------------------------------------------\n",
    "    \n",
    "    # get 2D output shape\n",
    "    y_train_binary = keras.utils.to_categorical(y_train)\n",
    "    y_val_binary = keras.utils.to_categorical(y_val)\n",
    "    y_test_binary = keras.utils.to_categorical(y_test)\n",
    "    \n",
    "    # get input dimentions\n",
    "    input_n = df_train.shape[1]-1\n",
    "\n",
    "    print('Training data shape:', df_train.shape)\n",
    "    print('Val data shape:', df_val.shape)\n",
    "    print('Test data shape:', df_test.shape)\n",
    "    print('Input shape:', input_n)\n",
    "    \n",
    "    \n",
    "    return x_train,x_val, x_test, y_train_binary, y_val_binary, y_test_binary, input_n\n",
    "\n"
   ]
  },
  {
   "cell_type": "markdown",
   "metadata": {},
   "source": [
    "# Keras NN Model"
   ]
  },
  {
   "cell_type": "code",
   "execution_count": 6,
   "metadata": {},
   "outputs": [],
   "source": [
    "def keras_model(input_n):\n",
    "\n",
    "    # Define the model architecture\n",
    "    model = keras.Sequential()\n",
    "\n",
    "    model.add(layers.Dense(200, activation='relu' , input_dim=input_n))\n",
    "    model.add(Dropout(0.2))\n",
    "    model.add(layers.Dense(200, activation='relu'))\n",
    "    model.add(Dropout(0.2))\n",
    "    model.add(layers.Dense(100, activation='relu'))\n",
    "    model.add(Dropout(0.2))\n",
    "    model.add(layers.Dense(100, activation='relu'))\n",
    "    model.add(Dropout(0.2))\n",
    "    model.add(layers.Dense(60, activation='relu'))\n",
    "    model.add(Dropout(0.2))\n",
    "    model.add(layers.Dense(60, activation='relu'))\n",
    "    model.add(Dropout(0.2))\n",
    "    model.add(layers.Dense(50, activation='relu'))\n",
    "    model.add(Dropout(0.2))\n",
    "    model.add(layers.Dense(50, activation='relu'))\n",
    "    model.add(Dropout(0.2))\n",
    "    model.add(layers.Dense(2, activation='softmax'))\n",
    "\n",
    "    # print(model.summary())\n",
    "\n",
    "    return model"
   ]
  },
  {
   "cell_type": "code",
   "execution_count": 7,
   "metadata": {},
   "outputs": [],
   "source": [
    "import keras\n",
    "from keras import layers\n",
    "from sklearn.model_selection import KFold\n",
    "import numpy as np\n",
    "import keras.backend as K\n",
    "K.clear_session()\n",
    "tf.config.experimental.set_visible_devices([], 'GPU')\n",
    "\n",
    "# --------------------------------------- Plots ---------------------------------------\n",
    "from matplotlib import pyplot as plt\n",
    "\n",
    "def acc_loss_plots(hist):\n",
    "    # list all data in history\n",
    "    print(hist.history.keys())\n",
    "    # summarize history for accuracy\n",
    "    plt.plot(hist.history['accuracy'])\n",
    "    plt.plot(hist.history['val_accuracy'])\n",
    "    plt.title('model accuracy')\n",
    "    plt.ylabel('accuracy')\n",
    "    plt.xlabel('epoch')\n",
    "    plt.legend(['train', 'val'], loc='upper left')\n",
    "    plt.show()\n",
    "    # summarize history for loss\n",
    "    plt.plot(hist.history['loss'])\n",
    "    plt.plot(hist.history['val_loss'])\n",
    "    plt.title('model loss')\n",
    "    plt.ylabel('loss')\n",
    "    plt.xlabel('epoch')\n",
    "    plt.legend(['train', 'val'], loc='upper left')\n",
    "    plt.show()\n"
   ]
  },
  {
   "cell_type": "code",
   "execution_count": 8,
   "metadata": {},
   "outputs": [],
   "source": [
    "from imblearn.keras import balanced_batch_generator\n",
    "from sklearn.metrics import confusion_matrix, f1_score, precision_score, recall_score, accuracy_score, roc_auc_score\n",
    "\n",
    "\n",
    "# Define the K-fold Cross Validator\n",
    "BATCH_SIZE=32\n",
    "EPOCHS_1 = 25\n",
    "num_folds=2\n",
    "\n",
    "def nn_kfold(df, balanced_batches=False):\n",
    "    \n",
    "    cont, non_cont, cat_encode = var_type(df)\n",
    "    df_encoded, features = one_hot_encode(df, cat_encode)\n",
    "    x_train,x_val, x_test, y_train_binary, y_val_binary, y_test_binary, input_n = split_train_test(df_encoded, features, cont)\n",
    "    \n",
    "    # Merge inputs and targets\n",
    "    inputs = np.concatenate((x_train, x_val), axis=0)\n",
    "    targets = np.concatenate((y_train_binary, y_val_binary), axis=0)\n",
    "\n",
    "    kfold = KFold(n_splits=num_folds, shuffle=True)\n",
    "\n",
    "    # K-fold Cross Validation model evaluation\n",
    "    fold_no = 1\n",
    "    for train, test in kfold.split(inputs, targets):\n",
    "\n",
    "        model = keras_model(input_n)\n",
    "        \n",
    "        if fold_no==1:\n",
    "            print(model.summary())\n",
    "\n",
    "        opt = keras.optimizers.rmsprop()\n",
    "\n",
    "        model.compile(loss='binary_crossentropy',\n",
    "                  optimizer=opt,metrics=['accuracy', keras.metrics.Precision(name='precision'),\n",
    "                                        keras.metrics.Recall(name='recall'),\n",
    "                                        keras.metrics.AUC(name='AUC')])\n",
    "\n",
    "        # Generate a print\n",
    "        print('------------------------------------------------------------------------')\n",
    "        print(f'Training for fold {fold_no} ...')\n",
    "\n",
    "        if balanced_batches==True:\n",
    "            training_generator, steps_per_epoch = balanced_batch_generator(inputs[train],targets[train],\n",
    "                                                                   batch_size=BATCH_SIZE,\n",
    "                                                                   random_state=SEED)\n",
    "            history = model.fit_generator(generator=training_generator,\n",
    "                                    steps_per_epoch=steps_per_epoch,\n",
    "                                    validation_data=(inputs[test], targets[test]),\n",
    "                                    epochs=EPOCHS_1, verbose=0)\n",
    "\n",
    "        else:\n",
    "            history = model.fit(inputs[train],targets[train], #class_weight=class_weights,\n",
    "                        batch_size=BATCH_SIZE, validation_data=(inputs[test], targets[test]),\n",
    "                        epochs=EPOCHS_1, verbose=0)\n",
    "\n",
    "\n",
    "\n",
    "        # Generate generalization metrics\n",
    "        scores = model.evaluate(inputs[test], targets[test], verbose=1)\n",
    "        \n",
    "        # Generate a print\n",
    "        print('------------------------------------------------------------------------')\n",
    "        print(\n",
    "        f'Score for fold {fold_no}: {model.metrics_names[0]} of {scores[0]}; '\n",
    "        f' {model.metrics_names[1]} of {scores[1]}; {model.metrics_names[2]} of {scores[2]};'\n",
    "        f' {model.metrics_names[3]} of {scores[3]}; {model.metrics_names[4]} of {scores[4]};')\n",
    "    \n",
    "        # plot Testing/Val accuracy and loss    \n",
    "        if fold_no==num_folds:\n",
    "            # plot the accuracy and loss for training/val by epoch\n",
    "            acc_loss_plots(history)\n",
    "\n",
    "\n",
    "        # Increase fold number\n",
    "        fold_no = fold_no + 1\n",
    "        \n",
    "        \n",
    "    y_pred = model.predict(x_test)\n",
    "\n",
    "    print(confusion_matrix(y_test_binary.argmax(axis=1), y_pred.argmax(axis=1)))\n",
    "    print('F1 score:',f1_score(y_test_binary.argmax(axis=1), y_pred.argmax(axis=1)))\n",
    "    print('Precision:',precision_score(y_test_binary.argmax(axis=1), y_pred.argmax(axis=1)))\n",
    "    print('Recall:',recall_score(y_test_binary.argmax(axis=1), y_pred.argmax(axis=1)))\n",
    "    print('Accuracy:', accuracy_score(y_test_binary.argmax(axis=1), y_pred.argmax(axis=1)))\n",
    "    print('ROC AUC:', roc_auc_score(y_test_binary.argmax(axis=1), y_pred.argmax(axis=1)))\n",
    "    \n",
    "    return model\n",
    "\n"
   ]
  },
  {
   "cell_type": "markdown",
   "metadata": {},
   "source": [
    "# CNN model"
   ]
  },
  {
   "cell_type": "code",
   "execution_count": 9,
   "metadata": {},
   "outputs": [],
   "source": [
    "from __future__ import print_function    \n",
    "from keras.models import Sequential\n",
    "import keras\n",
    "from keras.models import Sequential\n",
    "from keras.layers import Dense, Flatten, Conv1D\n",
    "from keras.callbacks import ModelCheckpoint\n",
    "from keras.models import model_from_json\n",
    "from keras import backend as K\n",
    "\n",
    "def cnn_model(input_n):\n",
    "    model = Sequential()\n",
    "    model.add(layers.Reshape((input_n,1), input_shape=(input_n,)))\n",
    "    model.add(Conv1D(32, (2), input_shape=(input_n,1), activation='relu'))\n",
    "    model.add(BatchNormalization())\n",
    "    model.add(Conv1D(32, 2, activation=\"relu\"))\n",
    "    model.add(BatchNormalization())\n",
    "    model.add(Conv1D(64, 2, activation=\"relu\"))\n",
    "    model.add(BatchNormalization())\n",
    "    model.add(Conv1D(128, 2, activation=\"relu\"))\n",
    "    model.add(BatchNormalization())\n",
    "    model.add(Flatten())\n",
    "    model.add(Dense(128, activation=\"relu\"))\n",
    "    model.add(Dropout(0.2))\n",
    "    model.add(BatchNormalization())\n",
    "    model.add(Dense(2, activation='softmax'))\n",
    "\n",
    "\n",
    "    # print(model.summary())\n",
    "    \n",
    "    return model"
   ]
  },
  {
   "cell_type": "code",
   "execution_count": 10,
   "metadata": {},
   "outputs": [],
   "source": [
    "from imblearn.keras import balanced_batch_generator\n",
    "from sklearn.metrics import confusion_matrix, f1_score, precision_score, recall_score, accuracy_score, roc_auc_score\n",
    "\n",
    "BATCH_SIZE=32\n",
    "EPOCHS_2 = 5\n",
    "\n",
    "def cnn(df, balanced_batches=False):\n",
    "    \n",
    "    cont, non_cont, cat_encode = var_type(df)\n",
    "    df_encoded, features = one_hot_encode(df, cat_encode)\n",
    "    x_train,x_val, x_test, y_train_binary, y_val_binary, y_test_binary, input_n = split_train_test(df_encoded, features, cont)\n",
    "    \n",
    "    # Merge inputs and targets\n",
    "    # inputs = np.concatenate((x_train, x_val), axis=0)\n",
    "    # targets = np.concatenate((y_train_binary, y_val_binary), axis=0)\n",
    "\n",
    "    model = cnn_model(input_n)\n",
    "    print(model.summary())\n",
    "\n",
    "    opt = keras.optimizers.Adam()\n",
    "\n",
    "    model.compile(loss='binary_crossentropy',\n",
    "                  optimizer=opt, metrics=['accuracy', keras.metrics.Precision(name='precision'),\n",
    "                                        keras.metrics.Recall(name='recall'),\n",
    "                                        keras.metrics.AUC(name='AUC')])\n",
    "\n",
    "    # Generate a print\n",
    "    print('------------------------------------------------------------------------')\n",
    "\n",
    "    if balanced_batches==True:\n",
    "        training_generator, steps_per_epoch = balanced_batch_generator(x_train, y_train_binary,\n",
    "                                                                   batch_size=BATCH_SIZE,\n",
    "                                                                   random_state=SEED)\n",
    "        history = model.fit_generator(generator=training_generator,\n",
    "                                    steps_per_epoch=steps_per_epoch,\n",
    "                                    validation_data=(x_val, y_val_binary),\n",
    "                                    epochs=EPOCHS_2, verbose=1)\n",
    "\n",
    "    else:\n",
    "        history = model.fit(x_train, y_train_binary, #class_weight=class_weights,\n",
    "                        batch_size=BATCH_SIZE, validation_data=(x_val, y_val_binary),\n",
    "                        epochs=EPOCHS_2, verbose=1)\n",
    "\n",
    "\n",
    "\n",
    "    # Generate generalization metrics\n",
    "    scores = model.evaluate(x_val, y_val_binary, verbose=1)\n",
    "        \n",
    "    # Generate a print\n",
    "    print('------------------------------------------------------------------------')\n",
    "    print(\n",
    "    f'Score for val cnn: {model.metrics_names[0]} of {scores[0]}; '\n",
    "    f' {model.metrics_names[1]} of {scores[1]}; {model.metrics_names[2]} of {scores[2]};'\n",
    "    f' {model.metrics_names[3]} of {scores[3]}; {model.metrics_names[4]} of {scores[4]};')\n",
    "    \n",
    "    # plot Testing/Val accuracy and loss    \n",
    "    acc_loss_plots(history)\n",
    "\n",
    "        \n",
    "    y_pred = model.predict(x_test)\n",
    "\n",
    "    print(confusion_matrix(y_test_binary.argmax(axis=1), y_pred.argmax(axis=1)))\n",
    "    print('F1 score:',f1_score(y_test_binary.argmax(axis=1), y_pred.argmax(axis=1)))\n",
    "    print('Precision:',precision_score(y_test_binary.argmax(axis=1), y_pred.argmax(axis=1)))\n",
    "    print('Recall:',recall_score(y_test_binary.argmax(axis=1), y_pred.argmax(axis=1)))\n",
    "    print('Accuracy:', accuracy_score(y_test_binary.argmax(axis=1), y_pred.argmax(axis=1)))\n",
    "    print('ROC AUC:', roc_auc_score(y_test_binary.argmax(axis=1), y_pred.argmax(axis=1)))\n",
    "    \n",
    "    return model"
   ]
  },
  {
   "cell_type": "markdown",
   "metadata": {},
   "source": [
    "## Different target = 'overweight'"
   ]
  },
  {
   "cell_type": "code",
   "execution_count": 31,
   "metadata": {},
   "outputs": [],
   "source": [
    "target = 'doc_overweight'\n",
    "cont, non_cont, cat_encode = var_type(df_raw)"
   ]
  },
  {
   "cell_type": "code",
   "execution_count": 20,
   "metadata": {},
   "outputs": [
    {
     "name": "stdout",
     "output_type": "stream",
     "text": [
      "Examples:\n",
      "    Total: 31357\n",
      "    Positive: 10595 (33.79% of total)\n",
      "\n"
     ]
    }
   ],
   "source": [
    "neg, pos = np.bincount(df_raw[target])\n",
    "total = neg + pos\n",
    "print('Examples:\\n    Total: {}\\n    Positive: {} ({:.2f}% of total)\\n'.format(\n",
    "    total, pos, 100 * pos / total))"
   ]
  },
  {
   "cell_type": "code",
   "execution_count": 14,
   "metadata": {},
   "outputs": [
    {
     "name": "stdout",
     "output_type": "stream",
     "text": [
      "Training data shape: (16807, 167)\n",
      "Val data shape: (4202, 167)\n",
      "Test data shape: (10348, 167)\n",
      "Input shape: 166\n",
      "Model: \"sequential_2\"\n",
      "_________________________________________________________________\n",
      "Layer (type)                 Output Shape              Param #   \n",
      "=================================================================\n",
      "dense_10 (Dense)             (None, 200)               33400     \n",
      "_________________________________________________________________\n",
      "dropout_9 (Dropout)          (None, 200)               0         \n",
      "_________________________________________________________________\n",
      "dense_11 (Dense)             (None, 200)               40200     \n",
      "_________________________________________________________________\n",
      "dropout_10 (Dropout)         (None, 200)               0         \n",
      "_________________________________________________________________\n",
      "dense_12 (Dense)             (None, 100)               20100     \n",
      "_________________________________________________________________\n",
      "dropout_11 (Dropout)         (None, 100)               0         \n",
      "_________________________________________________________________\n",
      "dense_13 (Dense)             (None, 100)               10100     \n",
      "_________________________________________________________________\n",
      "dropout_12 (Dropout)         (None, 100)               0         \n",
      "_________________________________________________________________\n",
      "dense_14 (Dense)             (None, 60)                6060      \n",
      "_________________________________________________________________\n",
      "dropout_13 (Dropout)         (None, 60)                0         \n",
      "_________________________________________________________________\n",
      "dense_15 (Dense)             (None, 60)                3660      \n",
      "_________________________________________________________________\n",
      "dropout_14 (Dropout)         (None, 60)                0         \n",
      "_________________________________________________________________\n",
      "dense_16 (Dense)             (None, 50)                3050      \n",
      "_________________________________________________________________\n",
      "dropout_15 (Dropout)         (None, 50)                0         \n",
      "_________________________________________________________________\n",
      "dense_17 (Dense)             (None, 50)                2550      \n",
      "_________________________________________________________________\n",
      "dropout_16 (Dropout)         (None, 50)                0         \n",
      "_________________________________________________________________\n",
      "dense_18 (Dense)             (None, 2)                 102       \n",
      "=================================================================\n",
      "Total params: 119,222\n",
      "Trainable params: 119,222\n",
      "Non-trainable params: 0\n",
      "_________________________________________________________________\n",
      "None\n",
      "------------------------------------------------------------------------\n",
      "Training for fold 1 ...\n",
      "10505/10505 [==============================] - 2s 199us/step\n",
      "------------------------------------------------------------------------\n",
      "Score for fold 1: loss of 0.8592044539618413;  accuracy of 0.7889576554298401; precision of 0.7889576554298401; recall of 0.7889576554298401; AUC of 0.8647670149803162;\n",
      "------------------------------------------------------------------------\n",
      "Training for fold 2 ...\n",
      "10504/10504 [==============================] - 2s 194us/step\n",
      "------------------------------------------------------------------------\n",
      "Score for fold 2: loss of 1.1283915013142969;  accuracy of 0.8035034537315369; precision of 0.8035034537315369; recall of 0.8035034537315369; AUC of 0.8678593039512634;\n",
      "dict_keys(['val_loss', 'val_accuracy', 'val_precision', 'val_recall', 'val_AUC', 'loss', 'accuracy', 'precision', 'recall', 'AUC'])\n"
     ]
    },
    {
     "data": {
      "image/png": "[encoded data removed]",
      "text/plain": [
       "<Figure size 432x288 with 1 Axes>"
      ]
     },
     "metadata": {
      "needs_background": "light"
     },
     "output_type": "display_data"
    },
    {
     "data": {
      "image/png": "[encoded data removed]",
      "text/plain": [
       "<Figure size 432x288 with 1 Axes>"
      ]
     },
     "metadata": {
      "needs_background": "light"
     },
     "output_type": "display_data"
    },
    {
     "name": "stdout",
     "output_type": "stream",
     "text": [
      "[[5832 1001]\n",
      " [1006 2509]]\n",
      "F1 score: 0.714306049822064\n",
      "Precision: 0.7148148148148148\n",
      "Recall: 0.7137980085348506\n",
      "Accuracy: 0.8060494781600309\n",
      "ROC AUC: 0.7836515287808162\n"
     ]
    },
    {
     "data": {
      "text/plain": [
       "<keras.engine.sequential.Sequential at 0x1a46c46590>"
      ]
     },
     "execution_count": 14,
     "metadata": {},
     "output_type": "execute_result"
    }
   ],
   "source": [
    "nn_kfold(df_raw)"
   ]
  },
  {
   "cell_type": "code",
   "execution_count": 32,
   "metadata": {},
   "outputs": [
    {
     "name": "stdout",
     "output_type": "stream",
     "text": [
      "Training data shape: (16807, 167)\n",
      "Val data shape: (4202, 167)\n",
      "Test data shape: (10348, 167)\n",
      "Input shape: 166\n",
      "Model: \"sequential_8\"\n",
      "_________________________________________________________________\n",
      "Layer (type)                 Output Shape              Param #   \n",
      "=================================================================\n",
      "reshape_3 (Reshape)          (None, 166, 1)            0         \n",
      "_________________________________________________________________\n",
      "conv1d_9 (Conv1D)            (None, 165, 32)           96        \n",
      "_________________________________________________________________\n",
      "batch_normalization_11 (Batc (None, 165, 32)           128       \n",
      "_________________________________________________________________\n",
      "conv1d_10 (Conv1D)           (None, 164, 32)           2080      \n",
      "_________________________________________________________________\n",
      "batch_normalization_12 (Batc (None, 164, 32)           128       \n",
      "_________________________________________________________________\n",
      "conv1d_11 (Conv1D)           (None, 163, 64)           4160      \n",
      "_________________________________________________________________\n",
      "batch_normalization_13 (Batc (None, 163, 64)           256       \n",
      "_________________________________________________________________\n",
      "conv1d_12 (Conv1D)           (None, 162, 128)          16512     \n",
      "_________________________________________________________________\n",
      "batch_normalization_14 (Batc (None, 162, 128)          512       \n",
      "_________________________________________________________________\n",
      "flatten_3 (Flatten)          (None, 20736)             0         \n",
      "_________________________________________________________________\n",
      "dense_50 (Dense)             (None, 128)               2654336   \n",
      "_________________________________________________________________\n",
      "dropout_43 (Dropout)         (None, 128)               0         \n",
      "_________________________________________________________________\n",
      "batch_normalization_15 (Batc (None, 128)               512       \n",
      "_________________________________________________________________\n",
      "dense_51 (Dense)             (None, 2)                 258       \n",
      "=================================================================\n",
      "Total params: 2,678,978\n",
      "Trainable params: 2,678,210\n",
      "Non-trainable params: 768\n",
      "_________________________________________________________________\n",
      "None\n",
      "------------------------------------------------------------------------\n",
      "Train on 16807 samples, validate on 4202 samples\n",
      "Epoch 1/10\n",
      "16807/16807 [==============================] - 149s 9ms/step - loss: 0.4485 - accuracy: 0.7968 - precision: 0.7968 - recall: 0.7968 - AUC: 0.8778 - val_loss: 0.3900 - val_accuracy: 0.8267 - val_precision: 0.8267 - val_recall: 0.8267 - val_AUC: 0.9068\n",
      "Epoch 2/10\n",
      "16807/16807 [==============================] - 135s 8ms/step - loss: 0.3897 - accuracy: 0.8249 - precision: 0.8249 - recall: 0.8249 - AUC: 0.9055 - val_loss: 0.3804 - val_accuracy: 0.8270 - val_precision: 0.8270 - val_recall: 0.8270 - val_AUC: 0.9112\n",
      "Epoch 3/10\n",
      "16807/16807 [==============================] - 137s 8ms/step - loss: 0.3863 - accuracy: 0.8245 - precision: 0.8245 - recall: 0.8245 - AUC: 0.9070 - val_loss: 0.3794 - val_accuracy: 0.8251 - val_precision: 0.8251 - val_recall: 0.8251 - val_AUC: 0.9111\n",
      "Epoch 4/10\n",
      "16807/16807 [==============================] - 144s 9ms/step - loss: 0.3761 - accuracy: 0.8327 - precision: 0.8327 - recall: 0.8327 - AUC: 0.9123 - val_loss: 0.3851 - val_accuracy: 0.8237 - val_precision: 0.8237 - val_recall: 0.8237 - val_AUC: 0.9091\n",
      "Epoch 5/10\n",
      "16807/16807 [==============================] - 147s 9ms/step - loss: 0.3838 - accuracy: 0.8276 - precision: 0.8276 - recall: 0.8276 - AUC: 0.9085 - val_loss: 0.3842 - val_accuracy: 0.8282 - val_precision: 0.8282 - val_recall: 0.8282 - val_AUC: 0.9109\n",
      "Epoch 6/10\n",
      "16807/16807 [==============================] - 143s 9ms/step - loss: 0.3758 - accuracy: 0.8296 - precision: 0.8296 - recall: 0.8296 - AUC: 0.9121 - val_loss: 0.3767 - val_accuracy: 0.8284 - val_precision: 0.8284 - val_recall: 0.8284 - val_AUC: 0.9120\n",
      "Epoch 7/10\n",
      "16807/16807 [==============================] - 151s 9ms/step - loss: 0.3665 - accuracy: 0.8354 - precision: 0.8354 - recall: 0.8354 - AUC: 0.9166 - val_loss: 0.4047 - val_accuracy: 0.8234 - val_precision: 0.8234 - val_recall: 0.8234 - val_AUC: 0.9055\n",
      "Epoch 8/10\n",
      "16807/16807 [==============================] - 143s 8ms/step - loss: 0.3537 - accuracy: 0.8429 - precision: 0.8429 - recall: 0.8429 - AUC: 0.9227 - val_loss: 0.3871 - val_accuracy: 0.8320 - val_precision: 0.8320 - val_recall: 0.8320 - val_AUC: 0.9098\n",
      "Epoch 9/10\n",
      "16807/16807 [==============================] - 151s 9ms/step - loss: 0.3481 - accuracy: 0.8466 - precision: 0.8466 - recall: 0.8466 - AUC: 0.9252 - val_loss: 0.4016 - val_accuracy: 0.8215 - val_precision: 0.8215 - val_recall: 0.8215 - val_AUC: 0.9066\n",
      "Epoch 10/10\n",
      "16807/16807 [==============================] - 139s 8ms/step - loss: 0.3427 - accuracy: 0.8493 - precision: 0.8493 - recall: 0.8493 - AUC: 0.9277 - val_loss: 0.3895 - val_accuracy: 0.8251 - val_precision: 0.8251 - val_recall: 0.8251 - val_AUC: 0.9093\n",
      "4202/4202 [==============================] - 14s 3ms/step\n",
      "------------------------------------------------------------------------\n",
      "Score for val cnn: loss of 0.38952246433153204;  accuracy of 0.825083315372467; precision of 0.825083315372467; recall of 0.825083315372467; AUC of 0.9092941284179688;\n",
      "dict_keys(['val_loss', 'val_accuracy', 'val_precision', 'val_recall', 'val_AUC', 'loss', 'accuracy', 'precision', 'recall', 'AUC'])\n"
     ]
    },
    {
     "data": {
      "image/png": "[encoded data removed]",
      "text/plain": [
       "<Figure size 432x288 with 1 Axes>"
      ]
     },
     "metadata": {
      "needs_background": "light"
     },
     "output_type": "display_data"
    },
    {
     "data": {
      "image/png": "[encoded data removed]",
      "text/plain": [
       "<Figure size 432x288 with 1 Axes>"
      ]
     },
     "metadata": {
      "needs_background": "light"
     },
     "output_type": "display_data"
    },
    {
     "name": "stdout",
     "output_type": "stream",
     "text": [
      "[[6070  763]\n",
      " [1021 2494]]\n",
      "F1 score: 0.7365623154164206\n",
      "Precision: 0.7657353392692662\n",
      "Recall: 0.7095305832147938\n",
      "Accuracy: 0.8275995361422497\n",
      "ROC AUC: 0.7989332998029186\n"
     ]
    },
    {
     "data": {
      "text/plain": [
       "<keras.engine.sequential.Sequential at 0x1a5aa48ed0>"
      ]
     },
     "execution_count": 32,
     "metadata": {},
     "output_type": "execute_result"
    }
   ],
   "source": [
    "EPOCHS_2 = 10\n",
    "cnn(df_raw)"
   ]
  },
  {
   "cell_type": "markdown",
   "metadata": {},
   "source": [
    "## UCI Breast Cancer data"
   ]
  },
  {
   "cell_type": "code",
   "execution_count": 11,
   "metadata": {},
   "outputs": [
    {
     "data": {
      "text/html": [
       "<div>\n",
       "<style scoped>\n",
       "    .dataframe tbody tr th:only-of-type {\n",
       "        vertical-align: middle;\n",
       "    }\n",
       "\n",
       "    .dataframe tbody tr th {\n",
       "        vertical-align: top;\n",
       "    }\n",
       "\n",
       "    .dataframe thead th {\n",
       "        text-align: right;\n",
       "    }\n",
       "</style>\n",
       "<table border=\"1\" class=\"dataframe\">\n",
       "  <thead>\n",
       "    <tr style=\"text-align: right;\">\n",
       "      <th></th>\n",
       "      <th>id</th>\n",
       "      <th>diagnosis</th>\n",
       "      <th>radius_mean</th>\n",
       "      <th>texture_mean</th>\n",
       "      <th>perimeter_mean</th>\n",
       "      <th>area_mean</th>\n",
       "      <th>smoothness_mean</th>\n",
       "      <th>compactness_mean</th>\n",
       "      <th>concavity_mean</th>\n",
       "      <th>concave points_mean</th>\n",
       "      <th>...</th>\n",
       "      <th>texture_worst</th>\n",
       "      <th>perimeter_worst</th>\n",
       "      <th>area_worst</th>\n",
       "      <th>smoothness_worst</th>\n",
       "      <th>compactness_worst</th>\n",
       "      <th>concavity_worst</th>\n",
       "      <th>concave points_worst</th>\n",
       "      <th>symmetry_worst</th>\n",
       "      <th>fractal_dimension_worst</th>\n",
       "      <th>Unnamed: 32</th>\n",
       "    </tr>\n",
       "  </thead>\n",
       "  <tbody>\n",
       "    <tr>\n",
       "      <th>0</th>\n",
       "      <td>842302</td>\n",
       "      <td>M</td>\n",
       "      <td>17.99</td>\n",
       "      <td>10.38</td>\n",
       "      <td>122.80</td>\n",
       "      <td>1001.0</td>\n",
       "      <td>0.11840</td>\n",
       "      <td>0.27760</td>\n",
       "      <td>0.3001</td>\n",
       "      <td>0.14710</td>\n",
       "      <td>...</td>\n",
       "      <td>17.33</td>\n",
       "      <td>184.60</td>\n",
       "      <td>2019.0</td>\n",
       "      <td>0.1622</td>\n",
       "      <td>0.6656</td>\n",
       "      <td>0.7119</td>\n",
       "      <td>0.2654</td>\n",
       "      <td>0.4601</td>\n",
       "      <td>0.11890</td>\n",
       "      <td>NaN</td>\n",
       "    </tr>\n",
       "    <tr>\n",
       "      <th>1</th>\n",
       "      <td>842517</td>\n",
       "      <td>M</td>\n",
       "      <td>20.57</td>\n",
       "      <td>17.77</td>\n",
       "      <td>132.90</td>\n",
       "      <td>1326.0</td>\n",
       "      <td>0.08474</td>\n",
       "      <td>0.07864</td>\n",
       "      <td>0.0869</td>\n",
       "      <td>0.07017</td>\n",
       "      <td>...</td>\n",
       "      <td>23.41</td>\n",
       "      <td>158.80</td>\n",
       "      <td>1956.0</td>\n",
       "      <td>0.1238</td>\n",
       "      <td>0.1866</td>\n",
       "      <td>0.2416</td>\n",
       "      <td>0.1860</td>\n",
       "      <td>0.2750</td>\n",
       "      <td>0.08902</td>\n",
       "      <td>NaN</td>\n",
       "    </tr>\n",
       "    <tr>\n",
       "      <th>2</th>\n",
       "      <td>84300903</td>\n",
       "      <td>M</td>\n",
       "      <td>19.69</td>\n",
       "      <td>21.25</td>\n",
       "      <td>130.00</td>\n",
       "      <td>1203.0</td>\n",
       "      <td>0.10960</td>\n",
       "      <td>0.15990</td>\n",
       "      <td>0.1974</td>\n",
       "      <td>0.12790</td>\n",
       "      <td>...</td>\n",
       "      <td>25.53</td>\n",
       "      <td>152.50</td>\n",
       "      <td>1709.0</td>\n",
       "      <td>0.1444</td>\n",
       "      <td>0.4245</td>\n",
       "      <td>0.4504</td>\n",
       "      <td>0.2430</td>\n",
       "      <td>0.3613</td>\n",
       "      <td>0.08758</td>\n",
       "      <td>NaN</td>\n",
       "    </tr>\n",
       "    <tr>\n",
       "      <th>3</th>\n",
       "      <td>84348301</td>\n",
       "      <td>M</td>\n",
       "      <td>11.42</td>\n",
       "      <td>20.38</td>\n",
       "      <td>77.58</td>\n",
       "      <td>386.1</td>\n",
       "      <td>0.14250</td>\n",
       "      <td>0.28390</td>\n",
       "      <td>0.2414</td>\n",
       "      <td>0.10520</td>\n",
       "      <td>...</td>\n",
       "      <td>26.50</td>\n",
       "      <td>98.87</td>\n",
       "      <td>567.7</td>\n",
       "      <td>0.2098</td>\n",
       "      <td>0.8663</td>\n",
       "      <td>0.6869</td>\n",
       "      <td>0.2575</td>\n",
       "      <td>0.6638</td>\n",
       "      <td>0.17300</td>\n",
       "      <td>NaN</td>\n",
       "    </tr>\n",
       "    <tr>\n",
       "      <th>4</th>\n",
       "      <td>84358402</td>\n",
       "      <td>M</td>\n",
       "      <td>20.29</td>\n",
       "      <td>14.34</td>\n",
       "      <td>135.10</td>\n",
       "      <td>1297.0</td>\n",
       "      <td>0.10030</td>\n",
       "      <td>0.13280</td>\n",
       "      <td>0.1980</td>\n",
       "      <td>0.10430</td>\n",
       "      <td>...</td>\n",
       "      <td>16.67</td>\n",
       "      <td>152.20</td>\n",
       "      <td>1575.0</td>\n",
       "      <td>0.1374</td>\n",
       "      <td>0.2050</td>\n",
       "      <td>0.4000</td>\n",
       "      <td>0.1625</td>\n",
       "      <td>0.2364</td>\n",
       "      <td>0.07678</td>\n",
       "      <td>NaN</td>\n",
       "    </tr>\n",
       "  </tbody>\n",
       "</table>\n",
       "<p>5 rows × 33 columns</p>\n",
       "</div>"
      ],
      "text/plain": [
       "         id diagnosis  radius_mean  texture_mean  perimeter_mean  area_mean  \\\n",
       "0    842302         M        17.99         10.38          122.80     1001.0   \n",
       "1    842517         M        20.57         17.77          132.90     1326.0   \n",
       "2  84300903         M        19.69         21.25          130.00     1203.0   \n",
       "3  84348301         M        11.42         20.38           77.58      386.1   \n",
       "4  84358402         M        20.29         14.34          135.10     1297.0   \n",
       "\n",
       "   smoothness_mean  compactness_mean  concavity_mean  concave points_mean  \\\n",
       "0          0.11840           0.27760          0.3001              0.14710   \n",
       "1          0.08474           0.07864          0.0869              0.07017   \n",
       "2          0.10960           0.15990          0.1974              0.12790   \n",
       "3          0.14250           0.28390          0.2414              0.10520   \n",
       "4          0.10030           0.13280          0.1980              0.10430   \n",
       "\n",
       "   ...  texture_worst  perimeter_worst  area_worst  smoothness_worst  \\\n",
       "0  ...          17.33           184.60      2019.0            0.1622   \n",
       "1  ...          23.41           158.80      1956.0            0.1238   \n",
       "2  ...          25.53           152.50      1709.0            0.1444   \n",
       "3  ...          26.50            98.87       567.7            0.2098   \n",
       "4  ...          16.67           152.20      1575.0            0.1374   \n",
       "\n",
       "   compactness_worst  concavity_worst  concave points_worst  symmetry_worst  \\\n",
       "0             0.6656           0.7119                0.2654          0.4601   \n",
       "1             0.1866           0.2416                0.1860          0.2750   \n",
       "2             0.4245           0.4504                0.2430          0.3613   \n",
       "3             0.8663           0.6869                0.2575          0.6638   \n",
       "4             0.2050           0.4000                0.1625          0.2364   \n",
       "\n",
       "   fractal_dimension_worst  Unnamed: 32  \n",
       "0                  0.11890          NaN  \n",
       "1                  0.08902          NaN  \n",
       "2                  0.08758          NaN  \n",
       "3                  0.17300          NaN  \n",
       "4                  0.07678          NaN  \n",
       "\n",
       "[5 rows x 33 columns]"
      ]
     },
     "execution_count": 11,
     "metadata": {},
     "output_type": "execute_result"
    }
   ],
   "source": [
    "breast_cancer = pd.read_csv('breast_cancer_data.csv')\n",
    "breast_cancer.head()"
   ]
  },
  {
   "cell_type": "code",
   "execution_count": 12,
   "metadata": {},
   "outputs": [],
   "source": [
    "# change overtime to 1 if over, 0 if not\n",
    "breast_cancer['diagnosis'].values[breast_cancer['diagnosis']=='M'] = 1\n",
    "breast_cancer['diagnosis'].values[breast_cancer['diagnosis']=='B'] = 0"
   ]
  },
  {
   "cell_type": "code",
   "execution_count": 13,
   "metadata": {},
   "outputs": [
    {
     "name": "stdout",
     "output_type": "stream",
     "text": [
      "Examples:\n",
      "    Total: 569\n",
      "    Positive: 212 (37.26% of total)\n",
      "\n"
     ]
    }
   ],
   "source": [
    "neg, pos = np.bincount(breast_cancer['diagnosis'])\n",
    "total = neg + pos\n",
    "print('Examples:\\n    Total: {}\\n    Positive: {} ({:.2f}% of total)\\n'.format(\n",
    "    total, pos, 100 * pos / total))"
   ]
  },
  {
   "cell_type": "code",
   "execution_count": 14,
   "metadata": {},
   "outputs": [],
   "source": [
    "target = 'diagnosis'\n",
    "\n",
    "breast_cancer.drop(['Unnamed: 32'],axis=1, inplace=True)\n",
    "breast_cancer.drop(['id'],axis=1, inplace=True)\n",
    "\n",
    "cont, non_cont, cat_encode = var_type(breast_cancer)"
   ]
  },
  {
   "cell_type": "code",
   "execution_count": 28,
   "metadata": {},
   "outputs": [
    {
     "name": "stdout",
     "output_type": "stream",
     "text": [
      "Training data shape: (304, 31)\n",
      "Val data shape: (77, 31)\n",
      "Test data shape: (188, 31)\n",
      "Input shape: 30\n",
      "Model: \"sequential_5\"\n",
      "_________________________________________________________________\n",
      "Layer (type)                 Output Shape              Param #   \n",
      "=================================================================\n",
      "dense_30 (Dense)             (None, 200)               6200      \n",
      "_________________________________________________________________\n",
      "dropout_26 (Dropout)         (None, 200)               0         \n",
      "_________________________________________________________________\n",
      "dense_31 (Dense)             (None, 200)               40200     \n",
      "_________________________________________________________________\n",
      "dropout_27 (Dropout)         (None, 200)               0         \n",
      "_________________________________________________________________\n",
      "dense_32 (Dense)             (None, 100)               20100     \n",
      "_________________________________________________________________\n",
      "dropout_28 (Dropout)         (None, 100)               0         \n",
      "_________________________________________________________________\n",
      "dense_33 (Dense)             (None, 100)               10100     \n",
      "_________________________________________________________________\n",
      "dropout_29 (Dropout)         (None, 100)               0         \n",
      "_________________________________________________________________\n",
      "dense_34 (Dense)             (None, 60)                6060      \n",
      "_________________________________________________________________\n",
      "dropout_30 (Dropout)         (None, 60)                0         \n",
      "_________________________________________________________________\n",
      "dense_35 (Dense)             (None, 60)                3660      \n",
      "_________________________________________________________________\n",
      "dropout_31 (Dropout)         (None, 60)                0         \n",
      "_________________________________________________________________\n",
      "dense_36 (Dense)             (None, 50)                3050      \n",
      "_________________________________________________________________\n",
      "dropout_32 (Dropout)         (None, 50)                0         \n",
      "_________________________________________________________________\n",
      "dense_37 (Dense)             (None, 50)                2550      \n",
      "_________________________________________________________________\n",
      "dropout_33 (Dropout)         (None, 50)                0         \n",
      "_________________________________________________________________\n",
      "dense_38 (Dense)             (None, 2)                 102       \n",
      "=================================================================\n",
      "Total params: 92,022\n",
      "Trainable params: 92,022\n",
      "Non-trainable params: 0\n",
      "_________________________________________________________________\n",
      "None\n",
      "------------------------------------------------------------------------\n",
      "Training for fold 1 ...\n",
      "191/191 [==============================] - 0s 145us/step\n",
      "------------------------------------------------------------------------\n",
      "Score for fold 1: loss of 0.14743557707918564;  accuracy of 0.9685863852500916; precision of 0.9685863852500916; recall of 0.9685863852500916; AUC of 0.9873358011245728;\n",
      "------------------------------------------------------------------------\n",
      "Training for fold 2 ...\n",
      "190/190 [==============================] - 0s 152us/step\n",
      "------------------------------------------------------------------------\n",
      "Score for fold 2: loss of 0.36285786256194114;  accuracy of 0.9578947424888611; precision of 0.9578947424888611; recall of 0.9578947424888611; AUC of 0.9725762009620667;\n",
      "dict_keys(['val_loss', 'val_accuracy', 'val_precision', 'val_recall', 'val_AUC', 'loss', 'accuracy', 'precision', 'recall', 'AUC'])\n"
     ]
    },
    {
     "data": {
      "image/png": "[encoded data removed]",
      "text/plain": [
       "<Figure size 432x288 with 1 Axes>"
      ]
     },
     "metadata": {
      "needs_background": "light"
     },
     "output_type": "display_data"
    },
    {
     "data": {
      "image/png": "[encoded data removed]",
      "text/plain": [
       "<Figure size 432x288 with 1 Axes>"
      ]
     },
     "metadata": {
      "needs_background": "light"
     },
     "output_type": "display_data"
    },
    {
     "name": "stdout",
     "output_type": "stream",
     "text": [
      "[[105  16]\n",
      " [  1  66]]\n",
      "F1 score: 0.8859060402684563\n",
      "Precision: 0.8048780487804879\n",
      "Recall: 0.9850746268656716\n",
      "Accuracy: 0.9095744680851063\n",
      "ROC AUC: 0.926421610953497\n"
     ]
    },
    {
     "data": {
      "text/plain": [
       "<keras.engine.sequential.Sequential at 0x1a583edd90>"
      ]
     },
     "execution_count": 28,
     "metadata": {},
     "output_type": "execute_result"
    }
   ],
   "source": [
    "nn_kfold(breast_cancer)"
   ]
  },
  {
   "cell_type": "code",
   "execution_count": 23,
   "metadata": {},
   "outputs": [
    {
     "name": "stdout",
     "output_type": "stream",
     "text": [
      "Training data shape: (304, 31)\n",
      "Val data shape: (77, 31)\n",
      "Test data shape: (188, 31)\n",
      "Input shape: 30\n",
      "Model: \"sequential_9\"\n",
      "_________________________________________________________________\n",
      "Layer (type)                 Output Shape              Param #   \n",
      "=================================================================\n",
      "reshape_9 (Reshape)          (None, 30, 1)             0         \n",
      "_________________________________________________________________\n",
      "conv1d_33 (Conv1D)           (None, 29, 32)            96        \n",
      "_________________________________________________________________\n",
      "batch_normalization_41 (Batc (None, 29, 32)            128       \n",
      "_________________________________________________________________\n",
      "conv1d_34 (Conv1D)           (None, 28, 32)            2080      \n",
      "_________________________________________________________________\n",
      "batch_normalization_42 (Batc (None, 28, 32)            128       \n",
      "_________________________________________________________________\n",
      "conv1d_35 (Conv1D)           (None, 27, 64)            4160      \n",
      "_________________________________________________________________\n",
      "batch_normalization_43 (Batc (None, 27, 64)            256       \n",
      "_________________________________________________________________\n",
      "conv1d_36 (Conv1D)           (None, 26, 128)           16512     \n",
      "_________________________________________________________________\n",
      "batch_normalization_44 (Batc (None, 26, 128)           512       \n",
      "_________________________________________________________________\n",
      "flatten_9 (Flatten)          (None, 3328)              0         \n",
      "_________________________________________________________________\n",
      "dense_17 (Dense)             (None, 128)               426112    \n",
      "_________________________________________________________________\n",
      "dropout_9 (Dropout)          (None, 128)               0         \n",
      "_________________________________________________________________\n",
      "batch_normalization_45 (Batc (None, 128)               512       \n",
      "_________________________________________________________________\n",
      "dense_18 (Dense)             (None, 2)                 258       \n",
      "=================================================================\n",
      "Total params: 450,754\n",
      "Trainable params: 449,986\n",
      "Non-trainable params: 768\n",
      "_________________________________________________________________\n",
      "None\n",
      "------------------------------------------------------------------------\n",
      "Train on 304 samples, validate on 77 samples\n",
      "Epoch 1/5\n",
      "304/304 [==============================] - 9s 29ms/step - loss: 0.2803 - accuracy: 0.8717 - precision: 0.8717 - recall: 0.8717 - AUC: 0.9628 - val_loss: 0.4860 - val_accuracy: 0.9351 - val_precision: 0.9351 - val_recall: 0.9351 - val_AUC: 0.9485\n",
      "Epoch 2/5\n",
      "304/304 [==============================] - 1s 2ms/step - loss: 0.0560 - accuracy: 0.9770 - precision: 0.9770 - recall: 0.9770 - AUC: 0.9985 - val_loss: 0.4579 - val_accuracy: 0.9221 - val_precision: 0.9221 - val_recall: 0.9221 - val_AUC: 0.9718\n",
      "Epoch 3/5\n",
      "304/304 [==============================] - 1s 2ms/step - loss: 0.0183 - accuracy: 0.9967 - precision: 0.9967 - recall: 0.9967 - AUC: 1.0000 - val_loss: 0.4770 - val_accuracy: 0.9351 - val_precision: 0.9351 - val_recall: 0.9351 - val_AUC: 0.9781\n",
      "Epoch 4/5\n",
      "304/304 [==============================] - 1s 2ms/step - loss: 0.0542 - accuracy: 0.9836 - precision: 0.9836 - recall: 0.9836 - AUC: 0.9981 - val_loss: 0.4341 - val_accuracy: 0.8831 - val_precision: 0.8831 - val_recall: 0.8831 - val_AUC: 0.9690\n",
      "Epoch 5/5\n",
      "304/304 [==============================] - 1s 2ms/step - loss: 0.0177 - accuracy: 0.9901 - precision: 0.9901 - recall: 0.9901 - AUC: 0.9999 - val_loss: 0.4617 - val_accuracy: 0.9221 - val_precision: 0.9221 - val_recall: 0.9221 - val_AUC: 0.9801\n",
      "77/77 [==============================] - 0s 1ms/step\n",
      "------------------------------------------------------------------------\n",
      "Score for val cnn: loss of 0.46167684994734726;  accuracy of 0.9220778942108154; precision of 0.9220778942108154; recall of 0.9220778942108154; AUC of 0.980097770690918;\n",
      "dict_keys(['val_loss', 'val_accuracy', 'val_precision', 'val_recall', 'val_AUC', 'loss', 'accuracy', 'precision', 'recall', 'AUC'])\n"
     ]
    },
    {
     "data": {
      "image/png": "[encoded data removed]",
      "text/plain": [
       "<Figure size 432x288 with 1 Axes>"
      ]
     },
     "metadata": {
      "needs_background": "light"
     },
     "output_type": "display_data"
    },
    {
     "data": {
      "image/png": "[encoded data removed]",
      "text/plain": [
       "<Figure size 432x288 with 1 Axes>"
      ]
     },
     "metadata": {
      "needs_background": "light"
     },
     "output_type": "display_data"
    },
    {
     "name": "stdout",
     "output_type": "stream",
     "text": [
      "[[119   2]\n",
      " [  9  58]]\n",
      "F1 score: 0.9133858267716535\n",
      "Precision: 0.9666666666666667\n",
      "Recall: 0.8656716417910447\n",
      "Accuracy: 0.9414893617021277\n",
      "ROC AUC: 0.924571358085605\n"
     ]
    },
    {
     "data": {
      "text/plain": [
       "<keras.engine.sequential.Sequential at 0x1a6b889290>"
      ]
     },
     "execution_count": 23,
     "metadata": {},
     "output_type": "execute_result"
    }
   ],
   "source": [
    "cnn(breast_cancer)"
   ]
  },
  {
   "cell_type": "code",
   "execution_count": null,
   "metadata": {},
   "outputs": [],
   "source": []
  }
 ],
 "metadata": {
  "kernelspec": {
   "display_name": "Python 3",
   "language": "python",
   "name": "python3"
  },
  "language_info": {
   "codemirror_mode": {
    "name": "ipython",
    "version": 3
   },
   "file_extension": ".py",
   "mimetype": "text/x-python",
   "name": "python",
   "nbconvert_exporter": "python",
   "pygments_lexer": "ipython3",
   "version": "3.7.6"
  }
 },
 "nbformat": 4,
 "nbformat_minor": 4
}
