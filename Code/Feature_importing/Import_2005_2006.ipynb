{
 "cells": [
  {
   "cell_type": "code",
   "execution_count": 165,
   "metadata": {},
   "outputs": [],
   "source": [
    "import pandas as pd\n",
    "import numpy as np"
   ]
  },
  {
   "cell_type": "markdown",
   "metadata": {},
   "source": [
    "# 2005-2006 Data"
   ]
  },
  {
   "cell_type": "code",
   "execution_count": 166,
   "metadata": {},
   "outputs": [],
   "source": [
    "# 2005-2006\n",
    "path = '/Users/carolinesklaver/Desktop/Capstone/NHANES/data/csv_data/2005-2006'\n",
    "\n",
    "import os\n",
    "os.chdir(path)"
   ]
  },
  {
   "cell_type": "markdown",
   "metadata": {},
   "source": [
    "## PHQ-9 Survey - part of Questionnaire"
   ]
  },
  {
   "cell_type": "code",
   "execution_count": 167,
   "metadata": {},
   "outputs": [],
   "source": [
    "DPQ_2005_2006 = pd.read_csv('./Questionnaire/DPQ_D.csv')"
   ]
  },
  {
   "cell_type": "code",
   "execution_count": 168,
   "metadata": {},
   "outputs": [
    {
     "data": {
      "text/html": [
       "<div>\n",
       "<style scoped>\n",
       "    .dataframe tbody tr th:only-of-type {\n",
       "        vertical-align: middle;\n",
       "    }\n",
       "\n",
       "    .dataframe tbody tr th {\n",
       "        vertical-align: top;\n",
       "    }\n",
       "\n",
       "    .dataframe thead th {\n",
       "        text-align: right;\n",
       "    }\n",
       "</style>\n",
       "<table border=\"1\" class=\"dataframe\">\n",
       "  <thead>\n",
       "    <tr style=\"text-align: right;\">\n",
       "      <th></th>\n",
       "      <th>SEQN</th>\n",
       "      <th>DPQ010</th>\n",
       "      <th>DPQ020</th>\n",
       "      <th>DPQ030</th>\n",
       "      <th>DPQ040</th>\n",
       "      <th>DPQ050</th>\n",
       "      <th>DPQ060</th>\n",
       "      <th>DPQ070</th>\n",
       "      <th>DPQ080</th>\n",
       "      <th>DPQ090</th>\n",
       "      <th>DPQ100</th>\n",
       "    </tr>\n",
       "  </thead>\n",
       "  <tbody>\n",
       "    <tr>\n",
       "      <th>0</th>\n",
       "      <td>31130.0</td>\n",
       "      <td>NaN</td>\n",
       "      <td>NaN</td>\n",
       "      <td>NaN</td>\n",
       "      <td>NaN</td>\n",
       "      <td>NaN</td>\n",
       "      <td>NaN</td>\n",
       "      <td>NaN</td>\n",
       "      <td>NaN</td>\n",
       "      <td>NaN</td>\n",
       "      <td>NaN</td>\n",
       "    </tr>\n",
       "    <tr>\n",
       "      <th>1</th>\n",
       "      <td>31131.0</td>\n",
       "      <td>5.397605e-79</td>\n",
       "      <td>5.397605e-79</td>\n",
       "      <td>5.397605e-79</td>\n",
       "      <td>5.397605e-79</td>\n",
       "      <td>5.397605e-79</td>\n",
       "      <td>5.397605e-79</td>\n",
       "      <td>5.397605e-79</td>\n",
       "      <td>5.397605e-79</td>\n",
       "      <td>5.397605e-79</td>\n",
       "      <td>NaN</td>\n",
       "    </tr>\n",
       "    <tr>\n",
       "      <th>2</th>\n",
       "      <td>31132.0</td>\n",
       "      <td>5.397605e-79</td>\n",
       "      <td>5.397605e-79</td>\n",
       "      <td>5.397605e-79</td>\n",
       "      <td>5.397605e-79</td>\n",
       "      <td>5.397605e-79</td>\n",
       "      <td>5.397605e-79</td>\n",
       "      <td>5.397605e-79</td>\n",
       "      <td>5.397605e-79</td>\n",
       "      <td>5.397605e-79</td>\n",
       "      <td>NaN</td>\n",
       "    </tr>\n",
       "    <tr>\n",
       "      <th>3</th>\n",
       "      <td>31134.0</td>\n",
       "      <td>5.397605e-79</td>\n",
       "      <td>5.397605e-79</td>\n",
       "      <td>5.397605e-79</td>\n",
       "      <td>5.397605e-79</td>\n",
       "      <td>5.397605e-79</td>\n",
       "      <td>5.397605e-79</td>\n",
       "      <td>5.397605e-79</td>\n",
       "      <td>5.397605e-79</td>\n",
       "      <td>5.397605e-79</td>\n",
       "      <td>NaN</td>\n",
       "    </tr>\n",
       "    <tr>\n",
       "      <th>4</th>\n",
       "      <td>31139.0</td>\n",
       "      <td>5.397605e-79</td>\n",
       "      <td>5.397605e-79</td>\n",
       "      <td>5.397605e-79</td>\n",
       "      <td>5.397605e-79</td>\n",
       "      <td>3.000000e+00</td>\n",
       "      <td>1.000000e+00</td>\n",
       "      <td>5.397605e-79</td>\n",
       "      <td>5.397605e-79</td>\n",
       "      <td>5.397605e-79</td>\n",
       "      <td>5.397605e-79</td>\n",
       "    </tr>\n",
       "  </tbody>\n",
       "</table>\n",
       "</div>"
      ],
      "text/plain": [
       "      SEQN        DPQ010        DPQ020        DPQ030        DPQ040  \\\n",
       "0  31130.0           NaN           NaN           NaN           NaN   \n",
       "1  31131.0  5.397605e-79  5.397605e-79  5.397605e-79  5.397605e-79   \n",
       "2  31132.0  5.397605e-79  5.397605e-79  5.397605e-79  5.397605e-79   \n",
       "3  31134.0  5.397605e-79  5.397605e-79  5.397605e-79  5.397605e-79   \n",
       "4  31139.0  5.397605e-79  5.397605e-79  5.397605e-79  5.397605e-79   \n",
       "\n",
       "         DPQ050        DPQ060        DPQ070        DPQ080        DPQ090  \\\n",
       "0           NaN           NaN           NaN           NaN           NaN   \n",
       "1  5.397605e-79  5.397605e-79  5.397605e-79  5.397605e-79  5.397605e-79   \n",
       "2  5.397605e-79  5.397605e-79  5.397605e-79  5.397605e-79  5.397605e-79   \n",
       "3  5.397605e-79  5.397605e-79  5.397605e-79  5.397605e-79  5.397605e-79   \n",
       "4  3.000000e+00  1.000000e+00  5.397605e-79  5.397605e-79  5.397605e-79   \n",
       "\n",
       "         DPQ100  \n",
       "0           NaN  \n",
       "1           NaN  \n",
       "2           NaN  \n",
       "3           NaN  \n",
       "4  5.397605e-79  "
      ]
     },
     "execution_count": 168,
     "metadata": {},
     "output_type": "execute_result"
    }
   ],
   "source": [
    "DPQ_2005_2006.head()"
   ]
  },
  {
   "cell_type": "code",
   "execution_count": 169,
   "metadata": {},
   "outputs": [],
   "source": [
    "# drop final follow-up question\n",
    "DPQ_2005_2006.drop(['DPQ100'], axis=1, inplace=True)"
   ]
  },
  {
   "cell_type": "code",
   "execution_count": 170,
   "metadata": {},
   "outputs": [],
   "source": [
    "# values less than 1 are zero\n",
    "def set_zero(df):\n",
    "    df[df<1] = 0\n",
    "    \n",
    "set_zero(DPQ_2005_2006)"
   ]
  },
  {
   "cell_type": "code",
   "execution_count": 171,
   "metadata": {},
   "outputs": [],
   "source": [
    "# need to drop rows where not all col are complete\n",
    "DPQ_2005_2006.dropna(axis=0, how='any', thresh=None, subset=None, inplace=True)"
   ]
  },
  {
   "cell_type": "code",
   "execution_count": 172,
   "metadata": {},
   "outputs": [],
   "source": [
    "# take a sum across rows and save as new col\n",
    "DPQ_2005_2006['sum'] = DPQ_2005_2006.iloc[:,1:].sum(axis=1)"
   ]
  },
  {
   "cell_type": "code",
   "execution_count": 173,
   "metadata": {},
   "outputs": [],
   "source": [
    "# create new target label 'depressed' if sum is greater than 10 --> 1, otherwise 0\n",
    "DPQ_2005_2006.loc[DPQ_2005_2006['sum'] > 10, 'depressed'] = 1\n",
    "DPQ_2005_2006.loc[DPQ_2005_2006['sum'] <= 10, 'depressed'] = 0"
   ]
  },
  {
   "cell_type": "code",
   "execution_count": 174,
   "metadata": {},
   "outputs": [
    {
     "data": {
      "text/html": [
       "<div>\n",
       "<style scoped>\n",
       "    .dataframe tbody tr th:only-of-type {\n",
       "        vertical-align: middle;\n",
       "    }\n",
       "\n",
       "    .dataframe tbody tr th {\n",
       "        vertical-align: top;\n",
       "    }\n",
       "\n",
       "    .dataframe thead th {\n",
       "        text-align: right;\n",
       "    }\n",
       "</style>\n",
       "<table border=\"1\" class=\"dataframe\">\n",
       "  <thead>\n",
       "    <tr style=\"text-align: right;\">\n",
       "      <th></th>\n",
       "      <th>SEQN</th>\n",
       "      <th>DPQ010</th>\n",
       "      <th>DPQ020</th>\n",
       "      <th>DPQ030</th>\n",
       "      <th>DPQ040</th>\n",
       "      <th>DPQ050</th>\n",
       "      <th>DPQ060</th>\n",
       "      <th>DPQ070</th>\n",
       "      <th>DPQ080</th>\n",
       "      <th>DPQ090</th>\n",
       "      <th>sum</th>\n",
       "      <th>depressed</th>\n",
       "    </tr>\n",
       "  </thead>\n",
       "  <tbody>\n",
       "    <tr>\n",
       "      <th>1</th>\n",
       "      <td>31131.0</td>\n",
       "      <td>0.0</td>\n",
       "      <td>0.0</td>\n",
       "      <td>0.0</td>\n",
       "      <td>0.0</td>\n",
       "      <td>0.0</td>\n",
       "      <td>0.0</td>\n",
       "      <td>0.0</td>\n",
       "      <td>0.0</td>\n",
       "      <td>0.0</td>\n",
       "      <td>0.0</td>\n",
       "      <td>0.0</td>\n",
       "    </tr>\n",
       "    <tr>\n",
       "      <th>2</th>\n",
       "      <td>31132.0</td>\n",
       "      <td>0.0</td>\n",
       "      <td>0.0</td>\n",
       "      <td>0.0</td>\n",
       "      <td>0.0</td>\n",
       "      <td>0.0</td>\n",
       "      <td>0.0</td>\n",
       "      <td>0.0</td>\n",
       "      <td>0.0</td>\n",
       "      <td>0.0</td>\n",
       "      <td>0.0</td>\n",
       "      <td>0.0</td>\n",
       "    </tr>\n",
       "    <tr>\n",
       "      <th>3</th>\n",
       "      <td>31134.0</td>\n",
       "      <td>0.0</td>\n",
       "      <td>0.0</td>\n",
       "      <td>0.0</td>\n",
       "      <td>0.0</td>\n",
       "      <td>0.0</td>\n",
       "      <td>0.0</td>\n",
       "      <td>0.0</td>\n",
       "      <td>0.0</td>\n",
       "      <td>0.0</td>\n",
       "      <td>0.0</td>\n",
       "      <td>0.0</td>\n",
       "    </tr>\n",
       "    <tr>\n",
       "      <th>4</th>\n",
       "      <td>31139.0</td>\n",
       "      <td>0.0</td>\n",
       "      <td>0.0</td>\n",
       "      <td>0.0</td>\n",
       "      <td>0.0</td>\n",
       "      <td>3.0</td>\n",
       "      <td>1.0</td>\n",
       "      <td>0.0</td>\n",
       "      <td>0.0</td>\n",
       "      <td>0.0</td>\n",
       "      <td>4.0</td>\n",
       "      <td>0.0</td>\n",
       "    </tr>\n",
       "    <tr>\n",
       "      <th>5</th>\n",
       "      <td>31143.0</td>\n",
       "      <td>0.0</td>\n",
       "      <td>1.0</td>\n",
       "      <td>1.0</td>\n",
       "      <td>1.0</td>\n",
       "      <td>1.0</td>\n",
       "      <td>1.0</td>\n",
       "      <td>1.0</td>\n",
       "      <td>0.0</td>\n",
       "      <td>0.0</td>\n",
       "      <td>6.0</td>\n",
       "      <td>0.0</td>\n",
       "    </tr>\n",
       "  </tbody>\n",
       "</table>\n",
       "</div>"
      ],
      "text/plain": [
       "      SEQN  DPQ010  DPQ020  DPQ030  DPQ040  DPQ050  DPQ060  DPQ070  DPQ080  \\\n",
       "1  31131.0     0.0     0.0     0.0     0.0     0.0     0.0     0.0     0.0   \n",
       "2  31132.0     0.0     0.0     0.0     0.0     0.0     0.0     0.0     0.0   \n",
       "3  31134.0     0.0     0.0     0.0     0.0     0.0     0.0     0.0     0.0   \n",
       "4  31139.0     0.0     0.0     0.0     0.0     3.0     1.0     0.0     0.0   \n",
       "5  31143.0     0.0     1.0     1.0     1.0     1.0     1.0     1.0     0.0   \n",
       "\n",
       "   DPQ090  sum  depressed  \n",
       "1     0.0  0.0        0.0  \n",
       "2     0.0  0.0        0.0  \n",
       "3     0.0  0.0        0.0  \n",
       "4     0.0  4.0        0.0  \n",
       "5     0.0  6.0        0.0  "
      ]
     },
     "execution_count": 174,
     "metadata": {},
     "output_type": "execute_result"
    }
   ],
   "source": [
    "DPQ_2005_2006.head()"
   ]
  },
  {
   "cell_type": "code",
   "execution_count": 175,
   "metadata": {},
   "outputs": [
    {
     "data": {
      "text/plain": [
       "(4836, 12)"
      ]
     },
     "execution_count": 175,
     "metadata": {},
     "output_type": "execute_result"
    }
   ],
   "source": [
    "DPQ_2005_2006.shape"
   ]
  },
  {
   "cell_type": "code",
   "execution_count": 176,
   "metadata": {},
   "outputs": [],
   "source": [
    "DPQ_D = DPQ_2005_2006[['SEQN', 'depressed']]"
   ]
  },
  {
   "cell_type": "code",
   "execution_count": 177,
   "metadata": {},
   "outputs": [
    {
     "data": {
      "text/html": [
       "<div>\n",
       "<style scoped>\n",
       "    .dataframe tbody tr th:only-of-type {\n",
       "        vertical-align: middle;\n",
       "    }\n",
       "\n",
       "    .dataframe tbody tr th {\n",
       "        vertical-align: top;\n",
       "    }\n",
       "\n",
       "    .dataframe thead th {\n",
       "        text-align: right;\n",
       "    }\n",
       "</style>\n",
       "<table border=\"1\" class=\"dataframe\">\n",
       "  <thead>\n",
       "    <tr style=\"text-align: right;\">\n",
       "      <th></th>\n",
       "      <th>SEQN</th>\n",
       "      <th>depressed</th>\n",
       "    </tr>\n",
       "  </thead>\n",
       "  <tbody>\n",
       "    <tr>\n",
       "      <th>1</th>\n",
       "      <td>31131.0</td>\n",
       "      <td>0.0</td>\n",
       "    </tr>\n",
       "    <tr>\n",
       "      <th>2</th>\n",
       "      <td>31132.0</td>\n",
       "      <td>0.0</td>\n",
       "    </tr>\n",
       "    <tr>\n",
       "      <th>3</th>\n",
       "      <td>31134.0</td>\n",
       "      <td>0.0</td>\n",
       "    </tr>\n",
       "    <tr>\n",
       "      <th>4</th>\n",
       "      <td>31139.0</td>\n",
       "      <td>0.0</td>\n",
       "    </tr>\n",
       "    <tr>\n",
       "      <th>5</th>\n",
       "      <td>31143.0</td>\n",
       "      <td>0.0</td>\n",
       "    </tr>\n",
       "  </tbody>\n",
       "</table>\n",
       "</div>"
      ],
      "text/plain": [
       "      SEQN  depressed\n",
       "1  31131.0        0.0\n",
       "2  31132.0        0.0\n",
       "3  31134.0        0.0\n",
       "4  31139.0        0.0\n",
       "5  31143.0        0.0"
      ]
     },
     "execution_count": 177,
     "metadata": {},
     "output_type": "execute_result"
    }
   ],
   "source": [
    "DPQ_D.head()"
   ]
  },
  {
   "cell_type": "code",
   "execution_count": 178,
   "metadata": {},
   "outputs": [
    {
     "data": {
      "text/plain": [
       "268"
      ]
     },
     "execution_count": 178,
     "metadata": {},
     "output_type": "execute_result"
    }
   ],
   "source": [
    "len(DPQ_2005_2006[DPQ_2005_2006['depressed']==1])  # about 8% depressed = true"
   ]
  },
  {
   "cell_type": "markdown",
   "metadata": {},
   "source": [
    "## Demographic Data"
   ]
  },
  {
   "cell_type": "markdown",
   "metadata": {},
   "source": [
    "### Demographic Variables and Sample Weights (DEMO_D)"
   ]
  },
  {
   "cell_type": "code",
   "execution_count": 179,
   "metadata": {},
   "outputs": [],
   "source": [
    "# start with demographic data\n",
    "DEMO_2005_2006 = pd.read_csv('./Demographics/DEMO_D.csv')"
   ]
  },
  {
   "cell_type": "code",
   "execution_count": 180,
   "metadata": {},
   "outputs": [
    {
     "data": {
      "text/html": [
       "<div>\n",
       "<style scoped>\n",
       "    .dataframe tbody tr th:only-of-type {\n",
       "        vertical-align: middle;\n",
       "    }\n",
       "\n",
       "    .dataframe tbody tr th {\n",
       "        vertical-align: top;\n",
       "    }\n",
       "\n",
       "    .dataframe thead th {\n",
       "        text-align: right;\n",
       "    }\n",
       "</style>\n",
       "<table border=\"1\" class=\"dataframe\">\n",
       "  <thead>\n",
       "    <tr style=\"text-align: right;\">\n",
       "      <th></th>\n",
       "      <th>SEQN</th>\n",
       "      <th>SDDSRVYR</th>\n",
       "      <th>RIDSTATR</th>\n",
       "      <th>RIDEXMON</th>\n",
       "      <th>RIAGENDR</th>\n",
       "      <th>RIDAGEYR</th>\n",
       "      <th>RIDAGEMN</th>\n",
       "      <th>RIDAGEEX</th>\n",
       "      <th>RIDRETH1</th>\n",
       "      <th>DMQMILIT</th>\n",
       "      <th>...</th>\n",
       "      <th>FIAPROXY</th>\n",
       "      <th>FIAINTRP</th>\n",
       "      <th>MIALANG</th>\n",
       "      <th>MIAPROXY</th>\n",
       "      <th>MIAINTRP</th>\n",
       "      <th>AIALANG</th>\n",
       "      <th>WTINT2YR</th>\n",
       "      <th>WTMEC2YR</th>\n",
       "      <th>SDMVPSU</th>\n",
       "      <th>SDMVSTRA</th>\n",
       "    </tr>\n",
       "  </thead>\n",
       "  <tbody>\n",
       "    <tr>\n",
       "      <th>0</th>\n",
       "      <td>31127.0</td>\n",
       "      <td>4.0</td>\n",
       "      <td>2.0</td>\n",
       "      <td>2.0</td>\n",
       "      <td>1.0</td>\n",
       "      <td>5.397605e-79</td>\n",
       "      <td>11.0</td>\n",
       "      <td>12.0</td>\n",
       "      <td>3.0</td>\n",
       "      <td>NaN</td>\n",
       "      <td>...</td>\n",
       "      <td>2.0</td>\n",
       "      <td>2.0</td>\n",
       "      <td>NaN</td>\n",
       "      <td>NaN</td>\n",
       "      <td>NaN</td>\n",
       "      <td>NaN</td>\n",
       "      <td>6434.950248</td>\n",
       "      <td>6.571396e+03</td>\n",
       "      <td>2.0</td>\n",
       "      <td>44.0</td>\n",
       "    </tr>\n",
       "    <tr>\n",
       "      <th>1</th>\n",
       "      <td>31128.0</td>\n",
       "      <td>4.0</td>\n",
       "      <td>2.0</td>\n",
       "      <td>1.0</td>\n",
       "      <td>2.0</td>\n",
       "      <td>1.100000e+01</td>\n",
       "      <td>132.0</td>\n",
       "      <td>132.0</td>\n",
       "      <td>4.0</td>\n",
       "      <td>NaN</td>\n",
       "      <td>...</td>\n",
       "      <td>2.0</td>\n",
       "      <td>2.0</td>\n",
       "      <td>1.0</td>\n",
       "      <td>2.0</td>\n",
       "      <td>2.0</td>\n",
       "      <td>1.0</td>\n",
       "      <td>9081.700761</td>\n",
       "      <td>8.987042e+03</td>\n",
       "      <td>1.0</td>\n",
       "      <td>52.0</td>\n",
       "    </tr>\n",
       "    <tr>\n",
       "      <th>2</th>\n",
       "      <td>31129.0</td>\n",
       "      <td>4.0</td>\n",
       "      <td>2.0</td>\n",
       "      <td>2.0</td>\n",
       "      <td>1.0</td>\n",
       "      <td>1.500000e+01</td>\n",
       "      <td>189.0</td>\n",
       "      <td>190.0</td>\n",
       "      <td>4.0</td>\n",
       "      <td>NaN</td>\n",
       "      <td>...</td>\n",
       "      <td>2.0</td>\n",
       "      <td>2.0</td>\n",
       "      <td>1.0</td>\n",
       "      <td>2.0</td>\n",
       "      <td>2.0</td>\n",
       "      <td>1.0</td>\n",
       "      <td>5316.895215</td>\n",
       "      <td>5.586719e+03</td>\n",
       "      <td>1.0</td>\n",
       "      <td>51.0</td>\n",
       "    </tr>\n",
       "    <tr>\n",
       "      <th>3</th>\n",
       "      <td>31130.0</td>\n",
       "      <td>4.0</td>\n",
       "      <td>2.0</td>\n",
       "      <td>2.0</td>\n",
       "      <td>2.0</td>\n",
       "      <td>8.500000e+01</td>\n",
       "      <td>NaN</td>\n",
       "      <td>NaN</td>\n",
       "      <td>3.0</td>\n",
       "      <td>2.0</td>\n",
       "      <td>...</td>\n",
       "      <td>2.0</td>\n",
       "      <td>2.0</td>\n",
       "      <td>NaN</td>\n",
       "      <td>NaN</td>\n",
       "      <td>NaN</td>\n",
       "      <td>NaN</td>\n",
       "      <td>29960.839509</td>\n",
       "      <td>3.403099e+04</td>\n",
       "      <td>2.0</td>\n",
       "      <td>46.0</td>\n",
       "    </tr>\n",
       "    <tr>\n",
       "      <th>4</th>\n",
       "      <td>31131.0</td>\n",
       "      <td>4.0</td>\n",
       "      <td>2.0</td>\n",
       "      <td>2.0</td>\n",
       "      <td>2.0</td>\n",
       "      <td>4.400000e+01</td>\n",
       "      <td>535.0</td>\n",
       "      <td>536.0</td>\n",
       "      <td>4.0</td>\n",
       "      <td>2.0</td>\n",
       "      <td>...</td>\n",
       "      <td>2.0</td>\n",
       "      <td>2.0</td>\n",
       "      <td>1.0</td>\n",
       "      <td>2.0</td>\n",
       "      <td>2.0</td>\n",
       "      <td>1.0</td>\n",
       "      <td>26457.708180</td>\n",
       "      <td>2.677058e+04</td>\n",
       "      <td>1.0</td>\n",
       "      <td>48.0</td>\n",
       "    </tr>\n",
       "    <tr>\n",
       "      <th>5</th>\n",
       "      <td>31132.0</td>\n",
       "      <td>4.0</td>\n",
       "      <td>2.0</td>\n",
       "      <td>2.0</td>\n",
       "      <td>1.0</td>\n",
       "      <td>7.000000e+01</td>\n",
       "      <td>842.0</td>\n",
       "      <td>843.0</td>\n",
       "      <td>3.0</td>\n",
       "      <td>1.0</td>\n",
       "      <td>...</td>\n",
       "      <td>2.0</td>\n",
       "      <td>2.0</td>\n",
       "      <td>1.0</td>\n",
       "      <td>2.0</td>\n",
       "      <td>2.0</td>\n",
       "      <td>1.0</td>\n",
       "      <td>32961.509920</td>\n",
       "      <td>3.531554e+04</td>\n",
       "      <td>2.0</td>\n",
       "      <td>52.0</td>\n",
       "    </tr>\n",
       "    <tr>\n",
       "      <th>6</th>\n",
       "      <td>31133.0</td>\n",
       "      <td>4.0</td>\n",
       "      <td>2.0</td>\n",
       "      <td>2.0</td>\n",
       "      <td>2.0</td>\n",
       "      <td>1.600000e+01</td>\n",
       "      <td>193.0</td>\n",
       "      <td>194.0</td>\n",
       "      <td>4.0</td>\n",
       "      <td>NaN</td>\n",
       "      <td>...</td>\n",
       "      <td>2.0</td>\n",
       "      <td>2.0</td>\n",
       "      <td>1.0</td>\n",
       "      <td>2.0</td>\n",
       "      <td>2.0</td>\n",
       "      <td>1.0</td>\n",
       "      <td>5635.221296</td>\n",
       "      <td>5.920618e+03</td>\n",
       "      <td>1.0</td>\n",
       "      <td>51.0</td>\n",
       "    </tr>\n",
       "    <tr>\n",
       "      <th>7</th>\n",
       "      <td>31134.0</td>\n",
       "      <td>4.0</td>\n",
       "      <td>2.0</td>\n",
       "      <td>2.0</td>\n",
       "      <td>1.0</td>\n",
       "      <td>7.300000e+01</td>\n",
       "      <td>882.0</td>\n",
       "      <td>883.0</td>\n",
       "      <td>3.0</td>\n",
       "      <td>1.0</td>\n",
       "      <td>...</td>\n",
       "      <td>2.0</td>\n",
       "      <td>2.0</td>\n",
       "      <td>1.0</td>\n",
       "      <td>2.0</td>\n",
       "      <td>2.0</td>\n",
       "      <td>1.0</td>\n",
       "      <td>43718.506372</td>\n",
       "      <td>4.423117e+04</td>\n",
       "      <td>2.0</td>\n",
       "      <td>48.0</td>\n",
       "    </tr>\n",
       "    <tr>\n",
       "      <th>8</th>\n",
       "      <td>31135.0</td>\n",
       "      <td>4.0</td>\n",
       "      <td>2.0</td>\n",
       "      <td>2.0</td>\n",
       "      <td>1.0</td>\n",
       "      <td>5.397605e-79</td>\n",
       "      <td>10.0</td>\n",
       "      <td>11.0</td>\n",
       "      <td>5.0</td>\n",
       "      <td>NaN</td>\n",
       "      <td>...</td>\n",
       "      <td>2.0</td>\n",
       "      <td>2.0</td>\n",
       "      <td>NaN</td>\n",
       "      <td>NaN</td>\n",
       "      <td>NaN</td>\n",
       "      <td>NaN</td>\n",
       "      <td>15711.544398</td>\n",
       "      <td>1.614382e+04</td>\n",
       "      <td>2.0</td>\n",
       "      <td>52.0</td>\n",
       "    </tr>\n",
       "    <tr>\n",
       "      <th>9</th>\n",
       "      <td>31136.0</td>\n",
       "      <td>4.0</td>\n",
       "      <td>1.0</td>\n",
       "      <td>NaN</td>\n",
       "      <td>2.0</td>\n",
       "      <td>4.100000e+01</td>\n",
       "      <td>493.0</td>\n",
       "      <td>NaN</td>\n",
       "      <td>4.0</td>\n",
       "      <td>2.0</td>\n",
       "      <td>...</td>\n",
       "      <td>2.0</td>\n",
       "      <td>2.0</td>\n",
       "      <td>NaN</td>\n",
       "      <td>NaN</td>\n",
       "      <td>NaN</td>\n",
       "      <td>NaN</td>\n",
       "      <td>26487.611553</td>\n",
       "      <td>5.397605e-79</td>\n",
       "      <td>2.0</td>\n",
       "      <td>51.0</td>\n",
       "    </tr>\n",
       "  </tbody>\n",
       "</table>\n",
       "<p>10 rows × 43 columns</p>\n",
       "</div>"
      ],
      "text/plain": [
       "      SEQN  SDDSRVYR  RIDSTATR  RIDEXMON  RIAGENDR      RIDAGEYR  RIDAGEMN  \\\n",
       "0  31127.0       4.0       2.0       2.0       1.0  5.397605e-79      11.0   \n",
       "1  31128.0       4.0       2.0       1.0       2.0  1.100000e+01     132.0   \n",
       "2  31129.0       4.0       2.0       2.0       1.0  1.500000e+01     189.0   \n",
       "3  31130.0       4.0       2.0       2.0       2.0  8.500000e+01       NaN   \n",
       "4  31131.0       4.0       2.0       2.0       2.0  4.400000e+01     535.0   \n",
       "5  31132.0       4.0       2.0       2.0       1.0  7.000000e+01     842.0   \n",
       "6  31133.0       4.0       2.0       2.0       2.0  1.600000e+01     193.0   \n",
       "7  31134.0       4.0       2.0       2.0       1.0  7.300000e+01     882.0   \n",
       "8  31135.0       4.0       2.0       2.0       1.0  5.397605e-79      10.0   \n",
       "9  31136.0       4.0       1.0       NaN       2.0  4.100000e+01     493.0   \n",
       "\n",
       "   RIDAGEEX  RIDRETH1  DMQMILIT  ...  FIAPROXY  FIAINTRP  MIALANG  MIAPROXY  \\\n",
       "0      12.0       3.0       NaN  ...       2.0       2.0      NaN       NaN   \n",
       "1     132.0       4.0       NaN  ...       2.0       2.0      1.0       2.0   \n",
       "2     190.0       4.0       NaN  ...       2.0       2.0      1.0       2.0   \n",
       "3       NaN       3.0       2.0  ...       2.0       2.0      NaN       NaN   \n",
       "4     536.0       4.0       2.0  ...       2.0       2.0      1.0       2.0   \n",
       "5     843.0       3.0       1.0  ...       2.0       2.0      1.0       2.0   \n",
       "6     194.0       4.0       NaN  ...       2.0       2.0      1.0       2.0   \n",
       "7     883.0       3.0       1.0  ...       2.0       2.0      1.0       2.0   \n",
       "8      11.0       5.0       NaN  ...       2.0       2.0      NaN       NaN   \n",
       "9       NaN       4.0       2.0  ...       2.0       2.0      NaN       NaN   \n",
       "\n",
       "   MIAINTRP  AIALANG      WTINT2YR      WTMEC2YR  SDMVPSU  SDMVSTRA  \n",
       "0       NaN      NaN   6434.950248  6.571396e+03      2.0      44.0  \n",
       "1       2.0      1.0   9081.700761  8.987042e+03      1.0      52.0  \n",
       "2       2.0      1.0   5316.895215  5.586719e+03      1.0      51.0  \n",
       "3       NaN      NaN  29960.839509  3.403099e+04      2.0      46.0  \n",
       "4       2.0      1.0  26457.708180  2.677058e+04      1.0      48.0  \n",
       "5       2.0      1.0  32961.509920  3.531554e+04      2.0      52.0  \n",
       "6       2.0      1.0   5635.221296  5.920618e+03      1.0      51.0  \n",
       "7       2.0      1.0  43718.506372  4.423117e+04      2.0      48.0  \n",
       "8       NaN      NaN  15711.544398  1.614382e+04      2.0      52.0  \n",
       "9       NaN      NaN  26487.611553  5.397605e-79      2.0      51.0  \n",
       "\n",
       "[10 rows x 43 columns]"
      ]
     },
     "execution_count": 180,
     "metadata": {},
     "output_type": "execute_result"
    }
   ],
   "source": [
    "DEMO_2005_2006.head(10)"
   ]
  },
  {
   "cell_type": "markdown",
   "metadata": {},
   "source": [
    "Demographics variables:\n",
    "- DMDBORN4: Due to the concerns of disclosure risk, starting in 2011, country of birth was recoded into two categories: 1) Born in 50 U.S. states or Washington, DC; and 2) Born in other countries, including U.S. territories.\n",
    "\n",
    "- DMDEDUC2: This variable is the highest grade or level of education completed by adults 20 years and older. The response categories are: less than 9th grade education, 9-11th grade education (includes 12th grade and no diploma), High school graduate/GED, some college or associates (AA) degree, and college graduate or higher.\n",
    "\n",
    "- DMDHHSIZ: This variable is the number of people in the participant’s household. The values for this variable range from 1 to 7. Due to disclosure concerns, households that are comprised of 7 or more people are included in the category that is labeled ‘7 or more’.\n",
    "\n",
    "- RIDAGEYR: Age in years, at the time of the screening interview, is reported for survey participants between the ages of 1 and 79 years of age. All responses of participants aged 80 years and older are coded as ‘80.’\n",
    "\n",
    "- RIAGENDR: Gender: male 1, female 2\n",
    "\n",
    "- INDHHIN2: Total household income (reported as a range value in dollars), range 1-15, 77 refused, 99 dont know\n",
    "\n",
    "- DMQMIL1Z: Served active duty in US Armed Forces, 1 yes, 0 no, 7 refuse, 9 dont know\n",
    "\n",
    "- DMDMARTL: Marital status - 1 Married, 2 widowed, 3 divorced, 4 separated, 5 never married, 6 living with partner, 77 refused\t\n"
   ]
  },
  {
   "cell_type": "code",
   "execution_count": 184,
   "metadata": {},
   "outputs": [],
   "source": [
    "# filter only relevant cols\n",
    "DEMO_D = DEMO_2005_2006.filter(['SEQN','RIDRETH1', 'DMDEDUC2', 'DMDHHSIZ', 'RIDAGEYR', 'RIAGENDR','INDHHIN2','INDHHINC', \n",
    "                        'DMQMIL1Z', 'DMDMARTL'], axis=1)"
   ]
  },
  {
   "cell_type": "code",
   "execution_count": 185,
   "metadata": {},
   "outputs": [],
   "source": [
    "# rename col to be more useful\n",
    "demo_cols = {'SEQN': 'SEQN', 'RIDRETH1':'race_ethnicity', 'DMDEDUC2': 'edu_level', 'DMDHHSIZ': '#_ppl_household', \n",
    "               'RIDAGEYR': 'age', 'RIAGENDR': 'gender','INDHHIN2': 'annual_HI', 'INDHHINC':'annual_HI',\n",
    "                        'DMQMIL1Z': 'served_army', 'DMDMARTL':'marital_status'}\n",
    "\n",
    "DEMO_D.columns = DEMO_D.columns.map(demo_cols)"
   ]
  },
  {
   "cell_type": "code",
   "execution_count": 186,
   "metadata": {},
   "outputs": [
    {
     "data": {
      "text/html": [
       "<div>\n",
       "<style scoped>\n",
       "    .dataframe tbody tr th:only-of-type {\n",
       "        vertical-align: middle;\n",
       "    }\n",
       "\n",
       "    .dataframe tbody tr th {\n",
       "        vertical-align: top;\n",
       "    }\n",
       "\n",
       "    .dataframe thead th {\n",
       "        text-align: right;\n",
       "    }\n",
       "</style>\n",
       "<table border=\"1\" class=\"dataframe\">\n",
       "  <thead>\n",
       "    <tr style=\"text-align: right;\">\n",
       "      <th></th>\n",
       "      <th>SEQN</th>\n",
       "      <th>race_ethnicity</th>\n",
       "      <th>edu_level</th>\n",
       "      <th>#_ppl_household</th>\n",
       "      <th>age</th>\n",
       "      <th>gender</th>\n",
       "      <th>annual_HI</th>\n",
       "      <th>marital_status</th>\n",
       "    </tr>\n",
       "  </thead>\n",
       "  <tbody>\n",
       "    <tr>\n",
       "      <th>0</th>\n",
       "      <td>31127.0</td>\n",
       "      <td>3.0</td>\n",
       "      <td>NaN</td>\n",
       "      <td>4.0</td>\n",
       "      <td>5.397605e-79</td>\n",
       "      <td>1.0</td>\n",
       "      <td>4.0</td>\n",
       "      <td>NaN</td>\n",
       "    </tr>\n",
       "    <tr>\n",
       "      <th>1</th>\n",
       "      <td>31128.0</td>\n",
       "      <td>4.0</td>\n",
       "      <td>NaN</td>\n",
       "      <td>7.0</td>\n",
       "      <td>1.100000e+01</td>\n",
       "      <td>2.0</td>\n",
       "      <td>8.0</td>\n",
       "      <td>NaN</td>\n",
       "    </tr>\n",
       "    <tr>\n",
       "      <th>2</th>\n",
       "      <td>31129.0</td>\n",
       "      <td>4.0</td>\n",
       "      <td>NaN</td>\n",
       "      <td>6.0</td>\n",
       "      <td>1.500000e+01</td>\n",
       "      <td>1.0</td>\n",
       "      <td>10.0</td>\n",
       "      <td>5.0</td>\n",
       "    </tr>\n",
       "    <tr>\n",
       "      <th>3</th>\n",
       "      <td>31130.0</td>\n",
       "      <td>3.0</td>\n",
       "      <td>4.0</td>\n",
       "      <td>1.0</td>\n",
       "      <td>8.500000e+01</td>\n",
       "      <td>2.0</td>\n",
       "      <td>4.0</td>\n",
       "      <td>2.0</td>\n",
       "    </tr>\n",
       "    <tr>\n",
       "      <th>4</th>\n",
       "      <td>31131.0</td>\n",
       "      <td>4.0</td>\n",
       "      <td>4.0</td>\n",
       "      <td>4.0</td>\n",
       "      <td>4.400000e+01</td>\n",
       "      <td>2.0</td>\n",
       "      <td>11.0</td>\n",
       "      <td>1.0</td>\n",
       "    </tr>\n",
       "  </tbody>\n",
       "</table>\n",
       "</div>"
      ],
      "text/plain": [
       "      SEQN  race_ethnicity  edu_level  #_ppl_household           age  gender  \\\n",
       "0  31127.0             3.0        NaN              4.0  5.397605e-79     1.0   \n",
       "1  31128.0             4.0        NaN              7.0  1.100000e+01     2.0   \n",
       "2  31129.0             4.0        NaN              6.0  1.500000e+01     1.0   \n",
       "3  31130.0             3.0        4.0              1.0  8.500000e+01     2.0   \n",
       "4  31131.0             4.0        4.0              4.0  4.400000e+01     2.0   \n",
       "\n",
       "   annual_HI  marital_status  \n",
       "0        4.0             NaN  \n",
       "1        8.0             NaN  \n",
       "2       10.0             5.0  \n",
       "3        4.0             2.0  \n",
       "4       11.0             1.0  "
      ]
     },
     "execution_count": 186,
     "metadata": {},
     "output_type": "execute_result"
    }
   ],
   "source": [
    "DEMO_D.head()"
   ]
  },
  {
   "cell_type": "markdown",
   "metadata": {},
   "source": [
    "## Dietary Data"
   ]
  },
  {
   "cell_type": "markdown",
   "metadata": {},
   "source": [
    "### Dietary Interview - Total Nutrient Intakes, First Day (DR1TOT_D)"
   ]
  },
  {
   "cell_type": "code",
   "execution_count": 187,
   "metadata": {},
   "outputs": [],
   "source": [
    "DIET_2005_2006 = pd.read_csv('./Dietary/DR1TOT_D.csv')"
   ]
  },
  {
   "cell_type": "markdown",
   "metadata": {},
   "source": [
    "Dietary variables:\n",
    "- DR1TCAFF : caffeine - Caffeine (mg) range 0 to 2448\n",
    "- DRQSDIET - On special diet? - 1,2,9, missing\n",
    "- DR1TPROT - Protein (gm) - 0 to 869.49, missing\n",
    "- DR1TCARB - Carbohydrate (gm) - 8.67 to 1423.87, missing\n",
    "- DR1TSUGR - Total sugars (gm) - 0.13 to 1115.5, missing\n",
    "- DR1TFIBE - Dietary fiber (gm) - 0 to 136.6, missing\n",
    "- DR1TTFAT - Total fat (gm) - 0 to 548.38, missing\n",
    "- DR1TCHOL - Cholesterol (mg) - 0 to 3515, missing\n",
    "- DR1TVB6 - Vitamin B6 (mg)\n",
    "- DR1TFOLA - Total folate (mcg) - 0 to 3172, missing\n",
    "- DR1TVB12 - Vitamin B12 (mcg) - 0 to 110, missing\n",
    "- DR1TVD - Vitamin D (D2 + D3) (mcg) - 0 to 86.3, missing\n",
    "- DR1TMAGN - Magnesium (mg) - 0 2725, missing\n",
    "- DR1TIRON - Iron (mg) - 0 to 130, missing\n",
    "- DR1TZINC - Zinc (mg) - 0 to 116, missing\n",
    "- DR1TSELE - Selenium (mcg) - 0 to 986.5, missing\n",
    "- DR1_320Z - Total plain water drank yesterday (gm) - 0 13440, missing"
   ]
  },
  {
   "cell_type": "code",
   "execution_count": 188,
   "metadata": {},
   "outputs": [],
   "source": [
    "# filter only relevant cols\n",
    "DIET_D = DIET_2005_2006.filter(['SEQN', 'DR1TCAFF', 'DRQSDIET', 'DR1TPROT','DR1TCARB','DR1TSUGR','DR1TFIBE',\n",
    "                               'DR1TTFAT','DR1TCHOL','DR1TVB6','DR1TFOLA','DR1TVB12','DR1TVD',\n",
    "                               'DR1TMAGN','DR1TIRON','DR1TZINC','DR1TSELE','DR1_320Z'], axis=1)\n",
    "\n",
    "diet_cols = {'SEQN': 'SEQN', 'DR1TCAFF':'caffeine','DRQSDIET': 'special_diet', 'DR1TPROT':'protein',\n",
    "             'DR1TCARB':'carb','DR1TSUGR':'sugar','DR1TFIBE':'fiber',\n",
    "            'DR1TTFAT':'fat','DR1TCHOL':'diet_chol','DR1TVB6':'VitB6','DR1TFOLA':'folate',\n",
    "             'DR1TVB12':'VitB12','DR1TVD':'VitD', 'DR1TMAGN':'magnesium',\n",
    "             'DR1TIRON':'iron','DR1TZINC':'zinc','DR1TSELE':'selenium','DR1_320Z':'water'}\n",
    "\n",
    "DIET_D.columns = DIET_D.columns.map(diet_cols)"
   ]
  },
  {
   "cell_type": "code",
   "execution_count": 189,
   "metadata": {},
   "outputs": [
    {
     "data": {
      "text/html": [
       "<div>\n",
       "<style scoped>\n",
       "    .dataframe tbody tr th:only-of-type {\n",
       "        vertical-align: middle;\n",
       "    }\n",
       "\n",
       "    .dataframe tbody tr th {\n",
       "        vertical-align: top;\n",
       "    }\n",
       "\n",
       "    .dataframe thead th {\n",
       "        text-align: right;\n",
       "    }\n",
       "</style>\n",
       "<table border=\"1\" class=\"dataframe\">\n",
       "  <thead>\n",
       "    <tr style=\"text-align: right;\">\n",
       "      <th></th>\n",
       "      <th>SEQN</th>\n",
       "      <th>caffeine</th>\n",
       "      <th>special_diet</th>\n",
       "      <th>protein</th>\n",
       "      <th>carb</th>\n",
       "      <th>sugar</th>\n",
       "      <th>fiber</th>\n",
       "      <th>fat</th>\n",
       "      <th>diet_chol</th>\n",
       "      <th>VitB6</th>\n",
       "      <th>folate</th>\n",
       "      <th>VitB12</th>\n",
       "      <th>magnesium</th>\n",
       "      <th>iron</th>\n",
       "      <th>zinc</th>\n",
       "      <th>selenium</th>\n",
       "      <th>water</th>\n",
       "    </tr>\n",
       "  </thead>\n",
       "  <tbody>\n",
       "    <tr>\n",
       "      <th>0</th>\n",
       "      <td>31127.0</td>\n",
       "      <td>5.397605e-79</td>\n",
       "      <td>2.0</td>\n",
       "      <td>50.42</td>\n",
       "      <td>171.45</td>\n",
       "      <td>139.02</td>\n",
       "      <td>4.6</td>\n",
       "      <td>61.28</td>\n",
       "      <td>365.0</td>\n",
       "      <td>1.190</td>\n",
       "      <td>154.0</td>\n",
       "      <td>5.71</td>\n",
       "      <td>185.0</td>\n",
       "      <td>5.74</td>\n",
       "      <td>6.34</td>\n",
       "      <td>73.3</td>\n",
       "      <td>5.397605e-79</td>\n",
       "    </tr>\n",
       "    <tr>\n",
       "      <th>1</th>\n",
       "      <td>31128.0</td>\n",
       "      <td>3.300000e+01</td>\n",
       "      <td>2.0</td>\n",
       "      <td>32.51</td>\n",
       "      <td>180.88</td>\n",
       "      <td>88.69</td>\n",
       "      <td>10.0</td>\n",
       "      <td>65.05</td>\n",
       "      <td>70.0</td>\n",
       "      <td>1.088</td>\n",
       "      <td>141.0</td>\n",
       "      <td>1.72</td>\n",
       "      <td>150.0</td>\n",
       "      <td>4.55</td>\n",
       "      <td>5.47</td>\n",
       "      <td>35.8</td>\n",
       "      <td>5.397605e-79</td>\n",
       "    </tr>\n",
       "    <tr>\n",
       "      <th>2</th>\n",
       "      <td>31129.0</td>\n",
       "      <td>7.000000e+00</td>\n",
       "      <td>2.0</td>\n",
       "      <td>139.89</td>\n",
       "      <td>684.22</td>\n",
       "      <td>498.82</td>\n",
       "      <td>14.5</td>\n",
       "      <td>94.73</td>\n",
       "      <td>423.0</td>\n",
       "      <td>2.233</td>\n",
       "      <td>338.0</td>\n",
       "      <td>3.98</td>\n",
       "      <td>328.0</td>\n",
       "      <td>15.93</td>\n",
       "      <td>12.02</td>\n",
       "      <td>206.3</td>\n",
       "      <td>5.000000e+02</td>\n",
       "    </tr>\n",
       "    <tr>\n",
       "      <th>3</th>\n",
       "      <td>31130.0</td>\n",
       "      <td>NaN</td>\n",
       "      <td>NaN</td>\n",
       "      <td>NaN</td>\n",
       "      <td>NaN</td>\n",
       "      <td>NaN</td>\n",
       "      <td>NaN</td>\n",
       "      <td>NaN</td>\n",
       "      <td>NaN</td>\n",
       "      <td>NaN</td>\n",
       "      <td>NaN</td>\n",
       "      <td>NaN</td>\n",
       "      <td>NaN</td>\n",
       "      <td>NaN</td>\n",
       "      <td>NaN</td>\n",
       "      <td>NaN</td>\n",
       "      <td>NaN</td>\n",
       "    </tr>\n",
       "    <tr>\n",
       "      <th>4</th>\n",
       "      <td>31131.0</td>\n",
       "      <td>1.300000e+01</td>\n",
       "      <td>2.0</td>\n",
       "      <td>27.43</td>\n",
       "      <td>233.73</td>\n",
       "      <td>146.01</td>\n",
       "      <td>6.4</td>\n",
       "      <td>50.86</td>\n",
       "      <td>48.0</td>\n",
       "      <td>0.385</td>\n",
       "      <td>299.0</td>\n",
       "      <td>1.03</td>\n",
       "      <td>144.0</td>\n",
       "      <td>7.04</td>\n",
       "      <td>3.43</td>\n",
       "      <td>36.0</td>\n",
       "      <td>1.925600e+02</td>\n",
       "    </tr>\n",
       "  </tbody>\n",
       "</table>\n",
       "</div>"
      ],
      "text/plain": [
       "      SEQN      caffeine  special_diet  protein    carb   sugar  fiber    fat  \\\n",
       "0  31127.0  5.397605e-79           2.0    50.42  171.45  139.02    4.6  61.28   \n",
       "1  31128.0  3.300000e+01           2.0    32.51  180.88   88.69   10.0  65.05   \n",
       "2  31129.0  7.000000e+00           2.0   139.89  684.22  498.82   14.5  94.73   \n",
       "3  31130.0           NaN           NaN      NaN     NaN     NaN    NaN    NaN   \n",
       "4  31131.0  1.300000e+01           2.0    27.43  233.73  146.01    6.4  50.86   \n",
       "\n",
       "   diet_chol  VitB6  folate  VitB12  magnesium   iron   zinc  selenium  \\\n",
       "0      365.0  1.190   154.0    5.71      185.0   5.74   6.34      73.3   \n",
       "1       70.0  1.088   141.0    1.72      150.0   4.55   5.47      35.8   \n",
       "2      423.0  2.233   338.0    3.98      328.0  15.93  12.02     206.3   \n",
       "3        NaN    NaN     NaN     NaN        NaN    NaN    NaN       NaN   \n",
       "4       48.0  0.385   299.0    1.03      144.0   7.04   3.43      36.0   \n",
       "\n",
       "          water  \n",
       "0  5.397605e-79  \n",
       "1  5.397605e-79  \n",
       "2  5.000000e+02  \n",
       "3           NaN  \n",
       "4  1.925600e+02  "
      ]
     },
     "execution_count": 189,
     "metadata": {},
     "output_type": "execute_result"
    }
   ],
   "source": [
    "DIET_D.head()"
   ]
  },
  {
   "cell_type": "code",
   "execution_count": 190,
   "metadata": {},
   "outputs": [
    {
     "data": {
      "text/plain": [
       "17"
      ]
     },
     "execution_count": 190,
     "metadata": {},
     "output_type": "execute_result"
    }
   ],
   "source": [
    "len(DIET_D.columns)"
   ]
  },
  {
   "cell_type": "markdown",
   "metadata": {},
   "source": [
    "## Questionnaire Data"
   ]
  },
  {
   "cell_type": "markdown",
   "metadata": {},
   "source": [
    "### Diabetes"
   ]
  },
  {
   "cell_type": "markdown",
   "metadata": {},
   "source": [
    "variables\n",
    "- DIQ010 : doc_diabetes - {Have you/Has SP}} ever been told by a doctor or health professional that {you have/{he/she/SP} has} diabetes or sugar diabetes? 1 yes, 2 no, 3 boarderline\n",
    "- DIQ160 : doc_prediabetes - {Have you/Has SP} ever been told by a doctor or other health professional that {you have/SP has} any of the following: prediabetes, impaired fasting glucose, impaired glucose tolerance, borderline diabetes or that {your/her/his} blood sugar is higher than normal but not high enough to be called diabetes or sugar diabetes? 1 yes, 2 no"
   ]
  },
  {
   "cell_type": "code",
   "execution_count": 191,
   "metadata": {},
   "outputs": [],
   "source": [
    "DIQ_2005_2006 = pd.read_csv('./Questionnaire/DIQ_D.csv')"
   ]
  },
  {
   "cell_type": "code",
   "execution_count": 192,
   "metadata": {
    "scrolled": true
   },
   "outputs": [
    {
     "data": {
      "text/plain": [
       "Index(['SEQN', 'DIQ010', 'DID040', 'DIQ220', 'DIQ160', 'DIQ170', 'DIQ180',\n",
       "       'DIQ190A', 'DIQ190B', 'DIQ190C', 'DIQ200A', 'DIQ200B', 'DIQ200C',\n",
       "       'DIQ050', 'DID060', 'DIQ060U', 'DID070', 'DIQ230', 'DIQ240', 'DID250',\n",
       "       'DID260', 'DIQ260U', 'DID270', 'DIQ280', 'DIQ290', 'DIQ300S', 'DIQ300D',\n",
       "       'DID310S', 'DID310D', 'DID320', 'DID330', 'DID340', 'DID350', 'DIQ350U',\n",
       "       'DIQ360', 'DIQ080'],\n",
       "      dtype='object')"
      ]
     },
     "execution_count": 192,
     "metadata": {},
     "output_type": "execute_result"
    }
   ],
   "source": [
    "DIQ_2005_2006.columns"
   ]
  },
  {
   "cell_type": "code",
   "execution_count": 193,
   "metadata": {},
   "outputs": [],
   "source": [
    "DIQ_D = DIQ_2005_2006.filter(['SEQN','DIQ010', 'DIQ160'], axis=1)"
   ]
  },
  {
   "cell_type": "code",
   "execution_count": 194,
   "metadata": {},
   "outputs": [],
   "source": [
    "# rename col to be more useful\n",
    "DIQ_cols = {'SEQN':'SEQN', 'DIQ010':'doc_diabetes', 'DIQ160': 'doc_prediabetes'}\n",
    "\n",
    "DIQ_D.columns = DIQ_D.columns.map(DIQ_cols)"
   ]
  },
  {
   "cell_type": "code",
   "execution_count": 195,
   "metadata": {},
   "outputs": [
    {
     "data": {
      "text/html": [
       "<div>\n",
       "<style scoped>\n",
       "    .dataframe tbody tr th:only-of-type {\n",
       "        vertical-align: middle;\n",
       "    }\n",
       "\n",
       "    .dataframe tbody tr th {\n",
       "        vertical-align: top;\n",
       "    }\n",
       "\n",
       "    .dataframe thead th {\n",
       "        text-align: right;\n",
       "    }\n",
       "</style>\n",
       "<table border=\"1\" class=\"dataframe\">\n",
       "  <thead>\n",
       "    <tr style=\"text-align: right;\">\n",
       "      <th></th>\n",
       "      <th>SEQN</th>\n",
       "      <th>doc_diabetes</th>\n",
       "      <th>doc_prediabetes</th>\n",
       "    </tr>\n",
       "  </thead>\n",
       "  <tbody>\n",
       "    <tr>\n",
       "      <th>0</th>\n",
       "      <td>31128.0</td>\n",
       "      <td>2.0</td>\n",
       "      <td>NaN</td>\n",
       "    </tr>\n",
       "    <tr>\n",
       "      <th>1</th>\n",
       "      <td>31129.0</td>\n",
       "      <td>2.0</td>\n",
       "      <td>2.0</td>\n",
       "    </tr>\n",
       "    <tr>\n",
       "      <th>2</th>\n",
       "      <td>31130.0</td>\n",
       "      <td>2.0</td>\n",
       "      <td>2.0</td>\n",
       "    </tr>\n",
       "    <tr>\n",
       "      <th>3</th>\n",
       "      <td>31131.0</td>\n",
       "      <td>2.0</td>\n",
       "      <td>2.0</td>\n",
       "    </tr>\n",
       "    <tr>\n",
       "      <th>4</th>\n",
       "      <td>31132.0</td>\n",
       "      <td>1.0</td>\n",
       "      <td>NaN</td>\n",
       "    </tr>\n",
       "  </tbody>\n",
       "</table>\n",
       "</div>"
      ],
      "text/plain": [
       "      SEQN  doc_diabetes  doc_prediabetes\n",
       "0  31128.0           2.0              NaN\n",
       "1  31129.0           2.0              2.0\n",
       "2  31130.0           2.0              2.0\n",
       "3  31131.0           2.0              2.0\n",
       "4  31132.0           1.0              NaN"
      ]
     },
     "execution_count": 195,
     "metadata": {},
     "output_type": "execute_result"
    }
   ],
   "source": [
    "DIQ_D.head()"
   ]
  },
  {
   "cell_type": "markdown",
   "metadata": {},
   "source": [
    "### Diet Questionnaire"
   ]
  },
  {
   "cell_type": "markdown",
   "metadata": {},
   "source": [
    "Variables:\n",
    "- CBQ505 : fast_Dood_12m - In the past 12 months, did you buy food from fast food or pizza places?\n",
    "- DBD895 : #meals_not_Dome - During the past 7 days, how many meals {did you/did SP} get that were prepared away from home in places such as restaurants, fast food places, food stands, grocery stores, or from vending machines?\n",
    "    - 0 None, 1 to 21 range, 5555 more than 21 meals per week, 7777 refused, 9999 dont know\n",
    "- DBD900 : #meals_Dast_Dood - How many of those meals {did you/did SP} get from a fast-food or pizza place?\n",
    "- DBQ700 : how_Dealthy_diet - In general, how healthy is {your/his/her} overall diet? \n",
    "    - Excellent to Poor: 1-5"
   ]
  },
  {
   "cell_type": "code",
   "execution_count": 196,
   "metadata": {},
   "outputs": [],
   "source": [
    "DBQ_2005_2006 = pd.read_csv('./Questionnaire/DBQ_D.csv')"
   ]
  },
  {
   "cell_type": "code",
   "execution_count": 197,
   "metadata": {},
   "outputs": [
    {
     "data": {
      "text/plain": [
       "Index(['SEQN', 'DBQ010', 'DBD020', 'DBD030', 'DBD040', 'DBD050', 'DBD060',\n",
       "       'DBD072A', 'DBD072B', 'DBD072C', 'DBD072D', 'DBD072U', 'DBD080',\n",
       "       'DBQ700', 'DBQ197', 'DBD222A', 'DBD222B', 'DBD222C', 'DBD222D',\n",
       "       'DBD222U', 'DBQ229', 'DBQ235A', 'DBQ235B', 'DBQ235C', 'DBQ301',\n",
       "       'DBQ330', 'DBQ360', 'DBQ370', 'DBD381', 'DBQ390', 'DBQ400', 'DBD411',\n",
       "       'DBQ421', 'DBQ424', 'DBD091', 'DBQ720', 'DBQ730', 'DBQ740', 'DBQ750',\n",
       "       'DBQ760', 'DBQ770', 'DBQ780', 'DBQ790', 'DBQ800', 'DBQ810', 'DBQ820',\n",
       "       'DBQ830', 'DBQ840', 'DBQ850', 'DBQ860', 'DBQ870', 'DBQ880', 'DBQ890'],\n",
       "      dtype='object')"
      ]
     },
     "execution_count": 197,
     "metadata": {},
     "output_type": "execute_result"
    }
   ],
   "source": [
    "DBQ_2005_2006.columns"
   ]
  },
  {
   "cell_type": "code",
   "execution_count": 198,
   "metadata": {},
   "outputs": [],
   "source": [
    "DBQ_D = DBQ_2005_2006.filter(['SEQN','DBD900', 'DBQ700'], axis=1)"
   ]
  },
  {
   "cell_type": "code",
   "execution_count": 199,
   "metadata": {},
   "outputs": [],
   "source": [
    "# rename col to be more useful\n",
    "DBQ_cols = {'SEQN':'SEQN',\n",
    "                  'DBD900':'#meals_fast_food', 'DBQ700': 'how_healthy_diet'}\n",
    "\n",
    "DBQ_D.columns = DBQ_D.columns.map(DBQ_cols)"
   ]
  },
  {
   "cell_type": "code",
   "execution_count": 200,
   "metadata": {},
   "outputs": [
    {
     "data": {
      "text/html": [
       "<div>\n",
       "<style scoped>\n",
       "    .dataframe tbody tr th:only-of-type {\n",
       "        vertical-align: middle;\n",
       "    }\n",
       "\n",
       "    .dataframe tbody tr th {\n",
       "        vertical-align: top;\n",
       "    }\n",
       "\n",
       "    .dataframe thead th {\n",
       "        text-align: right;\n",
       "    }\n",
       "</style>\n",
       "<table border=\"1\" class=\"dataframe\">\n",
       "  <thead>\n",
       "    <tr style=\"text-align: right;\">\n",
       "      <th></th>\n",
       "      <th>SEQN</th>\n",
       "      <th>how_healthy_diet</th>\n",
       "    </tr>\n",
       "  </thead>\n",
       "  <tbody>\n",
       "    <tr>\n",
       "      <th>0</th>\n",
       "      <td>31127.0</td>\n",
       "      <td>NaN</td>\n",
       "    </tr>\n",
       "    <tr>\n",
       "      <th>1</th>\n",
       "      <td>31128.0</td>\n",
       "      <td>NaN</td>\n",
       "    </tr>\n",
       "    <tr>\n",
       "      <th>2</th>\n",
       "      <td>31129.0</td>\n",
       "      <td>NaN</td>\n",
       "    </tr>\n",
       "    <tr>\n",
       "      <th>3</th>\n",
       "      <td>31130.0</td>\n",
       "      <td>3.0</td>\n",
       "    </tr>\n",
       "    <tr>\n",
       "      <th>4</th>\n",
       "      <td>31131.0</td>\n",
       "      <td>3.0</td>\n",
       "    </tr>\n",
       "  </tbody>\n",
       "</table>\n",
       "</div>"
      ],
      "text/plain": [
       "      SEQN  how_healthy_diet\n",
       "0  31127.0               NaN\n",
       "1  31128.0               NaN\n",
       "2  31129.0               NaN\n",
       "3  31130.0               3.0\n",
       "4  31131.0               3.0"
      ]
     },
     "execution_count": 200,
     "metadata": {},
     "output_type": "execute_result"
    }
   ],
   "source": [
    "DBQ_D.head()"
   ]
  },
  {
   "cell_type": "markdown",
   "metadata": {},
   "source": [
    "### Sight & Hearing"
   ]
  },
  {
   "cell_type": "markdown",
   "metadata": {},
   "source": [
    "variables:\n",
    "- DLQ010 : difficult_Dearing - 1 yes, 2 no\n",
    "- DLQ020 : difficult_seeing - 1 yes, 2 no\n",
    "- DLQ050 - Have serious difficulty walking ? \n",
    "    - 1=yes, 2=no, 7/9\n",
    "- DLQ080 - Have difficulty doing errands alone ? \n",
    "    - 1=yes, 2=no, 7/9\n"
   ]
  },
  {
   "cell_type": "code",
   "execution_count": 201,
   "metadata": {},
   "outputs": [],
   "source": [
    "# DLQ_2005_2006 = pd.read_csv('./Questionnaire/DLQ_D.csv')"
   ]
  },
  {
   "cell_type": "code",
   "execution_count": 202,
   "metadata": {},
   "outputs": [],
   "source": [
    "# DLQ_2005_2006.columns"
   ]
  },
  {
   "cell_type": "code",
   "execution_count": 203,
   "metadata": {},
   "outputs": [],
   "source": [
    "# DLQ_D = DLQ_2005_2006.filter(['SEQN','DLQ010','DLQ020','DLQ050','DLQ080'], axis=1)"
   ]
  },
  {
   "cell_type": "code",
   "execution_count": 204,
   "metadata": {},
   "outputs": [],
   "source": [
    "# rename col to be more useful\n",
    "# DLQ_cols = {'SEQN':'SEQN', 'DLQ010': 'difficult_Dearing', 'DLQ020': 'difficult_seeing',\n",
    "#           'DLQ050':'difficult_walking','DLQ080':'difficult_Drrands'}\n",
    "\n",
    "# DLQ_D.columns = DLQ_D.columns.map(DLQ_cols)"
   ]
  },
  {
   "cell_type": "code",
   "execution_count": 205,
   "metadata": {},
   "outputs": [],
   "source": [
    "# DLQ_D.head()"
   ]
  },
  {
   "cell_type": "markdown",
   "metadata": {},
   "source": [
    "### Drugs"
   ]
  },
  {
   "cell_type": "markdown",
   "metadata": {},
   "source": [
    "variables: \n",
    "- DUQ211 : used_marijuana - Have you ever smoked marijuana or hashish at least once a month for more than one year?\n",
    "- DUQ230 : # days used marijuana or hashish/month\n",
    "- DUQ240 : used_CMH - Have you ever used cocaine, crack cocaine, heroin, or methamphetamine?\n",
    "- DUQ370 : injected_drugs - Have you ever, even once, used a needle to inject a drug not prescribed by a doctor?\n",
    "\n",
    "    - 1 yes, 2 no, 7 refused, 9 don't know"
   ]
  },
  {
   "cell_type": "code",
   "execution_count": 209,
   "metadata": {},
   "outputs": [],
   "source": [
    "DUQ_2005_2006 = pd.read_csv('./Questionnaire/DUQ_D.csv')"
   ]
  },
  {
   "cell_type": "code",
   "execution_count": 210,
   "metadata": {},
   "outputs": [],
   "source": [
    "DUQ_D = DUQ_2005_2006.filter(['SEQN', 'DUQ240'], axis=1)"
   ]
  },
  {
   "cell_type": "code",
   "execution_count": 211,
   "metadata": {},
   "outputs": [],
   "source": [
    "DUQ_cols = {'SEQN':'SEQN', 'DUQ240':'used_CMH'}\n",
    "\n",
    "DUQ_D.columns = DUQ_D.columns.map(DUQ_cols)"
   ]
  },
  {
   "cell_type": "code",
   "execution_count": 212,
   "metadata": {},
   "outputs": [
    {
     "data": {
      "text/html": [
       "<div>\n",
       "<style scoped>\n",
       "    .dataframe tbody tr th:only-of-type {\n",
       "        vertical-align: middle;\n",
       "    }\n",
       "\n",
       "    .dataframe tbody tr th {\n",
       "        vertical-align: top;\n",
       "    }\n",
       "\n",
       "    .dataframe thead th {\n",
       "        text-align: right;\n",
       "    }\n",
       "</style>\n",
       "<table border=\"1\" class=\"dataframe\">\n",
       "  <thead>\n",
       "    <tr style=\"text-align: right;\">\n",
       "      <th></th>\n",
       "      <th>SEQN</th>\n",
       "      <th>used_CMH</th>\n",
       "    </tr>\n",
       "  </thead>\n",
       "  <tbody>\n",
       "    <tr>\n",
       "      <th>0</th>\n",
       "      <td>31131.0</td>\n",
       "      <td>2.0</td>\n",
       "    </tr>\n",
       "    <tr>\n",
       "      <th>1</th>\n",
       "      <td>31144.0</td>\n",
       "      <td>2.0</td>\n",
       "    </tr>\n",
       "    <tr>\n",
       "      <th>2</th>\n",
       "      <td>31151.0</td>\n",
       "      <td>2.0</td>\n",
       "    </tr>\n",
       "    <tr>\n",
       "      <th>3</th>\n",
       "      <td>31152.0</td>\n",
       "      <td>2.0</td>\n",
       "    </tr>\n",
       "    <tr>\n",
       "      <th>4</th>\n",
       "      <td>31153.0</td>\n",
       "      <td>1.0</td>\n",
       "    </tr>\n",
       "  </tbody>\n",
       "</table>\n",
       "</div>"
      ],
      "text/plain": [
       "      SEQN  used_CMH\n",
       "0  31131.0       2.0\n",
       "1  31144.0       2.0\n",
       "2  31151.0       2.0\n",
       "3  31152.0       2.0\n",
       "4  31153.0       1.0"
      ]
     },
     "execution_count": 212,
     "metadata": {},
     "output_type": "execute_result"
    }
   ],
   "source": [
    "DUQ_D.head()"
   ]
  },
  {
   "cell_type": "markdown",
   "metadata": {},
   "source": [
    "### Health Care"
   ]
  },
  {
   "cell_type": "markdown",
   "metadata": {},
   "source": [
    "HSQ_D\n",
    "- HSD010 - General health condition\n",
    "1 - Excellent\n",
    "2 - Very good\n",
    "3 - Good\n",
    "4 - Fair\n",
    "5 - Poor\n",
    "7 - Refused, 9 - Don’t Know\n",
    "\n",
    "HUQ_D\n",
    "- HUQ010 - General health condition\n",
    "1 - Excellent\n",
    "2 - Very good\n",
    "3 - Good\n",
    "4 - Fair\n",
    "5 - Poor\n",
    "7 - Refused, 9 - Don’t Know\n",
    "- HUQ041 / 040 - Type place most often go for healthcare\n",
    "1- Clinic or health center\n",
    "2 - Doctor's office or HMO\n",
    "3 - Hospital emergency room\n",
    "4 - Hospital outpatient department\t\n",
    "5 - Some other place\n",
    "6 - Doesn't go to one place most often\n",
    "77 - Refused, 99 - Don't know\n",
    "- HUQ051/050 - #times receive healthcare over past year\n",
    "0 - 8 are ranges, 77, 99\n",
    "- HUQ090 - Seen mental health professional/past yr\n",
    "1, 2, 7, 9\n"
   ]
  },
  {
   "cell_type": "code",
   "execution_count": 216,
   "metadata": {},
   "outputs": [],
   "source": [
    "HUQ_2005_2006 = pd.read_csv('./Questionnaire/HUQ_D.csv')\n",
    "\n",
    "HUQ_D = HUQ_2005_2006.filter(['SEQN', 'HUQ010', 'HUQ040','HUQ050'], axis=1)\n",
    "HUQ_cols = {'SEQN':'SEQN', 'HUQ010': 'gen_health_cond','HUQ040':'place_healthcare',\n",
    "            'HUQ050':'healthcare_past_yr'}\n",
    "\n",
    "HUQ_D.columns = HUQ_D.columns.map(HUQ_cols)"
   ]
  },
  {
   "cell_type": "code",
   "execution_count": 217,
   "metadata": {},
   "outputs": [
    {
     "data": {
      "text/html": [
       "<div>\n",
       "<style scoped>\n",
       "    .dataframe tbody tr th:only-of-type {\n",
       "        vertical-align: middle;\n",
       "    }\n",
       "\n",
       "    .dataframe tbody tr th {\n",
       "        vertical-align: top;\n",
       "    }\n",
       "\n",
       "    .dataframe thead th {\n",
       "        text-align: right;\n",
       "    }\n",
       "</style>\n",
       "<table border=\"1\" class=\"dataframe\">\n",
       "  <thead>\n",
       "    <tr style=\"text-align: right;\">\n",
       "      <th></th>\n",
       "      <th>SEQN</th>\n",
       "      <th>HUQ010</th>\n",
       "      <th>HUQ020</th>\n",
       "      <th>HUQ030</th>\n",
       "      <th>HUQ040</th>\n",
       "      <th>HUQ050</th>\n",
       "      <th>HUQ060</th>\n",
       "      <th>HUQ071</th>\n",
       "      <th>HUD080</th>\n",
       "      <th>HUQ090</th>\n",
       "    </tr>\n",
       "  </thead>\n",
       "  <tbody>\n",
       "    <tr>\n",
       "      <th>0</th>\n",
       "      <td>31127.0</td>\n",
       "      <td>1.0</td>\n",
       "      <td>NaN</td>\n",
       "      <td>1.0</td>\n",
       "      <td>2.0</td>\n",
       "      <td>4.000000e+00</td>\n",
       "      <td>NaN</td>\n",
       "      <td>1.0</td>\n",
       "      <td>1.0</td>\n",
       "      <td>NaN</td>\n",
       "    </tr>\n",
       "    <tr>\n",
       "      <th>1</th>\n",
       "      <td>31128.0</td>\n",
       "      <td>4.0</td>\n",
       "      <td>3.0</td>\n",
       "      <td>1.0</td>\n",
       "      <td>2.0</td>\n",
       "      <td>2.000000e+00</td>\n",
       "      <td>NaN</td>\n",
       "      <td>2.0</td>\n",
       "      <td>NaN</td>\n",
       "      <td>2.0</td>\n",
       "    </tr>\n",
       "    <tr>\n",
       "      <th>2</th>\n",
       "      <td>31129.0</td>\n",
       "      <td>3.0</td>\n",
       "      <td>3.0</td>\n",
       "      <td>1.0</td>\n",
       "      <td>2.0</td>\n",
       "      <td>5.397605e-79</td>\n",
       "      <td>1.0</td>\n",
       "      <td>2.0</td>\n",
       "      <td>NaN</td>\n",
       "      <td>2.0</td>\n",
       "    </tr>\n",
       "    <tr>\n",
       "      <th>3</th>\n",
       "      <td>31130.0</td>\n",
       "      <td>3.0</td>\n",
       "      <td>3.0</td>\n",
       "      <td>2.0</td>\n",
       "      <td>NaN</td>\n",
       "      <td>1.000000e+00</td>\n",
       "      <td>NaN</td>\n",
       "      <td>2.0</td>\n",
       "      <td>NaN</td>\n",
       "      <td>2.0</td>\n",
       "    </tr>\n",
       "    <tr>\n",
       "      <th>4</th>\n",
       "      <td>31131.0</td>\n",
       "      <td>3.0</td>\n",
       "      <td>1.0</td>\n",
       "      <td>1.0</td>\n",
       "      <td>2.0</td>\n",
       "      <td>5.000000e+00</td>\n",
       "      <td>NaN</td>\n",
       "      <td>1.0</td>\n",
       "      <td>2.0</td>\n",
       "      <td>2.0</td>\n",
       "    </tr>\n",
       "  </tbody>\n",
       "</table>\n",
       "</div>"
      ],
      "text/plain": [
       "      SEQN  HUQ010  HUQ020  HUQ030  HUQ040        HUQ050  HUQ060  HUQ071  \\\n",
       "0  31127.0     1.0     NaN     1.0     2.0  4.000000e+00     NaN     1.0   \n",
       "1  31128.0     4.0     3.0     1.0     2.0  2.000000e+00     NaN     2.0   \n",
       "2  31129.0     3.0     3.0     1.0     2.0  5.397605e-79     1.0     2.0   \n",
       "3  31130.0     3.0     3.0     2.0     NaN  1.000000e+00     NaN     2.0   \n",
       "4  31131.0     3.0     1.0     1.0     2.0  5.000000e+00     NaN     1.0   \n",
       "\n",
       "   HUD080  HUQ090  \n",
       "0     1.0     NaN  \n",
       "1     NaN     2.0  \n",
       "2     NaN     2.0  \n",
       "3     NaN     2.0  \n",
       "4     2.0     2.0  "
      ]
     },
     "execution_count": 217,
     "metadata": {},
     "output_type": "execute_result"
    }
   ],
   "source": [
    "HUQ_2005_2006.head()"
   ]
  },
  {
   "cell_type": "code",
   "execution_count": 218,
   "metadata": {},
   "outputs": [
    {
     "data": {
      "text/html": [
       "<div>\n",
       "<style scoped>\n",
       "    .dataframe tbody tr th:only-of-type {\n",
       "        vertical-align: middle;\n",
       "    }\n",
       "\n",
       "    .dataframe tbody tr th {\n",
       "        vertical-align: top;\n",
       "    }\n",
       "\n",
       "    .dataframe thead th {\n",
       "        text-align: right;\n",
       "    }\n",
       "</style>\n",
       "<table border=\"1\" class=\"dataframe\">\n",
       "  <thead>\n",
       "    <tr style=\"text-align: right;\">\n",
       "      <th></th>\n",
       "      <th>SEQN</th>\n",
       "      <th>gen_health_cond</th>\n",
       "      <th>place_healthcare</th>\n",
       "      <th>healthcare_past_yr</th>\n",
       "    </tr>\n",
       "  </thead>\n",
       "  <tbody>\n",
       "    <tr>\n",
       "      <th>0</th>\n",
       "      <td>31127.0</td>\n",
       "      <td>1.0</td>\n",
       "      <td>2.0</td>\n",
       "      <td>4.000000e+00</td>\n",
       "    </tr>\n",
       "    <tr>\n",
       "      <th>1</th>\n",
       "      <td>31128.0</td>\n",
       "      <td>4.0</td>\n",
       "      <td>2.0</td>\n",
       "      <td>2.000000e+00</td>\n",
       "    </tr>\n",
       "    <tr>\n",
       "      <th>2</th>\n",
       "      <td>31129.0</td>\n",
       "      <td>3.0</td>\n",
       "      <td>2.0</td>\n",
       "      <td>5.397605e-79</td>\n",
       "    </tr>\n",
       "    <tr>\n",
       "      <th>3</th>\n",
       "      <td>31130.0</td>\n",
       "      <td>3.0</td>\n",
       "      <td>NaN</td>\n",
       "      <td>1.000000e+00</td>\n",
       "    </tr>\n",
       "    <tr>\n",
       "      <th>4</th>\n",
       "      <td>31131.0</td>\n",
       "      <td>3.0</td>\n",
       "      <td>2.0</td>\n",
       "      <td>5.000000e+00</td>\n",
       "    </tr>\n",
       "  </tbody>\n",
       "</table>\n",
       "</div>"
      ],
      "text/plain": [
       "      SEQN  gen_health_cond  place_healthcare  healthcare_past_yr\n",
       "0  31127.0              1.0               2.0        4.000000e+00\n",
       "1  31128.0              4.0               2.0        2.000000e+00\n",
       "2  31129.0              3.0               2.0        5.397605e-79\n",
       "3  31130.0              3.0               NaN        1.000000e+00\n",
       "4  31131.0              3.0               2.0        5.000000e+00"
      ]
     },
     "execution_count": 218,
     "metadata": {},
     "output_type": "execute_result"
    }
   ],
   "source": [
    "HUQ_D.head()"
   ]
  },
  {
   "cell_type": "markdown",
   "metadata": {},
   "source": [
    "### Health Insurance"
   ]
  },
  {
   "cell_type": "markdown",
   "metadata": {},
   "source": [
    "variables:\n",
    "- HIQ011 : health_insurance - {Are you/Is SP} covered by health insurance or some other kind of health care plan? 1 yes, 2 no"
   ]
  },
  {
   "cell_type": "code",
   "execution_count": 219,
   "metadata": {},
   "outputs": [],
   "source": [
    "HIQ_2005_2006 = pd.read_csv('./Questionnaire/HIQ_D.csv')\n",
    "\n",
    "HIQ_D = HIQ_2005_2006.filter(['SEQN', 'HIQ011'], axis=1)\n",
    "HIQ_cols = {'SEQN':'SEQN', 'HIQ011': 'health_insurance'}\n",
    "\n",
    "HIQ_D.columns = HIQ_D.columns.map(HIQ_cols)"
   ]
  },
  {
   "cell_type": "code",
   "execution_count": 220,
   "metadata": {},
   "outputs": [
    {
     "data": {
      "text/html": [
       "<div>\n",
       "<style scoped>\n",
       "    .dataframe tbody tr th:only-of-type {\n",
       "        vertical-align: middle;\n",
       "    }\n",
       "\n",
       "    .dataframe tbody tr th {\n",
       "        vertical-align: top;\n",
       "    }\n",
       "\n",
       "    .dataframe thead th {\n",
       "        text-align: right;\n",
       "    }\n",
       "</style>\n",
       "<table border=\"1\" class=\"dataframe\">\n",
       "  <thead>\n",
       "    <tr style=\"text-align: right;\">\n",
       "      <th></th>\n",
       "      <th>SEQN</th>\n",
       "      <th>health_insurance</th>\n",
       "    </tr>\n",
       "  </thead>\n",
       "  <tbody>\n",
       "    <tr>\n",
       "      <th>0</th>\n",
       "      <td>31127.0</td>\n",
       "      <td>1.0</td>\n",
       "    </tr>\n",
       "    <tr>\n",
       "      <th>1</th>\n",
       "      <td>31128.0</td>\n",
       "      <td>1.0</td>\n",
       "    </tr>\n",
       "    <tr>\n",
       "      <th>2</th>\n",
       "      <td>31129.0</td>\n",
       "      <td>1.0</td>\n",
       "    </tr>\n",
       "    <tr>\n",
       "      <th>3</th>\n",
       "      <td>31130.0</td>\n",
       "      <td>1.0</td>\n",
       "    </tr>\n",
       "    <tr>\n",
       "      <th>4</th>\n",
       "      <td>31131.0</td>\n",
       "      <td>1.0</td>\n",
       "    </tr>\n",
       "  </tbody>\n",
       "</table>\n",
       "</div>"
      ],
      "text/plain": [
       "      SEQN  health_insurance\n",
       "0  31127.0               1.0\n",
       "1  31128.0               1.0\n",
       "2  31129.0               1.0\n",
       "3  31130.0               1.0\n",
       "4  31131.0               1.0"
      ]
     },
     "execution_count": 220,
     "metadata": {},
     "output_type": "execute_result"
    }
   ],
   "source": [
    "HIQ_D.head()"
   ]
  },
  {
   "cell_type": "markdown",
   "metadata": {},
   "source": [
    "### Househole Characteristics"
   ]
  },
  {
   "cell_type": "markdown",
   "metadata": {},
   "source": [
    "HOQ_D\n",
    "- HOD050 - Number of rooms in home\n",
    "1-13, 777, 999\n",
    "- HOQ065 - Home owned, bought, rented, other\n",
    "1 - Owned or being bought\n",
    "2 - Rented\n",
    "3 - Other arrangements\n",
    "7 - Refused, 9 - Don't know\n"
   ]
  },
  {
   "cell_type": "code",
   "execution_count": 221,
   "metadata": {},
   "outputs": [],
   "source": [
    "HOQ_2005_2006 = pd.read_csv('./Questionnaire/HOQ_D.csv')\n",
    "\n",
    "HOQ_D = HOQ_2005_2006.filter(['SEQN', 'HOD050','HOQ065'], axis=1)\n",
    "HOQ_cols = {'SEQN':'SEQN', 'HOD050': '#_rooms','HOQ065':'home_ownership'}\n",
    "\n",
    "HOQ_D.columns = HOQ_D.columns.map(HOQ_cols)"
   ]
  },
  {
   "cell_type": "code",
   "execution_count": 222,
   "metadata": {},
   "outputs": [
    {
     "data": {
      "text/html": [
       "<div>\n",
       "<style scoped>\n",
       "    .dataframe tbody tr th:only-of-type {\n",
       "        vertical-align: middle;\n",
       "    }\n",
       "\n",
       "    .dataframe tbody tr th {\n",
       "        vertical-align: top;\n",
       "    }\n",
       "\n",
       "    .dataframe thead th {\n",
       "        text-align: right;\n",
       "    }\n",
       "</style>\n",
       "<table border=\"1\" class=\"dataframe\">\n",
       "  <thead>\n",
       "    <tr style=\"text-align: right;\">\n",
       "      <th></th>\n",
       "      <th>SEQN</th>\n",
       "      <th>#_rooms</th>\n",
       "      <th>home_ownership</th>\n",
       "    </tr>\n",
       "  </thead>\n",
       "  <tbody>\n",
       "    <tr>\n",
       "      <th>0</th>\n",
       "      <td>31127.0</td>\n",
       "      <td>4.0</td>\n",
       "      <td>2.0</td>\n",
       "    </tr>\n",
       "    <tr>\n",
       "      <th>1</th>\n",
       "      <td>31128.0</td>\n",
       "      <td>7.0</td>\n",
       "      <td>1.0</td>\n",
       "    </tr>\n",
       "    <tr>\n",
       "      <th>2</th>\n",
       "      <td>31129.0</td>\n",
       "      <td>10.0</td>\n",
       "      <td>1.0</td>\n",
       "    </tr>\n",
       "    <tr>\n",
       "      <th>3</th>\n",
       "      <td>31130.0</td>\n",
       "      <td>1.0</td>\n",
       "      <td>2.0</td>\n",
       "    </tr>\n",
       "    <tr>\n",
       "      <th>4</th>\n",
       "      <td>31131.0</td>\n",
       "      <td>8.0</td>\n",
       "      <td>1.0</td>\n",
       "    </tr>\n",
       "  </tbody>\n",
       "</table>\n",
       "</div>"
      ],
      "text/plain": [
       "      SEQN  #_rooms  home_ownership\n",
       "0  31127.0      4.0             2.0\n",
       "1  31128.0      7.0             1.0\n",
       "2  31129.0     10.0             1.0\n",
       "3  31130.0      1.0             2.0\n",
       "4  31131.0      8.0             1.0"
      ]
     },
     "execution_count": 222,
     "metadata": {},
     "output_type": "execute_result"
    }
   ],
   "source": [
    "HOQ_D.head()"
   ]
  },
  {
   "cell_type": "markdown",
   "metadata": {},
   "source": [
    "### Early Childhood"
   ]
  },
  {
   "cell_type": "markdown",
   "metadata": {},
   "source": [
    "ECQ_D\n",
    "- ECQ020 - Mother smoked when pregnant\n",
    "1=yes, 2=no, 7/9"
   ]
  },
  {
   "cell_type": "code",
   "execution_count": 223,
   "metadata": {},
   "outputs": [],
   "source": [
    "ECQ_2005_2006 = pd.read_csv('./Questionnaire/ECQ_D.csv')\n",
    "\n",
    "ECQ_D = ECQ_2005_2006.filter(['SEQN', 'ECQ020'], axis=1)\n",
    "ECQ_cols = {'SEQN':'SEQN', 'ECQ020': 'mom_smoked_preg'}\n",
    "\n",
    "ECQ_D.columns = ECQ_D.columns.map(ECQ_cols)"
   ]
  },
  {
   "cell_type": "code",
   "execution_count": 224,
   "metadata": {},
   "outputs": [
    {
     "data": {
      "text/html": [
       "<div>\n",
       "<style scoped>\n",
       "    .dataframe tbody tr th:only-of-type {\n",
       "        vertical-align: middle;\n",
       "    }\n",
       "\n",
       "    .dataframe tbody tr th {\n",
       "        vertical-align: top;\n",
       "    }\n",
       "\n",
       "    .dataframe thead th {\n",
       "        text-align: right;\n",
       "    }\n",
       "</style>\n",
       "<table border=\"1\" class=\"dataframe\">\n",
       "  <thead>\n",
       "    <tr style=\"text-align: right;\">\n",
       "      <th></th>\n",
       "      <th>SEQN</th>\n",
       "      <th>mom_smoked_preg</th>\n",
       "    </tr>\n",
       "  </thead>\n",
       "  <tbody>\n",
       "    <tr>\n",
       "      <th>0</th>\n",
       "      <td>31127.0</td>\n",
       "      <td>2.0</td>\n",
       "    </tr>\n",
       "    <tr>\n",
       "      <th>1</th>\n",
       "      <td>31128.0</td>\n",
       "      <td>1.0</td>\n",
       "    </tr>\n",
       "    <tr>\n",
       "      <th>2</th>\n",
       "      <td>31129.0</td>\n",
       "      <td>2.0</td>\n",
       "    </tr>\n",
       "    <tr>\n",
       "      <th>3</th>\n",
       "      <td>31135.0</td>\n",
       "      <td>2.0</td>\n",
       "    </tr>\n",
       "    <tr>\n",
       "      <th>4</th>\n",
       "      <td>31137.0</td>\n",
       "      <td>2.0</td>\n",
       "    </tr>\n",
       "  </tbody>\n",
       "</table>\n",
       "</div>"
      ],
      "text/plain": [
       "      SEQN  mom_smoked_preg\n",
       "0  31127.0              2.0\n",
       "1  31128.0              1.0\n",
       "2  31129.0              2.0\n",
       "3  31135.0              2.0\n",
       "4  31137.0              2.0"
      ]
     },
     "execution_count": 224,
     "metadata": {},
     "output_type": "execute_result"
    }
   ],
   "source": [
    "ECQ_D.head()"
   ]
  },
  {
   "cell_type": "markdown",
   "metadata": {},
   "source": [
    "### Food Security"
   ]
  },
  {
   "cell_type": "markdown",
   "metadata": {},
   "source": [
    "FSQ_D\n",
    "- FSD032A - HH Worried run out of food\n",
    "    - 1 - Often true\n",
    "    - 2 - Sometimes true\n",
    "    -  - Never true\n",
    "    - 7 - Refused, 9 - Don't know\n",
    "- FSD032B - HH Food didn't last\n",
    "    - “ “\n",
    "- FSD032C - HH Couldn't afford balanced meals\n",
    "    - “ “\n",
    "- FSD041 - HH Adults cut size or skip meals\n",
    "    - 1, 2, 7, 9\n",
    "- FSD032D - HH Relied on low-cost food for child\n",
    "1 - Often true\n",
    "2 - Sometimes true\n",
    "3 - Never true\n",
    "7 - Refused, 9 - Don't know\n",
    "- FSDHH - Household food security category\n",
    "1 - HH full food security: 0\n",
    "2 - HH marginal food security: 1-2\n",
    "3 - HH low food security: 3-5 (HH w/o child) / 3-7 (HH w/ child)\n",
    "4 - HH very low food security: 6-10 (HH w/o child) / 8-18 (HH w/ child)\n",
    "No 7/9, just missing\n",
    "- FSQ012 / 171 - HH FS benefit: receive in last 12 months\n",
    "1, 2, 7, 9\n",
    "- FSQ162 - HH WIC benefit: receive in last 12 month\n",
    "1,2,7,9\n"
   ]
  },
  {
   "cell_type": "code",
   "execution_count": 225,
   "metadata": {},
   "outputs": [],
   "source": [
    "FSQ_2005_2006 = pd.read_csv('./Questionnaire/FSQ_D.csv')\n",
    "\n",
    "FSQ_D = FSQ_2005_2006.filter(['SEQN', 'FSD032A', 'FSD032B', 'FSD032C', 'FSD041', 'FSD032D', 'FSDHH',\n",
    "                             'FSQ171','FSD180', 'FSQ162'], axis=1)\n",
    "\n",
    " \n",
    "FSQ_cols = {'SEQN': 'SEQN', 'FSD032A':'run_out_food', 'FSD032B':'food_didnt_last', 'FSD032C':'afford_balanced_meals', \n",
    "             'FSD041':'adults_skip_meals', 'FSD032D':'relied_cheap_food', 'FSDHH':'food_security_cat',\n",
    "             'FSQ171':'food_stamps', 'FSD180':'food_stamps','FSQ162':'WIC'}\n",
    "\n",
    "FSQ_D.columns = FSQ_D.columns.map(FSQ_cols)"
   ]
  },
  {
   "cell_type": "code",
   "execution_count": 226,
   "metadata": {},
   "outputs": [
    {
     "data": {
      "text/html": [
       "<div>\n",
       "<style scoped>\n",
       "    .dataframe tbody tr th:only-of-type {\n",
       "        vertical-align: middle;\n",
       "    }\n",
       "\n",
       "    .dataframe tbody tr th {\n",
       "        vertical-align: top;\n",
       "    }\n",
       "\n",
       "    .dataframe thead th {\n",
       "        text-align: right;\n",
       "    }\n",
       "</style>\n",
       "<table border=\"1\" class=\"dataframe\">\n",
       "  <thead>\n",
       "    <tr style=\"text-align: right;\">\n",
       "      <th></th>\n",
       "      <th>SEQN</th>\n",
       "      <th>run_out_food</th>\n",
       "      <th>food_didnt_last</th>\n",
       "      <th>afford_balanced_meals</th>\n",
       "      <th>adults_skip_meals</th>\n",
       "      <th>relied_cheap_food</th>\n",
       "      <th>food_security_cat</th>\n",
       "      <th>food_stamps</th>\n",
       "      <th>WIC</th>\n",
       "    </tr>\n",
       "  </thead>\n",
       "  <tbody>\n",
       "    <tr>\n",
       "      <th>0</th>\n",
       "      <td>31127.0</td>\n",
       "      <td>2.0</td>\n",
       "      <td>2.0</td>\n",
       "      <td>2.0</td>\n",
       "      <td>2.0</td>\n",
       "      <td>3.0</td>\n",
       "      <td>3.0</td>\n",
       "      <td>2.0</td>\n",
       "      <td>1.0</td>\n",
       "    </tr>\n",
       "    <tr>\n",
       "      <th>1</th>\n",
       "      <td>31128.0</td>\n",
       "      <td>3.0</td>\n",
       "      <td>3.0</td>\n",
       "      <td>3.0</td>\n",
       "      <td>NaN</td>\n",
       "      <td>3.0</td>\n",
       "      <td>1.0</td>\n",
       "      <td>1.0</td>\n",
       "      <td>2.0</td>\n",
       "    </tr>\n",
       "    <tr>\n",
       "      <th>2</th>\n",
       "      <td>31129.0</td>\n",
       "      <td>3.0</td>\n",
       "      <td>3.0</td>\n",
       "      <td>3.0</td>\n",
       "      <td>NaN</td>\n",
       "      <td>3.0</td>\n",
       "      <td>1.0</td>\n",
       "      <td>2.0</td>\n",
       "      <td>2.0</td>\n",
       "    </tr>\n",
       "    <tr>\n",
       "      <th>3</th>\n",
       "      <td>31130.0</td>\n",
       "      <td>3.0</td>\n",
       "      <td>3.0</td>\n",
       "      <td>3.0</td>\n",
       "      <td>NaN</td>\n",
       "      <td>NaN</td>\n",
       "      <td>1.0</td>\n",
       "      <td>2.0</td>\n",
       "      <td>NaN</td>\n",
       "    </tr>\n",
       "    <tr>\n",
       "      <th>4</th>\n",
       "      <td>31131.0</td>\n",
       "      <td>3.0</td>\n",
       "      <td>3.0</td>\n",
       "      <td>3.0</td>\n",
       "      <td>NaN</td>\n",
       "      <td>3.0</td>\n",
       "      <td>1.0</td>\n",
       "      <td>2.0</td>\n",
       "      <td>2.0</td>\n",
       "    </tr>\n",
       "  </tbody>\n",
       "</table>\n",
       "</div>"
      ],
      "text/plain": [
       "      SEQN  run_out_food  food_didnt_last  afford_balanced_meals  \\\n",
       "0  31127.0           2.0              2.0                    2.0   \n",
       "1  31128.0           3.0              3.0                    3.0   \n",
       "2  31129.0           3.0              3.0                    3.0   \n",
       "3  31130.0           3.0              3.0                    3.0   \n",
       "4  31131.0           3.0              3.0                    3.0   \n",
       "\n",
       "   adults_skip_meals  relied_cheap_food  food_security_cat  food_stamps  WIC  \n",
       "0                2.0                3.0                3.0          2.0  1.0  \n",
       "1                NaN                3.0                1.0          1.0  2.0  \n",
       "2                NaN                3.0                1.0          2.0  2.0  \n",
       "3                NaN                NaN                1.0          2.0  NaN  \n",
       "4                NaN                3.0                1.0          2.0  2.0  "
      ]
     },
     "execution_count": 226,
     "metadata": {},
     "output_type": "execute_result"
    }
   ],
   "source": [
    "FSQ_D.head()"
   ]
  },
  {
   "cell_type": "markdown",
   "metadata": {},
   "source": [
    "### Income"
   ]
  },
  {
   "cell_type": "markdown",
   "metadata": {},
   "source": [
    "INQ_D\n",
    "- IND235 - Monthly family income\n",
    "    - 1-12 ranges, 77, 99\n",
    "- INQ244 - Family has savings more than $5000\n",
    "    - 1,2,7,9\n"
   ]
  },
  {
   "cell_type": "code",
   "execution_count": 227,
   "metadata": {},
   "outputs": [],
   "source": [
    "# INQ_2005_2006 = pd.read_csv('./Questionnaire/INQ_D.csv')\n",
    "\n",
    "# INQ_D = INQ_2005_2006.filter(['SEQN', 'IND235', 'INQ244'], axis=1)\n",
    "\n",
    "# INQ_cols = {'SEQN': 'SEQN', 'IND235':'monthly_income', 'INQ244':'savings_5000'}\n",
    "\n",
    "# INQ_D.columns = INQ_D.columns.map(INQ_cols)\n"
   ]
  },
  {
   "cell_type": "code",
   "execution_count": 228,
   "metadata": {},
   "outputs": [],
   "source": [
    "# INQ_D.head()"
   ]
  },
  {
   "cell_type": "markdown",
   "metadata": {},
   "source": [
    "### Medical Conditions"
   ]
  },
  {
   "cell_type": "markdown",
   "metadata": {},
   "source": [
    "variables:\n",
    "- MCQ010 : doc_asthma - Has a doctor or other health professional ever told {you/SP} that {you have/s/he/SP has} asthma (az-ma)?\n",
    "- MCQ080 : doc_overweight - Has a doctor or other health professional ever told {you/SP} that {you were/s/he/SP was} overweight?\n",
    "- MCQ160a :  doc_arthritis - Has a doctor or other health professional ever told {you/SP} that {you/s/he} had arthritis (ar-thry-tis)?\n",
    "- MCQ160b :  doc_CHF - Has a doctor or other health professional ever told {you/SP} that {you/s/he}had congestive heart failure?\n",
    "- MCQ160c : doc_CHD - Has a doctor or other health professional ever told {you/SP} that {you/s/he} had coronary (kor-o-nare-ee) heart disease?\n",
    "- MCQ160e : doc_Deart_attack - Has a doctor or other health professional ever told {you/SP} that {you/s/he} had a heart attack (also called myocardial infarction (my-o-car-dee-al in-fark-shun))?\n",
    "- MCQ160f : doc_stroke - Has a doctor or other health professional ever told {you/SP} that {you/s/her} had a stroke?\n",
    "- MCQ160k : doc_chronic_bronchitis - Has a doctor or other health professional ever told {you/SP} that {you/s/he} . . .had chronic bronchitis?\n",
    "- MCQ160l : doc_liver_condition - Has a doctor or other health professional ever told {you/SP} that {you/s/he} . . .had any kind of liver condition?\n",
    "- MCQ160m : doc_thyroid_problem - Has a doctor or other health professional ever told {you/SP} that {you/s/he} had another thyroid (thigh-roid) problem?\n",
    "- MCQ160o : doc_COPD - Has a doctor or other health professional ever told {you/SP} that {you/s/he} had COPD?\n",
    "- MCQ220 : doc_cancer - {Have you/Has SP} ever been told by a doctor or other health professional that {you/s/he} had cancer or a malignancy (ma-lig-nan-see) of any kind?\n",
    "\n",
    "((- MCQ365a : doc_lose_weight - To lower {your/SP's} risk for certain diseases, during the past 12 months {have you/has s/he} ever been told by a doctor or health professional to: control {your/his/her} weight or lose weight?\n",
    "- MCQ365b : doc_Dxercise - To lower {your/SP's} risk for certain diseases, during the past 12 months {have you/has s/he} ever been told by a doctor or health professional to: increase {your/his/her} physical activity or exercise?))\n",
    "\n",
    "- MCQ053 - Taking treatment for anemia/past 3 mos\n",
    "    - 1,2,7,9\n",
    "- MCQ084 - Difficulties in thinking or remembering\n",
    "    - 1, 2, 7, 9\n",
    "- MCQ230a - What kind of cancer\n",
    "    - 10-39 different kinds, 66 = more than 3, 77, 99\n"
   ]
  },
  {
   "cell_type": "code",
   "execution_count": 229,
   "metadata": {},
   "outputs": [],
   "source": [
    "MCQ_2005_2006 = pd.read_csv('./Questionnaire/MCQ_D.csv')\n",
    "\n",
    "MCQ_D = MCQ_2005_2006.filter(['SEQN', 'MCQ010', 'MCQ080', 'MCQ160A', 'MCQ160B', 'MCQ160C', 'MCQ160E',\n",
    " 'MCQ160F', 'MCQ160K', 'MCQ160L', 'MCQ160M', 'MCQ160O', 'MCQ220','MCQ053',\n",
    "                             'MCQ084','MCQ230A'], axis=1)\n",
    "\n",
    " \n",
    "MCQ_cols = {'SEQN': 'SEQN', 'MCQ010':'doc_asthma', 'MCQ080':'doc_overweight', 'MCQ160A':'doc_arthritis', \n",
    " 'MCQ160B':'doc_CHF', 'MCQ160C':'doc_CHD', 'MCQ160E':'doc_heart_attack',\n",
    " 'MCQ160F':'doc_stroke', 'MCQ160K':'doc_chronic_bronchitis', 'MCQ160L':'doc_liver_condition', \n",
    " 'MCQ160M':'doc_thyroid_problem', 'MCQ160O':'doc_COPD', 'MCQ220':'doc_cancer','MCQ053': 'anemia',\n",
    "                             'MCQ084':'difficult_remembering','MCQ230A':'cancer_type'}\n",
    "\n",
    "MCQ_D.columns = MCQ_D.columns.map(MCQ_cols)"
   ]
  },
  {
   "cell_type": "code",
   "execution_count": 230,
   "metadata": {},
   "outputs": [
    {
     "data": {
      "text/html": [
       "<div>\n",
       "<style scoped>\n",
       "    .dataframe tbody tr th:only-of-type {\n",
       "        vertical-align: middle;\n",
       "    }\n",
       "\n",
       "    .dataframe tbody tr th {\n",
       "        vertical-align: top;\n",
       "    }\n",
       "\n",
       "    .dataframe thead th {\n",
       "        text-align: right;\n",
       "    }\n",
       "</style>\n",
       "<table border=\"1\" class=\"dataframe\">\n",
       "  <thead>\n",
       "    <tr style=\"text-align: right;\">\n",
       "      <th></th>\n",
       "      <th>SEQN</th>\n",
       "      <th>doc_asthma</th>\n",
       "      <th>doc_overweight</th>\n",
       "      <th>doc_arthritis</th>\n",
       "      <th>doc_CHF</th>\n",
       "      <th>doc_CHD</th>\n",
       "      <th>doc_heart_attack</th>\n",
       "      <th>doc_stroke</th>\n",
       "      <th>doc_chronic_bronchitis</th>\n",
       "      <th>doc_liver_condition</th>\n",
       "      <th>doc_thyroid_problem</th>\n",
       "      <th>doc_cancer</th>\n",
       "      <th>anemia</th>\n",
       "      <th>cancer_type</th>\n",
       "    </tr>\n",
       "  </thead>\n",
       "  <tbody>\n",
       "    <tr>\n",
       "      <th>0</th>\n",
       "      <td>31128.0</td>\n",
       "      <td>2.0</td>\n",
       "      <td>NaN</td>\n",
       "      <td>NaN</td>\n",
       "      <td>NaN</td>\n",
       "      <td>NaN</td>\n",
       "      <td>NaN</td>\n",
       "      <td>NaN</td>\n",
       "      <td>NaN</td>\n",
       "      <td>NaN</td>\n",
       "      <td>NaN</td>\n",
       "      <td>NaN</td>\n",
       "      <td>2.0</td>\n",
       "      <td>NaN</td>\n",
       "    </tr>\n",
       "    <tr>\n",
       "      <th>1</th>\n",
       "      <td>31129.0</td>\n",
       "      <td>2.0</td>\n",
       "      <td>NaN</td>\n",
       "      <td>NaN</td>\n",
       "      <td>NaN</td>\n",
       "      <td>NaN</td>\n",
       "      <td>NaN</td>\n",
       "      <td>NaN</td>\n",
       "      <td>NaN</td>\n",
       "      <td>NaN</td>\n",
       "      <td>NaN</td>\n",
       "      <td>NaN</td>\n",
       "      <td>2.0</td>\n",
       "      <td>NaN</td>\n",
       "    </tr>\n",
       "    <tr>\n",
       "      <th>2</th>\n",
       "      <td>31130.0</td>\n",
       "      <td>2.0</td>\n",
       "      <td>2.0</td>\n",
       "      <td>2.0</td>\n",
       "      <td>2.0</td>\n",
       "      <td>2.0</td>\n",
       "      <td>2.0</td>\n",
       "      <td>2.0</td>\n",
       "      <td>2.0</td>\n",
       "      <td>2.0</td>\n",
       "      <td>2.0</td>\n",
       "      <td>2.0</td>\n",
       "      <td>2.0</td>\n",
       "      <td>NaN</td>\n",
       "    </tr>\n",
       "    <tr>\n",
       "      <th>3</th>\n",
       "      <td>31131.0</td>\n",
       "      <td>2.0</td>\n",
       "      <td>2.0</td>\n",
       "      <td>2.0</td>\n",
       "      <td>1.0</td>\n",
       "      <td>2.0</td>\n",
       "      <td>2.0</td>\n",
       "      <td>2.0</td>\n",
       "      <td>2.0</td>\n",
       "      <td>2.0</td>\n",
       "      <td>2.0</td>\n",
       "      <td>2.0</td>\n",
       "      <td>2.0</td>\n",
       "      <td>NaN</td>\n",
       "    </tr>\n",
       "    <tr>\n",
       "      <th>4</th>\n",
       "      <td>31132.0</td>\n",
       "      <td>2.0</td>\n",
       "      <td>2.0</td>\n",
       "      <td>2.0</td>\n",
       "      <td>2.0</td>\n",
       "      <td>2.0</td>\n",
       "      <td>2.0</td>\n",
       "      <td>2.0</td>\n",
       "      <td>2.0</td>\n",
       "      <td>2.0</td>\n",
       "      <td>1.0</td>\n",
       "      <td>2.0</td>\n",
       "      <td>2.0</td>\n",
       "      <td>NaN</td>\n",
       "    </tr>\n",
       "  </tbody>\n",
       "</table>\n",
       "</div>"
      ],
      "text/plain": [
       "      SEQN  doc_asthma  doc_overweight  doc_arthritis  doc_CHF  doc_CHD  \\\n",
       "0  31128.0         2.0             NaN            NaN      NaN      NaN   \n",
       "1  31129.0         2.0             NaN            NaN      NaN      NaN   \n",
       "2  31130.0         2.0             2.0            2.0      2.0      2.0   \n",
       "3  31131.0         2.0             2.0            2.0      1.0      2.0   \n",
       "4  31132.0         2.0             2.0            2.0      2.0      2.0   \n",
       "\n",
       "   doc_heart_attack  doc_stroke  doc_chronic_bronchitis  doc_liver_condition  \\\n",
       "0               NaN         NaN                     NaN                  NaN   \n",
       "1               NaN         NaN                     NaN                  NaN   \n",
       "2               2.0         2.0                     2.0                  2.0   \n",
       "3               2.0         2.0                     2.0                  2.0   \n",
       "4               2.0         2.0                     2.0                  2.0   \n",
       "\n",
       "   doc_thyroid_problem  doc_cancer  anemia  cancer_type  \n",
       "0                  NaN         NaN     2.0          NaN  \n",
       "1                  NaN         NaN     2.0          NaN  \n",
       "2                  2.0         2.0     2.0          NaN  \n",
       "3                  2.0         2.0     2.0          NaN  \n",
       "4                  1.0         2.0     2.0          NaN  "
      ]
     },
     "execution_count": 230,
     "metadata": {},
     "output_type": "execute_result"
    }
   ],
   "source": [
    "MCQ_D.head()"
   ]
  },
  {
   "cell_type": "code",
   "execution_count": 231,
   "metadata": {},
   "outputs": [
    {
     "data": {
      "text/plain": [
       "14"
      ]
     },
     "execution_count": 231,
     "metadata": {},
     "output_type": "execute_result"
    }
   ],
   "source": [
    "len(MCQ_D.columns)"
   ]
  },
  {
   "cell_type": "markdown",
   "metadata": {},
   "source": [
    "### Kidney Conditions - Urology (KIQ_U_D)"
   ]
  },
  {
   "cell_type": "markdown",
   "metadata": {},
   "source": [
    "variables\n",
    "- KIQ022: doc_kidney - {Have you/Has SP} ever been told by a doctor or other health professional that {you/s/he} had weak or failing kidneys? Do not include kidney stones, bladder infections, or incontinence."
   ]
  },
  {
   "cell_type": "code",
   "execution_count": 232,
   "metadata": {},
   "outputs": [],
   "source": [
    "KIQ_U_2005_2006 = pd.read_csv('./Questionnaire/KIQ_U_D.csv')\n",
    "\n",
    "KIQ_U_D = KIQ_U_2005_2006.filter(['SEQN', 'KIQ022'], axis=1)\n",
    "KIQ_U_cols = {'SEQN':'SEQN', 'KIQ022': 'doc_kidney'}\n",
    "\n",
    "KIQ_U_D.columns = KIQ_U_D.columns.map(KIQ_U_cols)"
   ]
  },
  {
   "cell_type": "code",
   "execution_count": 233,
   "metadata": {},
   "outputs": [
    {
     "data": {
      "text/html": [
       "<div>\n",
       "<style scoped>\n",
       "    .dataframe tbody tr th:only-of-type {\n",
       "        vertical-align: middle;\n",
       "    }\n",
       "\n",
       "    .dataframe tbody tr th {\n",
       "        vertical-align: top;\n",
       "    }\n",
       "\n",
       "    .dataframe thead th {\n",
       "        text-align: right;\n",
       "    }\n",
       "</style>\n",
       "<table border=\"1\" class=\"dataframe\">\n",
       "  <thead>\n",
       "    <tr style=\"text-align: right;\">\n",
       "      <th></th>\n",
       "      <th>SEQN</th>\n",
       "      <th>doc_kidney</th>\n",
       "    </tr>\n",
       "  </thead>\n",
       "  <tbody>\n",
       "    <tr>\n",
       "      <th>0</th>\n",
       "      <td>31130.0</td>\n",
       "      <td>2.0</td>\n",
       "    </tr>\n",
       "    <tr>\n",
       "      <th>1</th>\n",
       "      <td>31131.0</td>\n",
       "      <td>2.0</td>\n",
       "    </tr>\n",
       "    <tr>\n",
       "      <th>2</th>\n",
       "      <td>31132.0</td>\n",
       "      <td>2.0</td>\n",
       "    </tr>\n",
       "    <tr>\n",
       "      <th>3</th>\n",
       "      <td>31134.0</td>\n",
       "      <td>2.0</td>\n",
       "    </tr>\n",
       "    <tr>\n",
       "      <th>4</th>\n",
       "      <td>31136.0</td>\n",
       "      <td>2.0</td>\n",
       "    </tr>\n",
       "  </tbody>\n",
       "</table>\n",
       "</div>"
      ],
      "text/plain": [
       "      SEQN  doc_kidney\n",
       "0  31130.0         2.0\n",
       "1  31131.0         2.0\n",
       "2  31132.0         2.0\n",
       "3  31134.0         2.0\n",
       "4  31136.0         2.0"
      ]
     },
     "execution_count": 233,
     "metadata": {},
     "output_type": "execute_result"
    }
   ],
   "source": [
    "KIQ_U_D.head()"
   ]
  },
  {
   "cell_type": "markdown",
   "metadata": {},
   "source": [
    "### Occupation"
   ]
  },
  {
   "cell_type": "markdown",
   "metadata": {},
   "source": [
    "OCQ_D\n",
    "- OCD150 - Type of work done last week\n",
    "1 - Working at a job or business\n",
    "2 - With a job or business but not at work\n",
    "3 - Looking for work, or\n",
    "4 - Not working at a job or business?\n",
    "7 - Refused, 9-  Don’t know\n",
    "- OCQ180 - Hours worked last week at all jobs\n",
    "    - Range 0-120 hours\n",
    "    - 77777, 999999\n"
   ]
  },
  {
   "cell_type": "code",
   "execution_count": 234,
   "metadata": {},
   "outputs": [],
   "source": [
    "OCQ_2005_2006 = pd.read_csv('./Questionnaire/OCQ_D.csv')\n",
    "\n",
    "OCQ_D = OCQ_2005_2006.filter(['SEQN', 'OCD150','OCQ180'], axis=1)\n",
    "OCQ_cols = {'SEQN':'SEQN', 'OCD150': 'work_type','OCQ180':'hrs_worked_week'}\n",
    "\n",
    "OCQ_D.columns = OCQ_D.columns.map(OCQ_cols)"
   ]
  },
  {
   "cell_type": "code",
   "execution_count": 235,
   "metadata": {},
   "outputs": [
    {
     "data": {
      "text/html": [
       "<div>\n",
       "<style scoped>\n",
       "    .dataframe tbody tr th:only-of-type {\n",
       "        vertical-align: middle;\n",
       "    }\n",
       "\n",
       "    .dataframe tbody tr th {\n",
       "        vertical-align: top;\n",
       "    }\n",
       "\n",
       "    .dataframe thead th {\n",
       "        text-align: right;\n",
       "    }\n",
       "</style>\n",
       "<table border=\"1\" class=\"dataframe\">\n",
       "  <thead>\n",
       "    <tr style=\"text-align: right;\">\n",
       "      <th></th>\n",
       "      <th>SEQN</th>\n",
       "      <th>work_type</th>\n",
       "      <th>hrs_worked_week</th>\n",
       "    </tr>\n",
       "  </thead>\n",
       "  <tbody>\n",
       "    <tr>\n",
       "      <th>0</th>\n",
       "      <td>31130.0</td>\n",
       "      <td>4.0</td>\n",
       "      <td>NaN</td>\n",
       "    </tr>\n",
       "    <tr>\n",
       "      <th>1</th>\n",
       "      <td>31131.0</td>\n",
       "      <td>1.0</td>\n",
       "      <td>45.0</td>\n",
       "    </tr>\n",
       "    <tr>\n",
       "      <th>2</th>\n",
       "      <td>31132.0</td>\n",
       "      <td>1.0</td>\n",
       "      <td>15.0</td>\n",
       "    </tr>\n",
       "    <tr>\n",
       "      <th>3</th>\n",
       "      <td>31133.0</td>\n",
       "      <td>4.0</td>\n",
       "      <td>NaN</td>\n",
       "    </tr>\n",
       "    <tr>\n",
       "      <th>4</th>\n",
       "      <td>31134.0</td>\n",
       "      <td>4.0</td>\n",
       "      <td>NaN</td>\n",
       "    </tr>\n",
       "  </tbody>\n",
       "</table>\n",
       "</div>"
      ],
      "text/plain": [
       "      SEQN  work_type  hrs_worked_week\n",
       "0  31130.0        4.0              NaN\n",
       "1  31131.0        1.0             45.0\n",
       "2  31132.0        1.0             15.0\n",
       "3  31133.0        4.0              NaN\n",
       "4  31134.0        4.0              NaN"
      ]
     },
     "execution_count": 235,
     "metadata": {},
     "output_type": "execute_result"
    }
   ],
   "source": [
    "OCQ_D.head()"
   ]
  },
  {
   "cell_type": "markdown",
   "metadata": {},
   "source": [
    "### Oral Health"
   ]
  },
  {
   "cell_type": "markdown",
   "metadata": {},
   "source": [
    "OHQ_D\n",
    "- OHQ680 - Last yr embarrassed because of mouth\n",
    "    - 1 very often to 5 never, 7, 9\n"
   ]
  },
  {
   "cell_type": "code",
   "execution_count": 236,
   "metadata": {},
   "outputs": [],
   "source": [
    "OHQ_2005_2006 = pd.read_csv('./Questionnaire/OHQ_D.csv')\n",
    "\n",
    "OHQ_D = OHQ_2005_2006.filter(['SEQN', 'OHQ680'], axis=1)\n",
    "OHQ_cols = {'SEQN':'SEQN', 'OHQ680': 'embarassed_mouth'}\n",
    "\n",
    "OHQ_D.columns = OHQ_D.columns.map(OHQ_cols)"
   ]
  },
  {
   "cell_type": "code",
   "execution_count": 237,
   "metadata": {},
   "outputs": [
    {
     "data": {
      "text/html": [
       "<div>\n",
       "<style scoped>\n",
       "    .dataframe tbody tr th:only-of-type {\n",
       "        vertical-align: middle;\n",
       "    }\n",
       "\n",
       "    .dataframe tbody tr th {\n",
       "        vertical-align: top;\n",
       "    }\n",
       "\n",
       "    .dataframe thead th {\n",
       "        text-align: right;\n",
       "    }\n",
       "</style>\n",
       "<table border=\"1\" class=\"dataframe\">\n",
       "  <thead>\n",
       "    <tr style=\"text-align: right;\">\n",
       "      <th></th>\n",
       "      <th>SEQN</th>\n",
       "      <th>embarassed_mouth</th>\n",
       "    </tr>\n",
       "  </thead>\n",
       "  <tbody>\n",
       "    <tr>\n",
       "      <th>0</th>\n",
       "      <td>31130.0</td>\n",
       "      <td>5.0</td>\n",
       "    </tr>\n",
       "    <tr>\n",
       "      <th>1</th>\n",
       "      <td>31131.0</td>\n",
       "      <td>5.0</td>\n",
       "    </tr>\n",
       "    <tr>\n",
       "      <th>2</th>\n",
       "      <td>31132.0</td>\n",
       "      <td>5.0</td>\n",
       "    </tr>\n",
       "    <tr>\n",
       "      <th>3</th>\n",
       "      <td>31134.0</td>\n",
       "      <td>5.0</td>\n",
       "    </tr>\n",
       "    <tr>\n",
       "      <th>4</th>\n",
       "      <td>31136.0</td>\n",
       "      <td>5.0</td>\n",
       "    </tr>\n",
       "  </tbody>\n",
       "</table>\n",
       "</div>"
      ],
      "text/plain": [
       "      SEQN  embarassed_mouth\n",
       "0  31130.0               5.0\n",
       "1  31131.0               5.0\n",
       "2  31132.0               5.0\n",
       "3  31134.0               5.0\n",
       "4  31136.0               5.0"
      ]
     },
     "execution_count": 237,
     "metadata": {},
     "output_type": "execute_result"
    }
   ],
   "source": [
    "OHQ_D.head()"
   ]
  },
  {
   "cell_type": "markdown",
   "metadata": {},
   "source": [
    "### Osteoperosis"
   ]
  },
  {
   "cell_type": "markdown",
   "metadata": {},
   "source": [
    "variables:\n",
    "- OSQ010A : broken_Dip - Has a doctor ever told {you/SP} that {you/s/he} had broken or fractured {your/his/her} . . .hip?\n",
    "- OSQ060 : doc_osteoporosis - Has a doctor ever told {you/SP} that {you/s/he} had osteoporosis, sometimes called thin or brittle bones?\n",
    "\n",
    "    - 1 yes, 2 no, 7 refused, 9 don't know"
   ]
  },
  {
   "cell_type": "code",
   "execution_count": 238,
   "metadata": {},
   "outputs": [],
   "source": [
    "OSQ_2005_2006 = pd.read_csv('./Questionnaire/OSQ_D.csv')\n",
    "\n",
    "OSQ_D = OSQ_2005_2006.filter(['SEQN', 'OSQ010A', 'OSQ060'], axis=1)\n",
    "OSQ_cols = {'SEQN':'SEQN', 'OSQ010A': 'broken_hip', 'OSQ060':'doc_osteoporosis'}\n",
    "\n",
    "OSQ_D.columns = OSQ_D.columns.map(OSQ_cols)"
   ]
  },
  {
   "cell_type": "code",
   "execution_count": 239,
   "metadata": {},
   "outputs": [
    {
     "data": {
      "text/plain": [
       "Index(['SEQN', 'OSQ010A', 'OSQ010B', 'OSQ010C', 'OSQ020A', 'OSQ020B',\n",
       "       'OSQ020C', 'OSD030AA', 'OSQ040AA', 'OSD050AA',\n",
       "       ...\n",
       "       'OSQ140U', 'OSQ150', 'OSQ160A', 'OSQ160B', 'OSQ170', 'OSQ180', 'OSQ190',\n",
       "       'OSQ200', 'OSQ210', 'OSQ220'],\n",
       "      dtype='object', length=118)"
      ]
     },
     "execution_count": 239,
     "metadata": {},
     "output_type": "execute_result"
    }
   ],
   "source": [
    "OSQ_2005_2006.columns"
   ]
  },
  {
   "cell_type": "code",
   "execution_count": 240,
   "metadata": {},
   "outputs": [
    {
     "data": {
      "text/html": [
       "<div>\n",
       "<style scoped>\n",
       "    .dataframe tbody tr th:only-of-type {\n",
       "        vertical-align: middle;\n",
       "    }\n",
       "\n",
       "    .dataframe tbody tr th {\n",
       "        vertical-align: top;\n",
       "    }\n",
       "\n",
       "    .dataframe thead th {\n",
       "        text-align: right;\n",
       "    }\n",
       "</style>\n",
       "<table border=\"1\" class=\"dataframe\">\n",
       "  <thead>\n",
       "    <tr style=\"text-align: right;\">\n",
       "      <th></th>\n",
       "      <th>SEQN</th>\n",
       "      <th>broken_hip</th>\n",
       "      <th>doc_osteoporosis</th>\n",
       "    </tr>\n",
       "  </thead>\n",
       "  <tbody>\n",
       "    <tr>\n",
       "      <th>0</th>\n",
       "      <td>31130.0</td>\n",
       "      <td>2.0</td>\n",
       "      <td>2.0</td>\n",
       "    </tr>\n",
       "    <tr>\n",
       "      <th>1</th>\n",
       "      <td>31131.0</td>\n",
       "      <td>2.0</td>\n",
       "      <td>2.0</td>\n",
       "    </tr>\n",
       "    <tr>\n",
       "      <th>2</th>\n",
       "      <td>31132.0</td>\n",
       "      <td>2.0</td>\n",
       "      <td>2.0</td>\n",
       "    </tr>\n",
       "    <tr>\n",
       "      <th>3</th>\n",
       "      <td>31134.0</td>\n",
       "      <td>2.0</td>\n",
       "      <td>2.0</td>\n",
       "    </tr>\n",
       "    <tr>\n",
       "      <th>4</th>\n",
       "      <td>31136.0</td>\n",
       "      <td>2.0</td>\n",
       "      <td>2.0</td>\n",
       "    </tr>\n",
       "  </tbody>\n",
       "</table>\n",
       "</div>"
      ],
      "text/plain": [
       "      SEQN  broken_hip  doc_osteoporosis\n",
       "0  31130.0         2.0               2.0\n",
       "1  31131.0         2.0               2.0\n",
       "2  31132.0         2.0               2.0\n",
       "3  31134.0         2.0               2.0\n",
       "4  31136.0         2.0               2.0"
      ]
     },
     "execution_count": 240,
     "metadata": {},
     "output_type": "execute_result"
    }
   ],
   "source": [
    "OSQ_D.head()"
   ]
  },
  {
   "cell_type": "markdown",
   "metadata": {},
   "source": [
    "### Physical Activity"
   ]
  },
  {
   "cell_type": "markdown",
   "metadata": {},
   "source": [
    "variables:\n",
    "- PAQ650 - Vigorous recreational activities - In a typical week {do you/does SP} do any vigorous-intensity sports, fitness, or recreational activities that cause large increases in breathing or heart rate like running or basketball for at least 10 minutes continuously? 1 yes 2 no\n",
    "    - PAD200 - Vigorous activity over past 30 days ^^\n",
    "- PAQ665 - Moderate recreational activities\n",
    "    - PAD320 - Moderate activity over past 30 days ^^\n",
    "- PAD680 : min_sedetary - The following question is about sitting at school, at home, getting to and from places, or with friends including time spent sitting at a desk, traveling in a car or bus, reading, playing cards, watching television, or using a computer. Do not include time spent sleeping. How much time {do you/does SP} usually spend sitting on a typical day?\n",
    "- PAQ706 - Days physically active at least 60 min.\n",
    "    - 1-7, 77 99\n",
    "- PAQ710 - Hours watch TV or videos past 30 days\n",
    "    - 1-5, 8=don’t watch, 77, 99\n",
    "    - PAD590\n",
    "- PAQ715 - Hours use computer past 30 days (on average/day)\n",
    "    - PAD600\n",
    "- PAQ722 - Any physical activity in past 7 days"
   ]
  },
  {
   "cell_type": "code",
   "execution_count": 241,
   "metadata": {},
   "outputs": [],
   "source": [
    "PAQ_2005_2006 = pd.read_csv('./Questionnaire/PAQ_D.csv')\n",
    "\n",
    "PAQ_D = PAQ_2005_2006.filter(['SEQN', 'PAQ650', 'PAD200', 'PAQ665', 'PAD320',\n",
    "           'PAD680', 'PAQ706', 'PAQ710','PAD590','PAQ715','PAD600','PAQ722'], axis=1)\n",
    "\n",
    "PAQ_cols = {'SEQN':'SEQN', 'PAQ650':'vigorous_activity', 'PAD200':'vigorous_activity', 'PAQ665':'moderate_activity',\n",
    "           'PAD320':'moderate_activity', 'PAD680':'min_sedetary', 'PAQ706':'days_60min_active', \n",
    "            'PAQ710':'hours_TV','PAD590':'hours_TV','PAD600':'hours_computer','PAQ722':'activity_week'}\n",
    "\n",
    "PAQ_D.columns = PAQ_D.columns.map(PAQ_cols)"
   ]
  },
  {
   "cell_type": "code",
   "execution_count": 242,
   "metadata": {},
   "outputs": [
    {
     "data": {
      "text/plain": [
       "Index(['SEQN', 'vigorous_activity', 'moderate_activity', 'hours_TV',\n",
       "       'hours_computer'],\n",
       "      dtype='object')"
      ]
     },
     "execution_count": 242,
     "metadata": {},
     "output_type": "execute_result"
    }
   ],
   "source": [
    "PAQ_D.columns"
   ]
  },
  {
   "cell_type": "code",
   "execution_count": 243,
   "metadata": {},
   "outputs": [
    {
     "data": {
      "text/html": [
       "<div>\n",
       "<style scoped>\n",
       "    .dataframe tbody tr th:only-of-type {\n",
       "        vertical-align: middle;\n",
       "    }\n",
       "\n",
       "    .dataframe tbody tr th {\n",
       "        vertical-align: top;\n",
       "    }\n",
       "\n",
       "    .dataframe thead th {\n",
       "        text-align: right;\n",
       "    }\n",
       "</style>\n",
       "<table border=\"1\" class=\"dataframe\">\n",
       "  <thead>\n",
       "    <tr style=\"text-align: right;\">\n",
       "      <th></th>\n",
       "      <th>SEQN</th>\n",
       "      <th>vigorous_activity</th>\n",
       "      <th>moderate_activity</th>\n",
       "      <th>hours_TV</th>\n",
       "      <th>hours_computer</th>\n",
       "    </tr>\n",
       "  </thead>\n",
       "  <tbody>\n",
       "    <tr>\n",
       "      <th>0</th>\n",
       "      <td>31128.0</td>\n",
       "      <td>NaN</td>\n",
       "      <td>NaN</td>\n",
       "      <td>4.0</td>\n",
       "      <td>5.397605e-79</td>\n",
       "    </tr>\n",
       "    <tr>\n",
       "      <th>1</th>\n",
       "      <td>31129.0</td>\n",
       "      <td>1.0</td>\n",
       "      <td>1.0</td>\n",
       "      <td>3.0</td>\n",
       "      <td>2.000000e+00</td>\n",
       "    </tr>\n",
       "    <tr>\n",
       "      <th>2</th>\n",
       "      <td>31130.0</td>\n",
       "      <td>2.0</td>\n",
       "      <td>2.0</td>\n",
       "      <td>2.0</td>\n",
       "      <td>6.000000e+00</td>\n",
       "    </tr>\n",
       "    <tr>\n",
       "      <th>3</th>\n",
       "      <td>31131.0</td>\n",
       "      <td>2.0</td>\n",
       "      <td>2.0</td>\n",
       "      <td>2.0</td>\n",
       "      <td>5.397605e-79</td>\n",
       "    </tr>\n",
       "    <tr>\n",
       "      <th>4</th>\n",
       "      <td>31132.0</td>\n",
       "      <td>2.0</td>\n",
       "      <td>1.0</td>\n",
       "      <td>2.0</td>\n",
       "      <td>5.397605e-79</td>\n",
       "    </tr>\n",
       "  </tbody>\n",
       "</table>\n",
       "</div>"
      ],
      "text/plain": [
       "      SEQN  vigorous_activity  moderate_activity  hours_TV  hours_computer\n",
       "0  31128.0                NaN                NaN       4.0    5.397605e-79\n",
       "1  31129.0                1.0                1.0       3.0    2.000000e+00\n",
       "2  31130.0                2.0                2.0       2.0    6.000000e+00\n",
       "3  31131.0                2.0                2.0       2.0    5.397605e-79\n",
       "4  31132.0                2.0                1.0       2.0    5.397605e-79"
      ]
     },
     "execution_count": 243,
     "metadata": {},
     "output_type": "execute_result"
    }
   ],
   "source": [
    "PAQ_D.head() # activity per week missing"
   ]
  },
  {
   "cell_type": "markdown",
   "metadata": {},
   "source": [
    "### Physical Functioning"
   ]
  },
  {
   "cell_type": "markdown",
   "metadata": {},
   "source": [
    "PFQ_D\n",
    "- PFQ049 - Limitations keeping you from working\n",
    "    - 1,2,7,9\n",
    "- PFQ059 - Physical, mental, emotional limitations\n",
    "    - 1,2,7,9\n",
    "- PFQ061A - Managing money difficulty\n",
    "    - 1 no difficulty to 4 unable to do, 5 don’t do it, 7, 9\n",
    "\n",
    "Many other activities I could include"
   ]
  },
  {
   "cell_type": "code",
   "execution_count": 244,
   "metadata": {},
   "outputs": [],
   "source": [
    "PFQ_2005_2006 = pd.read_csv('./Questionnaire/PFQ_D.csv')\n",
    "\n",
    "PFQ_D = PFQ_2005_2006.filter(['SEQN', 'PFQ049', 'PFQ059', 'PFQ061A'], axis=1)\n",
    "\n",
    "PFQ_cols = {'SEQN':'SEQN', 'PFQ049':'limit_work', 'PFQ059':'PME_limit', 'PFQ061A':'manage_$_difficult'}\n",
    "\n",
    "PFQ_D.columns = PFQ_D.columns.map(PFQ_cols)"
   ]
  },
  {
   "cell_type": "code",
   "execution_count": 245,
   "metadata": {},
   "outputs": [
    {
     "data": {
      "text/html": [
       "<div>\n",
       "<style scoped>\n",
       "    .dataframe tbody tr th:only-of-type {\n",
       "        vertical-align: middle;\n",
       "    }\n",
       "\n",
       "    .dataframe tbody tr th {\n",
       "        vertical-align: top;\n",
       "    }\n",
       "\n",
       "    .dataframe thead th {\n",
       "        text-align: right;\n",
       "    }\n",
       "</style>\n",
       "<table border=\"1\" class=\"dataframe\">\n",
       "  <thead>\n",
       "    <tr style=\"text-align: right;\">\n",
       "      <th></th>\n",
       "      <th>SEQN</th>\n",
       "      <th>limit_work</th>\n",
       "      <th>PME_limit</th>\n",
       "      <th>manage_$_difficult</th>\n",
       "    </tr>\n",
       "  </thead>\n",
       "  <tbody>\n",
       "    <tr>\n",
       "      <th>0</th>\n",
       "      <td>31128.0</td>\n",
       "      <td>NaN</td>\n",
       "      <td>NaN</td>\n",
       "      <td>NaN</td>\n",
       "    </tr>\n",
       "    <tr>\n",
       "      <th>1</th>\n",
       "      <td>31129.0</td>\n",
       "      <td>NaN</td>\n",
       "      <td>NaN</td>\n",
       "      <td>NaN</td>\n",
       "    </tr>\n",
       "    <tr>\n",
       "      <th>2</th>\n",
       "      <td>31130.0</td>\n",
       "      <td>2.0</td>\n",
       "      <td>2.0</td>\n",
       "      <td>1.0</td>\n",
       "    </tr>\n",
       "    <tr>\n",
       "      <th>3</th>\n",
       "      <td>31131.0</td>\n",
       "      <td>2.0</td>\n",
       "      <td>2.0</td>\n",
       "      <td>NaN</td>\n",
       "    </tr>\n",
       "    <tr>\n",
       "      <th>4</th>\n",
       "      <td>31132.0</td>\n",
       "      <td>2.0</td>\n",
       "      <td>2.0</td>\n",
       "      <td>1.0</td>\n",
       "    </tr>\n",
       "  </tbody>\n",
       "</table>\n",
       "</div>"
      ],
      "text/plain": [
       "      SEQN  limit_work  PME_limit  manage_$_difficult\n",
       "0  31128.0         NaN        NaN                 NaN\n",
       "1  31129.0         NaN        NaN                 NaN\n",
       "2  31130.0         2.0        2.0                 1.0\n",
       "3  31131.0         2.0        2.0                 NaN\n",
       "4  31132.0         2.0        2.0                 1.0"
      ]
     },
     "execution_count": 245,
     "metadata": {},
     "output_type": "execute_result"
    }
   ],
   "source": [
    "PFQ_D.head()"
   ]
  },
  {
   "cell_type": "markdown",
   "metadata": {},
   "source": [
    "### Sleeping Disorders"
   ]
  },
  {
   "cell_type": "markdown",
   "metadata": {},
   "source": [
    "variables:\n",
    "- SLQ060 : doc_sleeping_disorder - {Have you/Has SP} ever been told by a doctor or other health professional that {you have/s/he has} a sleep disorder?\n",
    "- SLD010H - How much sleep do you get (hours)?\n",
    "    - 2-12, 77, 99"
   ]
  },
  {
   "cell_type": "code",
   "execution_count": 246,
   "metadata": {},
   "outputs": [],
   "source": [
    "SLQ_2005_2006 = pd.read_csv('./Questionnaire/SLQ_D.csv')\n",
    "\n",
    "SLQ_D = SLQ_2005_2006.filter(['SEQN', 'SLQ060','SLD010H'], axis=1)\n",
    "SLQ_cols = {'SEQN':'SEQN', 'SLQ060': 'doc_sleeping_disorder','SLD010H':'hrs_sleep'}\n",
    "\n",
    "SLQ_D.columns = SLQ_D.columns.map(SLQ_cols)"
   ]
  },
  {
   "cell_type": "code",
   "execution_count": 247,
   "metadata": {},
   "outputs": [
    {
     "data": {
      "text/plain": [
       "Index(['SEQN', 'SLD010H', 'SLD020M', 'SLQ030', 'SLQ040', 'SLQ050', 'SLQ060',\n",
       "       'SLQ070A', 'SLQ070B', 'SLQ070C', 'SLQ070D', 'SLQ080', 'SLQ090',\n",
       "       'SLQ100', 'SLQ110', 'SLQ120', 'SLQ130', 'SLQ140', 'SLQ150', 'SLQ160',\n",
       "       'SLQ170', 'SLQ180', 'SLQ190', 'SLQ200', 'SLQ210', 'SLQ220', 'SLQ230',\n",
       "       'SLQ240'],\n",
       "      dtype='object')"
      ]
     },
     "execution_count": 247,
     "metadata": {},
     "output_type": "execute_result"
    }
   ],
   "source": [
    "SLQ_2005_2006.columns"
   ]
  },
  {
   "cell_type": "code",
   "execution_count": 248,
   "metadata": {},
   "outputs": [
    {
     "data": {
      "text/html": [
       "<div>\n",
       "<style scoped>\n",
       "    .dataframe tbody tr th:only-of-type {\n",
       "        vertical-align: middle;\n",
       "    }\n",
       "\n",
       "    .dataframe tbody tr th {\n",
       "        vertical-align: top;\n",
       "    }\n",
       "\n",
       "    .dataframe thead th {\n",
       "        text-align: right;\n",
       "    }\n",
       "</style>\n",
       "<table border=\"1\" class=\"dataframe\">\n",
       "  <thead>\n",
       "    <tr style=\"text-align: right;\">\n",
       "      <th></th>\n",
       "      <th>SEQN</th>\n",
       "      <th>doc_sleeping_disorder</th>\n",
       "      <th>hrs_sleep</th>\n",
       "    </tr>\n",
       "  </thead>\n",
       "  <tbody>\n",
       "    <tr>\n",
       "      <th>0</th>\n",
       "      <td>31130.0</td>\n",
       "      <td>2.0</td>\n",
       "      <td>8.0</td>\n",
       "    </tr>\n",
       "    <tr>\n",
       "      <th>1</th>\n",
       "      <td>31131.0</td>\n",
       "      <td>2.0</td>\n",
       "      <td>9.0</td>\n",
       "    </tr>\n",
       "    <tr>\n",
       "      <th>2</th>\n",
       "      <td>31132.0</td>\n",
       "      <td>2.0</td>\n",
       "      <td>7.0</td>\n",
       "    </tr>\n",
       "    <tr>\n",
       "      <th>3</th>\n",
       "      <td>31133.0</td>\n",
       "      <td>2.0</td>\n",
       "      <td>6.0</td>\n",
       "    </tr>\n",
       "    <tr>\n",
       "      <th>4</th>\n",
       "      <td>31134.0</td>\n",
       "      <td>1.0</td>\n",
       "      <td>7.0</td>\n",
       "    </tr>\n",
       "  </tbody>\n",
       "</table>\n",
       "</div>"
      ],
      "text/plain": [
       "      SEQN  doc_sleeping_disorder  hrs_sleep\n",
       "0  31130.0                    2.0        8.0\n",
       "1  31131.0                    2.0        9.0\n",
       "2  31132.0                    2.0        7.0\n",
       "3  31133.0                    2.0        6.0\n",
       "4  31134.0                    1.0        7.0"
      ]
     },
     "execution_count": 248,
     "metadata": {},
     "output_type": "execute_result"
    }
   ],
   "source": [
    "SLQ_D.head()"
   ]
  },
  {
   "cell_type": "markdown",
   "metadata": {},
   "source": [
    "### Smoking - Cigarette Use (SMQ_D)"
   ]
  },
  {
   "cell_type": "markdown",
   "metadata": {},
   "source": [
    "variables:\n",
    "- SMQ020 : smoker - These next questions are about cigarette smoking and other tobacco use. {Have you/Has SP} smoked at least 100 cigarettes in {your/his/her} entire life?"
   ]
  },
  {
   "cell_type": "code",
   "execution_count": 249,
   "metadata": {},
   "outputs": [],
   "source": [
    "SMQ_2005_2006 = pd.read_csv('./Questionnaire/SMQ_D.csv')\n",
    "\n",
    "SMQ_D = SMQ_2005_2006.filter(['SEQN', 'SMQ020'], axis=1)\n",
    "SMQ_cols = {'SEQN':'SEQN', 'SMQ020': 'smoker'}\n",
    "\n",
    "SMQ_D.columns = SMQ_D.columns.map(SMQ_cols)"
   ]
  },
  {
   "cell_type": "code",
   "execution_count": 250,
   "metadata": {},
   "outputs": [
    {
     "data": {
      "text/html": [
       "<div>\n",
       "<style scoped>\n",
       "    .dataframe tbody tr th:only-of-type {\n",
       "        vertical-align: middle;\n",
       "    }\n",
       "\n",
       "    .dataframe tbody tr th {\n",
       "        vertical-align: top;\n",
       "    }\n",
       "\n",
       "    .dataframe thead th {\n",
       "        text-align: right;\n",
       "    }\n",
       "</style>\n",
       "<table border=\"1\" class=\"dataframe\">\n",
       "  <thead>\n",
       "    <tr style=\"text-align: right;\">\n",
       "      <th></th>\n",
       "      <th>SEQN</th>\n",
       "      <th>smoker</th>\n",
       "    </tr>\n",
       "  </thead>\n",
       "  <tbody>\n",
       "    <tr>\n",
       "      <th>0</th>\n",
       "      <td>31129.0</td>\n",
       "      <td>NaN</td>\n",
       "    </tr>\n",
       "    <tr>\n",
       "      <th>1</th>\n",
       "      <td>31130.0</td>\n",
       "      <td>2.0</td>\n",
       "    </tr>\n",
       "    <tr>\n",
       "      <th>2</th>\n",
       "      <td>31131.0</td>\n",
       "      <td>2.0</td>\n",
       "    </tr>\n",
       "    <tr>\n",
       "      <th>3</th>\n",
       "      <td>31132.0</td>\n",
       "      <td>2.0</td>\n",
       "    </tr>\n",
       "    <tr>\n",
       "      <th>4</th>\n",
       "      <td>31133.0</td>\n",
       "      <td>NaN</td>\n",
       "    </tr>\n",
       "  </tbody>\n",
       "</table>\n",
       "</div>"
      ],
      "text/plain": [
       "      SEQN  smoker\n",
       "0  31129.0     NaN\n",
       "1  31130.0     2.0\n",
       "2  31131.0     2.0\n",
       "3  31132.0     2.0\n",
       "4  31133.0     NaN"
      ]
     },
     "execution_count": 250,
     "metadata": {},
     "output_type": "execute_result"
    }
   ],
   "source": [
    "SMQ_D.head()"
   ]
  },
  {
   "cell_type": "code",
   "execution_count": 251,
   "metadata": {},
   "outputs": [],
   "source": [
    "SMQRTU_2005_2006 = pd.read_csv('./Questionnaire/SMQRTU_D.csv')\n",
    "\n",
    "# 680 or 681\n",
    "SMQRTU_D = SMQRTU_2005_2006.filter(['SEQN', 'SMQ680'], axis=1)\n",
    "SMQ_cols = {'SEQN':'SEQN', 'SMQ680': 'smoked_5days'}\n",
    "\n",
    "SMQRTU_D.columns = SMQRTU_D.columns.map(SMQ_cols)"
   ]
  },
  {
   "cell_type": "code",
   "execution_count": 252,
   "metadata": {},
   "outputs": [
    {
     "data": {
      "text/html": [
       "<div>\n",
       "<style scoped>\n",
       "    .dataframe tbody tr th:only-of-type {\n",
       "        vertical-align: middle;\n",
       "    }\n",
       "\n",
       "    .dataframe tbody tr th {\n",
       "        vertical-align: top;\n",
       "    }\n",
       "\n",
       "    .dataframe thead th {\n",
       "        text-align: right;\n",
       "    }\n",
       "</style>\n",
       "<table border=\"1\" class=\"dataframe\">\n",
       "  <thead>\n",
       "    <tr style=\"text-align: right;\">\n",
       "      <th></th>\n",
       "      <th>SEQN</th>\n",
       "      <th>smoked_5days</th>\n",
       "    </tr>\n",
       "  </thead>\n",
       "  <tbody>\n",
       "    <tr>\n",
       "      <th>0</th>\n",
       "      <td>31129.0</td>\n",
       "      <td>2.0</td>\n",
       "    </tr>\n",
       "    <tr>\n",
       "      <th>1</th>\n",
       "      <td>31130.0</td>\n",
       "      <td>NaN</td>\n",
       "    </tr>\n",
       "    <tr>\n",
       "      <th>2</th>\n",
       "      <td>31131.0</td>\n",
       "      <td>2.0</td>\n",
       "    </tr>\n",
       "    <tr>\n",
       "      <th>3</th>\n",
       "      <td>31132.0</td>\n",
       "      <td>2.0</td>\n",
       "    </tr>\n",
       "    <tr>\n",
       "      <th>4</th>\n",
       "      <td>31133.0</td>\n",
       "      <td>2.0</td>\n",
       "    </tr>\n",
       "  </tbody>\n",
       "</table>\n",
       "</div>"
      ],
      "text/plain": [
       "      SEQN  smoked_5days\n",
       "0  31129.0           2.0\n",
       "1  31130.0           NaN\n",
       "2  31131.0           2.0\n",
       "3  31132.0           2.0\n",
       "4  31133.0           2.0"
      ]
     },
     "execution_count": 252,
     "metadata": {},
     "output_type": "execute_result"
    }
   ],
   "source": [
    "SMQRTU_D.head()"
   ]
  },
  {
   "cell_type": "markdown",
   "metadata": {},
   "source": [
    "### Sexual Behavior (SXQ_D)"
   ]
  },
  {
   "cell_type": "markdown",
   "metadata": {},
   "source": [
    "variables:\n",
    "- SXQ292 : sexual_orientation_M - Do you think of yourself as...1 Heterosexual or straight (attracted to women), 2 Homosexual or gay (attracted to men), 3 Bisexual (attracted to men and women), 4 Something else, 5 Not sure\n",
    "- SXQ294 : sexual_orientation_D - \"\"\n",
    "- SXQ753 : doc_DPV - Has a doctor or other health care professional ever told you that you had human papillomavirus or HPV? 1 yes, 2 no, 7 refuse, 9 don't know\n",
    "- SXD171 : lifetime_Demale_partners - In your lifetime, with how many women have you had any kind of sex?\n",
    "- SXD101 : lifetime_male_partners - In your lifetime, with how many men have you had any kind of sex?\n"
   ]
  },
  {
   "cell_type": "code",
   "execution_count": 253,
   "metadata": {},
   "outputs": [],
   "source": [
    "SXQ_2005_2006 = pd.read_csv('./Questionnaire/SXQ_D.csv')\n",
    "\n",
    "SXQ_D = SXQ_2005_2006.filter(['SEQN', 'SXQ292', 'SXQ294', 'SXD171', 'SXQ410','SXD101', 'SXQ753'], axis=1)\n",
    "SXQ_cols = {'SEQN':'SEQN', 'SXQ292' : 'sexual_orientation_M', 'SXQ294' : 'sexual_orientation_F', \n",
    "           'SXD171' : 'lifetime_female_partners', 'SXD101' : 'lifetime_male_partners', \n",
    "            'SXQ410':'lifetime_male_partners',\n",
    "            'SXQ753' : 'doc_HPV'}\n",
    "\n",
    "SXQ_D.columns = SXQ_D.columns.map(SXQ_cols)\n"
   ]
  },
  {
   "cell_type": "code",
   "execution_count": 254,
   "metadata": {},
   "outputs": [
    {
     "data": {
      "text/plain": [
       "Index(['SEQN', 'SXAISC', 'SXQ021', 'SXD031', 'SXQ101', 'SXQ350', 'SXQ130',\n",
       "       'SXD171', 'SXQ400', 'SXQ410', 'SXQ430', 'SXQ450', 'SXQ470', 'SXQ490',\n",
       "       'SXQ510', 'SXQ530', 'SXQ550', 'SXQ570', 'SXQ590', 'SXQ600', 'SXQ610',\n",
       "       'SXQ251', 'SXQ260', 'SXQ265', 'SXQ270', 'SXQ272', 'SXQ280', 'SXQ292',\n",
       "       'SXQ294'],\n",
       "      dtype='object')"
      ]
     },
     "execution_count": 254,
     "metadata": {},
     "output_type": "execute_result"
    }
   ],
   "source": [
    "SXQ_2005_2006.columns"
   ]
  },
  {
   "cell_type": "code",
   "execution_count": 255,
   "metadata": {},
   "outputs": [
    {
     "data": {
      "text/html": [
       "<div>\n",
       "<style scoped>\n",
       "    .dataframe tbody tr th:only-of-type {\n",
       "        vertical-align: middle;\n",
       "    }\n",
       "\n",
       "    .dataframe tbody tr th {\n",
       "        vertical-align: top;\n",
       "    }\n",
       "\n",
       "    .dataframe thead th {\n",
       "        text-align: right;\n",
       "    }\n",
       "</style>\n",
       "<table border=\"1\" class=\"dataframe\">\n",
       "  <thead>\n",
       "    <tr style=\"text-align: right;\">\n",
       "      <th></th>\n",
       "      <th>SEQN</th>\n",
       "      <th>sexual_orientation_M</th>\n",
       "      <th>sexual_orientation_F</th>\n",
       "      <th>lifetime_female_partners</th>\n",
       "      <th>lifetime_male_partners</th>\n",
       "    </tr>\n",
       "  </thead>\n",
       "  <tbody>\n",
       "    <tr>\n",
       "      <th>0</th>\n",
       "      <td>31131.0</td>\n",
       "      <td>NaN</td>\n",
       "      <td>1.0</td>\n",
       "      <td>NaN</td>\n",
       "      <td>NaN</td>\n",
       "    </tr>\n",
       "    <tr>\n",
       "      <th>1</th>\n",
       "      <td>31144.0</td>\n",
       "      <td>1.0</td>\n",
       "      <td>NaN</td>\n",
       "      <td>6.0</td>\n",
       "      <td>5.397605e-79</td>\n",
       "    </tr>\n",
       "    <tr>\n",
       "      <th>2</th>\n",
       "      <td>31151.0</td>\n",
       "      <td>NaN</td>\n",
       "      <td>1.0</td>\n",
       "      <td>NaN</td>\n",
       "      <td>NaN</td>\n",
       "    </tr>\n",
       "    <tr>\n",
       "      <th>3</th>\n",
       "      <td>31152.0</td>\n",
       "      <td>NaN</td>\n",
       "      <td>1.0</td>\n",
       "      <td>NaN</td>\n",
       "      <td>NaN</td>\n",
       "    </tr>\n",
       "    <tr>\n",
       "      <th>4</th>\n",
       "      <td>31153.0</td>\n",
       "      <td>NaN</td>\n",
       "      <td>4.0</td>\n",
       "      <td>NaN</td>\n",
       "      <td>NaN</td>\n",
       "    </tr>\n",
       "  </tbody>\n",
       "</table>\n",
       "</div>"
      ],
      "text/plain": [
       "      SEQN  sexual_orientation_M  sexual_orientation_F  \\\n",
       "0  31131.0                   NaN                   1.0   \n",
       "1  31144.0                   1.0                   NaN   \n",
       "2  31151.0                   NaN                   1.0   \n",
       "3  31152.0                   NaN                   1.0   \n",
       "4  31153.0                   NaN                   4.0   \n",
       "\n",
       "   lifetime_female_partners  lifetime_male_partners  \n",
       "0                       NaN                     NaN  \n",
       "1                       6.0            5.397605e-79  \n",
       "2                       NaN                     NaN  \n",
       "3                       NaN                     NaN  \n",
       "4                       NaN                     NaN  "
      ]
     },
     "execution_count": 255,
     "metadata": {},
     "output_type": "execute_result"
    }
   ],
   "source": [
    "SXQ_D.head()"
   ]
  },
  {
   "cell_type": "markdown",
   "metadata": {},
   "source": [
    "notes: may want to concat the # of partners and sexual orientation despite gender"
   ]
  },
  {
   "cell_type": "markdown",
   "metadata": {},
   "source": [
    "### Taste & Smell"
   ]
  },
  {
   "cell_type": "markdown",
   "metadata": {},
   "source": [
    "CSQ_D\n",
    "- CSQ010 - Had problem with smell past 12 months?\n",
    "    - 1,2,7,9\n",
    "- CSQ080 - Had problem with taste past 12 months?\n",
    "    - 1,2,7,9\n",
    "- CSQ200 - Persistent cold/flu last 12 months?\n",
    "    - “ “\n",
    "- CSQ204 - Frequent nasal congestion in past 12 mth"
   ]
  },
  {
   "cell_type": "code",
   "execution_count": 256,
   "metadata": {},
   "outputs": [],
   "source": [
    "# CSQ_2005_2006 = pd.read_csv('./Questionnaire/CSQ_D.csv')\n",
    "\n",
    "# CSQ_D = CSQ_2005_2006.filter(['SEQN', 'CSQ010','CSQ080','CSQ200','CSQ204'], axis=1)\n",
    "# CSQ_cols = {'SEQN':'SEQN', 'CSQ010': 'prob_smell','CSQ080':'prob_tatse',\n",
    "#             'CSQ200':'persistent_cold','CSQ204':'nasal_congestion'}\n",
    "\n",
    "# CSQ_D.columns = CSQ_D.columns.map(CSQ_cols)"
   ]
  },
  {
   "cell_type": "code",
   "execution_count": 257,
   "metadata": {},
   "outputs": [],
   "source": [
    "# CSQ_D.head()"
   ]
  },
  {
   "cell_type": "markdown",
   "metadata": {},
   "source": [
    "### Alcohol Use (ALQ_D)"
   ]
  },
  {
   "cell_type": "markdown",
   "metadata": {},
   "source": [
    "Variables: \n",
    "- ALQ151 : alcoholic - Was there ever a time or times in {your/SP's} life when {you/he/she} drank {DISPLAY NUMBER} or more drinks of any kind of alcoholic beverage almost every day? 1 yes, 2 no"
   ]
  },
  {
   "cell_type": "code",
   "execution_count": 258,
   "metadata": {},
   "outputs": [],
   "source": [
    "ALQ_2005_2006 = pd.read_csv('./Questionnaire/ALQ_D.csv')\n",
    "\n",
    "ALQ_D = ALQ_2005_2006.filter(['SEQN', 'ALQ150'], axis=1)\n",
    "ALQ_cols = {'SEQN':'SEQN', 'ALQ150': 'alcoholic'}\n",
    "\n",
    "ALQ_D.columns = ALQ_D.columns.map(ALQ_cols)"
   ]
  },
  {
   "cell_type": "code",
   "execution_count": 259,
   "metadata": {},
   "outputs": [
    {
     "data": {
      "text/html": [
       "<div>\n",
       "<style scoped>\n",
       "    .dataframe tbody tr th:only-of-type {\n",
       "        vertical-align: middle;\n",
       "    }\n",
       "\n",
       "    .dataframe tbody tr th {\n",
       "        vertical-align: top;\n",
       "    }\n",
       "\n",
       "    .dataframe thead th {\n",
       "        text-align: right;\n",
       "    }\n",
       "</style>\n",
       "<table border=\"1\" class=\"dataframe\">\n",
       "  <thead>\n",
       "    <tr style=\"text-align: right;\">\n",
       "      <th></th>\n",
       "      <th>SEQN</th>\n",
       "      <th>alcoholic</th>\n",
       "    </tr>\n",
       "  </thead>\n",
       "  <tbody>\n",
       "    <tr>\n",
       "      <th>0</th>\n",
       "      <td>31130.0</td>\n",
       "      <td>NaN</td>\n",
       "    </tr>\n",
       "    <tr>\n",
       "      <th>1</th>\n",
       "      <td>31131.0</td>\n",
       "      <td>2.0</td>\n",
       "    </tr>\n",
       "    <tr>\n",
       "      <th>2</th>\n",
       "      <td>31132.0</td>\n",
       "      <td>2.0</td>\n",
       "    </tr>\n",
       "    <tr>\n",
       "      <th>3</th>\n",
       "      <td>31134.0</td>\n",
       "      <td>2.0</td>\n",
       "    </tr>\n",
       "    <tr>\n",
       "      <th>4</th>\n",
       "      <td>31144.0</td>\n",
       "      <td>2.0</td>\n",
       "    </tr>\n",
       "  </tbody>\n",
       "</table>\n",
       "</div>"
      ],
      "text/plain": [
       "      SEQN  alcoholic\n",
       "0  31130.0        NaN\n",
       "1  31131.0        2.0\n",
       "2  31132.0        2.0\n",
       "3  31134.0        2.0\n",
       "4  31144.0        2.0"
      ]
     },
     "execution_count": 259,
     "metadata": {},
     "output_type": "execute_result"
    }
   ],
   "source": [
    "ALQ_D.head()"
   ]
  },
  {
   "cell_type": "markdown",
   "metadata": {},
   "source": [
    "### Weight History"
   ]
  },
  {
   "cell_type": "markdown",
   "metadata": {},
   "source": [
    "WHQ_D\n",
    "- WHQ030 - How do you consider your weight\n",
    "    - 1 - Overweight\n",
    "    - 2 - Underweight,\n",
    "    - 3 - About the right weight?\n",
    "    - 7 - Refused, 9 - Don’t Know\n",
    "- WHQ070 - Tried to lose weight in past year\n",
    "    - 1,2,7,9\n"
   ]
  },
  {
   "cell_type": "code",
   "execution_count": 260,
   "metadata": {},
   "outputs": [],
   "source": [
    "WHQ_2005_2006 = pd.read_csv('./Questionnaire/WHQ_D.csv')\n",
    "\n",
    "WHQ_D = WHQ_2005_2006.filter(['SEQN', 'WHQ030','WHQ070'], axis=1)\n",
    "WHQ_cols = {'SEQN':'SEQN', 'WHQ030':'consider_weight','WHQ070':'tried_lose_weight'}\n",
    "\n",
    "WHQ_D.columns = WHQ_D.columns.map(WHQ_cols)"
   ]
  },
  {
   "cell_type": "code",
   "execution_count": 261,
   "metadata": {},
   "outputs": [
    {
     "data": {
      "text/html": [
       "<div>\n",
       "<style scoped>\n",
       "    .dataframe tbody tr th:only-of-type {\n",
       "        vertical-align: middle;\n",
       "    }\n",
       "\n",
       "    .dataframe tbody tr th {\n",
       "        vertical-align: top;\n",
       "    }\n",
       "\n",
       "    .dataframe thead th {\n",
       "        text-align: right;\n",
       "    }\n",
       "</style>\n",
       "<table border=\"1\" class=\"dataframe\">\n",
       "  <thead>\n",
       "    <tr style=\"text-align: right;\">\n",
       "      <th></th>\n",
       "      <th>SEQN</th>\n",
       "      <th>consider_weight</th>\n",
       "      <th>tried_lose_weight</th>\n",
       "    </tr>\n",
       "  </thead>\n",
       "  <tbody>\n",
       "    <tr>\n",
       "      <th>0</th>\n",
       "      <td>31130.0</td>\n",
       "      <td>3.0</td>\n",
       "      <td>2.0</td>\n",
       "    </tr>\n",
       "    <tr>\n",
       "      <th>1</th>\n",
       "      <td>31131.0</td>\n",
       "      <td>1.0</td>\n",
       "      <td>2.0</td>\n",
       "    </tr>\n",
       "    <tr>\n",
       "      <th>2</th>\n",
       "      <td>31132.0</td>\n",
       "      <td>1.0</td>\n",
       "      <td>2.0</td>\n",
       "    </tr>\n",
       "    <tr>\n",
       "      <th>3</th>\n",
       "      <td>31133.0</td>\n",
       "      <td>2.0</td>\n",
       "      <td>2.0</td>\n",
       "    </tr>\n",
       "    <tr>\n",
       "      <th>4</th>\n",
       "      <td>31134.0</td>\n",
       "      <td>1.0</td>\n",
       "      <td>1.0</td>\n",
       "    </tr>\n",
       "  </tbody>\n",
       "</table>\n",
       "</div>"
      ],
      "text/plain": [
       "      SEQN  consider_weight  tried_lose_weight\n",
       "0  31130.0              3.0                2.0\n",
       "1  31131.0              1.0                2.0\n",
       "2  31132.0              1.0                2.0\n",
       "3  31133.0              2.0                2.0\n",
       "4  31134.0              1.0                1.0"
      ]
     },
     "execution_count": 261,
     "metadata": {},
     "output_type": "execute_result"
    }
   ],
   "source": [
    "WHQ_D.head()"
   ]
  },
  {
   "cell_type": "markdown",
   "metadata": {},
   "source": [
    "## Laboratory Data"
   ]
  },
  {
   "cell_type": "markdown",
   "metadata": {},
   "source": [
    "### Cholesterol - HDL (HDL_D)"
   ]
  },
  {
   "cell_type": "markdown",
   "metadata": {},
   "source": [
    "variables:\n",
    "- LBDHDD : HDL - Direct HDL-Cholesterol (mg/dL), range 10-173"
   ]
  },
  {
   "cell_type": "code",
   "execution_count": 262,
   "metadata": {},
   "outputs": [],
   "source": [
    "HDL_2005_2006 = pd.read_csv('./Laboratory/HDL_D.csv')\n",
    "\n",
    "HDL_D = HDL_2005_2006.filter(['SEQN', 'LBDHDD'], axis=1)\n",
    "HDL_cols = {'SEQN':'SEQN', 'LBDHDD': 'HDL'}\n",
    "\n",
    "HDL_D.columns = HDL_D.columns.map(HDL_cols)"
   ]
  },
  {
   "cell_type": "code",
   "execution_count": 263,
   "metadata": {},
   "outputs": [
    {
     "data": {
      "text/html": [
       "<div>\n",
       "<style scoped>\n",
       "    .dataframe tbody tr th:only-of-type {\n",
       "        vertical-align: middle;\n",
       "    }\n",
       "\n",
       "    .dataframe tbody tr th {\n",
       "        vertical-align: top;\n",
       "    }\n",
       "\n",
       "    .dataframe thead th {\n",
       "        text-align: right;\n",
       "    }\n",
       "</style>\n",
       "<table border=\"1\" class=\"dataframe\">\n",
       "  <thead>\n",
       "    <tr style=\"text-align: right;\">\n",
       "      <th></th>\n",
       "      <th>SEQN</th>\n",
       "      <th>HDL</th>\n",
       "    </tr>\n",
       "  </thead>\n",
       "  <tbody>\n",
       "    <tr>\n",
       "      <th>0</th>\n",
       "      <td>31128.0</td>\n",
       "      <td>55.0</td>\n",
       "    </tr>\n",
       "    <tr>\n",
       "      <th>1</th>\n",
       "      <td>31129.0</td>\n",
       "      <td>46.0</td>\n",
       "    </tr>\n",
       "    <tr>\n",
       "      <th>2</th>\n",
       "      <td>31130.0</td>\n",
       "      <td>NaN</td>\n",
       "    </tr>\n",
       "    <tr>\n",
       "      <th>3</th>\n",
       "      <td>31131.0</td>\n",
       "      <td>39.0</td>\n",
       "    </tr>\n",
       "    <tr>\n",
       "      <th>4</th>\n",
       "      <td>31132.0</td>\n",
       "      <td>59.0</td>\n",
       "    </tr>\n",
       "  </tbody>\n",
       "</table>\n",
       "</div>"
      ],
      "text/plain": [
       "      SEQN   HDL\n",
       "0  31128.0  55.0\n",
       "1  31129.0  46.0\n",
       "2  31130.0   NaN\n",
       "3  31131.0  39.0\n",
       "4  31132.0  59.0"
      ]
     },
     "execution_count": 263,
     "metadata": {},
     "output_type": "execute_result"
    }
   ],
   "source": [
    "HDL_D.head()"
   ]
  },
  {
   "cell_type": "markdown",
   "metadata": {},
   "source": [
    "### Cholesterol - LDL & Triglycerides (TRIGLY_D)"
   ]
  },
  {
   "cell_type": "markdown",
   "metadata": {},
   "source": [
    "variables:\n",
    "\n",
    "- LBDLDL - LBDLDL = ROUND(LBXTC-(LBXHDD+LBXTR/5) for LBXTR less than or equal to 400 mg/dL, and missing for LBXTR greater than 400 mg/dL, range 14-375\n",
    "- LBXTR : triglyceride - Triglyceride (mg/dL), range 13-4233"
   ]
  },
  {
   "cell_type": "code",
   "execution_count": 264,
   "metadata": {},
   "outputs": [],
   "source": [
    "TRIGLY_2005_2006 = pd.read_csv('./Laboratory/TRIGLY_D.csv')\n",
    "\n",
    "TRIGLY_D = TRIGLY_2005_2006.filter(['SEQN', 'LBDLDL', 'LBXTR'], axis=1)\n",
    "TRIGLY_cols = {'SEQN':'SEQN', 'LBDLDL':'LDL','LBXTR': 'triglyceride'}\n",
    "\n",
    "TRIGLY_D.columns = TRIGLY_D.columns.map(TRIGLY_cols)"
   ]
  },
  {
   "cell_type": "code",
   "execution_count": 265,
   "metadata": {},
   "outputs": [
    {
     "data": {
      "text/plain": [
       "Index(['SEQN', 'WTSAF2YR', 'LBXTR', 'LBDTRSI', 'LBDLDL', 'LBDLDLSI', 'LBXAPB',\n",
       "       'LBDAPBSI'],\n",
       "      dtype='object')"
      ]
     },
     "execution_count": 265,
     "metadata": {},
     "output_type": "execute_result"
    }
   ],
   "source": [
    "TRIGLY_2005_2006.columns"
   ]
  },
  {
   "cell_type": "code",
   "execution_count": 266,
   "metadata": {},
   "outputs": [
    {
     "data": {
      "text/html": [
       "<div>\n",
       "<style scoped>\n",
       "    .dataframe tbody tr th:only-of-type {\n",
       "        vertical-align: middle;\n",
       "    }\n",
       "\n",
       "    .dataframe tbody tr th {\n",
       "        vertical-align: top;\n",
       "    }\n",
       "\n",
       "    .dataframe thead th {\n",
       "        text-align: right;\n",
       "    }\n",
       "</style>\n",
       "<table border=\"1\" class=\"dataframe\">\n",
       "  <thead>\n",
       "    <tr style=\"text-align: right;\">\n",
       "      <th></th>\n",
       "      <th>SEQN</th>\n",
       "      <th>LDL</th>\n",
       "      <th>triglyceride</th>\n",
       "    </tr>\n",
       "  </thead>\n",
       "  <tbody>\n",
       "    <tr>\n",
       "      <th>0</th>\n",
       "      <td>31130.0</td>\n",
       "      <td>NaN</td>\n",
       "      <td>NaN</td>\n",
       "    </tr>\n",
       "    <tr>\n",
       "      <th>1</th>\n",
       "      <td>31131.0</td>\n",
       "      <td>49.0</td>\n",
       "      <td>86.0</td>\n",
       "    </tr>\n",
       "    <tr>\n",
       "      <th>2</th>\n",
       "      <td>31132.0</td>\n",
       "      <td>75.0</td>\n",
       "      <td>65.0</td>\n",
       "    </tr>\n",
       "    <tr>\n",
       "      <th>3</th>\n",
       "      <td>31133.0</td>\n",
       "      <td>81.0</td>\n",
       "      <td>61.0</td>\n",
       "    </tr>\n",
       "    <tr>\n",
       "      <th>4</th>\n",
       "      <td>31134.0</td>\n",
       "      <td>98.0</td>\n",
       "      <td>195.0</td>\n",
       "    </tr>\n",
       "  </tbody>\n",
       "</table>\n",
       "</div>"
      ],
      "text/plain": [
       "      SEQN   LDL  triglyceride\n",
       "0  31130.0   NaN           NaN\n",
       "1  31131.0  49.0          86.0\n",
       "2  31132.0  75.0          65.0\n",
       "3  31133.0  81.0          61.0\n",
       "4  31134.0  98.0         195.0"
      ]
     },
     "execution_count": 266,
     "metadata": {},
     "output_type": "execute_result"
    }
   ],
   "source": [
    "TRIGLY_D.head()"
   ]
  },
  {
   "cell_type": "markdown",
   "metadata": {},
   "source": [
    "### Cholesterol - Total (TCHOL_D)"
   ]
  },
  {
   "cell_type": "markdown",
   "metadata": {},
   "source": [
    "variables:\n",
    "- LBXTC : tot_cholesterol - Total Cholesterol( mg/dL), range 69-813"
   ]
  },
  {
   "cell_type": "code",
   "execution_count": 267,
   "metadata": {},
   "outputs": [],
   "source": [
    "TCHOL_2005_2006 = pd.read_csv('./Laboratory/TCHOL_D.csv')\n",
    "\n",
    "TCHOL_D = TCHOL_2005_2006.filter(['SEQN', 'LBXTC'], axis=1)\n",
    "TCHOL_cols = {'SEQN':'SEQN', 'LBXTC': 'tot_cholesterol'}\n",
    "\n",
    "TCHOL_D.columns = TCHOL_D.columns.map(TCHOL_cols)"
   ]
  },
  {
   "cell_type": "code",
   "execution_count": 268,
   "metadata": {},
   "outputs": [
    {
     "data": {
      "text/html": [
       "<div>\n",
       "<style scoped>\n",
       "    .dataframe tbody tr th:only-of-type {\n",
       "        vertical-align: middle;\n",
       "    }\n",
       "\n",
       "    .dataframe tbody tr th {\n",
       "        vertical-align: top;\n",
       "    }\n",
       "\n",
       "    .dataframe thead th {\n",
       "        text-align: right;\n",
       "    }\n",
       "</style>\n",
       "<table border=\"1\" class=\"dataframe\">\n",
       "  <thead>\n",
       "    <tr style=\"text-align: right;\">\n",
       "      <th></th>\n",
       "      <th>SEQN</th>\n",
       "      <th>tot_cholesterol</th>\n",
       "    </tr>\n",
       "  </thead>\n",
       "  <tbody>\n",
       "    <tr>\n",
       "      <th>0</th>\n",
       "      <td>31128.0</td>\n",
       "      <td>129.0</td>\n",
       "    </tr>\n",
       "    <tr>\n",
       "      <th>1</th>\n",
       "      <td>31129.0</td>\n",
       "      <td>170.0</td>\n",
       "    </tr>\n",
       "    <tr>\n",
       "      <th>2</th>\n",
       "      <td>31130.0</td>\n",
       "      <td>NaN</td>\n",
       "    </tr>\n",
       "    <tr>\n",
       "      <th>3</th>\n",
       "      <td>31131.0</td>\n",
       "      <td>105.0</td>\n",
       "    </tr>\n",
       "    <tr>\n",
       "      <th>4</th>\n",
       "      <td>31132.0</td>\n",
       "      <td>147.0</td>\n",
       "    </tr>\n",
       "  </tbody>\n",
       "</table>\n",
       "</div>"
      ],
      "text/plain": [
       "      SEQN  tot_cholesterol\n",
       "0  31128.0            129.0\n",
       "1  31129.0            170.0\n",
       "2  31130.0              NaN\n",
       "3  31131.0            105.0\n",
       "4  31132.0            147.0"
      ]
     },
     "execution_count": 268,
     "metadata": {},
     "output_type": "execute_result"
    }
   ],
   "source": [
    "TCHOL_D.head()"
   ]
  },
  {
   "cell_type": "markdown",
   "metadata": {},
   "source": [
    "### Glycohemoglobin (GHB_D)"
   ]
  },
  {
   "cell_type": "markdown",
   "metadata": {},
   "source": [
    "variables:\n",
    "- LBXGH - Glycohemoglobin (%), range 3.5-17.5"
   ]
  },
  {
   "cell_type": "code",
   "execution_count": 269,
   "metadata": {},
   "outputs": [],
   "source": [
    "GHB_2005_2006 = pd.read_csv('./Laboratory/GHB_D.csv')\n",
    "\n",
    "GHB_D = GHB_2005_2006.filter(['SEQN', 'LBXGH'], axis=1)\n",
    "GHB_cols = {'SEQN':'SEQN', 'LBXGH': 'glycohemoglobin'}\n",
    "\n",
    "GHB_D.columns = GHB_D.columns.map(GHB_cols)"
   ]
  },
  {
   "cell_type": "code",
   "execution_count": 270,
   "metadata": {},
   "outputs": [
    {
     "data": {
      "text/html": [
       "<div>\n",
       "<style scoped>\n",
       "    .dataframe tbody tr th:only-of-type {\n",
       "        vertical-align: middle;\n",
       "    }\n",
       "\n",
       "    .dataframe tbody tr th {\n",
       "        vertical-align: top;\n",
       "    }\n",
       "\n",
       "    .dataframe thead th {\n",
       "        text-align: right;\n",
       "    }\n",
       "</style>\n",
       "<table border=\"1\" class=\"dataframe\">\n",
       "  <thead>\n",
       "    <tr style=\"text-align: right;\">\n",
       "      <th></th>\n",
       "      <th>SEQN</th>\n",
       "      <th>glycohemoglobin</th>\n",
       "    </tr>\n",
       "  </thead>\n",
       "  <tbody>\n",
       "    <tr>\n",
       "      <th>0</th>\n",
       "      <td>31129.0</td>\n",
       "      <td>5.2</td>\n",
       "    </tr>\n",
       "    <tr>\n",
       "      <th>1</th>\n",
       "      <td>31130.0</td>\n",
       "      <td>NaN</td>\n",
       "    </tr>\n",
       "    <tr>\n",
       "      <th>2</th>\n",
       "      <td>31131.0</td>\n",
       "      <td>6.0</td>\n",
       "    </tr>\n",
       "    <tr>\n",
       "      <th>3</th>\n",
       "      <td>31132.0</td>\n",
       "      <td>7.1</td>\n",
       "    </tr>\n",
       "    <tr>\n",
       "      <th>4</th>\n",
       "      <td>31133.0</td>\n",
       "      <td>4.7</td>\n",
       "    </tr>\n",
       "  </tbody>\n",
       "</table>\n",
       "</div>"
      ],
      "text/plain": [
       "      SEQN  glycohemoglobin\n",
       "0  31129.0              5.2\n",
       "1  31130.0              NaN\n",
       "2  31131.0              6.0\n",
       "3  31132.0              7.1\n",
       "4  31133.0              4.7"
      ]
     },
     "execution_count": 270,
     "metadata": {},
     "output_type": "execute_result"
    }
   ],
   "source": [
    "GHB_D.head()"
   ]
  },
  {
   "cell_type": "markdown",
   "metadata": {},
   "source": [
    "### Herpes Simplex Virus Type-1 & Type-2 (HSV_D)"
   ]
  },
  {
   "cell_type": "markdown",
   "metadata": {},
   "source": [
    "variables:\n",
    "- LBXHE2 : herpes_2 - Herpes Simplex Virus Type 2"
   ]
  },
  {
   "cell_type": "code",
   "execution_count": 271,
   "metadata": {},
   "outputs": [],
   "source": [
    "HSV_2005_2006 = pd.read_csv('./Laboratory/HSV_D.csv')\n",
    "\n",
    "HSV_D = HSV_2005_2006.filter(['SEQN', 'LBXHE2'], axis=1)\n",
    "HSV_cols = {'SEQN':'SEQN', 'LBXHE2': 'herpes_2'}\n",
    "\n",
    "HSV_D.columns = HSV_D.columns.map(HSV_cols)"
   ]
  },
  {
   "cell_type": "code",
   "execution_count": 272,
   "metadata": {},
   "outputs": [
    {
     "data": {
      "text/html": [
       "<div>\n",
       "<style scoped>\n",
       "    .dataframe tbody tr th:only-of-type {\n",
       "        vertical-align: middle;\n",
       "    }\n",
       "\n",
       "    .dataframe tbody tr th {\n",
       "        vertical-align: top;\n",
       "    }\n",
       "\n",
       "    .dataframe thead th {\n",
       "        text-align: right;\n",
       "    }\n",
       "</style>\n",
       "<table border=\"1\" class=\"dataframe\">\n",
       "  <thead>\n",
       "    <tr style=\"text-align: right;\">\n",
       "      <th></th>\n",
       "      <th>SEQN</th>\n",
       "      <th>herpes_2</th>\n",
       "    </tr>\n",
       "  </thead>\n",
       "  <tbody>\n",
       "    <tr>\n",
       "      <th>0</th>\n",
       "      <td>31129.0</td>\n",
       "      <td>NaN</td>\n",
       "    </tr>\n",
       "    <tr>\n",
       "      <th>1</th>\n",
       "      <td>31131.0</td>\n",
       "      <td>1.0</td>\n",
       "    </tr>\n",
       "  </tbody>\n",
       "</table>\n",
       "</div>"
      ],
      "text/plain": [
       "      SEQN  herpes_2\n",
       "0  31129.0       NaN\n",
       "1  31131.0       1.0"
      ]
     },
     "execution_count": 272,
     "metadata": {},
     "output_type": "execute_result"
    }
   ],
   "source": [
    "HSV_D.head(2)"
   ]
  },
  {
   "cell_type": "markdown",
   "metadata": {},
   "source": [
    "### HIV Antibody Test (HIV_D)"
   ]
  },
  {
   "cell_type": "markdown",
   "metadata": {},
   "source": [
    "variables:\n",
    "- LBDHI : HIV - HIV antibody test result, 1 pos, 2, neg, 3 indeterminant"
   ]
  },
  {
   "cell_type": "code",
   "execution_count": 273,
   "metadata": {},
   "outputs": [],
   "source": [
    "HIV_2005_2006 = pd.read_csv('./Laboratory/HIV_D.csv')\n",
    "\n",
    "HIV_D = HIV_2005_2006.filter(['SEQN', 'LBDHI'], axis=1)\n",
    "HIV_cols = {'SEQN':'SEQN', 'LBDHI': 'HIV'}\n",
    "\n",
    "HIV_D.columns = HIV_D.columns.map(HIV_cols)"
   ]
  },
  {
   "cell_type": "code",
   "execution_count": 274,
   "metadata": {},
   "outputs": [
    {
     "data": {
      "text/html": [
       "<div>\n",
       "<style scoped>\n",
       "    .dataframe tbody tr th:only-of-type {\n",
       "        vertical-align: middle;\n",
       "    }\n",
       "\n",
       "    .dataframe tbody tr th {\n",
       "        vertical-align: top;\n",
       "    }\n",
       "\n",
       "    .dataframe thead th {\n",
       "        text-align: right;\n",
       "    }\n",
       "</style>\n",
       "<table border=\"1\" class=\"dataframe\">\n",
       "  <thead>\n",
       "    <tr style=\"text-align: right;\">\n",
       "      <th></th>\n",
       "      <th>SEQN</th>\n",
       "      <th>HIV</th>\n",
       "    </tr>\n",
       "  </thead>\n",
       "  <tbody>\n",
       "    <tr>\n",
       "      <th>0</th>\n",
       "      <td>31131.0</td>\n",
       "      <td>2.0</td>\n",
       "    </tr>\n",
       "    <tr>\n",
       "      <th>1</th>\n",
       "      <td>31139.0</td>\n",
       "      <td>2.0</td>\n",
       "    </tr>\n",
       "  </tbody>\n",
       "</table>\n",
       "</div>"
      ],
      "text/plain": [
       "      SEQN  HIV\n",
       "0  31131.0  2.0\n",
       "1  31139.0  2.0"
      ]
     },
     "execution_count": 274,
     "metadata": {},
     "output_type": "execute_result"
    }
   ],
   "source": [
    "HIV_D.head(2)"
   ]
  },
  {
   "cell_type": "markdown",
   "metadata": {},
   "source": [
    "### High-Sensitivity C-Reactive Protein (hs-CRP) (HSCRP_I) - NOT IN 2013-2014"
   ]
  },
  {
   "cell_type": "markdown",
   "metadata": {},
   "source": [
    "variables:\n",
    "- LBXHSCRP : CRP - HS C-Reactive Protein (mg/L), values 0-188, missing values are mostly below detection limit --> can be made to 0"
   ]
  },
  {
   "cell_type": "code",
   "execution_count": 275,
   "metadata": {},
   "outputs": [],
   "source": [
    "# HSCRP_2005_2006 = pd.read_csv('./Laboratory/HSCRP_D.csv')\n",
    "\n",
    "# HSCRP_I = HSCRP_2015_2016.filter(['SEQN', 'LBXHSCRP '], axis=1)\n",
    "# HSCRP_cols = {'SEQN':'SEQN', 'LBXHSCRP ': 'CRP'}\n",
    "\n",
    "# HSCRP_I.columns = HSCRP_I.columns.map(HSCRP_cols)"
   ]
  },
  {
   "cell_type": "markdown",
   "metadata": {},
   "source": [
    "### Serums"
   ]
  },
  {
   "cell_type": "markdown",
   "metadata": {},
   "source": [
    "CUSEZN_D\n",
    "- LBXSSE - Serum Selenium (ug/L) - cont range, missing\n",
    "- LBXSZN - Serum Zinc (ug/dL) - continuous range, missing\n",
    "- URXUCR - Urinary creatinine (mg/dL) - continuous range, missing"
   ]
  },
  {
   "cell_type": "code",
   "execution_count": 276,
   "metadata": {},
   "outputs": [],
   "source": [
    "#CUSEZN_2005_2006 = pd.read_csv('./Laboratory/CUSEZN_D.csv')\n",
    "\n",
    "# CUSEZN_D = CUSEZN_2005_2006.filter(['SEQN', 'LBXSSE','LBXSZN','URXUCR'], axis=1)\n",
    "# CUSEZN_cols = {'SEQN':'SEQN', 'LBXSSE': 'serum_selenium', 'LBXSZN':'serum_zinc','URXUCR':'serum_creatinine'}\n",
    "\n",
    "# CUSEZN_D.columns = CUSEZN_D.columns.map(CUSEZN_cols)"
   ]
  },
  {
   "cell_type": "code",
   "execution_count": 277,
   "metadata": {},
   "outputs": [],
   "source": [
    "# CUSEZN_D.head()"
   ]
  },
  {
   "cell_type": "markdown",
   "metadata": {},
   "source": [
    "### Folate"
   ]
  },
  {
   "cell_type": "markdown",
   "metadata": {},
   "source": [
    "FOLATE_D\n",
    "- LBDRFO - RBC folate (ng/mL) -  continuous range, missing\n",
    "\n",
    "FOLFMS_D\n",
    "- LBDFOT - Serum total folate (ng/mL) -  continuous range, missing"
   ]
  },
  {
   "cell_type": "code",
   "execution_count": 278,
   "metadata": {},
   "outputs": [],
   "source": [
    "FOLATE_2005_2006 = pd.read_csv('./Laboratory/FOLATE_D.csv')\n",
    "#FOLFMS_2005_2006 = pd.read_csv('./Laboratory/FOLFMS_D.csv')\n",
    "\n",
    "# LBDRBF or LBDRFO\n",
    "FOLATE_D = FOLATE_2005_2006.filter(['SEQN', 'LBDRBF','LBXRBF', 'LBDFOL','LBXFOL'], axis=1)\n",
    "FOLATE_cols = {'SEQN':'SEQN', 'LBDRBF':'rbc_folate','LBXRBF':'rbc_folate','LBDFOL':'serum_folate','LBXFOL':'serum_folate'}\n",
    "#FOLFMS_D = FOLFMS_2005_2006.filter(['SEQN', 'LBDFOT'], axis=1)\n",
    "#FOLFMS_cols = {'SEQN':'SEQN', 'LBDFOT':'serum_Dolate'}\n",
    "\n",
    "FOLATE_D.columns = FOLATE_D.columns.map(FOLATE_cols)\n",
    "#FOLFMS_D.columns = FOLFMS_D.columns.map(FOLFMS_cols)"
   ]
  },
  {
   "cell_type": "code",
   "execution_count": 279,
   "metadata": {},
   "outputs": [],
   "source": [
    "# FOLFMS_D.head()"
   ]
  },
  {
   "cell_type": "code",
   "execution_count": 280,
   "metadata": {},
   "outputs": [
    {
     "data": {
      "text/html": [
       "<div>\n",
       "<style scoped>\n",
       "    .dataframe tbody tr th:only-of-type {\n",
       "        vertical-align: middle;\n",
       "    }\n",
       "\n",
       "    .dataframe tbody tr th {\n",
       "        vertical-align: top;\n",
       "    }\n",
       "\n",
       "    .dataframe thead th {\n",
       "        text-align: right;\n",
       "    }\n",
       "</style>\n",
       "<table border=\"1\" class=\"dataframe\">\n",
       "  <thead>\n",
       "    <tr style=\"text-align: right;\">\n",
       "      <th></th>\n",
       "      <th>SEQN</th>\n",
       "      <th>rbc_folate</th>\n",
       "      <th>serum_folate</th>\n",
       "    </tr>\n",
       "  </thead>\n",
       "  <tbody>\n",
       "    <tr>\n",
       "      <th>0</th>\n",
       "      <td>31128.0</td>\n",
       "      <td>167.0</td>\n",
       "      <td>13.4</td>\n",
       "    </tr>\n",
       "    <tr>\n",
       "      <th>1</th>\n",
       "      <td>31129.0</td>\n",
       "      <td>271.0</td>\n",
       "      <td>16.2</td>\n",
       "    </tr>\n",
       "    <tr>\n",
       "      <th>2</th>\n",
       "      <td>31130.0</td>\n",
       "      <td>NaN</td>\n",
       "      <td>NaN</td>\n",
       "    </tr>\n",
       "    <tr>\n",
       "      <th>3</th>\n",
       "      <td>31131.0</td>\n",
       "      <td>272.0</td>\n",
       "      <td>9.8</td>\n",
       "    </tr>\n",
       "    <tr>\n",
       "      <th>4</th>\n",
       "      <td>31132.0</td>\n",
       "      <td>373.0</td>\n",
       "      <td>18.7</td>\n",
       "    </tr>\n",
       "  </tbody>\n",
       "</table>\n",
       "</div>"
      ],
      "text/plain": [
       "      SEQN  rbc_folate  serum_folate\n",
       "0  31128.0       167.0          13.4\n",
       "1  31129.0       271.0          16.2\n",
       "2  31130.0         NaN           NaN\n",
       "3  31131.0       272.0           9.8\n",
       "4  31132.0       373.0          18.7"
      ]
     },
     "execution_count": 280,
     "metadata": {},
     "output_type": "execute_result"
    }
   ],
   "source": [
    "FOLATE_D.head()"
   ]
  },
  {
   "cell_type": "markdown",
   "metadata": {},
   "source": [
    "### Fasting Glucose"
   ]
  },
  {
   "cell_type": "markdown",
   "metadata": {},
   "source": [
    "GLU_D\n",
    "- LBXGLU - Fasting Glucose (mg/dL) - 51 to 421, missing"
   ]
  },
  {
   "cell_type": "code",
   "execution_count": 281,
   "metadata": {},
   "outputs": [],
   "source": [
    "GLU_2005_2006 = pd.read_csv('./Laboratory/GLU_D.csv')\n",
    "\n",
    "GLU_D = GLU_2005_2006.filter(['SEQN', 'LBXGLU'], axis=1)\n",
    "GLU_cols = {'SEQN':'SEQN', 'LBXGLU': 'fasting_glucose'}\n",
    "\n",
    "GLU_D.columns = GLU_D.columns.map(GLU_cols)"
   ]
  },
  {
   "cell_type": "code",
   "execution_count": 282,
   "metadata": {},
   "outputs": [
    {
     "data": {
      "text/html": [
       "<div>\n",
       "<style scoped>\n",
       "    .dataframe tbody tr th:only-of-type {\n",
       "        vertical-align: middle;\n",
       "    }\n",
       "\n",
       "    .dataframe tbody tr th {\n",
       "        vertical-align: top;\n",
       "    }\n",
       "\n",
       "    .dataframe thead th {\n",
       "        text-align: right;\n",
       "    }\n",
       "</style>\n",
       "<table border=\"1\" class=\"dataframe\">\n",
       "  <thead>\n",
       "    <tr style=\"text-align: right;\">\n",
       "      <th></th>\n",
       "      <th>SEQN</th>\n",
       "      <th>fasting_glucose</th>\n",
       "    </tr>\n",
       "  </thead>\n",
       "  <tbody>\n",
       "    <tr>\n",
       "      <th>0</th>\n",
       "      <td>31130.0</td>\n",
       "      <td>NaN</td>\n",
       "    </tr>\n",
       "    <tr>\n",
       "      <th>1</th>\n",
       "      <td>31131.0</td>\n",
       "      <td>90.0</td>\n",
       "    </tr>\n",
       "    <tr>\n",
       "      <th>2</th>\n",
       "      <td>31132.0</td>\n",
       "      <td>157.0</td>\n",
       "    </tr>\n",
       "    <tr>\n",
       "      <th>3</th>\n",
       "      <td>31133.0</td>\n",
       "      <td>84.0</td>\n",
       "    </tr>\n",
       "    <tr>\n",
       "      <th>4</th>\n",
       "      <td>31134.0</td>\n",
       "      <td>100.0</td>\n",
       "    </tr>\n",
       "  </tbody>\n",
       "</table>\n",
       "</div>"
      ],
      "text/plain": [
       "      SEQN  fasting_glucose\n",
       "0  31130.0              NaN\n",
       "1  31131.0             90.0\n",
       "2  31132.0            157.0\n",
       "3  31133.0             84.0\n",
       "4  31134.0            100.0"
      ]
     },
     "execution_count": 282,
     "metadata": {},
     "output_type": "execute_result"
    }
   ],
   "source": [
    "GLU_D.head()"
   ]
  },
  {
   "cell_type": "markdown",
   "metadata": {},
   "source": [
    "### Vitamins B12 and D"
   ]
  },
  {
   "cell_type": "markdown",
   "metadata": {},
   "source": [
    "VITB12_D\n",
    "- LBDB12 - Vitamin B12(pg/mL) - range, missing\n",
    "\n",
    "VID_D\n",
    "- LBXVIDMS - 25OHD2+25OHD3 (nmol/L) - range, missing (vitamin D)"
   ]
  },
  {
   "cell_type": "code",
   "execution_count": 283,
   "metadata": {},
   "outputs": [],
   "source": [
    "# VITB12_2005_2006 = pd.read_csv('./Laboratory/VITB12_D.csv')\n",
    "#  # LBXB12 or LBDB12\n",
    "# VITB12_D = VITB12_2005_2006.filter(['SEQN', 'LBXB12'], axis=1)\n",
    "# VITB12_cols = {'SEQN':'SEQN', 'LBXB12': 'lab_VitB12'}\n",
    "\n",
    "# VITB12_D.columns = VITB12_D.columns.map(VITB12_cols)\n",
    "\n",
    "VITB12_2005_2006 = pd.read_csv('./Laboratory/B12_D.csv')\n",
    "VITB12_D = VITB12_2005_2006.filter(['SEQN', 'LBXB12'], axis=1)\n",
    "VITB12_cols = {'SEQN':'SEQN', 'LBXB12': 'lab_B12'}\n",
    "VITB12_D.columns = VITB12_D.columns.map(VITB12_cols)\n",
    "\n",
    "\n",
    "VID_2005_2006 = pd.read_csv('./Laboratory/VID_D.csv')\n",
    "\n",
    "VID_D = VID_2005_2006.filter(['SEQN', 'LBXVIDMS','LBDVIDMS'], axis=1)\n",
    "VID_cols = {'SEQN':'SEQN', 'LBXVIDMS': 'lab_VitD','LBDVIDMS':'lab_VitD'}\n",
    "\n",
    "VID_D.columns = VID_D.columns.map(VID_cols)\n"
   ]
  },
  {
   "cell_type": "code",
   "execution_count": 284,
   "metadata": {},
   "outputs": [
    {
     "data": {
      "text/html": [
       "<div>\n",
       "<style scoped>\n",
       "    .dataframe tbody tr th:only-of-type {\n",
       "        vertical-align: middle;\n",
       "    }\n",
       "\n",
       "    .dataframe tbody tr th {\n",
       "        vertical-align: top;\n",
       "    }\n",
       "\n",
       "    .dataframe thead th {\n",
       "        text-align: right;\n",
       "    }\n",
       "</style>\n",
       "<table border=\"1\" class=\"dataframe\">\n",
       "  <thead>\n",
       "    <tr style=\"text-align: right;\">\n",
       "      <th></th>\n",
       "      <th>SEQN</th>\n",
       "      <th>lab_B12</th>\n",
       "    </tr>\n",
       "  </thead>\n",
       "  <tbody>\n",
       "    <tr>\n",
       "      <th>0</th>\n",
       "      <td>31128.0</td>\n",
       "      <td>1190.0</td>\n",
       "    </tr>\n",
       "    <tr>\n",
       "      <th>1</th>\n",
       "      <td>31129.0</td>\n",
       "      <td>964.0</td>\n",
       "    </tr>\n",
       "    <tr>\n",
       "      <th>2</th>\n",
       "      <td>31130.0</td>\n",
       "      <td>NaN</td>\n",
       "    </tr>\n",
       "    <tr>\n",
       "      <th>3</th>\n",
       "      <td>31131.0</td>\n",
       "      <td>510.0</td>\n",
       "    </tr>\n",
       "    <tr>\n",
       "      <th>4</th>\n",
       "      <td>31132.0</td>\n",
       "      <td>752.0</td>\n",
       "    </tr>\n",
       "  </tbody>\n",
       "</table>\n",
       "</div>"
      ],
      "text/plain": [
       "      SEQN  lab_B12\n",
       "0  31128.0   1190.0\n",
       "1  31129.0    964.0\n",
       "2  31130.0      NaN\n",
       "3  31131.0    510.0\n",
       "4  31132.0    752.0"
      ]
     },
     "execution_count": 284,
     "metadata": {},
     "output_type": "execute_result"
    }
   ],
   "source": [
    "VITB12_D.head()"
   ]
  },
  {
   "cell_type": "code",
   "execution_count": 285,
   "metadata": {},
   "outputs": [
    {
     "data": {
      "text/html": [
       "<div>\n",
       "<style scoped>\n",
       "    .dataframe tbody tr th:only-of-type {\n",
       "        vertical-align: middle;\n",
       "    }\n",
       "\n",
       "    .dataframe tbody tr th {\n",
       "        vertical-align: top;\n",
       "    }\n",
       "\n",
       "    .dataframe thead th {\n",
       "        text-align: right;\n",
       "    }\n",
       "</style>\n",
       "<table border=\"1\" class=\"dataframe\">\n",
       "  <thead>\n",
       "    <tr style=\"text-align: right;\">\n",
       "      <th></th>\n",
       "      <th>SEQN</th>\n",
       "      <th>lab_VitD</th>\n",
       "    </tr>\n",
       "  </thead>\n",
       "  <tbody>\n",
       "    <tr>\n",
       "      <th>0</th>\n",
       "      <td>31128.0</td>\n",
       "      <td>32.6</td>\n",
       "    </tr>\n",
       "    <tr>\n",
       "      <th>1</th>\n",
       "      <td>31129.0</td>\n",
       "      <td>49.5</td>\n",
       "    </tr>\n",
       "    <tr>\n",
       "      <th>2</th>\n",
       "      <td>31130.0</td>\n",
       "      <td>NaN</td>\n",
       "    </tr>\n",
       "    <tr>\n",
       "      <th>3</th>\n",
       "      <td>31131.0</td>\n",
       "      <td>37.5</td>\n",
       "    </tr>\n",
       "    <tr>\n",
       "      <th>4</th>\n",
       "      <td>31132.0</td>\n",
       "      <td>73.8</td>\n",
       "    </tr>\n",
       "  </tbody>\n",
       "</table>\n",
       "</div>"
      ],
      "text/plain": [
       "      SEQN  lab_VitD\n",
       "0  31128.0      32.6\n",
       "1  31129.0      49.5\n",
       "2  31130.0       NaN\n",
       "3  31131.0      37.5\n",
       "4  31132.0      73.8"
      ]
     },
     "execution_count": 285,
     "metadata": {},
     "output_type": "execute_result"
    }
   ],
   "source": [
    "VID_D.head()"
   ]
  },
  {
   "cell_type": "markdown",
   "metadata": {},
   "source": [
    "## Examination Data"
   ]
  },
  {
   "cell_type": "markdown",
   "metadata": {},
   "source": [
    "### Blood Pressure (BPX_D)"
   ]
  },
  {
   "cell_type": "markdown",
   "metadata": {},
   "source": [
    "variables:\n",
    "- BPXSY1 : systolic_BP - Systolic: Blood pres (1st rdg) mm Hg\n",
    "- BPXDI1 : diastolic_BP - Diastolic: Blood pres (1st rdg) mm Hg\n",
    "- BPXPLS - 60 sec. pulse (30 sec. pulse * 2) - 0 to 180, missing"
   ]
  },
  {
   "cell_type": "code",
   "execution_count": 286,
   "metadata": {},
   "outputs": [],
   "source": [
    "BPX_2005_2006 = pd.read_csv('./Examination/BPX_D.csv')\n",
    "\n",
    "BPX_D = BPX_2005_2006.filter(['SEQN', 'BPXSY1', 'BPXDI1','BPXPLS'], axis=1)\n",
    "BPX_cols = {'SEQN':'SEQN', 'BPXSY1': 'systolic_BP', 'BPXDI1' : 'diastolic_BP','BPXPLS':'pulse'}\n",
    "\n",
    "BPX_D.columns = BPX_D.columns.map(BPX_cols)"
   ]
  },
  {
   "cell_type": "code",
   "execution_count": 287,
   "metadata": {},
   "outputs": [
    {
     "data": {
      "text/html": [
       "<div>\n",
       "<style scoped>\n",
       "    .dataframe tbody tr th:only-of-type {\n",
       "        vertical-align: middle;\n",
       "    }\n",
       "\n",
       "    .dataframe tbody tr th {\n",
       "        vertical-align: top;\n",
       "    }\n",
       "\n",
       "    .dataframe thead th {\n",
       "        text-align: right;\n",
       "    }\n",
       "</style>\n",
       "<table border=\"1\" class=\"dataframe\">\n",
       "  <thead>\n",
       "    <tr style=\"text-align: right;\">\n",
       "      <th></th>\n",
       "      <th>SEQN</th>\n",
       "      <th>systolic_BP</th>\n",
       "      <th>diastolic_BP</th>\n",
       "      <th>pulse</th>\n",
       "    </tr>\n",
       "  </thead>\n",
       "  <tbody>\n",
       "    <tr>\n",
       "      <th>0</th>\n",
       "      <td>31127.0</td>\n",
       "      <td>NaN</td>\n",
       "      <td>NaN</td>\n",
       "      <td>NaN</td>\n",
       "    </tr>\n",
       "    <tr>\n",
       "      <th>1</th>\n",
       "      <td>31128.0</td>\n",
       "      <td>100.0</td>\n",
       "      <td>62.0</td>\n",
       "      <td>84.0</td>\n",
       "    </tr>\n",
       "  </tbody>\n",
       "</table>\n",
       "</div>"
      ],
      "text/plain": [
       "      SEQN  systolic_BP  diastolic_BP  pulse\n",
       "0  31127.0          NaN           NaN    NaN\n",
       "1  31128.0        100.0          62.0   84.0"
      ]
     },
     "execution_count": 287,
     "metadata": {},
     "output_type": "execute_result"
    }
   ],
   "source": [
    "BPX_D.head(2)"
   ]
  },
  {
   "cell_type": "markdown",
   "metadata": {},
   "source": [
    "### Body Measures (BMX_D)"
   ]
  },
  {
   "cell_type": "markdown",
   "metadata": {},
   "source": [
    "variables:\n",
    "- BMXBMI : BMI - Body Mass Index (kg/m**2), range 12.1 to 82.9\n",
    "- BMXWAIST : waist_C - Waist Circumference (cm), 40.2 to 177.9"
   ]
  },
  {
   "cell_type": "code",
   "execution_count": 288,
   "metadata": {},
   "outputs": [],
   "source": [
    "BMX_2005_2006 = pd.read_csv('./Examination/BMX_D.csv')\n",
    "\n",
    "BMX_D = BMX_2005_2006.filter(['SEQN', 'BMXBMI', 'BMXWAIST'], axis=1)\n",
    "BMX_cols = {'SEQN':'SEQN', 'BMXBMI': 'BMI', 'BMXWAIST' : 'waist_C'}\n",
    "\n",
    "BMX_D.columns = BMX_D.columns.map(BMX_cols)"
   ]
  },
  {
   "cell_type": "code",
   "execution_count": 289,
   "metadata": {},
   "outputs": [
    {
     "data": {
      "text/html": [
       "<div>\n",
       "<style scoped>\n",
       "    .dataframe tbody tr th:only-of-type {\n",
       "        vertical-align: middle;\n",
       "    }\n",
       "\n",
       "    .dataframe tbody tr th {\n",
       "        vertical-align: top;\n",
       "    }\n",
       "\n",
       "    .dataframe thead th {\n",
       "        text-align: right;\n",
       "    }\n",
       "</style>\n",
       "<table border=\"1\" class=\"dataframe\">\n",
       "  <thead>\n",
       "    <tr style=\"text-align: right;\">\n",
       "      <th></th>\n",
       "      <th>SEQN</th>\n",
       "      <th>BMI</th>\n",
       "      <th>waist_C</th>\n",
       "    </tr>\n",
       "  </thead>\n",
       "  <tbody>\n",
       "    <tr>\n",
       "      <th>0</th>\n",
       "      <td>31127.0</td>\n",
       "      <td>NaN</td>\n",
       "      <td>NaN</td>\n",
       "    </tr>\n",
       "    <tr>\n",
       "      <th>1</th>\n",
       "      <td>31128.0</td>\n",
       "      <td>17.45</td>\n",
       "      <td>62.8</td>\n",
       "    </tr>\n",
       "  </tbody>\n",
       "</table>\n",
       "</div>"
      ],
      "text/plain": [
       "      SEQN    BMI  waist_C\n",
       "0  31127.0    NaN      NaN\n",
       "1  31128.0  17.45     62.8"
      ]
     },
     "execution_count": 289,
     "metadata": {},
     "output_type": "execute_result"
    }
   ],
   "source": [
    "BMX_D.head(2)"
   ]
  },
  {
   "cell_type": "markdown",
   "metadata": {},
   "source": [
    "### Dual-Energy X-ray Absorptiometry - Whole Body (DXX_D)"
   ]
  },
  {
   "cell_type": "markdown",
   "metadata": {},
   "source": [
    "variables:\n",
    "- DXDTOBMD : bone_mineral_density - Total Bone Mineral Density (g/cm^2), range 0.559 to 1.548"
   ]
  },
  {
   "cell_type": "code",
   "execution_count": 290,
   "metadata": {},
   "outputs": [],
   "source": [
    "# DXX_2005_2006 = pd.read_csv('./Examination/DXX_D.csv')\n",
    "\n",
    "# DXX_D = DXX_2005_2006.filter(['SEQN', 'DXDTOBMD'], axis=1)\n",
    "# DXX_cols = {'SEQN':'SEQN', 'DXDTOBMD': 'bone_mineral_density'}\n",
    "\n",
    "# DXX_D.columns = DXX_D.columns.map(DXX_cols)"
   ]
  },
  {
   "cell_type": "code",
   "execution_count": 291,
   "metadata": {},
   "outputs": [],
   "source": [
    "# DXX_D.head(2)"
   ]
  },
  {
   "cell_type": "markdown",
   "metadata": {},
   "source": [
    "### Oral Health"
   ]
  },
  {
   "cell_type": "markdown",
   "metadata": {},
   "source": [
    "OHXREF_D\n",
    "- OHAREC - Overall recommendation for care\n",
    "    - 1 - See a dentist immediately\n",
    "    - 2 - See a dentist within the next 2 weeks\t\n",
    "    - 3 - See a dentist at your earliest convenience\n",
    "    - 4 - Continue your regular routine care\n",
    "    - Missing\n"
   ]
  },
  {
   "cell_type": "code",
   "execution_count": 292,
   "metadata": {},
   "outputs": [],
   "source": [
    "# OHXREF_2005_2006 = pd.read_csv('./Examination/OHXREF_D.csv')\n",
    "\n",
    "# OHXREF_D = OHXREF_2005_2006.filter(['SEQN', 'OHAREC'], axis=1)\n",
    "# OHXREF_cols = {'SEQN':'SEQN', 'OHAREC': 'oral_rec'}\n",
    "\n",
    "# OHXREF_D.columns = OHXREF_D.columns.map(OHXREF_cols)"
   ]
  },
  {
   "cell_type": "code",
   "execution_count": 293,
   "metadata": {},
   "outputs": [],
   "source": [
    "# OHXREF_D.head()"
   ]
  },
  {
   "cell_type": "markdown",
   "metadata": {},
   "source": [
    "# Merging dataframes"
   ]
  },
  {
   "cell_type": "code",
   "execution_count": 294,
   "metadata": {},
   "outputs": [],
   "source": [
    "from functools import reduce\n",
    "\n",
    "# list of df\n",
    "# minus DLQ_D, CSQ_D, DXX_D, CUSEZN_D, FOLFMS_D, OHXREF_D, INQ_D,\n",
    "data_Drames = [DPQ_D, OSQ_D, DEMO_D, DIET_D, DIQ_D, DBQ_D, DUQ_D, HUQ_D, HIQ_D, \n",
    "               HOQ_D, ECQ_D, FSQ_D, MCQ_D, KIQ_U_D, OCQ_D, OHQ_D, VITB12_D,\n",
    "               PAQ_D, PFQ_D, SLQ_D, SMQ_D, SMQRTU_D, SXQ_D, ALQ_D, WHQ_D, \n",
    "               HDL_D, TRIGLY_D, TCHOL_D, GHB_D, HSV_D, HIV_D,\n",
    "               FOLATE_D, GLU_D, VID_D, BPX_D, BMX_D]\n",
    "\n",
    "df_2005_2006 = reduce(lambda  left,right: pd.merge(left,right,on=['SEQN'],\n",
    "                                            how='outer'), data_Drames)"
   ]
  },
  {
   "cell_type": "code",
   "execution_count": 295,
   "metadata": {},
   "outputs": [
    {
     "data": {
      "text/plain": [
       "0        0.0\n",
       "1        0.0\n",
       "2        0.0\n",
       "3        0.0\n",
       "4        0.0\n",
       "        ... \n",
       "10343    NaN\n",
       "10344    NaN\n",
       "10345    NaN\n",
       "10346    NaN\n",
       "10347    NaN\n",
       "Name: depressed, Length: 10348, dtype: float64"
      ]
     },
     "execution_count": 295,
     "metadata": {},
     "output_type": "execute_result"
    }
   ],
   "source": [
    "df_2005_2006.depressed"
   ]
  },
  {
   "cell_type": "code",
   "execution_count": 296,
   "metadata": {},
   "outputs": [],
   "source": [
    "df_2005_2006.dropna(subset=['depressed'], inplace=True)"
   ]
  },
  {
   "cell_type": "code",
   "execution_count": 297,
   "metadata": {},
   "outputs": [
    {
     "data": {
      "text/plain": [
       "(4836, 98)"
      ]
     },
     "execution_count": 297,
     "metadata": {},
     "output_type": "execute_result"
    }
   ],
   "source": [
    "df_2005_2006.shape"
   ]
  },
  {
   "cell_type": "code",
   "execution_count": 298,
   "metadata": {},
   "outputs": [
    {
     "data": {
      "text/plain": [
       "Index(['SEQN', 'depressed', 'broken_hip', 'doc_osteoporosis', 'race_ethnicity',\n",
       "       'edu_level', '#_ppl_household', 'age', 'gender', 'annual_HI',\n",
       "       'marital_status', 'caffeine', 'special_diet', 'protein', 'carb',\n",
       "       'sugar', 'fiber', 'fat', 'diet_chol', 'VitB6', 'folate', 'VitB12',\n",
       "       'magnesium', 'iron', 'zinc', 'selenium', 'water', 'doc_diabetes',\n",
       "       'doc_prediabetes', 'how_healthy_diet', 'used_CMH', 'gen_health_cond',\n",
       "       'place_healthcare', 'healthcare_past_yr', 'health_insurance', '#_rooms',\n",
       "       'home_ownership', 'mom_smoked_preg', 'run_out_food', 'food_didnt_last',\n",
       "       'afford_balanced_meals', 'adults_skip_meals', 'relied_cheap_food',\n",
       "       'food_security_cat', 'food_stamps', 'WIC', 'doc_asthma',\n",
       "       'doc_overweight', 'doc_arthritis', 'doc_CHF', 'doc_CHD',\n",
       "       'doc_heart_attack', 'doc_stroke', 'doc_chronic_bronchitis',\n",
       "       'doc_liver_condition', 'doc_thyroid_problem', 'doc_cancer', 'anemia',\n",
       "       'cancer_type', 'doc_kidney', 'work_type', 'hrs_worked_week',\n",
       "       'embarassed_mouth', 'lab_B12', 'vigorous_activity', 'moderate_activity',\n",
       "       'hours_TV', 'hours_computer', 'limit_work', 'PME_limit',\n",
       "       'manage_$_difficult', 'doc_sleeping_disorder', 'hrs_sleep', 'smoker',\n",
       "       'smoked_5days', 'sexual_orientation_M', 'sexual_orientation_F',\n",
       "       'lifetime_female_partners', 'lifetime_male_partners', 'alcoholic',\n",
       "       'consider_weight', 'tried_lose_weight', 'HDL', 'LDL', 'triglyceride',\n",
       "       'tot_cholesterol', 'glycohemoglobin', 'herpes_2', 'HIV', 'rbc_folate',\n",
       "       'serum_folate', 'fasting_glucose', 'lab_VitD', 'systolic_BP',\n",
       "       'diastolic_BP', 'pulse', 'BMI', 'waist_C'],\n",
       "      dtype='object')"
      ]
     },
     "execution_count": 298,
     "metadata": {},
     "output_type": "execute_result"
    }
   ],
   "source": [
    "df_2005_2006.columns"
   ]
  },
  {
   "cell_type": "markdown",
   "metadata": {},
   "source": [
    "# Export 2005-2006 data"
   ]
  },
  {
   "cell_type": "code",
   "execution_count": 299,
   "metadata": {},
   "outputs": [],
   "source": [
    "df_2005_2006.to_csv('/Users/carolinesklaver/Desktop/Capstone/NHANES/data/csv_data/df_2005_2006_Dxt.csv', index=False)"
   ]
  },
  {
   "cell_type": "code",
   "execution_count": null,
   "metadata": {},
   "outputs": [],
   "source": []
  },
  {
   "cell_type": "code",
   "execution_count": null,
   "metadata": {},
   "outputs": [],
   "source": []
  }
 ],
 "metadata": {
  "kernelspec": {
   "display_name": "Python 3",
   "language": "python",
   "name": "python3"
  },
  "language_info": {
   "codemirror_mode": {
    "name": "ipython",
    "version": 3
   },
   "file_extension": ".py",
   "mimetype": "text/x-python",
   "name": "python",
   "nbconvert_exporter": "python",
   "pygments_lexer": "ipython3",
   "version": "3.7.6"
  }
 },
 "nbformat": 4,
 "nbformat_minor": 4
}
