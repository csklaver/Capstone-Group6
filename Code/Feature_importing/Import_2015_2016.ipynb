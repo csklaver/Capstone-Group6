{
 "cells": [
  {
   "cell_type": "code",
   "execution_count": 445,
   "metadata": {},
   "outputs": [],
   "source": [
    "import pandas as pd\n",
    "import numpy as np"
   ]
  },
  {
   "cell_type": "markdown",
   "metadata": {},
   "source": [
    "# 2015-2016 Data"
   ]
  },
  {
   "cell_type": "code",
   "execution_count": 446,
   "metadata": {},
   "outputs": [],
   "source": [
    "# 2015-2016\n",
    "path = '/Users/carolinesklaver/Desktop/Capstone/NHANES/data/csv_data/2015-2016'\n",
    "\n",
    "import os\n",
    "os.chdir(path)"
   ]
  },
  {
   "cell_type": "markdown",
   "metadata": {},
   "source": [
    "## PHQ-9 Survey - part of Questionnaire"
   ]
  },
  {
   "cell_type": "code",
   "execution_count": 447,
   "metadata": {},
   "outputs": [],
   "source": [
    "DPQ_2015_2016 = pd.read_csv('./Questionnaire/DPQ_I.csv')"
   ]
  },
  {
   "cell_type": "code",
   "execution_count": 448,
   "metadata": {},
   "outputs": [
    {
     "data": {
      "text/html": [
       "<div>\n",
       "<style scoped>\n",
       "    .dataframe tbody tr th:only-of-type {\n",
       "        vertical-align: middle;\n",
       "    }\n",
       "\n",
       "    .dataframe tbody tr th {\n",
       "        vertical-align: top;\n",
       "    }\n",
       "\n",
       "    .dataframe thead th {\n",
       "        text-align: right;\n",
       "    }\n",
       "</style>\n",
       "<table border=\"1\" class=\"dataframe\">\n",
       "  <thead>\n",
       "    <tr style=\"text-align: right;\">\n",
       "      <th></th>\n",
       "      <th>SEQN</th>\n",
       "      <th>DPQ010</th>\n",
       "      <th>DPQ020</th>\n",
       "      <th>DPQ030</th>\n",
       "      <th>DPQ040</th>\n",
       "      <th>DPQ050</th>\n",
       "      <th>DPQ060</th>\n",
       "      <th>DPQ070</th>\n",
       "      <th>DPQ080</th>\n",
       "      <th>DPQ090</th>\n",
       "      <th>DPQ100</th>\n",
       "    </tr>\n",
       "  </thead>\n",
       "  <tbody>\n",
       "    <tr>\n",
       "      <th>0</th>\n",
       "      <td>83732.0</td>\n",
       "      <td>5.397605e-79</td>\n",
       "      <td>5.397605e-79</td>\n",
       "      <td>5.397605e-79</td>\n",
       "      <td>1.000000e+00</td>\n",
       "      <td>5.397605e-79</td>\n",
       "      <td>5.397605e-79</td>\n",
       "      <td>5.397605e-79</td>\n",
       "      <td>5.397605e-79</td>\n",
       "      <td>5.397605e-79</td>\n",
       "      <td>5.397605e-79</td>\n",
       "    </tr>\n",
       "    <tr>\n",
       "      <th>1</th>\n",
       "      <td>83733.0</td>\n",
       "      <td>1.000000e+00</td>\n",
       "      <td>5.397605e-79</td>\n",
       "      <td>5.397605e-79</td>\n",
       "      <td>5.397605e-79</td>\n",
       "      <td>1.000000e+00</td>\n",
       "      <td>5.397605e-79</td>\n",
       "      <td>5.397605e-79</td>\n",
       "      <td>5.397605e-79</td>\n",
       "      <td>5.397605e-79</td>\n",
       "      <td>5.397605e-79</td>\n",
       "    </tr>\n",
       "    <tr>\n",
       "      <th>2</th>\n",
       "      <td>83734.0</td>\n",
       "      <td>5.397605e-79</td>\n",
       "      <td>5.397605e-79</td>\n",
       "      <td>5.397605e-79</td>\n",
       "      <td>1.000000e+00</td>\n",
       "      <td>5.397605e-79</td>\n",
       "      <td>5.397605e-79</td>\n",
       "      <td>5.397605e-79</td>\n",
       "      <td>5.397605e-79</td>\n",
       "      <td>5.397605e-79</td>\n",
       "      <td>1.000000e+00</td>\n",
       "    </tr>\n",
       "    <tr>\n",
       "      <th>3</th>\n",
       "      <td>83735.0</td>\n",
       "      <td>1.000000e+00</td>\n",
       "      <td>1.000000e+00</td>\n",
       "      <td>2.000000e+00</td>\n",
       "      <td>2.000000e+00</td>\n",
       "      <td>1.000000e+00</td>\n",
       "      <td>3.000000e+00</td>\n",
       "      <td>2.000000e+00</td>\n",
       "      <td>5.397605e-79</td>\n",
       "      <td>1.000000e+00</td>\n",
       "      <td>5.397605e-79</td>\n",
       "    </tr>\n",
       "    <tr>\n",
       "      <th>4</th>\n",
       "      <td>83736.0</td>\n",
       "      <td>1.000000e+00</td>\n",
       "      <td>1.000000e+00</td>\n",
       "      <td>1.000000e+00</td>\n",
       "      <td>1.000000e+00</td>\n",
       "      <td>3.000000e+00</td>\n",
       "      <td>5.397605e-79</td>\n",
       "      <td>1.000000e+00</td>\n",
       "      <td>5.397605e-79</td>\n",
       "      <td>5.397605e-79</td>\n",
       "      <td>5.397605e-79</td>\n",
       "    </tr>\n",
       "  </tbody>\n",
       "</table>\n",
       "</div>"
      ],
      "text/plain": [
       "      SEQN        DPQ010        DPQ020        DPQ030        DPQ040  \\\n",
       "0  83732.0  5.397605e-79  5.397605e-79  5.397605e-79  1.000000e+00   \n",
       "1  83733.0  1.000000e+00  5.397605e-79  5.397605e-79  5.397605e-79   \n",
       "2  83734.0  5.397605e-79  5.397605e-79  5.397605e-79  1.000000e+00   \n",
       "3  83735.0  1.000000e+00  1.000000e+00  2.000000e+00  2.000000e+00   \n",
       "4  83736.0  1.000000e+00  1.000000e+00  1.000000e+00  1.000000e+00   \n",
       "\n",
       "         DPQ050        DPQ060        DPQ070        DPQ080        DPQ090  \\\n",
       "0  5.397605e-79  5.397605e-79  5.397605e-79  5.397605e-79  5.397605e-79   \n",
       "1  1.000000e+00  5.397605e-79  5.397605e-79  5.397605e-79  5.397605e-79   \n",
       "2  5.397605e-79  5.397605e-79  5.397605e-79  5.397605e-79  5.397605e-79   \n",
       "3  1.000000e+00  3.000000e+00  2.000000e+00  5.397605e-79  1.000000e+00   \n",
       "4  3.000000e+00  5.397605e-79  1.000000e+00  5.397605e-79  5.397605e-79   \n",
       "\n",
       "         DPQ100  \n",
       "0  5.397605e-79  \n",
       "1  5.397605e-79  \n",
       "2  1.000000e+00  \n",
       "3  5.397605e-79  \n",
       "4  5.397605e-79  "
      ]
     },
     "execution_count": 448,
     "metadata": {},
     "output_type": "execute_result"
    }
   ],
   "source": [
    "DPQ_2015_2016.head()"
   ]
  },
  {
   "cell_type": "code",
   "execution_count": 449,
   "metadata": {},
   "outputs": [],
   "source": [
    "# drop final follow-up question\n",
    "DPQ_2015_2016.drop(['DPQ100'], axis=1, inplace=True)"
   ]
  },
  {
   "cell_type": "code",
   "execution_count": 450,
   "metadata": {},
   "outputs": [],
   "source": [
    "# values less than 1 are zero\n",
    "def set_zero(df):\n",
    "    df[df<1] = 0\n",
    "    \n",
    "set_zero(DPQ_2015_2016)"
   ]
  },
  {
   "cell_type": "code",
   "execution_count": 451,
   "metadata": {},
   "outputs": [],
   "source": [
    "# need to drop rows where not all col are complete\n",
    "DPQ_2015_2016.dropna(axis=0, how='any', thresh=None, subset=None, inplace=True)"
   ]
  },
  {
   "cell_type": "code",
   "execution_count": 452,
   "metadata": {},
   "outputs": [],
   "source": [
    "# take a sum across rows and save as new col\n",
    "DPQ_2015_2016['sum'] = DPQ_2015_2016.iloc[:,1:].sum(axis=1)"
   ]
  },
  {
   "cell_type": "code",
   "execution_count": 453,
   "metadata": {},
   "outputs": [],
   "source": [
    "# create new target label 'depressed' if sum is greater than 10 --> 1, otherwise 0\n",
    "DPQ_2015_2016.loc[DPQ_2015_2016['sum'] > 10, 'depressed'] = 1\n",
    "DPQ_2015_2016.loc[DPQ_2015_2016['sum'] <= 10, 'depressed'] = 0"
   ]
  },
  {
   "cell_type": "code",
   "execution_count": 454,
   "metadata": {},
   "outputs": [
    {
     "data": {
      "text/html": [
       "<div>\n",
       "<style scoped>\n",
       "    .dataframe tbody tr th:only-of-type {\n",
       "        vertical-align: middle;\n",
       "    }\n",
       "\n",
       "    .dataframe tbody tr th {\n",
       "        vertical-align: top;\n",
       "    }\n",
       "\n",
       "    .dataframe thead th {\n",
       "        text-align: right;\n",
       "    }\n",
       "</style>\n",
       "<table border=\"1\" class=\"dataframe\">\n",
       "  <thead>\n",
       "    <tr style=\"text-align: right;\">\n",
       "      <th></th>\n",
       "      <th>SEQN</th>\n",
       "      <th>DPQ010</th>\n",
       "      <th>DPQ020</th>\n",
       "      <th>DPQ030</th>\n",
       "      <th>DPQ040</th>\n",
       "      <th>DPQ050</th>\n",
       "      <th>DPQ060</th>\n",
       "      <th>DPQ070</th>\n",
       "      <th>DPQ080</th>\n",
       "      <th>DPQ090</th>\n",
       "      <th>sum</th>\n",
       "      <th>depressed</th>\n",
       "    </tr>\n",
       "  </thead>\n",
       "  <tbody>\n",
       "    <tr>\n",
       "      <th>0</th>\n",
       "      <td>83732.0</td>\n",
       "      <td>0.0</td>\n",
       "      <td>0.0</td>\n",
       "      <td>0.0</td>\n",
       "      <td>1.0</td>\n",
       "      <td>0.0</td>\n",
       "      <td>0.0</td>\n",
       "      <td>0.0</td>\n",
       "      <td>0.0</td>\n",
       "      <td>0.0</td>\n",
       "      <td>1.0</td>\n",
       "      <td>0.0</td>\n",
       "    </tr>\n",
       "    <tr>\n",
       "      <th>1</th>\n",
       "      <td>83733.0</td>\n",
       "      <td>1.0</td>\n",
       "      <td>0.0</td>\n",
       "      <td>0.0</td>\n",
       "      <td>0.0</td>\n",
       "      <td>1.0</td>\n",
       "      <td>0.0</td>\n",
       "      <td>0.0</td>\n",
       "      <td>0.0</td>\n",
       "      <td>0.0</td>\n",
       "      <td>2.0</td>\n",
       "      <td>0.0</td>\n",
       "    </tr>\n",
       "    <tr>\n",
       "      <th>2</th>\n",
       "      <td>83734.0</td>\n",
       "      <td>0.0</td>\n",
       "      <td>0.0</td>\n",
       "      <td>0.0</td>\n",
       "      <td>1.0</td>\n",
       "      <td>0.0</td>\n",
       "      <td>0.0</td>\n",
       "      <td>0.0</td>\n",
       "      <td>0.0</td>\n",
       "      <td>0.0</td>\n",
       "      <td>1.0</td>\n",
       "      <td>0.0</td>\n",
       "    </tr>\n",
       "    <tr>\n",
       "      <th>3</th>\n",
       "      <td>83735.0</td>\n",
       "      <td>1.0</td>\n",
       "      <td>1.0</td>\n",
       "      <td>2.0</td>\n",
       "      <td>2.0</td>\n",
       "      <td>1.0</td>\n",
       "      <td>3.0</td>\n",
       "      <td>2.0</td>\n",
       "      <td>0.0</td>\n",
       "      <td>1.0</td>\n",
       "      <td>13.0</td>\n",
       "      <td>1.0</td>\n",
       "    </tr>\n",
       "    <tr>\n",
       "      <th>4</th>\n",
       "      <td>83736.0</td>\n",
       "      <td>1.0</td>\n",
       "      <td>1.0</td>\n",
       "      <td>1.0</td>\n",
       "      <td>1.0</td>\n",
       "      <td>3.0</td>\n",
       "      <td>0.0</td>\n",
       "      <td>1.0</td>\n",
       "      <td>0.0</td>\n",
       "      <td>0.0</td>\n",
       "      <td>8.0</td>\n",
       "      <td>0.0</td>\n",
       "    </tr>\n",
       "  </tbody>\n",
       "</table>\n",
       "</div>"
      ],
      "text/plain": [
       "      SEQN  DPQ010  DPQ020  DPQ030  DPQ040  DPQ050  DPQ060  DPQ070  DPQ080  \\\n",
       "0  83732.0     0.0     0.0     0.0     1.0     0.0     0.0     0.0     0.0   \n",
       "1  83733.0     1.0     0.0     0.0     0.0     1.0     0.0     0.0     0.0   \n",
       "2  83734.0     0.0     0.0     0.0     1.0     0.0     0.0     0.0     0.0   \n",
       "3  83735.0     1.0     1.0     2.0     2.0     1.0     3.0     2.0     0.0   \n",
       "4  83736.0     1.0     1.0     1.0     1.0     3.0     0.0     1.0     0.0   \n",
       "\n",
       "   DPQ090   sum  depressed  \n",
       "0     0.0   1.0        0.0  \n",
       "1     0.0   2.0        0.0  \n",
       "2     0.0   1.0        0.0  \n",
       "3     1.0  13.0        1.0  \n",
       "4     0.0   8.0        0.0  "
      ]
     },
     "execution_count": 454,
     "metadata": {},
     "output_type": "execute_result"
    }
   ],
   "source": [
    "DPQ_2015_2016.head()"
   ]
  },
  {
   "cell_type": "code",
   "execution_count": 455,
   "metadata": {},
   "outputs": [
    {
     "data": {
      "text/plain": [
       "(5161, 12)"
      ]
     },
     "execution_count": 455,
     "metadata": {},
     "output_type": "execute_result"
    }
   ],
   "source": [
    "DPQ_2015_2016.shape"
   ]
  },
  {
   "cell_type": "code",
   "execution_count": 456,
   "metadata": {},
   "outputs": [],
   "source": [
    "DPQ_I = DPQ_2015_2016[['SEQN', 'depressed']]"
   ]
  },
  {
   "cell_type": "code",
   "execution_count": 457,
   "metadata": {},
   "outputs": [
    {
     "data": {
      "text/html": [
       "<div>\n",
       "<style scoped>\n",
       "    .dataframe tbody tr th:only-of-type {\n",
       "        vertical-align: middle;\n",
       "    }\n",
       "\n",
       "    .dataframe tbody tr th {\n",
       "        vertical-align: top;\n",
       "    }\n",
       "\n",
       "    .dataframe thead th {\n",
       "        text-align: right;\n",
       "    }\n",
       "</style>\n",
       "<table border=\"1\" class=\"dataframe\">\n",
       "  <thead>\n",
       "    <tr style=\"text-align: right;\">\n",
       "      <th></th>\n",
       "      <th>SEQN</th>\n",
       "      <th>depressed</th>\n",
       "    </tr>\n",
       "  </thead>\n",
       "  <tbody>\n",
       "    <tr>\n",
       "      <th>0</th>\n",
       "      <td>83732.0</td>\n",
       "      <td>0.0</td>\n",
       "    </tr>\n",
       "    <tr>\n",
       "      <th>1</th>\n",
       "      <td>83733.0</td>\n",
       "      <td>0.0</td>\n",
       "    </tr>\n",
       "    <tr>\n",
       "      <th>2</th>\n",
       "      <td>83734.0</td>\n",
       "      <td>0.0</td>\n",
       "    </tr>\n",
       "    <tr>\n",
       "      <th>3</th>\n",
       "      <td>83735.0</td>\n",
       "      <td>1.0</td>\n",
       "    </tr>\n",
       "    <tr>\n",
       "      <th>4</th>\n",
       "      <td>83736.0</td>\n",
       "      <td>0.0</td>\n",
       "    </tr>\n",
       "  </tbody>\n",
       "</table>\n",
       "</div>"
      ],
      "text/plain": [
       "      SEQN  depressed\n",
       "0  83732.0        0.0\n",
       "1  83733.0        0.0\n",
       "2  83734.0        0.0\n",
       "3  83735.0        1.0\n",
       "4  83736.0        0.0"
      ]
     },
     "execution_count": 457,
     "metadata": {},
     "output_type": "execute_result"
    }
   ],
   "source": [
    "DPQ_I.head()"
   ]
  },
  {
   "cell_type": "code",
   "execution_count": 458,
   "metadata": {},
   "outputs": [
    {
     "data": {
      "text/plain": [
       "352"
      ]
     },
     "execution_count": 458,
     "metadata": {},
     "output_type": "execute_result"
    }
   ],
   "source": [
    "len(DPQ_2015_2016[DPQ_2015_2016['depressed']==1])  # about 8% depressed = true"
   ]
  },
  {
   "cell_type": "markdown",
   "metadata": {},
   "source": [
    "## Demographic Data"
   ]
  },
  {
   "cell_type": "markdown",
   "metadata": {},
   "source": [
    "### Demographic Variables and Sample Weights (DEMO_I)"
   ]
  },
  {
   "cell_type": "code",
   "execution_count": 459,
   "metadata": {},
   "outputs": [],
   "source": [
    "# start with demographic data\n",
    "DEMO_2015_2016 = pd.read_csv('./Demographics/DEMO_I.csv')"
   ]
  },
  {
   "cell_type": "code",
   "execution_count": 460,
   "metadata": {},
   "outputs": [
    {
     "data": {
      "text/html": [
       "<div>\n",
       "<style scoped>\n",
       "    .dataframe tbody tr th:only-of-type {\n",
       "        vertical-align: middle;\n",
       "    }\n",
       "\n",
       "    .dataframe tbody tr th {\n",
       "        vertical-align: top;\n",
       "    }\n",
       "\n",
       "    .dataframe thead th {\n",
       "        text-align: right;\n",
       "    }\n",
       "</style>\n",
       "<table border=\"1\" class=\"dataframe\">\n",
       "  <thead>\n",
       "    <tr style=\"text-align: right;\">\n",
       "      <th></th>\n",
       "      <th>SEQN</th>\n",
       "      <th>SDDSRVYR</th>\n",
       "      <th>RIDSTATR</th>\n",
       "      <th>RIAGENDR</th>\n",
       "      <th>RIDAGEYR</th>\n",
       "      <th>RIDAGEMN</th>\n",
       "      <th>RIDRETH1</th>\n",
       "      <th>RIDRETH3</th>\n",
       "      <th>RIDEXMON</th>\n",
       "      <th>RIDEXAGM</th>\n",
       "      <th>...</th>\n",
       "      <th>DMDHREDU</th>\n",
       "      <th>DMDHRMAR</th>\n",
       "      <th>DMDHSEDU</th>\n",
       "      <th>WTINT2YR</th>\n",
       "      <th>WTMEC2YR</th>\n",
       "      <th>SDMVPSU</th>\n",
       "      <th>SDMVSTRA</th>\n",
       "      <th>INDHHIN2</th>\n",
       "      <th>INDFMIN2</th>\n",
       "      <th>INDFMPIR</th>\n",
       "    </tr>\n",
       "  </thead>\n",
       "  <tbody>\n",
       "    <tr>\n",
       "      <th>0</th>\n",
       "      <td>83732.0</td>\n",
       "      <td>9.0</td>\n",
       "      <td>2.0</td>\n",
       "      <td>1.0</td>\n",
       "      <td>62.0</td>\n",
       "      <td>NaN</td>\n",
       "      <td>3.0</td>\n",
       "      <td>3.0</td>\n",
       "      <td>1.0</td>\n",
       "      <td>NaN</td>\n",
       "      <td>...</td>\n",
       "      <td>5.0</td>\n",
       "      <td>1.0</td>\n",
       "      <td>3.0</td>\n",
       "      <td>134671.370419</td>\n",
       "      <td>135629.507405</td>\n",
       "      <td>1.0</td>\n",
       "      <td>125.0</td>\n",
       "      <td>10.0</td>\n",
       "      <td>10.0</td>\n",
       "      <td>4.39</td>\n",
       "    </tr>\n",
       "    <tr>\n",
       "      <th>1</th>\n",
       "      <td>83733.0</td>\n",
       "      <td>9.0</td>\n",
       "      <td>2.0</td>\n",
       "      <td>1.0</td>\n",
       "      <td>53.0</td>\n",
       "      <td>NaN</td>\n",
       "      <td>3.0</td>\n",
       "      <td>3.0</td>\n",
       "      <td>1.0</td>\n",
       "      <td>NaN</td>\n",
       "      <td>...</td>\n",
       "      <td>3.0</td>\n",
       "      <td>3.0</td>\n",
       "      <td>NaN</td>\n",
       "      <td>24328.560239</td>\n",
       "      <td>25282.425927</td>\n",
       "      <td>1.0</td>\n",
       "      <td>125.0</td>\n",
       "      <td>4.0</td>\n",
       "      <td>4.0</td>\n",
       "      <td>1.32</td>\n",
       "    </tr>\n",
       "    <tr>\n",
       "      <th>2</th>\n",
       "      <td>83734.0</td>\n",
       "      <td>9.0</td>\n",
       "      <td>2.0</td>\n",
       "      <td>1.0</td>\n",
       "      <td>78.0</td>\n",
       "      <td>NaN</td>\n",
       "      <td>3.0</td>\n",
       "      <td>3.0</td>\n",
       "      <td>2.0</td>\n",
       "      <td>NaN</td>\n",
       "      <td>...</td>\n",
       "      <td>3.0</td>\n",
       "      <td>1.0</td>\n",
       "      <td>3.0</td>\n",
       "      <td>12400.008522</td>\n",
       "      <td>12575.838818</td>\n",
       "      <td>1.0</td>\n",
       "      <td>131.0</td>\n",
       "      <td>5.0</td>\n",
       "      <td>5.0</td>\n",
       "      <td>1.51</td>\n",
       "    </tr>\n",
       "    <tr>\n",
       "      <th>3</th>\n",
       "      <td>83735.0</td>\n",
       "      <td>9.0</td>\n",
       "      <td>2.0</td>\n",
       "      <td>2.0</td>\n",
       "      <td>56.0</td>\n",
       "      <td>NaN</td>\n",
       "      <td>3.0</td>\n",
       "      <td>3.0</td>\n",
       "      <td>2.0</td>\n",
       "      <td>NaN</td>\n",
       "      <td>...</td>\n",
       "      <td>5.0</td>\n",
       "      <td>6.0</td>\n",
       "      <td>NaN</td>\n",
       "      <td>102717.995647</td>\n",
       "      <td>102078.634508</td>\n",
       "      <td>1.0</td>\n",
       "      <td>131.0</td>\n",
       "      <td>10.0</td>\n",
       "      <td>10.0</td>\n",
       "      <td>5.00</td>\n",
       "    </tr>\n",
       "    <tr>\n",
       "      <th>4</th>\n",
       "      <td>83736.0</td>\n",
       "      <td>9.0</td>\n",
       "      <td>2.0</td>\n",
       "      <td>2.0</td>\n",
       "      <td>42.0</td>\n",
       "      <td>NaN</td>\n",
       "      <td>4.0</td>\n",
       "      <td>4.0</td>\n",
       "      <td>2.0</td>\n",
       "      <td>NaN</td>\n",
       "      <td>...</td>\n",
       "      <td>4.0</td>\n",
       "      <td>3.0</td>\n",
       "      <td>NaN</td>\n",
       "      <td>17627.674984</td>\n",
       "      <td>18234.736219</td>\n",
       "      <td>2.0</td>\n",
       "      <td>126.0</td>\n",
       "      <td>7.0</td>\n",
       "      <td>7.0</td>\n",
       "      <td>1.23</td>\n",
       "    </tr>\n",
       "    <tr>\n",
       "      <th>5</th>\n",
       "      <td>83737.0</td>\n",
       "      <td>9.0</td>\n",
       "      <td>2.0</td>\n",
       "      <td>2.0</td>\n",
       "      <td>72.0</td>\n",
       "      <td>NaN</td>\n",
       "      <td>1.0</td>\n",
       "      <td>1.0</td>\n",
       "      <td>1.0</td>\n",
       "      <td>NaN</td>\n",
       "      <td>...</td>\n",
       "      <td>5.0</td>\n",
       "      <td>1.0</td>\n",
       "      <td>5.0</td>\n",
       "      <td>11252.311968</td>\n",
       "      <td>10878.684022</td>\n",
       "      <td>1.0</td>\n",
       "      <td>128.0</td>\n",
       "      <td>14.0</td>\n",
       "      <td>14.0</td>\n",
       "      <td>2.82</td>\n",
       "    </tr>\n",
       "    <tr>\n",
       "      <th>6</th>\n",
       "      <td>83738.0</td>\n",
       "      <td>9.0</td>\n",
       "      <td>2.0</td>\n",
       "      <td>2.0</td>\n",
       "      <td>11.0</td>\n",
       "      <td>NaN</td>\n",
       "      <td>1.0</td>\n",
       "      <td>1.0</td>\n",
       "      <td>1.0</td>\n",
       "      <td>141.0</td>\n",
       "      <td>...</td>\n",
       "      <td>1.0</td>\n",
       "      <td>2.0</td>\n",
       "      <td>NaN</td>\n",
       "      <td>9964.725426</td>\n",
       "      <td>9860.624532</td>\n",
       "      <td>1.0</td>\n",
       "      <td>120.0</td>\n",
       "      <td>6.0</td>\n",
       "      <td>6.0</td>\n",
       "      <td>1.18</td>\n",
       "    </tr>\n",
       "    <tr>\n",
       "      <th>7</th>\n",
       "      <td>83739.0</td>\n",
       "      <td>9.0</td>\n",
       "      <td>2.0</td>\n",
       "      <td>1.0</td>\n",
       "      <td>4.0</td>\n",
       "      <td>NaN</td>\n",
       "      <td>3.0</td>\n",
       "      <td>3.0</td>\n",
       "      <td>2.0</td>\n",
       "      <td>54.0</td>\n",
       "      <td>...</td>\n",
       "      <td>5.0</td>\n",
       "      <td>1.0</td>\n",
       "      <td>5.0</td>\n",
       "      <td>44749.889547</td>\n",
       "      <td>46173.307234</td>\n",
       "      <td>2.0</td>\n",
       "      <td>124.0</td>\n",
       "      <td>15.0</td>\n",
       "      <td>15.0</td>\n",
       "      <td>4.22</td>\n",
       "    </tr>\n",
       "    <tr>\n",
       "      <th>8</th>\n",
       "      <td>83740.0</td>\n",
       "      <td>9.0</td>\n",
       "      <td>2.0</td>\n",
       "      <td>1.0</td>\n",
       "      <td>1.0</td>\n",
       "      <td>13.0</td>\n",
       "      <td>2.0</td>\n",
       "      <td>2.0</td>\n",
       "      <td>2.0</td>\n",
       "      <td>14.0</td>\n",
       "      <td>...</td>\n",
       "      <td>9.0</td>\n",
       "      <td>5.0</td>\n",
       "      <td>NaN</td>\n",
       "      <td>9891.944044</td>\n",
       "      <td>10963.313710</td>\n",
       "      <td>1.0</td>\n",
       "      <td>119.0</td>\n",
       "      <td>77.0</td>\n",
       "      <td>77.0</td>\n",
       "      <td>NaN</td>\n",
       "    </tr>\n",
       "    <tr>\n",
       "      <th>9</th>\n",
       "      <td>83741.0</td>\n",
       "      <td>9.0</td>\n",
       "      <td>2.0</td>\n",
       "      <td>1.0</td>\n",
       "      <td>22.0</td>\n",
       "      <td>NaN</td>\n",
       "      <td>4.0</td>\n",
       "      <td>4.0</td>\n",
       "      <td>1.0</td>\n",
       "      <td>NaN</td>\n",
       "      <td>...</td>\n",
       "      <td>4.0</td>\n",
       "      <td>1.0</td>\n",
       "      <td>5.0</td>\n",
       "      <td>37043.087007</td>\n",
       "      <td>39353.307397</td>\n",
       "      <td>2.0</td>\n",
       "      <td>128.0</td>\n",
       "      <td>7.0</td>\n",
       "      <td>7.0</td>\n",
       "      <td>2.08</td>\n",
       "    </tr>\n",
       "  </tbody>\n",
       "</table>\n",
       "<p>10 rows × 47 columns</p>\n",
       "</div>"
      ],
      "text/plain": [
       "      SEQN  SDDSRVYR  RIDSTATR  RIAGENDR  RIDAGEYR  RIDAGEMN  RIDRETH1  \\\n",
       "0  83732.0       9.0       2.0       1.0      62.0       NaN       3.0   \n",
       "1  83733.0       9.0       2.0       1.0      53.0       NaN       3.0   \n",
       "2  83734.0       9.0       2.0       1.0      78.0       NaN       3.0   \n",
       "3  83735.0       9.0       2.0       2.0      56.0       NaN       3.0   \n",
       "4  83736.0       9.0       2.0       2.0      42.0       NaN       4.0   \n",
       "5  83737.0       9.0       2.0       2.0      72.0       NaN       1.0   \n",
       "6  83738.0       9.0       2.0       2.0      11.0       NaN       1.0   \n",
       "7  83739.0       9.0       2.0       1.0       4.0       NaN       3.0   \n",
       "8  83740.0       9.0       2.0       1.0       1.0      13.0       2.0   \n",
       "9  83741.0       9.0       2.0       1.0      22.0       NaN       4.0   \n",
       "\n",
       "   RIDRETH3  RIDEXMON  RIDEXAGM  ...  DMDHREDU  DMDHRMAR  DMDHSEDU  \\\n",
       "0       3.0       1.0       NaN  ...       5.0       1.0       3.0   \n",
       "1       3.0       1.0       NaN  ...       3.0       3.0       NaN   \n",
       "2       3.0       2.0       NaN  ...       3.0       1.0       3.0   \n",
       "3       3.0       2.0       NaN  ...       5.0       6.0       NaN   \n",
       "4       4.0       2.0       NaN  ...       4.0       3.0       NaN   \n",
       "5       1.0       1.0       NaN  ...       5.0       1.0       5.0   \n",
       "6       1.0       1.0     141.0  ...       1.0       2.0       NaN   \n",
       "7       3.0       2.0      54.0  ...       5.0       1.0       5.0   \n",
       "8       2.0       2.0      14.0  ...       9.0       5.0       NaN   \n",
       "9       4.0       1.0       NaN  ...       4.0       1.0       5.0   \n",
       "\n",
       "        WTINT2YR       WTMEC2YR  SDMVPSU  SDMVSTRA  INDHHIN2  INDFMIN2  \\\n",
       "0  134671.370419  135629.507405      1.0     125.0      10.0      10.0   \n",
       "1   24328.560239   25282.425927      1.0     125.0       4.0       4.0   \n",
       "2   12400.008522   12575.838818      1.0     131.0       5.0       5.0   \n",
       "3  102717.995647  102078.634508      1.0     131.0      10.0      10.0   \n",
       "4   17627.674984   18234.736219      2.0     126.0       7.0       7.0   \n",
       "5   11252.311968   10878.684022      1.0     128.0      14.0      14.0   \n",
       "6    9964.725426    9860.624532      1.0     120.0       6.0       6.0   \n",
       "7   44749.889547   46173.307234      2.0     124.0      15.0      15.0   \n",
       "8    9891.944044   10963.313710      1.0     119.0      77.0      77.0   \n",
       "9   37043.087007   39353.307397      2.0     128.0       7.0       7.0   \n",
       "\n",
       "   INDFMPIR  \n",
       "0      4.39  \n",
       "1      1.32  \n",
       "2      1.51  \n",
       "3      5.00  \n",
       "4      1.23  \n",
       "5      2.82  \n",
       "6      1.18  \n",
       "7      4.22  \n",
       "8       NaN  \n",
       "9      2.08  \n",
       "\n",
       "[10 rows x 47 columns]"
      ]
     },
     "execution_count": 460,
     "metadata": {},
     "output_type": "execute_result"
    }
   ],
   "source": [
    "DEMO_2015_2016.head(10)"
   ]
  },
  {
   "cell_type": "markdown",
   "metadata": {},
   "source": [
    "Demographics variables:\n",
    "- DMDBORN4: Due to the concerns of disclosure risk, starting in 2011, country of birth was recoded into two categories: 1) Born in 50 U.S. states or Washington, DC; and 2) Born in other countries, including U.S. territories.\n",
    "\n",
    "- DMDEDUC2: This variable is the highest grade or level of education completed by adults 20 years and older. The response categories are: less than 9th grade education, 9-11th grade education (includes 12th grade and no diploma), High school graduate/GED, some college or associates (AA) degree, and college graduate or higher.\n",
    "\n",
    "- DMDHHSIZ: This variable is the number of people in the participant’s household. The values for this variable range from 1 to 7. Due to disclosure concerns, households that are comprised of 7 or more people are included in the category that is labeled ‘7 or more’.\n",
    "\n",
    "- RIDAGEYR: Age in years, at the time of the screening interview, is reported for survey participants between the ages of 1 and 79 years of age. All responses of participants aged 80 years and older are coded as ‘80.’\n",
    "\n",
    "- RIAGENDR: Gender: male 1, female 2\n",
    "\n",
    "- INDHHIN2: Total household income (reported as a range value in dollars), range 1-15, 77 refused, 99 dont know\n",
    "\n",
    "- DMQMIL1Z: Served active duty in US Armed Forces, 1 yes, 0 no, 7 refuse, 9 dont know\n",
    "\n",
    "- DMDMARTL: Marital status - 1 Married, 2 widowed, 3 divorced, 4 separated, 5 never married, 6 living with partner, 77 refused\t\n"
   ]
  },
  {
   "cell_type": "code",
   "execution_count": 461,
   "metadata": {},
   "outputs": [],
   "source": [
    "# filter only relevant cols\n",
    "DEMO_I = DEMO_2015_2016.filter(['SEQN','RIDRETH1', 'DMDEDUC2', 'DMDHHSIZ', 'RIDAGEYR', 'RIAGENDR','INDHHIN2', \n",
    "                        'DMQMIL1Z', 'DMDMARTL'], axis=1)"
   ]
  },
  {
   "cell_type": "code",
   "execution_count": 462,
   "metadata": {},
   "outputs": [],
   "source": [
    "# rename col to be more useful\n",
    "demo_cols = {'SEQN': 'SEQN', 'RIDRETH1':'race_ethnicity', 'DMDEDUC2': 'edu_level', 'DMDHHSIZ': '#_ppl_household', \n",
    "               'RIDAGEYR': 'age', 'RIAGENDR': 'gender','INDHHIN2': 'annual_HI', \n",
    "                        'DMQMIL1Z': 'served_army', 'DMDMARTL':'marital_status'}\n",
    "\n",
    "DEMO_I.columns = DEMO_I.columns.map(demo_cols)"
   ]
  },
  {
   "cell_type": "code",
   "execution_count": 463,
   "metadata": {},
   "outputs": [
    {
     "data": {
      "text/html": [
       "<div>\n",
       "<style scoped>\n",
       "    .dataframe tbody tr th:only-of-type {\n",
       "        vertical-align: middle;\n",
       "    }\n",
       "\n",
       "    .dataframe tbody tr th {\n",
       "        vertical-align: top;\n",
       "    }\n",
       "\n",
       "    .dataframe thead th {\n",
       "        text-align: right;\n",
       "    }\n",
       "</style>\n",
       "<table border=\"1\" class=\"dataframe\">\n",
       "  <thead>\n",
       "    <tr style=\"text-align: right;\">\n",
       "      <th></th>\n",
       "      <th>SEQN</th>\n",
       "      <th>race_ethnicity</th>\n",
       "      <th>edu_level</th>\n",
       "      <th>#_ppl_household</th>\n",
       "      <th>age</th>\n",
       "      <th>gender</th>\n",
       "      <th>annual_HI</th>\n",
       "      <th>marital_status</th>\n",
       "    </tr>\n",
       "  </thead>\n",
       "  <tbody>\n",
       "    <tr>\n",
       "      <th>0</th>\n",
       "      <td>83732.0</td>\n",
       "      <td>3.0</td>\n",
       "      <td>5.0</td>\n",
       "      <td>2.0</td>\n",
       "      <td>62.0</td>\n",
       "      <td>1.0</td>\n",
       "      <td>10.0</td>\n",
       "      <td>1.0</td>\n",
       "    </tr>\n",
       "    <tr>\n",
       "      <th>1</th>\n",
       "      <td>83733.0</td>\n",
       "      <td>3.0</td>\n",
       "      <td>3.0</td>\n",
       "      <td>1.0</td>\n",
       "      <td>53.0</td>\n",
       "      <td>1.0</td>\n",
       "      <td>4.0</td>\n",
       "      <td>3.0</td>\n",
       "    </tr>\n",
       "    <tr>\n",
       "      <th>2</th>\n",
       "      <td>83734.0</td>\n",
       "      <td>3.0</td>\n",
       "      <td>3.0</td>\n",
       "      <td>2.0</td>\n",
       "      <td>78.0</td>\n",
       "      <td>1.0</td>\n",
       "      <td>5.0</td>\n",
       "      <td>1.0</td>\n",
       "    </tr>\n",
       "    <tr>\n",
       "      <th>3</th>\n",
       "      <td>83735.0</td>\n",
       "      <td>3.0</td>\n",
       "      <td>5.0</td>\n",
       "      <td>1.0</td>\n",
       "      <td>56.0</td>\n",
       "      <td>2.0</td>\n",
       "      <td>10.0</td>\n",
       "      <td>6.0</td>\n",
       "    </tr>\n",
       "    <tr>\n",
       "      <th>4</th>\n",
       "      <td>83736.0</td>\n",
       "      <td>4.0</td>\n",
       "      <td>4.0</td>\n",
       "      <td>5.0</td>\n",
       "      <td>42.0</td>\n",
       "      <td>2.0</td>\n",
       "      <td>7.0</td>\n",
       "      <td>3.0</td>\n",
       "    </tr>\n",
       "  </tbody>\n",
       "</table>\n",
       "</div>"
      ],
      "text/plain": [
       "      SEQN  race_ethnicity  edu_level  #_ppl_household   age  gender  \\\n",
       "0  83732.0             3.0        5.0              2.0  62.0     1.0   \n",
       "1  83733.0             3.0        3.0              1.0  53.0     1.0   \n",
       "2  83734.0             3.0        3.0              2.0  78.0     1.0   \n",
       "3  83735.0             3.0        5.0              1.0  56.0     2.0   \n",
       "4  83736.0             4.0        4.0              5.0  42.0     2.0   \n",
       "\n",
       "   annual_HI  marital_status  \n",
       "0       10.0             1.0  \n",
       "1        4.0             3.0  \n",
       "2        5.0             1.0  \n",
       "3       10.0             6.0  \n",
       "4        7.0             3.0  "
      ]
     },
     "execution_count": 463,
     "metadata": {},
     "output_type": "execute_result"
    }
   ],
   "source": [
    "DEMO_I.head()"
   ]
  },
  {
   "cell_type": "markdown",
   "metadata": {},
   "source": [
    "## Dietary Data"
   ]
  },
  {
   "cell_type": "markdown",
   "metadata": {},
   "source": [
    "### Dietary Interview - Total Nutrient Intakes, First Day (DR1TOT_I)"
   ]
  },
  {
   "cell_type": "code",
   "execution_count": 464,
   "metadata": {},
   "outputs": [],
   "source": [
    "DIET_2015_2016 = pd.read_csv('./Dietary/DR1TOT_I.csv')"
   ]
  },
  {
   "cell_type": "markdown",
   "metadata": {},
   "source": [
    "Dietary variables:\n",
    "- DR1TCAFF : caffeine - Caffeine (mg) range 0 to 2448\n",
    "- DRQSDIET - On special diet? - 1,2,9, missing\n",
    "- DR1TPROT - Protein (gm) - 0 to 869.49, missing\n",
    "- DR1TCARB - Carbohydrate (gm) - 8.67 to 1423.87, missing\n",
    "- DR1TSUGR - Total sugars (gm) - 0.13 to 1115.5, missing\n",
    "- DR1TFIBE - Dietary fiber (gm) - 0 to 136.6, missing\n",
    "- DR1TTFAT - Total fat (gm) - 0 to 548.38, missing\n",
    "- DR1TCHOL - Cholesterol (mg) - 0 to 3515, missing\n",
    "- DR1TVB6 - Vitamin B6 (mg)\n",
    "- DR1TFOLA - Total folate (mcg) - 0 to 3172, missing\n",
    "- DR1TVB12 - Vitamin B12 (mcg) - 0 to 110, missing\n",
    "- DR1TVD - Vitamin D (D2 + D3) (mcg) - 0 to 86.3, missing\n",
    "- DR1TMAGN - Magnesium (mg) - 0 2725, missing\n",
    "- DR1TIRON - Iron (mg) - 0 to 130, missing\n",
    "- DR1TZINC - Zinc (mg) - 0 to 116, missing\n",
    "- DR1TSELE - Selenium (mcg) - 0 to 986.5, missing\n",
    "- DR1_320Z - Total plain water drank yesterday (gm) - 0 13440, missing"
   ]
  },
  {
   "cell_type": "code",
   "execution_count": 465,
   "metadata": {},
   "outputs": [],
   "source": [
    "# filter only relevant cols\n",
    "DIET_I = DIET_2015_2016.filter(['SEQN', 'DR1TCAFF', 'DRQSDIET', 'DR1TPROT','DR1TCARB','DR1TSUGR','DR1TFIBE',\n",
    "                               'DR1TTFAT','DR1TCHOL','DR1TVB6','DR1TFOLA','DR1TVB12','DR1TVD',\n",
    "                               'DR1TMAGN','DR1TIRON','DR1TZINC','DR1TSELE','DR1_320Z'], axis=1)\n",
    "\n",
    "diet_cols = {'SEQN': 'SEQN', 'DR1TCAFF':'caffeine','DRQSDIET': 'special_diet', 'DR1TPROT':'protein',\n",
    "             'DR1TCARB':'carb','DR1TSUGR':'sugar','DR1TFIBE':'fiber',\n",
    "            'DR1TTFAT':'fat','DR1TCHOL':'diet_chol','DR1TVB6':'VitB6','DR1TFOLA':'folate',\n",
    "             'DR1TVB12':'VitB12','DR1TVD':'VitD', 'DR1TMAGN':'magnesium',\n",
    "             'DR1TIRON':'iron','DR1TZINC':'zinc','DR1TSELE':'selenium','DR1_320Z':'water'}\n",
    "\n",
    "DIET_I.columns = DIET_I.columns.map(diet_cols)"
   ]
  },
  {
   "cell_type": "code",
   "execution_count": 466,
   "metadata": {},
   "outputs": [
    {
     "data": {
      "text/html": [
       "<div>\n",
       "<style scoped>\n",
       "    .dataframe tbody tr th:only-of-type {\n",
       "        vertical-align: middle;\n",
       "    }\n",
       "\n",
       "    .dataframe tbody tr th {\n",
       "        vertical-align: top;\n",
       "    }\n",
       "\n",
       "    .dataframe thead th {\n",
       "        text-align: right;\n",
       "    }\n",
       "</style>\n",
       "<table border=\"1\" class=\"dataframe\">\n",
       "  <thead>\n",
       "    <tr style=\"text-align: right;\">\n",
       "      <th></th>\n",
       "      <th>SEQN</th>\n",
       "      <th>caffeine</th>\n",
       "      <th>special_diet</th>\n",
       "      <th>protein</th>\n",
       "      <th>carb</th>\n",
       "      <th>sugar</th>\n",
       "      <th>fiber</th>\n",
       "      <th>fat</th>\n",
       "      <th>diet_chol</th>\n",
       "      <th>VitB6</th>\n",
       "      <th>folate</th>\n",
       "      <th>VitB12</th>\n",
       "      <th>VitD</th>\n",
       "      <th>magnesium</th>\n",
       "      <th>iron</th>\n",
       "      <th>zinc</th>\n",
       "      <th>selenium</th>\n",
       "      <th>water</th>\n",
       "    </tr>\n",
       "  </thead>\n",
       "  <tbody>\n",
       "    <tr>\n",
       "      <th>0</th>\n",
       "      <td>83732.0</td>\n",
       "      <td>3.600000e+02</td>\n",
       "      <td>2.0</td>\n",
       "      <td>76.03</td>\n",
       "      <td>193.29</td>\n",
       "      <td>42.31</td>\n",
       "      <td>23.6</td>\n",
       "      <td>79.24</td>\n",
       "      <td>138.0</td>\n",
       "      <td>2.279</td>\n",
       "      <td>450.0</td>\n",
       "      <td>1.89</td>\n",
       "      <td>2.600000e+00</td>\n",
       "      <td>255.0</td>\n",
       "      <td>16.01</td>\n",
       "      <td>8.73</td>\n",
       "      <td>113.6</td>\n",
       "      <td>9.600000e+02</td>\n",
       "    </tr>\n",
       "    <tr>\n",
       "      <th>1</th>\n",
       "      <td>83733.0</td>\n",
       "      <td>1.920000e+02</td>\n",
       "      <td>2.0</td>\n",
       "      <td>62.36</td>\n",
       "      <td>356.85</td>\n",
       "      <td>180.84</td>\n",
       "      <td>7.3</td>\n",
       "      <td>77.91</td>\n",
       "      <td>407.0</td>\n",
       "      <td>1.823</td>\n",
       "      <td>478.0</td>\n",
       "      <td>2.92</td>\n",
       "      <td>4.600000e+00</td>\n",
       "      <td>262.0</td>\n",
       "      <td>11.01</td>\n",
       "      <td>4.82</td>\n",
       "      <td>89.9</td>\n",
       "      <td>5.070000e+02</td>\n",
       "    </tr>\n",
       "    <tr>\n",
       "      <th>2</th>\n",
       "      <td>83734.0</td>\n",
       "      <td>3.060000e+02</td>\n",
       "      <td>1.0</td>\n",
       "      <td>116.50</td>\n",
       "      <td>304.53</td>\n",
       "      <td>62.87</td>\n",
       "      <td>35.1</td>\n",
       "      <td>91.97</td>\n",
       "      <td>506.0</td>\n",
       "      <td>3.117</td>\n",
       "      <td>553.0</td>\n",
       "      <td>2.35</td>\n",
       "      <td>4.700000e+00</td>\n",
       "      <td>497.0</td>\n",
       "      <td>26.17</td>\n",
       "      <td>14.09</td>\n",
       "      <td>140.9</td>\n",
       "      <td>8.700000e+02</td>\n",
       "    </tr>\n",
       "    <tr>\n",
       "      <th>3</th>\n",
       "      <td>83735.0</td>\n",
       "      <td>2.480000e+02</td>\n",
       "      <td>2.0</td>\n",
       "      <td>70.38</td>\n",
       "      <td>157.99</td>\n",
       "      <td>54.77</td>\n",
       "      <td>14.0</td>\n",
       "      <td>49.23</td>\n",
       "      <td>138.0</td>\n",
       "      <td>1.259</td>\n",
       "      <td>175.0</td>\n",
       "      <td>3.08</td>\n",
       "      <td>6.900000e+00</td>\n",
       "      <td>318.0</td>\n",
       "      <td>9.07</td>\n",
       "      <td>7.59</td>\n",
       "      <td>104.5</td>\n",
       "      <td>1.800000e+02</td>\n",
       "    </tr>\n",
       "    <tr>\n",
       "      <th>4</th>\n",
       "      <td>83736.0</td>\n",
       "      <td>5.397605e-79</td>\n",
       "      <td>2.0</td>\n",
       "      <td>19.30</td>\n",
       "      <td>90.30</td>\n",
       "      <td>71.84</td>\n",
       "      <td>2.0</td>\n",
       "      <td>19.63</td>\n",
       "      <td>96.0</td>\n",
       "      <td>0.409</td>\n",
       "      <td>52.0</td>\n",
       "      <td>0.36</td>\n",
       "      <td>5.397605e-79</td>\n",
       "      <td>42.0</td>\n",
       "      <td>1.83</td>\n",
       "      <td>1.54</td>\n",
       "      <td>27.7</td>\n",
       "      <td>5.397605e-79</td>\n",
       "    </tr>\n",
       "  </tbody>\n",
       "</table>\n",
       "</div>"
      ],
      "text/plain": [
       "      SEQN      caffeine  special_diet  protein    carb   sugar  fiber    fat  \\\n",
       "0  83732.0  3.600000e+02           2.0    76.03  193.29   42.31   23.6  79.24   \n",
       "1  83733.0  1.920000e+02           2.0    62.36  356.85  180.84    7.3  77.91   \n",
       "2  83734.0  3.060000e+02           1.0   116.50  304.53   62.87   35.1  91.97   \n",
       "3  83735.0  2.480000e+02           2.0    70.38  157.99   54.77   14.0  49.23   \n",
       "4  83736.0  5.397605e-79           2.0    19.30   90.30   71.84    2.0  19.63   \n",
       "\n",
       "   diet_chol  VitB6  folate  VitB12          VitD  magnesium   iron   zinc  \\\n",
       "0      138.0  2.279   450.0    1.89  2.600000e+00      255.0  16.01   8.73   \n",
       "1      407.0  1.823   478.0    2.92  4.600000e+00      262.0  11.01   4.82   \n",
       "2      506.0  3.117   553.0    2.35  4.700000e+00      497.0  26.17  14.09   \n",
       "3      138.0  1.259   175.0    3.08  6.900000e+00      318.0   9.07   7.59   \n",
       "4       96.0  0.409    52.0    0.36  5.397605e-79       42.0   1.83   1.54   \n",
       "\n",
       "   selenium         water  \n",
       "0     113.6  9.600000e+02  \n",
       "1      89.9  5.070000e+02  \n",
       "2     140.9  8.700000e+02  \n",
       "3     104.5  1.800000e+02  \n",
       "4      27.7  5.397605e-79  "
      ]
     },
     "execution_count": 466,
     "metadata": {},
     "output_type": "execute_result"
    }
   ],
   "source": [
    "DIET_I.head()"
   ]
  },
  {
   "cell_type": "code",
   "execution_count": 467,
   "metadata": {},
   "outputs": [
    {
     "data": {
      "text/plain": [
       "18"
      ]
     },
     "execution_count": 467,
     "metadata": {},
     "output_type": "execute_result"
    }
   ],
   "source": [
    "len(DIET_I.columns)"
   ]
  },
  {
   "cell_type": "markdown",
   "metadata": {},
   "source": [
    "## Questionnaire Data"
   ]
  },
  {
   "cell_type": "markdown",
   "metadata": {},
   "source": [
    "### Diabetes"
   ]
  },
  {
   "cell_type": "markdown",
   "metadata": {},
   "source": [
    "variables\n",
    "- DIQ010 : doc_diabetes - {Have you/Has SP}} ever been told by a doctor or health professional that {you have/{he/she/SP} has} diabetes or sugar diabetes? 1 yes, 2 no, 3 boarderline\n",
    "- DIQ160 : doc_prediabetes - {Have you/Has SP} ever been told by a doctor or other health professional that {you have/SP has} any of the following: prediabetes, impaired fasting glucose, impaired glucose tolerance, borderline diabetes or that {your/her/his} blood sugar is higher than normal but not high enough to be called diabetes or sugar diabetes? 1 yes, 2 no"
   ]
  },
  {
   "cell_type": "code",
   "execution_count": 468,
   "metadata": {},
   "outputs": [],
   "source": [
    "DIQ_2015_2016 = pd.read_csv('./Questionnaire/DIQ_I.csv')"
   ]
  },
  {
   "cell_type": "code",
   "execution_count": 469,
   "metadata": {
    "scrolled": true
   },
   "outputs": [
    {
     "data": {
      "text/plain": [
       "Index(['SEQN', 'DIQ010', 'DID040', 'DIQ160', 'DIQ170', 'DIQ172', 'DIQ175A',\n",
       "       'DIQ175B', 'DIQ175C', 'DIQ175D', 'DIQ175E', 'DIQ175F', 'DIQ175G',\n",
       "       'DIQ175H', 'DIQ175I', 'DIQ175J', 'DIQ175K', 'DIQ175L', 'DIQ175M',\n",
       "       'DIQ175N', 'DIQ175O', 'DIQ175P', 'DIQ175Q', 'DIQ175R', 'DIQ175S',\n",
       "       'DIQ175T', 'DIQ175U', 'DIQ175V', 'DIQ175W', 'DIQ175X', 'DIQ180',\n",
       "       'DIQ050', 'DID060', 'DIQ060U', 'DIQ070', 'DIQ230', 'DIQ240', 'DID250',\n",
       "       'DID260', 'DIQ260U', 'DIQ275', 'DIQ280', 'DIQ291', 'DIQ300S', 'DIQ300D',\n",
       "       'DID310S', 'DID310D', 'DID320', 'DID330', 'DID341', 'DID350', 'DIQ350U',\n",
       "       'DIQ360', 'DIQ080'],\n",
       "      dtype='object')"
      ]
     },
     "execution_count": 469,
     "metadata": {},
     "output_type": "execute_result"
    }
   ],
   "source": [
    "DIQ_2015_2016.columns"
   ]
  },
  {
   "cell_type": "code",
   "execution_count": 470,
   "metadata": {},
   "outputs": [],
   "source": [
    "DIQ_I = DIQ_2015_2016.filter(['SEQN','DIQ010', 'DIQ160'], axis=1)"
   ]
  },
  {
   "cell_type": "code",
   "execution_count": 471,
   "metadata": {},
   "outputs": [],
   "source": [
    "# rename col to be more useful\n",
    "DIQ_cols = {'SEQN':'SEQN', 'DIQ010':'doc_diabetes', 'DIQ160': 'doc_prediabetes'}\n",
    "\n",
    "DIQ_I.columns = DIQ_I.columns.map(DIQ_cols)"
   ]
  },
  {
   "cell_type": "code",
   "execution_count": 472,
   "metadata": {},
   "outputs": [
    {
     "data": {
      "text/html": [
       "<div>\n",
       "<style scoped>\n",
       "    .dataframe tbody tr th:only-of-type {\n",
       "        vertical-align: middle;\n",
       "    }\n",
       "\n",
       "    .dataframe tbody tr th {\n",
       "        vertical-align: top;\n",
       "    }\n",
       "\n",
       "    .dataframe thead th {\n",
       "        text-align: right;\n",
       "    }\n",
       "</style>\n",
       "<table border=\"1\" class=\"dataframe\">\n",
       "  <thead>\n",
       "    <tr style=\"text-align: right;\">\n",
       "      <th></th>\n",
       "      <th>SEQN</th>\n",
       "      <th>doc_diabetes</th>\n",
       "      <th>doc_prediabetes</th>\n",
       "    </tr>\n",
       "  </thead>\n",
       "  <tbody>\n",
       "    <tr>\n",
       "      <th>0</th>\n",
       "      <td>83732.0</td>\n",
       "      <td>1.0</td>\n",
       "      <td>NaN</td>\n",
       "    </tr>\n",
       "    <tr>\n",
       "      <th>1</th>\n",
       "      <td>83733.0</td>\n",
       "      <td>2.0</td>\n",
       "      <td>2.0</td>\n",
       "    </tr>\n",
       "    <tr>\n",
       "      <th>2</th>\n",
       "      <td>83734.0</td>\n",
       "      <td>1.0</td>\n",
       "      <td>NaN</td>\n",
       "    </tr>\n",
       "    <tr>\n",
       "      <th>3</th>\n",
       "      <td>83735.0</td>\n",
       "      <td>2.0</td>\n",
       "      <td>1.0</td>\n",
       "    </tr>\n",
       "    <tr>\n",
       "      <th>4</th>\n",
       "      <td>83736.0</td>\n",
       "      <td>2.0</td>\n",
       "      <td>2.0</td>\n",
       "    </tr>\n",
       "  </tbody>\n",
       "</table>\n",
       "</div>"
      ],
      "text/plain": [
       "      SEQN  doc_diabetes  doc_prediabetes\n",
       "0  83732.0           1.0              NaN\n",
       "1  83733.0           2.0              2.0\n",
       "2  83734.0           1.0              NaN\n",
       "3  83735.0           2.0              1.0\n",
       "4  83736.0           2.0              2.0"
      ]
     },
     "execution_count": 472,
     "metadata": {},
     "output_type": "execute_result"
    }
   ],
   "source": [
    "DIQ_I.head()"
   ]
  },
  {
   "cell_type": "markdown",
   "metadata": {},
   "source": [
    "### Diet Questionnaire"
   ]
  },
  {
   "cell_type": "markdown",
   "metadata": {},
   "source": [
    "Variables:\n",
    "- CBQ505 : fast_food_12m - In the past 12 months, did you buy food from fast food or pizza places?\n",
    "- DBD895 : #meals_not_Iome - During the past 7 days, how many meals {did you/did SP} get that were prepared away from home in places such as restaurants, fast food places, food stands, grocery stores, or from vending machines?\n",
    "    - 0 None, 1 to 21 range, 5555 more than 21 meals per week, 7777 refused, 9999 dont know\n",
    "- DBD900 : #meals_fast_food - How many of those meals {did you/did SP} get from a fast-food or pizza place?\n",
    "- DBQ700 : how_Iealthy_diet - In general, how healthy is {your/his/her} overall diet? \n",
    "    - Excellent to Poor: 1-5"
   ]
  },
  {
   "cell_type": "code",
   "execution_count": 473,
   "metadata": {},
   "outputs": [],
   "source": [
    "DBQ_2015_2016 = pd.read_csv('./Questionnaire/DBQ_I.csv')"
   ]
  },
  {
   "cell_type": "code",
   "execution_count": 474,
   "metadata": {},
   "outputs": [
    {
     "data": {
      "text/plain": [
       "Index(['SEQN', 'DBQ010', 'DBD030', 'DBD041', 'DBD050', 'DBD055', 'DBD061',\n",
       "       'DBQ073A', 'DBQ073B', 'DBQ073C', 'DBQ073D', 'DBQ073E', 'DBQ073U',\n",
       "       'DBQ700', 'DBQ197', 'DBQ223A', 'DBQ223B', 'DBQ223C', 'DBQ223D',\n",
       "       'DBQ223E', 'DBQ223U', 'DBQ229', 'DBQ235A', 'DBQ235B', 'DBQ235C',\n",
       "       'DBQ301', 'DBQ330', 'DBQ360', 'DBQ370', 'DBD381', 'DBQ390', 'DBQ400',\n",
       "       'DBD411', 'DBQ421', 'DBQ424', 'DBD895', 'DBD900', 'DBD905', 'DBD910',\n",
       "       'CBQ596', 'CBQ606', 'CBQ611', 'CBQ505', 'CBQ535', 'CBQ540', 'CBQ545',\n",
       "       'CBQ550', 'CBQ552', 'CBQ580', 'CBQ585', 'CBQ590'],\n",
       "      dtype='object')"
      ]
     },
     "execution_count": 474,
     "metadata": {},
     "output_type": "execute_result"
    }
   ],
   "source": [
    "DBQ_2015_2016.columns"
   ]
  },
  {
   "cell_type": "code",
   "execution_count": 475,
   "metadata": {},
   "outputs": [],
   "source": [
    "DBQ_I = DBQ_2015_2016.filter(['SEQN','DBD900', 'DBQ700'], axis=1)"
   ]
  },
  {
   "cell_type": "code",
   "execution_count": 476,
   "metadata": {},
   "outputs": [],
   "source": [
    "# rename col to be more useful\n",
    "DBQ_cols = {'SEQN':'SEQN',\n",
    "                  'DBD900':'#meals_fast_food', 'DBQ700': 'how_healthy_diet'}\n",
    "\n",
    "DBQ_I.columns = DBQ_I.columns.map(DBQ_cols)"
   ]
  },
  {
   "cell_type": "code",
   "execution_count": 477,
   "metadata": {},
   "outputs": [
    {
     "data": {
      "text/html": [
       "<div>\n",
       "<style scoped>\n",
       "    .dataframe tbody tr th:only-of-type {\n",
       "        vertical-align: middle;\n",
       "    }\n",
       "\n",
       "    .dataframe tbody tr th {\n",
       "        vertical-align: top;\n",
       "    }\n",
       "\n",
       "    .dataframe thead th {\n",
       "        text-align: right;\n",
       "    }\n",
       "</style>\n",
       "<table border=\"1\" class=\"dataframe\">\n",
       "  <thead>\n",
       "    <tr style=\"text-align: right;\">\n",
       "      <th></th>\n",
       "      <th>SEQN</th>\n",
       "      <th>#meals_fast_food</th>\n",
       "      <th>how_healthy_diet</th>\n",
       "    </tr>\n",
       "  </thead>\n",
       "  <tbody>\n",
       "    <tr>\n",
       "      <th>0</th>\n",
       "      <td>83732.0</td>\n",
       "      <td>5.397605e-79</td>\n",
       "      <td>3.0</td>\n",
       "    </tr>\n",
       "    <tr>\n",
       "      <th>1</th>\n",
       "      <td>83733.0</td>\n",
       "      <td>NaN</td>\n",
       "      <td>1.0</td>\n",
       "    </tr>\n",
       "    <tr>\n",
       "      <th>2</th>\n",
       "      <td>83734.0</td>\n",
       "      <td>4.000000e+00</td>\n",
       "      <td>4.0</td>\n",
       "    </tr>\n",
       "    <tr>\n",
       "      <th>3</th>\n",
       "      <td>83735.0</td>\n",
       "      <td>1.000000e+00</td>\n",
       "      <td>4.0</td>\n",
       "    </tr>\n",
       "    <tr>\n",
       "      <th>4</th>\n",
       "      <td>83736.0</td>\n",
       "      <td>1.000000e+00</td>\n",
       "      <td>5.0</td>\n",
       "    </tr>\n",
       "  </tbody>\n",
       "</table>\n",
       "</div>"
      ],
      "text/plain": [
       "      SEQN  #meals_fast_food  how_healthy_diet\n",
       "0  83732.0      5.397605e-79               3.0\n",
       "1  83733.0               NaN               1.0\n",
       "2  83734.0      4.000000e+00               4.0\n",
       "3  83735.0      1.000000e+00               4.0\n",
       "4  83736.0      1.000000e+00               5.0"
      ]
     },
     "execution_count": 477,
     "metadata": {},
     "output_type": "execute_result"
    }
   ],
   "source": [
    "DBQ_I.head()"
   ]
  },
  {
   "cell_type": "markdown",
   "metadata": {},
   "source": [
    "### Sight & Hearing"
   ]
  },
  {
   "cell_type": "markdown",
   "metadata": {},
   "source": [
    "variables:\n",
    "- DLQ010 : difficult_Iearing - 1 yes, 2 no\n",
    "- DLQ020 : difficult_seeing - 1 yes, 2 no\n",
    "- DLQ050 - Have serious difficulty walking ? \n",
    "    - 1=yes, 2=no, 7/9\n",
    "- DLQ080 - Have difficulty doing errands alone ? \n",
    "    - 1=yes, 2=no, 7/9\n"
   ]
  },
  {
   "cell_type": "code",
   "execution_count": 478,
   "metadata": {},
   "outputs": [],
   "source": [
    "DLQ_2015_2016 = pd.read_csv('./Questionnaire/DLQ_I.csv')"
   ]
  },
  {
   "cell_type": "code",
   "execution_count": 479,
   "metadata": {},
   "outputs": [
    {
     "data": {
      "text/plain": [
       "Index(['SEQN', 'DLQ010', 'DLQ020', 'DLQ040', 'DLQ050', 'DLQ060', 'DLQ080',\n",
       "       'DLQ100', 'DLQ110', 'DLQ130', 'DLQ140', 'DLQ150', 'DLQ170'],\n",
       "      dtype='object')"
      ]
     },
     "execution_count": 479,
     "metadata": {},
     "output_type": "execute_result"
    }
   ],
   "source": [
    "DLQ_2015_2016.columns"
   ]
  },
  {
   "cell_type": "code",
   "execution_count": 480,
   "metadata": {},
   "outputs": [],
   "source": [
    "DLQ_I = DLQ_2015_2016.filter(['SEQN','DLQ010','DLQ020','DLQ050','DLQ080'], axis=1)"
   ]
  },
  {
   "cell_type": "code",
   "execution_count": 481,
   "metadata": {},
   "outputs": [],
   "source": [
    "# rename col to be more useful\n",
    "DLQ_cols = {'SEQN':'SEQN', 'DLQ010': 'difficult_hearing', 'DLQ020': 'difficult_seeing',\n",
    "           'DLQ050':'difficult_walking','DLQ080':'difficult_errands'}\n",
    "\n",
    "DLQ_I.columns = DLQ_I.columns.map(DLQ_cols)"
   ]
  },
  {
   "cell_type": "code",
   "execution_count": 482,
   "metadata": {},
   "outputs": [
    {
     "data": {
      "text/html": [
       "<div>\n",
       "<style scoped>\n",
       "    .dataframe tbody tr th:only-of-type {\n",
       "        vertical-align: middle;\n",
       "    }\n",
       "\n",
       "    .dataframe tbody tr th {\n",
       "        vertical-align: top;\n",
       "    }\n",
       "\n",
       "    .dataframe thead th {\n",
       "        text-align: right;\n",
       "    }\n",
       "</style>\n",
       "<table border=\"1\" class=\"dataframe\">\n",
       "  <thead>\n",
       "    <tr style=\"text-align: right;\">\n",
       "      <th></th>\n",
       "      <th>SEQN</th>\n",
       "      <th>difficult_hearing</th>\n",
       "      <th>difficult_seeing</th>\n",
       "      <th>difficult_walking</th>\n",
       "      <th>difficult_errands</th>\n",
       "    </tr>\n",
       "  </thead>\n",
       "  <tbody>\n",
       "    <tr>\n",
       "      <th>0</th>\n",
       "      <td>83732.0</td>\n",
       "      <td>2.0</td>\n",
       "      <td>2.0</td>\n",
       "      <td>2.0</td>\n",
       "      <td>2.0</td>\n",
       "    </tr>\n",
       "    <tr>\n",
       "      <th>1</th>\n",
       "      <td>83733.0</td>\n",
       "      <td>2.0</td>\n",
       "      <td>2.0</td>\n",
       "      <td>2.0</td>\n",
       "      <td>2.0</td>\n",
       "    </tr>\n",
       "    <tr>\n",
       "      <th>2</th>\n",
       "      <td>83734.0</td>\n",
       "      <td>1.0</td>\n",
       "      <td>2.0</td>\n",
       "      <td>2.0</td>\n",
       "      <td>2.0</td>\n",
       "    </tr>\n",
       "    <tr>\n",
       "      <th>3</th>\n",
       "      <td>83735.0</td>\n",
       "      <td>2.0</td>\n",
       "      <td>2.0</td>\n",
       "      <td>2.0</td>\n",
       "      <td>2.0</td>\n",
       "    </tr>\n",
       "    <tr>\n",
       "      <th>4</th>\n",
       "      <td>83736.0</td>\n",
       "      <td>2.0</td>\n",
       "      <td>2.0</td>\n",
       "      <td>1.0</td>\n",
       "      <td>2.0</td>\n",
       "    </tr>\n",
       "  </tbody>\n",
       "</table>\n",
       "</div>"
      ],
      "text/plain": [
       "      SEQN  difficult_hearing  difficult_seeing  difficult_walking  \\\n",
       "0  83732.0                2.0               2.0                2.0   \n",
       "1  83733.0                2.0               2.0                2.0   \n",
       "2  83734.0                1.0               2.0                2.0   \n",
       "3  83735.0                2.0               2.0                2.0   \n",
       "4  83736.0                2.0               2.0                1.0   \n",
       "\n",
       "   difficult_errands  \n",
       "0                2.0  \n",
       "1                2.0  \n",
       "2                2.0  \n",
       "3                2.0  \n",
       "4                2.0  "
      ]
     },
     "execution_count": 482,
     "metadata": {},
     "output_type": "execute_result"
    }
   ],
   "source": [
    "DLQ_I.head()"
   ]
  },
  {
   "cell_type": "markdown",
   "metadata": {},
   "source": [
    "### Drugs"
   ]
  },
  {
   "cell_type": "markdown",
   "metadata": {},
   "source": [
    "variables: \n",
    "- DUQ211 : used_marijuana - Have you ever smoked marijuana or hashish at least once a month for more than one year?\n",
    "- DUQ230 : # days used marijuana or hashish/month\n",
    "- DUQ240 : used_CMH - Have you ever used cocaine, crack cocaine, heroin, or methamphetamine?\n",
    "- DUQ370 : injected_drugs - Have you ever, even once, used a needle to inject a drug not prescribed by a doctor?\n",
    "\n",
    "    - 1 yes, 2 no, 7 refused, 9 don't know"
   ]
  },
  {
   "cell_type": "code",
   "execution_count": 483,
   "metadata": {},
   "outputs": [],
   "source": [
    "DUQ_2015_2016 = pd.read_csv('./Questionnaire/DUQ_I.csv')"
   ]
  },
  {
   "cell_type": "code",
   "execution_count": 484,
   "metadata": {},
   "outputs": [],
   "source": [
    "DUQ_I = DUQ_2015_2016.filter(['SEQN','DUQ240'], axis=1)"
   ]
  },
  {
   "cell_type": "code",
   "execution_count": 485,
   "metadata": {},
   "outputs": [],
   "source": [
    "DUQ_cols = {'SEQN':'SEQN', 'DUQ240':'used_CMH'}\n",
    "\n",
    "DUQ_I.columns = DUQ_I.columns.map(DUQ_cols)"
   ]
  },
  {
   "cell_type": "code",
   "execution_count": 486,
   "metadata": {},
   "outputs": [
    {
     "data": {
      "text/html": [
       "<div>\n",
       "<style scoped>\n",
       "    .dataframe tbody tr th:only-of-type {\n",
       "        vertical-align: middle;\n",
       "    }\n",
       "\n",
       "    .dataframe tbody tr th {\n",
       "        vertical-align: top;\n",
       "    }\n",
       "\n",
       "    .dataframe thead th {\n",
       "        text-align: right;\n",
       "    }\n",
       "</style>\n",
       "<table border=\"1\" class=\"dataframe\">\n",
       "  <thead>\n",
       "    <tr style=\"text-align: right;\">\n",
       "      <th></th>\n",
       "      <th>SEQN</th>\n",
       "      <th>used_CMH</th>\n",
       "    </tr>\n",
       "  </thead>\n",
       "  <tbody>\n",
       "    <tr>\n",
       "      <th>0</th>\n",
       "      <td>83732.0</td>\n",
       "      <td>1.0</td>\n",
       "    </tr>\n",
       "    <tr>\n",
       "      <th>1</th>\n",
       "      <td>83733.0</td>\n",
       "      <td>2.0</td>\n",
       "    </tr>\n",
       "    <tr>\n",
       "      <th>2</th>\n",
       "      <td>83735.0</td>\n",
       "      <td>2.0</td>\n",
       "    </tr>\n",
       "    <tr>\n",
       "      <th>3</th>\n",
       "      <td>83736.0</td>\n",
       "      <td>2.0</td>\n",
       "    </tr>\n",
       "    <tr>\n",
       "      <th>4</th>\n",
       "      <td>83741.0</td>\n",
       "      <td>2.0</td>\n",
       "    </tr>\n",
       "  </tbody>\n",
       "</table>\n",
       "</div>"
      ],
      "text/plain": [
       "      SEQN  used_CMH\n",
       "0  83732.0       1.0\n",
       "1  83733.0       2.0\n",
       "2  83735.0       2.0\n",
       "3  83736.0       2.0\n",
       "4  83741.0       2.0"
      ]
     },
     "execution_count": 486,
     "metadata": {},
     "output_type": "execute_result"
    }
   ],
   "source": [
    "DUQ_I.head()"
   ]
  },
  {
   "cell_type": "markdown",
   "metadata": {},
   "source": [
    "### Health Care"
   ]
  },
  {
   "cell_type": "markdown",
   "metadata": {},
   "source": [
    "HSQ_I\n",
    "- HSD010 - General health condition\n",
    "1 - Excellent\n",
    "2 - Very good\n",
    "3 - Good\n",
    "4 - Fair\n",
    "5 - Poor\n",
    "7 - Refused, 9 - Don’t Know\n",
    "\n",
    "HUQ_I\n",
    "- HUQ010 - General health condition\n",
    "1 - Excellent\n",
    "2 - Very good\n",
    "3 - Good\n",
    "4 - Fair\n",
    "5 - Poor\n",
    "7 - Refused, 9 - Don’t Know\n",
    "- HUQ041 - Type place most often go for healthcare\n",
    "1- Clinic or health center\n",
    "2 - Doctor's office or HMO\n",
    "3 - Hospital emergency room\n",
    "4 - Hospital outpatient department\t\n",
    "5 - Some other place\n",
    "6 - Doesn't go to one place most often\n",
    "77 - Refused, 99 - Don't know\n",
    "- HUQ051 - #times receive healthcare over past year\n",
    "0 - 8 are ranges, 77, 99\n",
    "- HUQ090 - Seen mental health professional/past yr\n",
    "1, 2, 7, 9\n"
   ]
  },
  {
   "cell_type": "code",
   "execution_count": 487,
   "metadata": {},
   "outputs": [],
   "source": [
    "HUQ_2015_2016 = pd.read_csv('./Questionnaire/HUQ_I.csv')\n",
    "\n",
    "HUQ_I = HUQ_2015_2016.filter(['SEQN', 'HUQ010', 'HUQ041','HUQ051'], axis=1)\n",
    "HUQ_cols = {'SEQN':'SEQN', 'HUQ010': 'gen_health_cond','HUQ041':'place_healthcare',\n",
    "            'HUQ051':'healthcare_past_yr'}\n",
    "\n",
    "HUQ_I.columns = HUQ_I.columns.map(HUQ_cols)"
   ]
  },
  {
   "cell_type": "code",
   "execution_count": 488,
   "metadata": {},
   "outputs": [
    {
     "data": {
      "text/html": [
       "<div>\n",
       "<style scoped>\n",
       "    .dataframe tbody tr th:only-of-type {\n",
       "        vertical-align: middle;\n",
       "    }\n",
       "\n",
       "    .dataframe tbody tr th {\n",
       "        vertical-align: top;\n",
       "    }\n",
       "\n",
       "    .dataframe thead th {\n",
       "        text-align: right;\n",
       "    }\n",
       "</style>\n",
       "<table border=\"1\" class=\"dataframe\">\n",
       "  <thead>\n",
       "    <tr style=\"text-align: right;\">\n",
       "      <th></th>\n",
       "      <th>SEQN</th>\n",
       "      <th>gen_health_cond</th>\n",
       "      <th>place_healthcare</th>\n",
       "      <th>healthcare_past_yr</th>\n",
       "    </tr>\n",
       "  </thead>\n",
       "  <tbody>\n",
       "    <tr>\n",
       "      <th>0</th>\n",
       "      <td>83732.0</td>\n",
       "      <td>3.0</td>\n",
       "      <td>1.0</td>\n",
       "      <td>5.000000e+00</td>\n",
       "    </tr>\n",
       "    <tr>\n",
       "      <th>1</th>\n",
       "      <td>83733.0</td>\n",
       "      <td>2.0</td>\n",
       "      <td>6.0</td>\n",
       "      <td>5.397605e-79</td>\n",
       "    </tr>\n",
       "    <tr>\n",
       "      <th>2</th>\n",
       "      <td>83734.0</td>\n",
       "      <td>4.0</td>\n",
       "      <td>5.0</td>\n",
       "      <td>2.000000e+00</td>\n",
       "    </tr>\n",
       "    <tr>\n",
       "      <th>3</th>\n",
       "      <td>83735.0</td>\n",
       "      <td>2.0</td>\n",
       "      <td>2.0</td>\n",
       "      <td>4.000000e+00</td>\n",
       "    </tr>\n",
       "    <tr>\n",
       "      <th>4</th>\n",
       "      <td>83736.0</td>\n",
       "      <td>5.0</td>\n",
       "      <td>1.0</td>\n",
       "      <td>2.000000e+00</td>\n",
       "    </tr>\n",
       "  </tbody>\n",
       "</table>\n",
       "</div>"
      ],
      "text/plain": [
       "      SEQN  gen_health_cond  place_healthcare  healthcare_past_yr\n",
       "0  83732.0              3.0               1.0        5.000000e+00\n",
       "1  83733.0              2.0               6.0        5.397605e-79\n",
       "2  83734.0              4.0               5.0        2.000000e+00\n",
       "3  83735.0              2.0               2.0        4.000000e+00\n",
       "4  83736.0              5.0               1.0        2.000000e+00"
      ]
     },
     "execution_count": 488,
     "metadata": {},
     "output_type": "execute_result"
    }
   ],
   "source": [
    "HUQ_I.head()"
   ]
  },
  {
   "cell_type": "markdown",
   "metadata": {},
   "source": [
    "### Health Insurance"
   ]
  },
  {
   "cell_type": "markdown",
   "metadata": {},
   "source": [
    "variables:\n",
    "- HIQ011 : health_insurance - {Are you/Is SP} covered by health insurance or some other kind of health care plan? 1 yes, 2 no"
   ]
  },
  {
   "cell_type": "code",
   "execution_count": 489,
   "metadata": {},
   "outputs": [],
   "source": [
    "HIQ_2015_2016 = pd.read_csv('./Questionnaire/HIQ_I.csv')\n",
    "\n",
    "HIQ_I = HIQ_2015_2016.filter(['SEQN', 'HIQ011'], axis=1)\n",
    "HIQ_cols = {'SEQN':'SEQN', 'HIQ011': 'health_insurance'}\n",
    "\n",
    "HIQ_I.columns = HIQ_I.columns.map(HIQ_cols)"
   ]
  },
  {
   "cell_type": "code",
   "execution_count": 490,
   "metadata": {},
   "outputs": [
    {
     "data": {
      "text/html": [
       "<div>\n",
       "<style scoped>\n",
       "    .dataframe tbody tr th:only-of-type {\n",
       "        vertical-align: middle;\n",
       "    }\n",
       "\n",
       "    .dataframe tbody tr th {\n",
       "        vertical-align: top;\n",
       "    }\n",
       "\n",
       "    .dataframe thead th {\n",
       "        text-align: right;\n",
       "    }\n",
       "</style>\n",
       "<table border=\"1\" class=\"dataframe\">\n",
       "  <thead>\n",
       "    <tr style=\"text-align: right;\">\n",
       "      <th></th>\n",
       "      <th>SEQN</th>\n",
       "      <th>health_insurance</th>\n",
       "    </tr>\n",
       "  </thead>\n",
       "  <tbody>\n",
       "    <tr>\n",
       "      <th>0</th>\n",
       "      <td>83732.0</td>\n",
       "      <td>1.0</td>\n",
       "    </tr>\n",
       "    <tr>\n",
       "      <th>1</th>\n",
       "      <td>83733.0</td>\n",
       "      <td>2.0</td>\n",
       "    </tr>\n",
       "    <tr>\n",
       "      <th>2</th>\n",
       "      <td>83734.0</td>\n",
       "      <td>1.0</td>\n",
       "    </tr>\n",
       "    <tr>\n",
       "      <th>3</th>\n",
       "      <td>83735.0</td>\n",
       "      <td>1.0</td>\n",
       "    </tr>\n",
       "    <tr>\n",
       "      <th>4</th>\n",
       "      <td>83736.0</td>\n",
       "      <td>1.0</td>\n",
       "    </tr>\n",
       "  </tbody>\n",
       "</table>\n",
       "</div>"
      ],
      "text/plain": [
       "      SEQN  health_insurance\n",
       "0  83732.0               1.0\n",
       "1  83733.0               2.0\n",
       "2  83734.0               1.0\n",
       "3  83735.0               1.0\n",
       "4  83736.0               1.0"
      ]
     },
     "execution_count": 490,
     "metadata": {},
     "output_type": "execute_result"
    }
   ],
   "source": [
    "HIQ_I.head()"
   ]
  },
  {
   "cell_type": "markdown",
   "metadata": {},
   "source": [
    "### Househole Characteristics"
   ]
  },
  {
   "cell_type": "markdown",
   "metadata": {},
   "source": [
    "HOQ_I\n",
    "- HOD050 - Number of rooms in home\n",
    "1-13, 777, 999\n",
    "- HOQ065 - Home owned, bought, rented, other\n",
    "1 - Owned or being bought\n",
    "2 - Rented\n",
    "3 - Other arrangements\n",
    "7 - Refused, 9 - Don't know\n"
   ]
  },
  {
   "cell_type": "code",
   "execution_count": 491,
   "metadata": {},
   "outputs": [],
   "source": [
    "HOQ_2015_2016 = pd.read_csv('./Questionnaire/HOQ_I.csv')\n",
    "\n",
    "HOQ_I = HOQ_2015_2016.filter(['SEQN', 'HOD050','HOQ065'], axis=1)\n",
    "HOQ_cols = {'SEQN':'SEQN', 'HOD050': '#_rooms','HOQ065':'home_ownership'}\n",
    "\n",
    "HOQ_I.columns = HOQ_I.columns.map(HOQ_cols)"
   ]
  },
  {
   "cell_type": "code",
   "execution_count": 492,
   "metadata": {},
   "outputs": [
    {
     "data": {
      "text/html": [
       "<div>\n",
       "<style scoped>\n",
       "    .dataframe tbody tr th:only-of-type {\n",
       "        vertical-align: middle;\n",
       "    }\n",
       "\n",
       "    .dataframe tbody tr th {\n",
       "        vertical-align: top;\n",
       "    }\n",
       "\n",
       "    .dataframe thead th {\n",
       "        text-align: right;\n",
       "    }\n",
       "</style>\n",
       "<table border=\"1\" class=\"dataframe\">\n",
       "  <thead>\n",
       "    <tr style=\"text-align: right;\">\n",
       "      <th></th>\n",
       "      <th>SEQN</th>\n",
       "      <th>#_rooms</th>\n",
       "      <th>home_ownership</th>\n",
       "    </tr>\n",
       "  </thead>\n",
       "  <tbody>\n",
       "    <tr>\n",
       "      <th>0</th>\n",
       "      <td>83732.0</td>\n",
       "      <td>7.0</td>\n",
       "      <td>1.0</td>\n",
       "    </tr>\n",
       "    <tr>\n",
       "      <th>1</th>\n",
       "      <td>83733.0</td>\n",
       "      <td>6.0</td>\n",
       "      <td>1.0</td>\n",
       "    </tr>\n",
       "    <tr>\n",
       "      <th>2</th>\n",
       "      <td>83734.0</td>\n",
       "      <td>5.0</td>\n",
       "      <td>1.0</td>\n",
       "    </tr>\n",
       "    <tr>\n",
       "      <th>3</th>\n",
       "      <td>83735.0</td>\n",
       "      <td>4.0</td>\n",
       "      <td>1.0</td>\n",
       "    </tr>\n",
       "    <tr>\n",
       "      <th>4</th>\n",
       "      <td>83736.0</td>\n",
       "      <td>5.0</td>\n",
       "      <td>2.0</td>\n",
       "    </tr>\n",
       "  </tbody>\n",
       "</table>\n",
       "</div>"
      ],
      "text/plain": [
       "      SEQN  #_rooms  home_ownership\n",
       "0  83732.0      7.0             1.0\n",
       "1  83733.0      6.0             1.0\n",
       "2  83734.0      5.0             1.0\n",
       "3  83735.0      4.0             1.0\n",
       "4  83736.0      5.0             2.0"
      ]
     },
     "execution_count": 492,
     "metadata": {},
     "output_type": "execute_result"
    }
   ],
   "source": [
    "HOQ_I.head()"
   ]
  },
  {
   "cell_type": "markdown",
   "metadata": {},
   "source": [
    "### Early Childhood"
   ]
  },
  {
   "cell_type": "markdown",
   "metadata": {},
   "source": [
    "ECQ_I\n",
    "- ECQ020 - Mother smoked when pregnant\n",
    "1=yes, 2=no, 7/9"
   ]
  },
  {
   "cell_type": "code",
   "execution_count": 493,
   "metadata": {},
   "outputs": [],
   "source": [
    "ECQ_2015_2016 = pd.read_csv('./Questionnaire/ECQ_I.csv')\n",
    "\n",
    "ECQ_I = ECQ_2015_2016.filter(['SEQN', 'ECQ020'], axis=1)\n",
    "ECQ_cols = {'SEQN':'SEQN', 'ECQ020': 'mom_smoked_preg'}\n",
    "\n",
    "ECQ_I.columns = ECQ_I.columns.map(ECQ_cols)"
   ]
  },
  {
   "cell_type": "code",
   "execution_count": 494,
   "metadata": {},
   "outputs": [
    {
     "data": {
      "text/html": [
       "<div>\n",
       "<style scoped>\n",
       "    .dataframe tbody tr th:only-of-type {\n",
       "        vertical-align: middle;\n",
       "    }\n",
       "\n",
       "    .dataframe tbody tr th {\n",
       "        vertical-align: top;\n",
       "    }\n",
       "\n",
       "    .dataframe thead th {\n",
       "        text-align: right;\n",
       "    }\n",
       "</style>\n",
       "<table border=\"1\" class=\"dataframe\">\n",
       "  <thead>\n",
       "    <tr style=\"text-align: right;\">\n",
       "      <th></th>\n",
       "      <th>SEQN</th>\n",
       "      <th>mom_smoked_preg</th>\n",
       "    </tr>\n",
       "  </thead>\n",
       "  <tbody>\n",
       "    <tr>\n",
       "      <th>0</th>\n",
       "      <td>83738.0</td>\n",
       "      <td>1.0</td>\n",
       "    </tr>\n",
       "    <tr>\n",
       "      <th>1</th>\n",
       "      <td>83739.0</td>\n",
       "      <td>2.0</td>\n",
       "    </tr>\n",
       "    <tr>\n",
       "      <th>2</th>\n",
       "      <td>83740.0</td>\n",
       "      <td>2.0</td>\n",
       "    </tr>\n",
       "    <tr>\n",
       "      <th>3</th>\n",
       "      <td>83745.0</td>\n",
       "      <td>1.0</td>\n",
       "    </tr>\n",
       "    <tr>\n",
       "      <th>4</th>\n",
       "      <td>83746.0</td>\n",
       "      <td>2.0</td>\n",
       "    </tr>\n",
       "  </tbody>\n",
       "</table>\n",
       "</div>"
      ],
      "text/plain": [
       "      SEQN  mom_smoked_preg\n",
       "0  83738.0              1.0\n",
       "1  83739.0              2.0\n",
       "2  83740.0              2.0\n",
       "3  83745.0              1.0\n",
       "4  83746.0              2.0"
      ]
     },
     "execution_count": 494,
     "metadata": {},
     "output_type": "execute_result"
    }
   ],
   "source": [
    "ECQ_I.head()"
   ]
  },
  {
   "cell_type": "markdown",
   "metadata": {},
   "source": [
    "### Food Security"
   ]
  },
  {
   "cell_type": "markdown",
   "metadata": {},
   "source": [
    "FSQ_I\n",
    "- FSD032A - HH Worried run out of food\n",
    "    - 1 - Often true\n",
    "    - 2 - Sometimes true\n",
    "    -  - Never true\n",
    "    - 7 - Refused, 9 - Don't know\n",
    "- FSD032B - HH Food didn't last\n",
    "    - “ “\n",
    "- FSD032C - HH Couldn't afford balanced meals\n",
    "    - “ “\n",
    "- FSD041 - HH Adults cut size or skip meals\n",
    "    - 1, 2, 7, 9\n",
    "- FSD032D - HH Relied on low-cost food for child\n",
    "1 - Often true\n",
    "2 - Sometimes true\n",
    "3 - Never true\n",
    "7 - Refused, 9 - Don't know\n",
    "- FSDHH - Household food security category\n",
    "1 - HH full food security: 0\n",
    "2 - HH marginal food security: 1-2\n",
    "3 - HH low food security: 3-5 (HH w/o child) / 3-7 (HH w/ child)\n",
    "4 - HH very low food security: 6-10 (HH w/o child) / 8-18 (HH w/ child)\n",
    "No 7/9, just missing\n",
    "- FSQ012 - HH FS benefit: receive in last 12 months\n",
    "1, 2, 7, 9\n",
    "- FSQ162 - HH WIC benefit: receive in last 12 month\n",
    "1,2,7,9\n"
   ]
  },
  {
   "cell_type": "code",
   "execution_count": 495,
   "metadata": {},
   "outputs": [],
   "source": [
    "FSQ_2015_2016 = pd.read_csv('./Questionnaire/FSQ_I.csv')\n",
    "\n",
    "FSQ_I = FSQ_2015_2016.filter(['SEQN', 'FSD032A', 'FSD032B', 'FSD032C', 'FSD041', 'FSD032D', 'FSDHH',\n",
    "                             'FSQ012', 'FSQ162'], axis=1)\n",
    "\n",
    " \n",
    "FSQ_cols = {'SEQN': 'SEQN', 'FSD032A':'run_out_food', 'FSD032B':'food_didnt_last', 'FSD032C':'afford_balanced_meals', \n",
    "             'FSD041':'adults_skip_meals', 'FSD032D':'relied_cheap_food', 'FSDHH':'food_security_cat',\n",
    "             'FSQ012':'food_stamps', 'FSQ162':'WIC'}\n",
    "\n",
    "FSQ_I.columns = FSQ_I.columns.map(FSQ_cols)"
   ]
  },
  {
   "cell_type": "code",
   "execution_count": 496,
   "metadata": {},
   "outputs": [
    {
     "data": {
      "text/html": [
       "<div>\n",
       "<style scoped>\n",
       "    .dataframe tbody tr th:only-of-type {\n",
       "        vertical-align: middle;\n",
       "    }\n",
       "\n",
       "    .dataframe tbody tr th {\n",
       "        vertical-align: top;\n",
       "    }\n",
       "\n",
       "    .dataframe thead th {\n",
       "        text-align: right;\n",
       "    }\n",
       "</style>\n",
       "<table border=\"1\" class=\"dataframe\">\n",
       "  <thead>\n",
       "    <tr style=\"text-align: right;\">\n",
       "      <th></th>\n",
       "      <th>SEQN</th>\n",
       "      <th>run_out_food</th>\n",
       "      <th>food_didnt_last</th>\n",
       "      <th>afford_balanced_meals</th>\n",
       "      <th>adults_skip_meals</th>\n",
       "      <th>relied_cheap_food</th>\n",
       "      <th>food_security_cat</th>\n",
       "      <th>food_stamps</th>\n",
       "      <th>WIC</th>\n",
       "    </tr>\n",
       "  </thead>\n",
       "  <tbody>\n",
       "    <tr>\n",
       "      <th>0</th>\n",
       "      <td>83732.0</td>\n",
       "      <td>3.0</td>\n",
       "      <td>3.0</td>\n",
       "      <td>3.0</td>\n",
       "      <td>NaN</td>\n",
       "      <td>NaN</td>\n",
       "      <td>1.0</td>\n",
       "      <td>NaN</td>\n",
       "      <td>2.0</td>\n",
       "    </tr>\n",
       "    <tr>\n",
       "      <th>1</th>\n",
       "      <td>83733.0</td>\n",
       "      <td>3.0</td>\n",
       "      <td>3.0</td>\n",
       "      <td>3.0</td>\n",
       "      <td>NaN</td>\n",
       "      <td>NaN</td>\n",
       "      <td>1.0</td>\n",
       "      <td>2.0</td>\n",
       "      <td>NaN</td>\n",
       "    </tr>\n",
       "    <tr>\n",
       "      <th>2</th>\n",
       "      <td>83734.0</td>\n",
       "      <td>2.0</td>\n",
       "      <td>3.0</td>\n",
       "      <td>3.0</td>\n",
       "      <td>2.0</td>\n",
       "      <td>NaN</td>\n",
       "      <td>2.0</td>\n",
       "      <td>2.0</td>\n",
       "      <td>NaN</td>\n",
       "    </tr>\n",
       "    <tr>\n",
       "      <th>3</th>\n",
       "      <td>83735.0</td>\n",
       "      <td>3.0</td>\n",
       "      <td>3.0</td>\n",
       "      <td>3.0</td>\n",
       "      <td>NaN</td>\n",
       "      <td>NaN</td>\n",
       "      <td>1.0</td>\n",
       "      <td>NaN</td>\n",
       "      <td>2.0</td>\n",
       "    </tr>\n",
       "    <tr>\n",
       "      <th>4</th>\n",
       "      <td>83736.0</td>\n",
       "      <td>2.0</td>\n",
       "      <td>2.0</td>\n",
       "      <td>3.0</td>\n",
       "      <td>2.0</td>\n",
       "      <td>2.0</td>\n",
       "      <td>3.0</td>\n",
       "      <td>1.0</td>\n",
       "      <td>2.0</td>\n",
       "    </tr>\n",
       "  </tbody>\n",
       "</table>\n",
       "</div>"
      ],
      "text/plain": [
       "      SEQN  run_out_food  food_didnt_last  afford_balanced_meals  \\\n",
       "0  83732.0           3.0              3.0                    3.0   \n",
       "1  83733.0           3.0              3.0                    3.0   \n",
       "2  83734.0           2.0              3.0                    3.0   \n",
       "3  83735.0           3.0              3.0                    3.0   \n",
       "4  83736.0           2.0              2.0                    3.0   \n",
       "\n",
       "   adults_skip_meals  relied_cheap_food  food_security_cat  food_stamps  WIC  \n",
       "0                NaN                NaN                1.0          NaN  2.0  \n",
       "1                NaN                NaN                1.0          2.0  NaN  \n",
       "2                2.0                NaN                2.0          2.0  NaN  \n",
       "3                NaN                NaN                1.0          NaN  2.0  \n",
       "4                2.0                2.0                3.0          1.0  2.0  "
      ]
     },
     "execution_count": 496,
     "metadata": {},
     "output_type": "execute_result"
    }
   ],
   "source": [
    "FSQ_I.head()"
   ]
  },
  {
   "cell_type": "code",
   "execution_count": 497,
   "metadata": {},
   "outputs": [
    {
     "data": {
      "text/plain": [
       "9"
      ]
     },
     "execution_count": 497,
     "metadata": {},
     "output_type": "execute_result"
    }
   ],
   "source": [
    "len(FSQ_I.columns)"
   ]
  },
  {
   "cell_type": "markdown",
   "metadata": {},
   "source": [
    "### Income"
   ]
  },
  {
   "cell_type": "markdown",
   "metadata": {},
   "source": [
    "INQ_I\n",
    "- IND235 - Monthly family income\n",
    "    - 1-12 ranges, 77, 99\n",
    "- INQ244 - Family has savings more than $5000\n",
    "    - 1,2,7,9\n"
   ]
  },
  {
   "cell_type": "code",
   "execution_count": 498,
   "metadata": {},
   "outputs": [],
   "source": [
    "INQ_2015_2016 = pd.read_csv('./Questionnaire/INQ_I.csv')\n",
    "\n",
    "INQ_I = INQ_2015_2016.filter(['SEQN', 'IND235', 'INQ244'], axis=1)\n",
    "\n",
    "INQ_cols = {'SEQN': 'SEQN', 'IND235':'monthly_income', 'INQ244':'savings_5000'}\n",
    "\n",
    "INQ_I.columns = INQ_I.columns.map(INQ_cols)\n"
   ]
  },
  {
   "cell_type": "code",
   "execution_count": 499,
   "metadata": {},
   "outputs": [
    {
     "data": {
      "text/html": [
       "<div>\n",
       "<style scoped>\n",
       "    .dataframe tbody tr th:only-of-type {\n",
       "        vertical-align: middle;\n",
       "    }\n",
       "\n",
       "    .dataframe tbody tr th {\n",
       "        vertical-align: top;\n",
       "    }\n",
       "\n",
       "    .dataframe thead th {\n",
       "        text-align: right;\n",
       "    }\n",
       "</style>\n",
       "<table border=\"1\" class=\"dataframe\">\n",
       "  <thead>\n",
       "    <tr style=\"text-align: right;\">\n",
       "      <th></th>\n",
       "      <th>SEQN</th>\n",
       "      <th>monthly_income</th>\n",
       "    </tr>\n",
       "  </thead>\n",
       "  <tbody>\n",
       "    <tr>\n",
       "      <th>0</th>\n",
       "      <td>83732.0</td>\n",
       "      <td>10.0</td>\n",
       "    </tr>\n",
       "    <tr>\n",
       "      <th>1</th>\n",
       "      <td>83733.0</td>\n",
       "      <td>1.0</td>\n",
       "    </tr>\n",
       "    <tr>\n",
       "      <th>2</th>\n",
       "      <td>83734.0</td>\n",
       "      <td>6.0</td>\n",
       "    </tr>\n",
       "    <tr>\n",
       "      <th>3</th>\n",
       "      <td>83735.0</td>\n",
       "      <td>7.0</td>\n",
       "    </tr>\n",
       "    <tr>\n",
       "      <th>4</th>\n",
       "      <td>83736.0</td>\n",
       "      <td>7.0</td>\n",
       "    </tr>\n",
       "  </tbody>\n",
       "</table>\n",
       "</div>"
      ],
      "text/plain": [
       "      SEQN  monthly_income\n",
       "0  83732.0            10.0\n",
       "1  83733.0             1.0\n",
       "2  83734.0             6.0\n",
       "3  83735.0             7.0\n",
       "4  83736.0             7.0"
      ]
     },
     "execution_count": 499,
     "metadata": {},
     "output_type": "execute_result"
    }
   ],
   "source": [
    "INQ_I.head()"
   ]
  },
  {
   "cell_type": "markdown",
   "metadata": {},
   "source": [
    "### Medical Conditions"
   ]
  },
  {
   "cell_type": "markdown",
   "metadata": {},
   "source": [
    "variables:\n",
    "- MCQ010 : doc_asthma - Has a doctor or other health professional ever told {you/SP} that {you have/s/he/SP has} asthma (az-ma)?\n",
    "- MCQ080 : doc_overweight - Has a doctor or other health professional ever told {you/SP} that {you were/s/he/SP was} overweight?\n",
    "- MCQ160a :  doc_arthritis - Has a doctor or other health professional ever told {you/SP} that {you/s/he} had arthritis (ar-thry-tis)?\n",
    "- MCQ160b :  doc_CHF - Has a doctor or other health professional ever told {you/SP} that {you/s/he}had congestive heart failure?\n",
    "- MCQ160c : doc_CHD - Has a doctor or other health professional ever told {you/SP} that {you/s/he} had coronary (kor-o-nare-ee) heart disease?\n",
    "- MCQ160e : doc_Ieart_attack - Has a doctor or other health professional ever told {you/SP} that {you/s/he} had a heart attack (also called myocardial infarction (my-o-car-dee-al in-fark-shun))?\n",
    "- MCQ160f : doc_stroke - Has a doctor or other health professional ever told {you/SP} that {you/s/her} had a stroke?\n",
    "- MCQ160k : doc_chronic_bronchitis - Has a doctor or other health professional ever told {you/SP} that {you/s/he} . . .had chronic bronchitis?\n",
    "- MCQ160l : doc_liver_condition - Has a doctor or other health professional ever told {you/SP} that {you/s/he} . . .had any kind of liver condition?\n",
    "- MCQ160m : doc_thyroid_problem - Has a doctor or other health professional ever told {you/SP} that {you/s/he} had another thyroid (thigh-roid) problem?\n",
    "- MCQ160o : doc_COPD - Has a doctor or other health professional ever told {you/SP} that {you/s/he} had COPD?\n",
    "- MCQ220 : doc_cancer - {Have you/Has SP} ever been told by a doctor or other health professional that {you/s/he} had cancer or a malignancy (ma-lig-nan-see) of any kind?\n",
    "- MCQ365a : doc_lose_weight - To lower {your/SP's} risk for certain diseases, during the past 12 months {have you/has s/he} ever been told by a doctor or health professional to: control {your/his/her} weight or lose weight?\n",
    "- MCQ365b : doc_exercise - To lower {your/SP's} risk for certain diseases, during the past 12 months {have you/has s/he} ever been told by a doctor or health professional to: increase {your/his/her} physical activity or exercise?\n",
    "- MCQ053 - Taking treatment for anemia/past 3 mos\n",
    "    - 1,2,7,9\n",
    "- MCQ084 - Difficulties in thinking or remembering\n",
    "    - 1, 2, 7, 9\n",
    "- MCQ230a - What kind of cancer\n",
    "    - 10-39 different kinds, 66 = more than 3, 77, 99\n"
   ]
  },
  {
   "cell_type": "code",
   "execution_count": 500,
   "metadata": {},
   "outputs": [],
   "source": [
    "MCQ_2015_2016 = pd.read_csv('./Questionnaire/MCQ_I.csv')\n",
    "\n",
    "MCQ_I = MCQ_2015_2016.filter(['SEQN', 'MCQ010', 'MCQ080', 'MCQ160A', 'MCQ160B', 'MCQ160C', 'MCQ160E',\n",
    " 'MCQ160F', 'MCQ160K', 'MCQ160L', 'MCQ160M', 'MCQ160O', 'MCQ220','MCQ053',\n",
    "                             'MCQ084','MCQ230A'], axis=1)\n",
    "\n",
    " \n",
    "MCQ_cols = {'SEQN': 'SEQN', 'MCQ010':'doc_asthma', 'MCQ080':'doc_overweight', 'MCQ160A':'doc_arthritis', \n",
    " 'MCQ160B':'doc_CHF', 'MCQ160C':'doc_CHD', 'MCQ160E':'doc_heart_attack',\n",
    " 'MCQ160F':'doc_stroke', 'MCQ160K':'doc_chronic_bronchitis', 'MCQ160L':'doc_liver_condition', \n",
    " 'MCQ160M':'doc_thyroid_problem', 'MCQ160O':'doc_COPD', 'MCQ220':'doc_cancer','MCQ053': 'anemia',\n",
    "                             'MCQ084':'difficult_remembering','MCQ230A':'cancer_type'}\n",
    "\n",
    "MCQ_I.columns = MCQ_I.columns.map(MCQ_cols)"
   ]
  },
  {
   "cell_type": "code",
   "execution_count": 501,
   "metadata": {},
   "outputs": [
    {
     "data": {
      "text/html": [
       "<div>\n",
       "<style scoped>\n",
       "    .dataframe tbody tr th:only-of-type {\n",
       "        vertical-align: middle;\n",
       "    }\n",
       "\n",
       "    .dataframe tbody tr th {\n",
       "        vertical-align: top;\n",
       "    }\n",
       "\n",
       "    .dataframe thead th {\n",
       "        text-align: right;\n",
       "    }\n",
       "</style>\n",
       "<table border=\"1\" class=\"dataframe\">\n",
       "  <thead>\n",
       "    <tr style=\"text-align: right;\">\n",
       "      <th></th>\n",
       "      <th>SEQN</th>\n",
       "      <th>doc_asthma</th>\n",
       "      <th>doc_overweight</th>\n",
       "      <th>doc_arthritis</th>\n",
       "      <th>doc_CHF</th>\n",
       "      <th>doc_CHD</th>\n",
       "      <th>doc_heart_attack</th>\n",
       "      <th>doc_stroke</th>\n",
       "      <th>doc_chronic_bronchitis</th>\n",
       "      <th>doc_liver_condition</th>\n",
       "      <th>doc_thyroid_problem</th>\n",
       "      <th>doc_COPD</th>\n",
       "      <th>doc_cancer</th>\n",
       "      <th>anemia</th>\n",
       "      <th>cancer_type</th>\n",
       "    </tr>\n",
       "  </thead>\n",
       "  <tbody>\n",
       "    <tr>\n",
       "      <th>0</th>\n",
       "      <td>83732.0</td>\n",
       "      <td>2.0</td>\n",
       "      <td>1.0</td>\n",
       "      <td>1.0</td>\n",
       "      <td>2.0</td>\n",
       "      <td>2.0</td>\n",
       "      <td>2.0</td>\n",
       "      <td>2.0</td>\n",
       "      <td>2.0</td>\n",
       "      <td>2.0</td>\n",
       "      <td>2.0</td>\n",
       "      <td>2.0</td>\n",
       "      <td>1.0</td>\n",
       "      <td>2.0</td>\n",
       "      <td>25.0</td>\n",
       "    </tr>\n",
       "    <tr>\n",
       "      <th>1</th>\n",
       "      <td>83733.0</td>\n",
       "      <td>2.0</td>\n",
       "      <td>2.0</td>\n",
       "      <td>2.0</td>\n",
       "      <td>2.0</td>\n",
       "      <td>2.0</td>\n",
       "      <td>2.0</td>\n",
       "      <td>2.0</td>\n",
       "      <td>2.0</td>\n",
       "      <td>2.0</td>\n",
       "      <td>2.0</td>\n",
       "      <td>2.0</td>\n",
       "      <td>2.0</td>\n",
       "      <td>2.0</td>\n",
       "      <td>NaN</td>\n",
       "    </tr>\n",
       "    <tr>\n",
       "      <th>2</th>\n",
       "      <td>83734.0</td>\n",
       "      <td>1.0</td>\n",
       "      <td>1.0</td>\n",
       "      <td>1.0</td>\n",
       "      <td>2.0</td>\n",
       "      <td>2.0</td>\n",
       "      <td>1.0</td>\n",
       "      <td>2.0</td>\n",
       "      <td>2.0</td>\n",
       "      <td>1.0</td>\n",
       "      <td>1.0</td>\n",
       "      <td>1.0</td>\n",
       "      <td>1.0</td>\n",
       "      <td>2.0</td>\n",
       "      <td>33.0</td>\n",
       "    </tr>\n",
       "    <tr>\n",
       "      <th>3</th>\n",
       "      <td>83735.0</td>\n",
       "      <td>2.0</td>\n",
       "      <td>1.0</td>\n",
       "      <td>2.0</td>\n",
       "      <td>2.0</td>\n",
       "      <td>2.0</td>\n",
       "      <td>2.0</td>\n",
       "      <td>2.0</td>\n",
       "      <td>2.0</td>\n",
       "      <td>2.0</td>\n",
       "      <td>2.0</td>\n",
       "      <td>2.0</td>\n",
       "      <td>2.0</td>\n",
       "      <td>2.0</td>\n",
       "      <td>NaN</td>\n",
       "    </tr>\n",
       "    <tr>\n",
       "      <th>4</th>\n",
       "      <td>83736.0</td>\n",
       "      <td>1.0</td>\n",
       "      <td>2.0</td>\n",
       "      <td>1.0</td>\n",
       "      <td>2.0</td>\n",
       "      <td>2.0</td>\n",
       "      <td>2.0</td>\n",
       "      <td>2.0</td>\n",
       "      <td>2.0</td>\n",
       "      <td>2.0</td>\n",
       "      <td>2.0</td>\n",
       "      <td>2.0</td>\n",
       "      <td>2.0</td>\n",
       "      <td>2.0</td>\n",
       "      <td>NaN</td>\n",
       "    </tr>\n",
       "  </tbody>\n",
       "</table>\n",
       "</div>"
      ],
      "text/plain": [
       "      SEQN  doc_asthma  doc_overweight  doc_arthritis  doc_CHF  doc_CHD  \\\n",
       "0  83732.0         2.0             1.0            1.0      2.0      2.0   \n",
       "1  83733.0         2.0             2.0            2.0      2.0      2.0   \n",
       "2  83734.0         1.0             1.0            1.0      2.0      2.0   \n",
       "3  83735.0         2.0             1.0            2.0      2.0      2.0   \n",
       "4  83736.0         1.0             2.0            1.0      2.0      2.0   \n",
       "\n",
       "   doc_heart_attack  doc_stroke  doc_chronic_bronchitis  doc_liver_condition  \\\n",
       "0               2.0         2.0                     2.0                  2.0   \n",
       "1               2.0         2.0                     2.0                  2.0   \n",
       "2               1.0         2.0                     2.0                  1.0   \n",
       "3               2.0         2.0                     2.0                  2.0   \n",
       "4               2.0         2.0                     2.0                  2.0   \n",
       "\n",
       "   doc_thyroid_problem  doc_COPD  doc_cancer  anemia  cancer_type  \n",
       "0                  2.0       2.0         1.0     2.0         25.0  \n",
       "1                  2.0       2.0         2.0     2.0          NaN  \n",
       "2                  1.0       1.0         1.0     2.0         33.0  \n",
       "3                  2.0       2.0         2.0     2.0          NaN  \n",
       "4                  2.0       2.0         2.0     2.0          NaN  "
      ]
     },
     "execution_count": 501,
     "metadata": {},
     "output_type": "execute_result"
    }
   ],
   "source": [
    "MCQ_I.head()"
   ]
  },
  {
   "cell_type": "code",
   "execution_count": 502,
   "metadata": {},
   "outputs": [
    {
     "data": {
      "text/plain": [
       "15"
      ]
     },
     "execution_count": 502,
     "metadata": {},
     "output_type": "execute_result"
    }
   ],
   "source": [
    "len(MCQ_I.columns)"
   ]
  },
  {
   "cell_type": "markdown",
   "metadata": {},
   "source": [
    "### Kidney Conditions - Urology (KIQ_U_I)"
   ]
  },
  {
   "cell_type": "markdown",
   "metadata": {},
   "source": [
    "variables\n",
    "- KIQ022: doc_kidney - {Have you/Has SP} ever been told by a doctor or other health professional that {you/s/he} had weak or failing kidneys? Do not include kidney stones, bladder infections, or incontinence."
   ]
  },
  {
   "cell_type": "code",
   "execution_count": 503,
   "metadata": {},
   "outputs": [],
   "source": [
    "KIQ_U_2015_2016 = pd.read_csv('./Questionnaire/KIQ_U_I.csv')\n",
    "\n",
    "KIQ_U_I = KIQ_U_2015_2016.filter(['SEQN', 'KIQ022'], axis=1)\n",
    "KIQ_U_cols = {'SEQN':'SEQN', 'KIQ022': 'doc_kidney'}\n",
    "\n",
    "KIQ_U_I.columns = KIQ_U_I.columns.map(KIQ_U_cols)"
   ]
  },
  {
   "cell_type": "code",
   "execution_count": 504,
   "metadata": {},
   "outputs": [
    {
     "data": {
      "text/html": [
       "<div>\n",
       "<style scoped>\n",
       "    .dataframe tbody tr th:only-of-type {\n",
       "        vertical-align: middle;\n",
       "    }\n",
       "\n",
       "    .dataframe tbody tr th {\n",
       "        vertical-align: top;\n",
       "    }\n",
       "\n",
       "    .dataframe thead th {\n",
       "        text-align: right;\n",
       "    }\n",
       "</style>\n",
       "<table border=\"1\" class=\"dataframe\">\n",
       "  <thead>\n",
       "    <tr style=\"text-align: right;\">\n",
       "      <th></th>\n",
       "      <th>SEQN</th>\n",
       "      <th>doc_kidney</th>\n",
       "    </tr>\n",
       "  </thead>\n",
       "  <tbody>\n",
       "    <tr>\n",
       "      <th>0</th>\n",
       "      <td>83732.0</td>\n",
       "      <td>2.0</td>\n",
       "    </tr>\n",
       "    <tr>\n",
       "      <th>1</th>\n",
       "      <td>83733.0</td>\n",
       "      <td>2.0</td>\n",
       "    </tr>\n",
       "    <tr>\n",
       "      <th>2</th>\n",
       "      <td>83734.0</td>\n",
       "      <td>1.0</td>\n",
       "    </tr>\n",
       "    <tr>\n",
       "      <th>3</th>\n",
       "      <td>83735.0</td>\n",
       "      <td>2.0</td>\n",
       "    </tr>\n",
       "    <tr>\n",
       "      <th>4</th>\n",
       "      <td>83736.0</td>\n",
       "      <td>2.0</td>\n",
       "    </tr>\n",
       "  </tbody>\n",
       "</table>\n",
       "</div>"
      ],
      "text/plain": [
       "      SEQN  doc_kidney\n",
       "0  83732.0         2.0\n",
       "1  83733.0         2.0\n",
       "2  83734.0         1.0\n",
       "3  83735.0         2.0\n",
       "4  83736.0         2.0"
      ]
     },
     "execution_count": 504,
     "metadata": {},
     "output_type": "execute_result"
    }
   ],
   "source": [
    "KIQ_U_I.head()"
   ]
  },
  {
   "cell_type": "markdown",
   "metadata": {},
   "source": [
    "### Occupation"
   ]
  },
  {
   "cell_type": "markdown",
   "metadata": {},
   "source": [
    "OCQ_I\n",
    "- OCD150 - Type of work done last week\n",
    "1 - Working at a job or business\n",
    "2 - With a job or business but not at work\n",
    "3 - Looking for work, or\n",
    "4 - Not working at a job or business?\n",
    "7 - Refused, 9-  Don’t know\n",
    "- OCQ180 - Hours worked last week at all jobs\n",
    "    - Range 0-120 hours\n",
    "    - 77777, 999999\n"
   ]
  },
  {
   "cell_type": "code",
   "execution_count": 505,
   "metadata": {},
   "outputs": [],
   "source": [
    "OCQ_2015_2016 = pd.read_csv('./Questionnaire/OCQ_I.csv')\n",
    "\n",
    "OCQ_I = OCQ_2015_2016.filter(['SEQN', 'OCD150','OCQ180'], axis=1)\n",
    "OCQ_cols = {'SEQN':'SEQN', 'OCD150': 'work_type','OCQ180':'hrs_worked_week'}\n",
    "\n",
    "OCQ_I.columns = OCQ_I.columns.map(OCQ_cols)"
   ]
  },
  {
   "cell_type": "code",
   "execution_count": 506,
   "metadata": {},
   "outputs": [
    {
     "data": {
      "text/html": [
       "<div>\n",
       "<style scoped>\n",
       "    .dataframe tbody tr th:only-of-type {\n",
       "        vertical-align: middle;\n",
       "    }\n",
       "\n",
       "    .dataframe tbody tr th {\n",
       "        vertical-align: top;\n",
       "    }\n",
       "\n",
       "    .dataframe thead th {\n",
       "        text-align: right;\n",
       "    }\n",
       "</style>\n",
       "<table border=\"1\" class=\"dataframe\">\n",
       "  <thead>\n",
       "    <tr style=\"text-align: right;\">\n",
       "      <th></th>\n",
       "      <th>SEQN</th>\n",
       "      <th>work_type</th>\n",
       "      <th>hrs_worked_week</th>\n",
       "    </tr>\n",
       "  </thead>\n",
       "  <tbody>\n",
       "    <tr>\n",
       "      <th>0</th>\n",
       "      <td>83732.0</td>\n",
       "      <td>1.0</td>\n",
       "      <td>60.0</td>\n",
       "    </tr>\n",
       "    <tr>\n",
       "      <th>1</th>\n",
       "      <td>83733.0</td>\n",
       "      <td>4.0</td>\n",
       "      <td>NaN</td>\n",
       "    </tr>\n",
       "    <tr>\n",
       "      <th>2</th>\n",
       "      <td>83734.0</td>\n",
       "      <td>4.0</td>\n",
       "      <td>NaN</td>\n",
       "    </tr>\n",
       "    <tr>\n",
       "      <th>3</th>\n",
       "      <td>83735.0</td>\n",
       "      <td>2.0</td>\n",
       "      <td>NaN</td>\n",
       "    </tr>\n",
       "    <tr>\n",
       "      <th>4</th>\n",
       "      <td>83736.0</td>\n",
       "      <td>1.0</td>\n",
       "      <td>32.0</td>\n",
       "    </tr>\n",
       "  </tbody>\n",
       "</table>\n",
       "</div>"
      ],
      "text/plain": [
       "      SEQN  work_type  hrs_worked_week\n",
       "0  83732.0        1.0             60.0\n",
       "1  83733.0        4.0              NaN\n",
       "2  83734.0        4.0              NaN\n",
       "3  83735.0        2.0              NaN\n",
       "4  83736.0        1.0             32.0"
      ]
     },
     "execution_count": 506,
     "metadata": {},
     "output_type": "execute_result"
    }
   ],
   "source": [
    "OCQ_I.head()"
   ]
  },
  {
   "cell_type": "markdown",
   "metadata": {},
   "source": [
    "### Oral Health"
   ]
  },
  {
   "cell_type": "markdown",
   "metadata": {},
   "source": [
    "OHQ_I\n",
    "- OHQ680 - Last yr embarrassed because of mouth\n",
    "    - 1 very often to 5 never, 7, 9\n"
   ]
  },
  {
   "cell_type": "code",
   "execution_count": 507,
   "metadata": {},
   "outputs": [],
   "source": [
    "OHQ_2015_2016 = pd.read_csv('./Questionnaire/OHQ_I.csv')\n",
    "\n",
    "OHQ_I = OHQ_2015_2016.filter(['SEQN', 'OHQ680'], axis=1)\n",
    "OHQ_cols = {'SEQN':'SEQN', 'OHQ680': 'embarassed_mouth'}\n",
    "\n",
    "OHQ_I.columns = OHQ_I.columns.map(OHQ_cols)"
   ]
  },
  {
   "cell_type": "code",
   "execution_count": 508,
   "metadata": {},
   "outputs": [
    {
     "data": {
      "text/html": [
       "<div>\n",
       "<style scoped>\n",
       "    .dataframe tbody tr th:only-of-type {\n",
       "        vertical-align: middle;\n",
       "    }\n",
       "\n",
       "    .dataframe tbody tr th {\n",
       "        vertical-align: top;\n",
       "    }\n",
       "\n",
       "    .dataframe thead th {\n",
       "        text-align: right;\n",
       "    }\n",
       "</style>\n",
       "<table border=\"1\" class=\"dataframe\">\n",
       "  <thead>\n",
       "    <tr style=\"text-align: right;\">\n",
       "      <th></th>\n",
       "      <th>SEQN</th>\n",
       "      <th>embarassed_mouth</th>\n",
       "    </tr>\n",
       "  </thead>\n",
       "  <tbody>\n",
       "    <tr>\n",
       "      <th>0</th>\n",
       "      <td>83732.0</td>\n",
       "      <td>4.0</td>\n",
       "    </tr>\n",
       "    <tr>\n",
       "      <th>1</th>\n",
       "      <td>83733.0</td>\n",
       "      <td>5.0</td>\n",
       "    </tr>\n",
       "    <tr>\n",
       "      <th>2</th>\n",
       "      <td>83734.0</td>\n",
       "      <td>5.0</td>\n",
       "    </tr>\n",
       "    <tr>\n",
       "      <th>3</th>\n",
       "      <td>83735.0</td>\n",
       "      <td>5.0</td>\n",
       "    </tr>\n",
       "    <tr>\n",
       "      <th>4</th>\n",
       "      <td>83736.0</td>\n",
       "      <td>5.0</td>\n",
       "    </tr>\n",
       "  </tbody>\n",
       "</table>\n",
       "</div>"
      ],
      "text/plain": [
       "      SEQN  embarassed_mouth\n",
       "0  83732.0               4.0\n",
       "1  83733.0               5.0\n",
       "2  83734.0               5.0\n",
       "3  83735.0               5.0\n",
       "4  83736.0               5.0"
      ]
     },
     "execution_count": 508,
     "metadata": {},
     "output_type": "execute_result"
    }
   ],
   "source": [
    "OHQ_I.head()"
   ]
  },
  {
   "cell_type": "markdown",
   "metadata": {},
   "source": [
    "### Osteoperosis"
   ]
  },
  {
   "cell_type": "markdown",
   "metadata": {},
   "source": [
    "variables:\n",
    "- OSQ010A : broken_Iip - Has a doctor ever told {you/SP} that {you/s/he} had broken or fractured {your/his/her} . . .hip?\n",
    "- OSQ060 : doc_osteoporosis - Has a doctor ever told {you/SP} that {you/s/he} had osteoporosis, sometimes called thin or brittle bones?\n",
    "\n",
    "    - 1 yes, 2 no, 7 refused, 9 don't know"
   ]
  },
  {
   "cell_type": "code",
   "execution_count": 509,
   "metadata": {},
   "outputs": [],
   "source": [
    "# OSQ_2015_2016 = pd.read_csv('./Questionnaire/OSQ_I.csv')\n",
    "\n",
    "# OSQ_I = OSQ_2015_2016.filter(['SEQN', 'OSQ010A', 'OSQ060'], axis=1)\n",
    "# OSQ_cols = {'SEQN':'SEQN', 'OSQ010A': 'broken_Iip', 'OSQ060':'doc_osteoporosis'}\n",
    "\n",
    "# OSQ_I.columns = OSQ_I.columns.map(OSQ_cols)"
   ]
  },
  {
   "cell_type": "code",
   "execution_count": 510,
   "metadata": {},
   "outputs": [],
   "source": [
    "# OSQ_2015_2016.columns"
   ]
  },
  {
   "cell_type": "code",
   "execution_count": 511,
   "metadata": {},
   "outputs": [],
   "source": [
    "# OSQ_I.head()"
   ]
  },
  {
   "cell_type": "markdown",
   "metadata": {},
   "source": [
    "### Physical Activity"
   ]
  },
  {
   "cell_type": "markdown",
   "metadata": {},
   "source": [
    "variables:\n",
    "- PAQ650 - Vigorous recreational activities - In a typical week {do you/does SP} do any vigorous-intensity sports, fitness, or recreational activities that cause large increases in breathing or heart rate like running or basketball for at least 10 minutes continuously? 1 yes 2 no\n",
    "    - PAD200 - Vigorous activity over past 30 days ^^\n",
    "- PAQ665 - Moderate recreational activities\n",
    "    - PAD320 - Moderate activity over past 30 days ^^\n",
    "- PAD680 : min_sedetary - The following question is about sitting at school, at home, getting to and from places, or with friends including time spent sitting at a desk, traveling in a car or bus, reading, playing cards, watching television, or using a computer. Do not include time spent sleeping. How much time {do you/does SP} usually spend sitting on a typical day?\n",
    "- PAQ706 - Days physically active at least 60 min.\n",
    "    - 1-7, 77 99\n",
    "- PAQ710 - Hours watch TV or videos past 30 days\n",
    "    - 1-5, 8=don’t watch, 77, 99\n",
    "- PAQ715 - Hours use computer past 30 days (on average/day)\n",
    "    - “ “\n",
    "- PAQ722 - Any physical activity in past 7 days"
   ]
  },
  {
   "cell_type": "code",
   "execution_count": 512,
   "metadata": {},
   "outputs": [],
   "source": [
    "PAQ_2015_2016 = pd.read_csv('./Questionnaire/PAQ_I.csv')\n",
    "\n",
    "PAQ_I = PAQ_2015_2016.filter(['SEQN', 'PAQ650', 'PAD200', 'PAQ665', 'PAD320',\n",
    "           'PAD680', 'PAQ706', 'PAQ710','PAQ715','PAQ722'], axis=1)\n",
    "\n",
    "PAQ_cols = {'SEQN':'SEQN', 'PAQ650':'vigorous_activity', 'PAD200':'vigorous_activity', 'PAQ665':'moderate_activity',\n",
    "           'PAD3205':'moderate_activity', 'PAD680':'min_sedetary', 'PAQ706':'days_60min_active', \n",
    "            'PAQ710':'hours_TV','PAQ715':'hours_computer','PAQ722':'activity_week'}\n",
    "\n",
    "PAQ_I.columns = PAQ_I.columns.map(PAQ_cols)"
   ]
  },
  {
   "cell_type": "code",
   "execution_count": 513,
   "metadata": {},
   "outputs": [
    {
     "data": {
      "text/plain": [
       "Index(['SEQN', 'vigorous_activity', 'moderate_activity', 'min_sedetary',\n",
       "       'days_60min_active', 'hours_TV', 'hours_computer', 'activity_week'],\n",
       "      dtype='object')"
      ]
     },
     "execution_count": 513,
     "metadata": {},
     "output_type": "execute_result"
    }
   ],
   "source": [
    "PAQ_I.columns"
   ]
  },
  {
   "cell_type": "code",
   "execution_count": 514,
   "metadata": {},
   "outputs": [
    {
     "data": {
      "text/html": [
       "<div>\n",
       "<style scoped>\n",
       "    .dataframe tbody tr th:only-of-type {\n",
       "        vertical-align: middle;\n",
       "    }\n",
       "\n",
       "    .dataframe tbody tr th {\n",
       "        vertical-align: top;\n",
       "    }\n",
       "\n",
       "    .dataframe thead th {\n",
       "        text-align: right;\n",
       "    }\n",
       "</style>\n",
       "<table border=\"1\" class=\"dataframe\">\n",
       "  <thead>\n",
       "    <tr style=\"text-align: right;\">\n",
       "      <th></th>\n",
       "      <th>SEQN</th>\n",
       "      <th>vigorous_activity</th>\n",
       "      <th>moderate_activity</th>\n",
       "      <th>min_sedetary</th>\n",
       "      <th>days_60min_active</th>\n",
       "      <th>hours_TV</th>\n",
       "      <th>hours_computer</th>\n",
       "      <th>activity_week</th>\n",
       "    </tr>\n",
       "  </thead>\n",
       "  <tbody>\n",
       "    <tr>\n",
       "      <th>0</th>\n",
       "      <td>83732.0</td>\n",
       "      <td>2.0</td>\n",
       "      <td>1.0</td>\n",
       "      <td>480.0</td>\n",
       "      <td>NaN</td>\n",
       "      <td>5.0</td>\n",
       "      <td>5.397605e-79</td>\n",
       "      <td>NaN</td>\n",
       "    </tr>\n",
       "    <tr>\n",
       "      <th>1</th>\n",
       "      <td>83733.0</td>\n",
       "      <td>2.0</td>\n",
       "      <td>2.0</td>\n",
       "      <td>300.0</td>\n",
       "      <td>NaN</td>\n",
       "      <td>5.0</td>\n",
       "      <td>5.397605e-79</td>\n",
       "      <td>NaN</td>\n",
       "    </tr>\n",
       "    <tr>\n",
       "      <th>2</th>\n",
       "      <td>83734.0</td>\n",
       "      <td>2.0</td>\n",
       "      <td>2.0</td>\n",
       "      <td>480.0</td>\n",
       "      <td>NaN</td>\n",
       "      <td>5.0</td>\n",
       "      <td>8.000000e+00</td>\n",
       "      <td>NaN</td>\n",
       "    </tr>\n",
       "    <tr>\n",
       "      <th>3</th>\n",
       "      <td>83735.0</td>\n",
       "      <td>2.0</td>\n",
       "      <td>2.0</td>\n",
       "      <td>480.0</td>\n",
       "      <td>NaN</td>\n",
       "      <td>3.0</td>\n",
       "      <td>2.000000e+00</td>\n",
       "      <td>NaN</td>\n",
       "    </tr>\n",
       "    <tr>\n",
       "      <th>4</th>\n",
       "      <td>83736.0</td>\n",
       "      <td>2.0</td>\n",
       "      <td>2.0</td>\n",
       "      <td>540.0</td>\n",
       "      <td>NaN</td>\n",
       "      <td>4.0</td>\n",
       "      <td>5.000000e+00</td>\n",
       "      <td>NaN</td>\n",
       "    </tr>\n",
       "  </tbody>\n",
       "</table>\n",
       "</div>"
      ],
      "text/plain": [
       "      SEQN  vigorous_activity  moderate_activity  min_sedetary  \\\n",
       "0  83732.0                2.0                1.0         480.0   \n",
       "1  83733.0                2.0                2.0         300.0   \n",
       "2  83734.0                2.0                2.0         480.0   \n",
       "3  83735.0                2.0                2.0         480.0   \n",
       "4  83736.0                2.0                2.0         540.0   \n",
       "\n",
       "   days_60min_active  hours_TV  hours_computer  activity_week  \n",
       "0                NaN       5.0    5.397605e-79            NaN  \n",
       "1                NaN       5.0    5.397605e-79            NaN  \n",
       "2                NaN       5.0    8.000000e+00            NaN  \n",
       "3                NaN       3.0    2.000000e+00            NaN  \n",
       "4                NaN       4.0    5.000000e+00            NaN  "
      ]
     },
     "execution_count": 514,
     "metadata": {},
     "output_type": "execute_result"
    }
   ],
   "source": [
    "PAQ_I.head()"
   ]
  },
  {
   "cell_type": "markdown",
   "metadata": {},
   "source": [
    "### Physical Functioning"
   ]
  },
  {
   "cell_type": "markdown",
   "metadata": {},
   "source": [
    "PFQ_I\n",
    "- PFQ049 - Limitations keeping you from working\n",
    "    - 1,2,7,9\n",
    "- PFQ059 - Physical, mental, emotional limitations\n",
    "    - 1,2,7,9\n",
    "- PFQ061A - Managing money difficulty\n",
    "    - 1 no difficulty to 4 unable to do, 5 don’t do it, 7, 9\n",
    "\n",
    "Many other activities I could include"
   ]
  },
  {
   "cell_type": "code",
   "execution_count": 515,
   "metadata": {},
   "outputs": [],
   "source": [
    "PFQ_2015_2016 = pd.read_csv('./Questionnaire/PFQ_I.csv')\n",
    "\n",
    "PFQ_I = PFQ_2015_2016.filter(['SEQN', 'PFQ049', 'PFQ059', 'PFQ061A'], axis=1)\n",
    "\n",
    "PFQ_cols = {'SEQN':'SEQN', 'PFQ049':'limit_work', 'PFQ059':'PME_limit', 'PFQ061A':'manage_$_difficult'}\n",
    "\n",
    "PFQ_I.columns = PFQ_I.columns.map(PFQ_cols)"
   ]
  },
  {
   "cell_type": "code",
   "execution_count": 516,
   "metadata": {},
   "outputs": [
    {
     "data": {
      "text/html": [
       "<div>\n",
       "<style scoped>\n",
       "    .dataframe tbody tr th:only-of-type {\n",
       "        vertical-align: middle;\n",
       "    }\n",
       "\n",
       "    .dataframe tbody tr th {\n",
       "        vertical-align: top;\n",
       "    }\n",
       "\n",
       "    .dataframe thead th {\n",
       "        text-align: right;\n",
       "    }\n",
       "</style>\n",
       "<table border=\"1\" class=\"dataframe\">\n",
       "  <thead>\n",
       "    <tr style=\"text-align: right;\">\n",
       "      <th></th>\n",
       "      <th>SEQN</th>\n",
       "      <th>limit_work</th>\n",
       "      <th>PME_limit</th>\n",
       "      <th>manage_$_difficult</th>\n",
       "    </tr>\n",
       "  </thead>\n",
       "  <tbody>\n",
       "    <tr>\n",
       "      <th>0</th>\n",
       "      <td>83732.0</td>\n",
       "      <td>2.0</td>\n",
       "      <td>NaN</td>\n",
       "      <td>1.0</td>\n",
       "    </tr>\n",
       "    <tr>\n",
       "      <th>1</th>\n",
       "      <td>83733.0</td>\n",
       "      <td>2.0</td>\n",
       "      <td>2.0</td>\n",
       "      <td>NaN</td>\n",
       "    </tr>\n",
       "    <tr>\n",
       "      <th>2</th>\n",
       "      <td>83734.0</td>\n",
       "      <td>2.0</td>\n",
       "      <td>NaN</td>\n",
       "      <td>2.0</td>\n",
       "    </tr>\n",
       "    <tr>\n",
       "      <th>3</th>\n",
       "      <td>83735.0</td>\n",
       "      <td>2.0</td>\n",
       "      <td>2.0</td>\n",
       "      <td>NaN</td>\n",
       "    </tr>\n",
       "    <tr>\n",
       "      <th>4</th>\n",
       "      <td>83736.0</td>\n",
       "      <td>2.0</td>\n",
       "      <td>NaN</td>\n",
       "      <td>1.0</td>\n",
       "    </tr>\n",
       "  </tbody>\n",
       "</table>\n",
       "</div>"
      ],
      "text/plain": [
       "      SEQN  limit_work  PME_limit  manage_$_difficult\n",
       "0  83732.0         2.0        NaN                 1.0\n",
       "1  83733.0         2.0        2.0                 NaN\n",
       "2  83734.0         2.0        NaN                 2.0\n",
       "3  83735.0         2.0        2.0                 NaN\n",
       "4  83736.0         2.0        NaN                 1.0"
      ]
     },
     "execution_count": 516,
     "metadata": {},
     "output_type": "execute_result"
    }
   ],
   "source": [
    "PFQ_I.head()"
   ]
  },
  {
   "cell_type": "markdown",
   "metadata": {},
   "source": [
    "### Sleeping Disorders"
   ]
  },
  {
   "cell_type": "markdown",
   "metadata": {},
   "source": [
    "variables:\n",
    "- SLQ060 : doc_sleeping_disorder - {Have you/Has SP} ever been told by a doctor or other health professional that {you have/s/he has} a sleep disorder?\n",
    "- SLD010H - How much sleep do you get (hours)?\n",
    "    - 2-12, 77, 99"
   ]
  },
  {
   "cell_type": "code",
   "execution_count": 517,
   "metadata": {},
   "outputs": [],
   "source": [
    "SLQ_2015_2016 = pd.read_csv('./Questionnaire/SLQ_I.csv')\n",
    "\n",
    "SLQ_I = SLQ_2015_2016.filter(['SEQN', 'SLQ060','SLD010H','SLD012'], axis=1)\n",
    "SLQ_cols = {'SEQN':'SEQN', 'SLQ060': 'doc_sleeping_disorder','SLD012':'hrs_sleep'}\n",
    "\n",
    "SLQ_I.columns = SLQ_I.columns.map(SLQ_cols)"
   ]
  },
  {
   "cell_type": "code",
   "execution_count": 518,
   "metadata": {},
   "outputs": [
    {
     "data": {
      "text/plain": [
       "Index(['SEQN', 'SLQ300', 'SLQ310', 'SLD012', 'SLQ030', 'SLQ040', 'SLQ050',\n",
       "       'SLQ120'],\n",
       "      dtype='object')"
      ]
     },
     "execution_count": 518,
     "metadata": {},
     "output_type": "execute_result"
    }
   ],
   "source": [
    "SLQ_2015_2016.columns"
   ]
  },
  {
   "cell_type": "code",
   "execution_count": 519,
   "metadata": {},
   "outputs": [
    {
     "data": {
      "text/html": [
       "<div>\n",
       "<style scoped>\n",
       "    .dataframe tbody tr th:only-of-type {\n",
       "        vertical-align: middle;\n",
       "    }\n",
       "\n",
       "    .dataframe tbody tr th {\n",
       "        vertical-align: top;\n",
       "    }\n",
       "\n",
       "    .dataframe thead th {\n",
       "        text-align: right;\n",
       "    }\n",
       "</style>\n",
       "<table border=\"1\" class=\"dataframe\">\n",
       "  <thead>\n",
       "    <tr style=\"text-align: right;\">\n",
       "      <th></th>\n",
       "      <th>SEQN</th>\n",
       "      <th>hrs_sleep</th>\n",
       "    </tr>\n",
       "  </thead>\n",
       "  <tbody>\n",
       "    <tr>\n",
       "      <th>0</th>\n",
       "      <td>83732.0</td>\n",
       "      <td>5.5</td>\n",
       "    </tr>\n",
       "    <tr>\n",
       "      <th>1</th>\n",
       "      <td>83733.0</td>\n",
       "      <td>8.0</td>\n",
       "    </tr>\n",
       "    <tr>\n",
       "      <th>2</th>\n",
       "      <td>83734.0</td>\n",
       "      <td>7.0</td>\n",
       "    </tr>\n",
       "    <tr>\n",
       "      <th>3</th>\n",
       "      <td>83735.0</td>\n",
       "      <td>6.5</td>\n",
       "    </tr>\n",
       "    <tr>\n",
       "      <th>4</th>\n",
       "      <td>83736.0</td>\n",
       "      <td>NaN</td>\n",
       "    </tr>\n",
       "  </tbody>\n",
       "</table>\n",
       "</div>"
      ],
      "text/plain": [
       "      SEQN  hrs_sleep\n",
       "0  83732.0        5.5\n",
       "1  83733.0        8.0\n",
       "2  83734.0        7.0\n",
       "3  83735.0        6.5\n",
       "4  83736.0        NaN"
      ]
     },
     "execution_count": 519,
     "metadata": {},
     "output_type": "execute_result"
    }
   ],
   "source": [
    "SLQ_I.head()"
   ]
  },
  {
   "cell_type": "markdown",
   "metadata": {},
   "source": [
    "### Smoking - Cigarette Use (SMQ_I)"
   ]
  },
  {
   "cell_type": "markdown",
   "metadata": {},
   "source": [
    "variables:\n",
    "- SMQ020 : smoker - These next questions are about cigarette smoking and other tobacco use. {Have you/Has SP} smoked at least 100 cigarettes in {your/his/her} entire life?"
   ]
  },
  {
   "cell_type": "code",
   "execution_count": 520,
   "metadata": {},
   "outputs": [],
   "source": [
    "SMQ_2015_2016 = pd.read_csv('./Questionnaire/SMQ_I.csv')\n",
    "\n",
    "SMQ_I = SMQ_2015_2016.filter(['SEQN', 'SMQ020'], axis=1)\n",
    "SMQ_cols = {'SEQN':'SEQN', 'SMQ020': 'smoker'}\n",
    "\n",
    "SMQ_I.columns = SMQ_I.columns.map(SMQ_cols)"
   ]
  },
  {
   "cell_type": "code",
   "execution_count": 521,
   "metadata": {},
   "outputs": [
    {
     "data": {
      "text/html": [
       "<div>\n",
       "<style scoped>\n",
       "    .dataframe tbody tr th:only-of-type {\n",
       "        vertical-align: middle;\n",
       "    }\n",
       "\n",
       "    .dataframe tbody tr th {\n",
       "        vertical-align: top;\n",
       "    }\n",
       "\n",
       "    .dataframe thead th {\n",
       "        text-align: right;\n",
       "    }\n",
       "</style>\n",
       "<table border=\"1\" class=\"dataframe\">\n",
       "  <thead>\n",
       "    <tr style=\"text-align: right;\">\n",
       "      <th></th>\n",
       "      <th>SEQN</th>\n",
       "      <th>smoker</th>\n",
       "    </tr>\n",
       "  </thead>\n",
       "  <tbody>\n",
       "    <tr>\n",
       "      <th>0</th>\n",
       "      <td>83732.0</td>\n",
       "      <td>1.0</td>\n",
       "    </tr>\n",
       "    <tr>\n",
       "      <th>1</th>\n",
       "      <td>83733.0</td>\n",
       "      <td>1.0</td>\n",
       "    </tr>\n",
       "    <tr>\n",
       "      <th>2</th>\n",
       "      <td>83734.0</td>\n",
       "      <td>1.0</td>\n",
       "    </tr>\n",
       "    <tr>\n",
       "      <th>3</th>\n",
       "      <td>83735.0</td>\n",
       "      <td>2.0</td>\n",
       "    </tr>\n",
       "    <tr>\n",
       "      <th>4</th>\n",
       "      <td>83736.0</td>\n",
       "      <td>2.0</td>\n",
       "    </tr>\n",
       "  </tbody>\n",
       "</table>\n",
       "</div>"
      ],
      "text/plain": [
       "      SEQN  smoker\n",
       "0  83732.0     1.0\n",
       "1  83733.0     1.0\n",
       "2  83734.0     1.0\n",
       "3  83735.0     2.0\n",
       "4  83736.0     2.0"
      ]
     },
     "execution_count": 521,
     "metadata": {},
     "output_type": "execute_result"
    }
   ],
   "source": [
    "SMQ_I.head()"
   ]
  },
  {
   "cell_type": "code",
   "execution_count": 522,
   "metadata": {},
   "outputs": [],
   "source": [
    "SMQRTU_2015_2016 = pd.read_csv('./Questionnaire/SMQRTU_I.csv')\n",
    "\n",
    "SMQRTU_I = SMQRTU_2015_2016.filter(['SEQN', 'SMQ681'], axis=1)\n",
    "SMQ_cols = {'SEQN':'SEQN', 'SMQ681': 'smoked_5days'}\n",
    "\n",
    "SMQRTU_I.columns = SMQRTU_I.columns.map(SMQ_cols)"
   ]
  },
  {
   "cell_type": "code",
   "execution_count": 523,
   "metadata": {},
   "outputs": [
    {
     "data": {
      "text/html": [
       "<div>\n",
       "<style scoped>\n",
       "    .dataframe tbody tr th:only-of-type {\n",
       "        vertical-align: middle;\n",
       "    }\n",
       "\n",
       "    .dataframe tbody tr th {\n",
       "        vertical-align: top;\n",
       "    }\n",
       "\n",
       "    .dataframe thead th {\n",
       "        text-align: right;\n",
       "    }\n",
       "</style>\n",
       "<table border=\"1\" class=\"dataframe\">\n",
       "  <thead>\n",
       "    <tr style=\"text-align: right;\">\n",
       "      <th></th>\n",
       "      <th>SEQN</th>\n",
       "      <th>smoked_5days</th>\n",
       "    </tr>\n",
       "  </thead>\n",
       "  <tbody>\n",
       "    <tr>\n",
       "      <th>0</th>\n",
       "      <td>83732.0</td>\n",
       "      <td>2.0</td>\n",
       "    </tr>\n",
       "    <tr>\n",
       "      <th>1</th>\n",
       "      <td>83733.0</td>\n",
       "      <td>1.0</td>\n",
       "    </tr>\n",
       "    <tr>\n",
       "      <th>2</th>\n",
       "      <td>83734.0</td>\n",
       "      <td>2.0</td>\n",
       "    </tr>\n",
       "    <tr>\n",
       "      <th>3</th>\n",
       "      <td>83735.0</td>\n",
       "      <td>2.0</td>\n",
       "    </tr>\n",
       "    <tr>\n",
       "      <th>4</th>\n",
       "      <td>83736.0</td>\n",
       "      <td>1.0</td>\n",
       "    </tr>\n",
       "  </tbody>\n",
       "</table>\n",
       "</div>"
      ],
      "text/plain": [
       "      SEQN  smoked_5days\n",
       "0  83732.0           2.0\n",
       "1  83733.0           1.0\n",
       "2  83734.0           2.0\n",
       "3  83735.0           2.0\n",
       "4  83736.0           1.0"
      ]
     },
     "execution_count": 523,
     "metadata": {},
     "output_type": "execute_result"
    }
   ],
   "source": [
    "SMQRTU_I.head()"
   ]
  },
  {
   "cell_type": "markdown",
   "metadata": {},
   "source": [
    "### Sexual Behavior (SXQ_I)"
   ]
  },
  {
   "cell_type": "markdown",
   "metadata": {},
   "source": [
    "variables:\n",
    "- SXQ292 : sexual_orientation_M - Do you think of yourself as...1 Heterosexual or straight (attracted to women), 2 Homosexual or gay (attracted to men), 3 Bisexual (attracted to men and women), 4 Something else, 5 Not sure\n",
    "- SXQ294 : sexual_orientation_F - \"\"\n",
    "- SXQ753 : doc_IPV - Has a doctor or other health care professional ever told you that you had human papillomavirus or HPV? 1 yes, 2 no, 7 refuse, 9 don't know\n",
    "- SXD171 : lifetime_female_partners - In your lifetime, with how many women have you had any kind of sex?\n",
    "- SXD101 : lifetime_male_partners - In your lifetime, with how many men have you had any kind of sex?\n"
   ]
  },
  {
   "cell_type": "code",
   "execution_count": 524,
   "metadata": {},
   "outputs": [],
   "source": [
    "SXQ_2015_2016 = pd.read_csv('./Questionnaire/SXQ_I.csv')\n",
    "\n",
    "SXQ_I = SXQ_2015_2016.filter(['SEQN', 'SXQ292', 'SXQ294', 'SXD171', 'SXD101', 'SXQ753'], axis=1)\n",
    "SXQ_cols = {'SEQN':'SEQN', 'SXQ292' : 'sexual_orientation_M', 'SXQ294' : 'sexual_orientation_F', \n",
    "           'SXD171' : 'lifetime_female_partners', 'SXD101' : 'lifetime_male_partners', 'SXQ753' : 'doc_HPV'}\n",
    "\n",
    "SXQ_I.columns = SXQ_I.columns.map(SXQ_cols)\n"
   ]
  },
  {
   "cell_type": "code",
   "execution_count": 525,
   "metadata": {},
   "outputs": [
    {
     "data": {
      "text/plain": [
       "Index(['SEQN', 'SXD021', 'SXQ800', 'SXQ803', 'SXQ806', 'SXQ809', 'SXQ700',\n",
       "       'SXQ703', 'SXQ706', 'SXQ709', 'SXD031', 'SXD171', 'SXD510', 'SXQ824',\n",
       "       'SXQ827', 'SXD633', 'SXQ636', 'SXQ639', 'SXD642', 'SXQ410', 'SXQ550',\n",
       "       'SXQ836', 'SXQ841', 'SXQ853', 'SXD621', 'SXQ624', 'SXQ627', 'SXD630',\n",
       "       'SXQ645', 'SXQ648', 'SXQ610', 'SXQ251', 'SXQ590', 'SXQ600', 'SXD101',\n",
       "       'SXD450', 'SXQ724', 'SXQ727', 'SXQ130', 'SXQ490', 'SXQ741', 'SXQ753',\n",
       "       'SXQ260', 'SXQ265', 'SXQ267', 'SXQ270', 'SXQ272', 'SXQ280', 'SXQ295',\n",
       "       'SXQ296'],\n",
       "      dtype='object')"
      ]
     },
     "execution_count": 525,
     "metadata": {},
     "output_type": "execute_result"
    }
   ],
   "source": [
    "SXQ_2015_2016.columns"
   ]
  },
  {
   "cell_type": "code",
   "execution_count": 526,
   "metadata": {},
   "outputs": [
    {
     "data": {
      "text/html": [
       "<div>\n",
       "<style scoped>\n",
       "    .dataframe tbody tr th:only-of-type {\n",
       "        vertical-align: middle;\n",
       "    }\n",
       "\n",
       "    .dataframe tbody tr th {\n",
       "        vertical-align: top;\n",
       "    }\n",
       "\n",
       "    .dataframe thead th {\n",
       "        text-align: right;\n",
       "    }\n",
       "</style>\n",
       "<table border=\"1\" class=\"dataframe\">\n",
       "  <thead>\n",
       "    <tr style=\"text-align: right;\">\n",
       "      <th></th>\n",
       "      <th>SEQN</th>\n",
       "      <th>lifetime_female_partners</th>\n",
       "      <th>lifetime_male_partners</th>\n",
       "      <th>doc_HPV</th>\n",
       "    </tr>\n",
       "  </thead>\n",
       "  <tbody>\n",
       "    <tr>\n",
       "      <th>0</th>\n",
       "      <td>83732.0</td>\n",
       "      <td>5.0</td>\n",
       "      <td>NaN</td>\n",
       "      <td>NaN</td>\n",
       "    </tr>\n",
       "    <tr>\n",
       "      <th>1</th>\n",
       "      <td>83733.0</td>\n",
       "      <td>63.0</td>\n",
       "      <td>NaN</td>\n",
       "      <td>NaN</td>\n",
       "    </tr>\n",
       "    <tr>\n",
       "      <th>2</th>\n",
       "      <td>83735.0</td>\n",
       "      <td>NaN</td>\n",
       "      <td>5.397605e-79</td>\n",
       "      <td>NaN</td>\n",
       "    </tr>\n",
       "    <tr>\n",
       "      <th>3</th>\n",
       "      <td>83736.0</td>\n",
       "      <td>NaN</td>\n",
       "      <td>1.000000e+01</td>\n",
       "      <td>2.0</td>\n",
       "    </tr>\n",
       "    <tr>\n",
       "      <th>4</th>\n",
       "      <td>83741.0</td>\n",
       "      <td>15.0</td>\n",
       "      <td>NaN</td>\n",
       "      <td>NaN</td>\n",
       "    </tr>\n",
       "  </tbody>\n",
       "</table>\n",
       "</div>"
      ],
      "text/plain": [
       "      SEQN  lifetime_female_partners  lifetime_male_partners  doc_HPV\n",
       "0  83732.0                       5.0                     NaN      NaN\n",
       "1  83733.0                      63.0                     NaN      NaN\n",
       "2  83735.0                       NaN            5.397605e-79      NaN\n",
       "3  83736.0                       NaN            1.000000e+01      2.0\n",
       "4  83741.0                      15.0                     NaN      NaN"
      ]
     },
     "execution_count": 526,
     "metadata": {},
     "output_type": "execute_result"
    }
   ],
   "source": [
    "SXQ_I.head()"
   ]
  },
  {
   "cell_type": "markdown",
   "metadata": {},
   "source": [
    "notes: may want to concat the # of partners and sexual orientation despite gender"
   ]
  },
  {
   "cell_type": "markdown",
   "metadata": {},
   "source": [
    "### Taste & Smell"
   ]
  },
  {
   "cell_type": "markdown",
   "metadata": {},
   "source": [
    "CSQ_I\n",
    "- CSQ010 - Had problem with smell past 12 months?\n",
    "    - 1,2,7,9\n",
    "- CSQ080 - Had problem with taste past 12 months?\n",
    "    - 1,2,7,9\n",
    "- CSQ200 - Persistent cold/flu last 12 months?\n",
    "    - “ “\n",
    "- CSQ204 - Frequent nasal congestion in past 12 mth"
   ]
  },
  {
   "cell_type": "code",
   "execution_count": 527,
   "metadata": {},
   "outputs": [],
   "source": [
    "# CSQ_2015_2016 = pd.read_csv('./Questionnaire/CSQ_I.csv')\n",
    "\n",
    "# CSQ_I = CSQ_2015_2016.filter(['SEQN', 'CSQ010','CSQ080','CSQ200','CSQ204'], axis=1)\n",
    "# CSQ_cols = {'SEQN':'SEQN', 'CSQ010': 'prob_smell','CSQ080':'prob_tatse',\n",
    "#             'CSQ200':'persistent_cold','CSQ204':'nasal_congestion'}\n",
    "\n",
    "# CSQ_I.columns = CSQ_I.columns.map(CSQ_cols)"
   ]
  },
  {
   "cell_type": "code",
   "execution_count": 528,
   "metadata": {},
   "outputs": [],
   "source": [
    "# CSQ_I.head()"
   ]
  },
  {
   "cell_type": "markdown",
   "metadata": {},
   "source": [
    "### Alcohol Use (ALQ_I)"
   ]
  },
  {
   "cell_type": "markdown",
   "metadata": {},
   "source": [
    "Variables: \n",
    "- ALQ151 : alcoholic - Was there ever a time or times in {your/SP's} life when {you/he/she} drank {DISPLAY NUMBER} or more drinks of any kind of alcoholic beverage almost every day? 1 yes, 2 no"
   ]
  },
  {
   "cell_type": "code",
   "execution_count": 529,
   "metadata": {},
   "outputs": [],
   "source": [
    "ALQ_2015_2016 = pd.read_csv('./Questionnaire/ALQ_I.csv')\n",
    "\n",
    "ALQ_I = ALQ_2015_2016.filter(['SEQN', 'ALQ151'], axis=1)\n",
    "ALQ_cols = {'SEQN':'SEQN', 'ALQ151': 'alcoholic'}\n",
    "\n",
    "ALQ_I.columns = ALQ_I.columns.map(ALQ_cols)"
   ]
  },
  {
   "cell_type": "code",
   "execution_count": 530,
   "metadata": {},
   "outputs": [
    {
     "data": {
      "text/html": [
       "<div>\n",
       "<style scoped>\n",
       "    .dataframe tbody tr th:only-of-type {\n",
       "        vertical-align: middle;\n",
       "    }\n",
       "\n",
       "    .dataframe tbody tr th {\n",
       "        vertical-align: top;\n",
       "    }\n",
       "\n",
       "    .dataframe thead th {\n",
       "        text-align: right;\n",
       "    }\n",
       "</style>\n",
       "<table border=\"1\" class=\"dataframe\">\n",
       "  <thead>\n",
       "    <tr style=\"text-align: right;\">\n",
       "      <th></th>\n",
       "      <th>SEQN</th>\n",
       "      <th>alcoholic</th>\n",
       "    </tr>\n",
       "  </thead>\n",
       "  <tbody>\n",
       "    <tr>\n",
       "      <th>0</th>\n",
       "      <td>83732.0</td>\n",
       "      <td>2.0</td>\n",
       "    </tr>\n",
       "    <tr>\n",
       "      <th>1</th>\n",
       "      <td>83733.0</td>\n",
       "      <td>1.0</td>\n",
       "    </tr>\n",
       "    <tr>\n",
       "      <th>2</th>\n",
       "      <td>83734.0</td>\n",
       "      <td>1.0</td>\n",
       "    </tr>\n",
       "    <tr>\n",
       "      <th>3</th>\n",
       "      <td>83735.0</td>\n",
       "      <td>2.0</td>\n",
       "    </tr>\n",
       "    <tr>\n",
       "      <th>4</th>\n",
       "      <td>83736.0</td>\n",
       "      <td>2.0</td>\n",
       "    </tr>\n",
       "  </tbody>\n",
       "</table>\n",
       "</div>"
      ],
      "text/plain": [
       "      SEQN  alcoholic\n",
       "0  83732.0        2.0\n",
       "1  83733.0        1.0\n",
       "2  83734.0        1.0\n",
       "3  83735.0        2.0\n",
       "4  83736.0        2.0"
      ]
     },
     "execution_count": 530,
     "metadata": {},
     "output_type": "execute_result"
    }
   ],
   "source": [
    "ALQ_I.head()"
   ]
  },
  {
   "cell_type": "markdown",
   "metadata": {},
   "source": [
    "### Weight History"
   ]
  },
  {
   "cell_type": "markdown",
   "metadata": {},
   "source": [
    "WHQ_I\n",
    "- WHQ030 - How do you consider your weight\n",
    "    - 1 - Overweight\n",
    "    - 2 - Underweight,\n",
    "    - 3 - About the right weight?\n",
    "    - 7 - Refused, 9 - Don’t Know\n",
    "- WHQ070 - Tried to lose weight in past year\n",
    "    - 1,2,7,9\n"
   ]
  },
  {
   "cell_type": "code",
   "execution_count": 531,
   "metadata": {},
   "outputs": [],
   "source": [
    "WHQ_2015_2016 = pd.read_csv('./Questionnaire/WHQ_I.csv')\n",
    "\n",
    "WHQ_I = WHQ_2015_2016.filter(['SEQN', 'WHQ030','WHQ070'], axis=1)\n",
    "WHQ_cols = {'SEQN':'SEQN', 'WHQ030':'consider_weight','WHQ070':'tried_lose_weight'}\n",
    "\n",
    "WHQ_I.columns = WHQ_I.columns.map(WHQ_cols)"
   ]
  },
  {
   "cell_type": "code",
   "execution_count": 532,
   "metadata": {},
   "outputs": [
    {
     "data": {
      "text/html": [
       "<div>\n",
       "<style scoped>\n",
       "    .dataframe tbody tr th:only-of-type {\n",
       "        vertical-align: middle;\n",
       "    }\n",
       "\n",
       "    .dataframe tbody tr th {\n",
       "        vertical-align: top;\n",
       "    }\n",
       "\n",
       "    .dataframe thead th {\n",
       "        text-align: right;\n",
       "    }\n",
       "</style>\n",
       "<table border=\"1\" class=\"dataframe\">\n",
       "  <thead>\n",
       "    <tr style=\"text-align: right;\">\n",
       "      <th></th>\n",
       "      <th>SEQN</th>\n",
       "      <th>consider_weight</th>\n",
       "      <th>tried_lose_weight</th>\n",
       "    </tr>\n",
       "  </thead>\n",
       "  <tbody>\n",
       "    <tr>\n",
       "      <th>0</th>\n",
       "      <td>83732.0</td>\n",
       "      <td>3.0</td>\n",
       "      <td>NaN</td>\n",
       "    </tr>\n",
       "    <tr>\n",
       "      <th>1</th>\n",
       "      <td>83733.0</td>\n",
       "      <td>1.0</td>\n",
       "      <td>2.0</td>\n",
       "    </tr>\n",
       "    <tr>\n",
       "      <th>2</th>\n",
       "      <td>83734.0</td>\n",
       "      <td>3.0</td>\n",
       "      <td>NaN</td>\n",
       "    </tr>\n",
       "    <tr>\n",
       "      <th>3</th>\n",
       "      <td>83735.0</td>\n",
       "      <td>1.0</td>\n",
       "      <td>1.0</td>\n",
       "    </tr>\n",
       "    <tr>\n",
       "      <th>4</th>\n",
       "      <td>83736.0</td>\n",
       "      <td>2.0</td>\n",
       "      <td>2.0</td>\n",
       "    </tr>\n",
       "  </tbody>\n",
       "</table>\n",
       "</div>"
      ],
      "text/plain": [
       "      SEQN  consider_weight  tried_lose_weight\n",
       "0  83732.0              3.0                NaN\n",
       "1  83733.0              1.0                2.0\n",
       "2  83734.0              3.0                NaN\n",
       "3  83735.0              1.0                1.0\n",
       "4  83736.0              2.0                2.0"
      ]
     },
     "execution_count": 532,
     "metadata": {},
     "output_type": "execute_result"
    }
   ],
   "source": [
    "WHQ_I.head()"
   ]
  },
  {
   "cell_type": "markdown",
   "metadata": {},
   "source": [
    "## Laboratory Data"
   ]
  },
  {
   "cell_type": "markdown",
   "metadata": {},
   "source": [
    "### Cholesterol - HDL (HDL_I)"
   ]
  },
  {
   "cell_type": "markdown",
   "metadata": {},
   "source": [
    "variables:\n",
    "- LBDHDD : HDL - Direct HDL-Cholesterol (mg/dL), range 10-173"
   ]
  },
  {
   "cell_type": "code",
   "execution_count": 533,
   "metadata": {},
   "outputs": [],
   "source": [
    "HDL_2015_2016 = pd.read_csv('./Laboratory/HDL_I.csv')\n",
    "\n",
    "HDL_I = HDL_2015_2016.filter(['SEQN', 'LBDHDD'], axis=1)\n",
    "HDL_cols = {'SEQN':'SEQN', 'LBDHDD': 'HDL'}\n",
    "\n",
    "HDL_I.columns = HDL_I.columns.map(HDL_cols)"
   ]
  },
  {
   "cell_type": "code",
   "execution_count": 534,
   "metadata": {},
   "outputs": [
    {
     "data": {
      "text/html": [
       "<div>\n",
       "<style scoped>\n",
       "    .dataframe tbody tr th:only-of-type {\n",
       "        vertical-align: middle;\n",
       "    }\n",
       "\n",
       "    .dataframe tbody tr th {\n",
       "        vertical-align: top;\n",
       "    }\n",
       "\n",
       "    .dataframe thead th {\n",
       "        text-align: right;\n",
       "    }\n",
       "</style>\n",
       "<table border=\"1\" class=\"dataframe\">\n",
       "  <thead>\n",
       "    <tr style=\"text-align: right;\">\n",
       "      <th></th>\n",
       "      <th>SEQN</th>\n",
       "      <th>HDL</th>\n",
       "    </tr>\n",
       "  </thead>\n",
       "  <tbody>\n",
       "    <tr>\n",
       "      <th>0</th>\n",
       "      <td>83732.0</td>\n",
       "      <td>46.0</td>\n",
       "    </tr>\n",
       "    <tr>\n",
       "      <th>1</th>\n",
       "      <td>83733.0</td>\n",
       "      <td>63.0</td>\n",
       "    </tr>\n",
       "    <tr>\n",
       "      <th>2</th>\n",
       "      <td>83734.0</td>\n",
       "      <td>30.0</td>\n",
       "    </tr>\n",
       "    <tr>\n",
       "      <th>3</th>\n",
       "      <td>83735.0</td>\n",
       "      <td>61.0</td>\n",
       "    </tr>\n",
       "    <tr>\n",
       "      <th>4</th>\n",
       "      <td>83736.0</td>\n",
       "      <td>53.0</td>\n",
       "    </tr>\n",
       "  </tbody>\n",
       "</table>\n",
       "</div>"
      ],
      "text/plain": [
       "      SEQN   HDL\n",
       "0  83732.0  46.0\n",
       "1  83733.0  63.0\n",
       "2  83734.0  30.0\n",
       "3  83735.0  61.0\n",
       "4  83736.0  53.0"
      ]
     },
     "execution_count": 534,
     "metadata": {},
     "output_type": "execute_result"
    }
   ],
   "source": [
    "HDL_I.head()"
   ]
  },
  {
   "cell_type": "markdown",
   "metadata": {},
   "source": [
    "### Cholesterol - LDL & Triglycerides (TRIGLY_I)"
   ]
  },
  {
   "cell_type": "markdown",
   "metadata": {},
   "source": [
    "variables:\n",
    "\n",
    "- LBDLDL - LBDLDL = ROUND(LBXTC-(LBXHDD+LBXTR/5) for LBXTR less than or equal to 400 mg/dL, and missing for LBXTR greater than 400 mg/dL, range 14-375\n",
    "- LBXTR : triglyceride - Triglyceride (mg/dL), range 13-4233"
   ]
  },
  {
   "cell_type": "code",
   "execution_count": 535,
   "metadata": {},
   "outputs": [],
   "source": [
    "TRIGLY_2015_2016 = pd.read_csv('./Laboratory/TRIGLY_I.csv')\n",
    "\n",
    "TRIGLY_I = TRIGLY_2015_2016.filter(['SEQN', 'LBDLDL', 'LBXTR'], axis=1)\n",
    "TRIGLY_cols = {'SEQN':'SEQN', 'LBDLDL':'LDL','LBXTR': 'triglyceride'}\n",
    "\n",
    "TRIGLY_I.columns = TRIGLY_I.columns.map(TRIGLY_cols)"
   ]
  },
  {
   "cell_type": "code",
   "execution_count": 536,
   "metadata": {},
   "outputs": [
    {
     "data": {
      "text/plain": [
       "Index(['SEQN', 'WTSAF2YR', 'LBXTR', 'LBDTRSI', 'LBDLDL', 'LBDLDLSI'], dtype='object')"
      ]
     },
     "execution_count": 536,
     "metadata": {},
     "output_type": "execute_result"
    }
   ],
   "source": [
    "TRIGLY_2015_2016.columns"
   ]
  },
  {
   "cell_type": "code",
   "execution_count": 537,
   "metadata": {},
   "outputs": [
    {
     "data": {
      "text/html": [
       "<div>\n",
       "<style scoped>\n",
       "    .dataframe tbody tr th:only-of-type {\n",
       "        vertical-align: middle;\n",
       "    }\n",
       "\n",
       "    .dataframe tbody tr th {\n",
       "        vertical-align: top;\n",
       "    }\n",
       "\n",
       "    .dataframe thead th {\n",
       "        text-align: right;\n",
       "    }\n",
       "</style>\n",
       "<table border=\"1\" class=\"dataframe\">\n",
       "  <thead>\n",
       "    <tr style=\"text-align: right;\">\n",
       "      <th></th>\n",
       "      <th>SEQN</th>\n",
       "      <th>LDL</th>\n",
       "      <th>triglyceride</th>\n",
       "    </tr>\n",
       "  </thead>\n",
       "  <tbody>\n",
       "    <tr>\n",
       "      <th>0</th>\n",
       "      <td>83733.0</td>\n",
       "      <td>173.0</td>\n",
       "      <td>147.0</td>\n",
       "    </tr>\n",
       "    <tr>\n",
       "      <th>1</th>\n",
       "      <td>83734.0</td>\n",
       "      <td>145.0</td>\n",
       "      <td>269.0</td>\n",
       "    </tr>\n",
       "    <tr>\n",
       "      <th>2</th>\n",
       "      <td>83736.0</td>\n",
       "      <td>142.0</td>\n",
       "      <td>47.0</td>\n",
       "    </tr>\n",
       "    <tr>\n",
       "      <th>3</th>\n",
       "      <td>83737.0</td>\n",
       "      <td>103.0</td>\n",
       "      <td>46.0</td>\n",
       "    </tr>\n",
       "    <tr>\n",
       "      <th>4</th>\n",
       "      <td>83741.0</td>\n",
       "      <td>102.0</td>\n",
       "      <td>68.0</td>\n",
       "    </tr>\n",
       "  </tbody>\n",
       "</table>\n",
       "</div>"
      ],
      "text/plain": [
       "      SEQN    LDL  triglyceride\n",
       "0  83733.0  173.0         147.0\n",
       "1  83734.0  145.0         269.0\n",
       "2  83736.0  142.0          47.0\n",
       "3  83737.0  103.0          46.0\n",
       "4  83741.0  102.0          68.0"
      ]
     },
     "execution_count": 537,
     "metadata": {},
     "output_type": "execute_result"
    }
   ],
   "source": [
    "TRIGLY_I.head()"
   ]
  },
  {
   "cell_type": "markdown",
   "metadata": {},
   "source": [
    "### Cholesterol - Total (TCHOL_I)"
   ]
  },
  {
   "cell_type": "markdown",
   "metadata": {},
   "source": [
    "variables:\n",
    "- LBXTC : tot_cholesterol - Total Cholesterol( mg/dL), range 69-813"
   ]
  },
  {
   "cell_type": "code",
   "execution_count": 538,
   "metadata": {},
   "outputs": [],
   "source": [
    "TCHOL_2015_2016 = pd.read_csv('./Laboratory/TCHOL_I.csv')\n",
    "\n",
    "TCHOL_I = TCHOL_2015_2016.filter(['SEQN', 'LBXTC'], axis=1)\n",
    "TCHOL_cols = {'SEQN':'SEQN', 'LBXTC': 'tot_cholesterol'}\n",
    "\n",
    "TCHOL_I.columns = TCHOL_I.columns.map(TCHOL_cols)"
   ]
  },
  {
   "cell_type": "code",
   "execution_count": 539,
   "metadata": {},
   "outputs": [
    {
     "data": {
      "text/html": [
       "<div>\n",
       "<style scoped>\n",
       "    .dataframe tbody tr th:only-of-type {\n",
       "        vertical-align: middle;\n",
       "    }\n",
       "\n",
       "    .dataframe tbody tr th {\n",
       "        vertical-align: top;\n",
       "    }\n",
       "\n",
       "    .dataframe thead th {\n",
       "        text-align: right;\n",
       "    }\n",
       "</style>\n",
       "<table border=\"1\" class=\"dataframe\">\n",
       "  <thead>\n",
       "    <tr style=\"text-align: right;\">\n",
       "      <th></th>\n",
       "      <th>SEQN</th>\n",
       "      <th>tot_cholesterol</th>\n",
       "    </tr>\n",
       "  </thead>\n",
       "  <tbody>\n",
       "    <tr>\n",
       "      <th>0</th>\n",
       "      <td>83732.0</td>\n",
       "      <td>173.0</td>\n",
       "    </tr>\n",
       "    <tr>\n",
       "      <th>1</th>\n",
       "      <td>83733.0</td>\n",
       "      <td>265.0</td>\n",
       "    </tr>\n",
       "    <tr>\n",
       "      <th>2</th>\n",
       "      <td>83734.0</td>\n",
       "      <td>229.0</td>\n",
       "    </tr>\n",
       "    <tr>\n",
       "      <th>3</th>\n",
       "      <td>83735.0</td>\n",
       "      <td>174.0</td>\n",
       "    </tr>\n",
       "    <tr>\n",
       "      <th>4</th>\n",
       "      <td>83736.0</td>\n",
       "      <td>204.0</td>\n",
       "    </tr>\n",
       "  </tbody>\n",
       "</table>\n",
       "</div>"
      ],
      "text/plain": [
       "      SEQN  tot_cholesterol\n",
       "0  83732.0            173.0\n",
       "1  83733.0            265.0\n",
       "2  83734.0            229.0\n",
       "3  83735.0            174.0\n",
       "4  83736.0            204.0"
      ]
     },
     "execution_count": 539,
     "metadata": {},
     "output_type": "execute_result"
    }
   ],
   "source": [
    "TCHOL_I.head()"
   ]
  },
  {
   "cell_type": "markdown",
   "metadata": {},
   "source": [
    "### Glycohemoglobin (GHB_I)"
   ]
  },
  {
   "cell_type": "markdown",
   "metadata": {},
   "source": [
    "variables:\n",
    "- LBXGH - Glycohemoglobin (%), range 3.5-17.5"
   ]
  },
  {
   "cell_type": "code",
   "execution_count": 540,
   "metadata": {},
   "outputs": [],
   "source": [
    "GHB_2015_2016 = pd.read_csv('./Laboratory/GHB_I.csv')\n",
    "\n",
    "GHB_I = GHB_2015_2016.filter(['SEQN', 'LBXGH'], axis=1)\n",
    "GHB_cols = {'SEQN':'SEQN', 'LBXGH': 'glycohemoglobin'}\n",
    "\n",
    "GHB_I.columns = GHB_I.columns.map(GHB_cols)"
   ]
  },
  {
   "cell_type": "code",
   "execution_count": 541,
   "metadata": {},
   "outputs": [
    {
     "data": {
      "text/html": [
       "<div>\n",
       "<style scoped>\n",
       "    .dataframe tbody tr th:only-of-type {\n",
       "        vertical-align: middle;\n",
       "    }\n",
       "\n",
       "    .dataframe tbody tr th {\n",
       "        vertical-align: top;\n",
       "    }\n",
       "\n",
       "    .dataframe thead th {\n",
       "        text-align: right;\n",
       "    }\n",
       "</style>\n",
       "<table border=\"1\" class=\"dataframe\">\n",
       "  <thead>\n",
       "    <tr style=\"text-align: right;\">\n",
       "      <th></th>\n",
       "      <th>SEQN</th>\n",
       "      <th>glycohemoglobin</th>\n",
       "    </tr>\n",
       "  </thead>\n",
       "  <tbody>\n",
       "    <tr>\n",
       "      <th>0</th>\n",
       "      <td>83732.0</td>\n",
       "      <td>7.0</td>\n",
       "    </tr>\n",
       "    <tr>\n",
       "      <th>1</th>\n",
       "      <td>83733.0</td>\n",
       "      <td>5.5</td>\n",
       "    </tr>\n",
       "    <tr>\n",
       "      <th>2</th>\n",
       "      <td>83734.0</td>\n",
       "      <td>5.8</td>\n",
       "    </tr>\n",
       "    <tr>\n",
       "      <th>3</th>\n",
       "      <td>83735.0</td>\n",
       "      <td>5.6</td>\n",
       "    </tr>\n",
       "    <tr>\n",
       "      <th>4</th>\n",
       "      <td>83736.0</td>\n",
       "      <td>5.6</td>\n",
       "    </tr>\n",
       "  </tbody>\n",
       "</table>\n",
       "</div>"
      ],
      "text/plain": [
       "      SEQN  glycohemoglobin\n",
       "0  83732.0              7.0\n",
       "1  83733.0              5.5\n",
       "2  83734.0              5.8\n",
       "3  83735.0              5.6\n",
       "4  83736.0              5.6"
      ]
     },
     "execution_count": 541,
     "metadata": {},
     "output_type": "execute_result"
    }
   ],
   "source": [
    "GHB_I.head()"
   ]
  },
  {
   "cell_type": "markdown",
   "metadata": {},
   "source": [
    "### Herpes Simplex Virus Type-1 & Type-2 (HSV_I)"
   ]
  },
  {
   "cell_type": "markdown",
   "metadata": {},
   "source": [
    "variables:\n",
    "- LBXHE2 : herpes_2 - Herpes Simplex Virus Type 2"
   ]
  },
  {
   "cell_type": "code",
   "execution_count": 542,
   "metadata": {},
   "outputs": [],
   "source": [
    "HSV_2015_2016 = pd.read_csv('./Laboratory/HSV_I.csv')\n",
    "\n",
    "HSV_I = HSV_2015_2016.filter(['SEQN', 'LBXHE2'], axis=1)\n",
    "HSV_cols = {'SEQN':'SEQN', 'LBXHE2': 'herpes_2'}\n",
    "\n",
    "HSV_I.columns = HSV_I.columns.map(HSV_cols)"
   ]
  },
  {
   "cell_type": "code",
   "execution_count": 543,
   "metadata": {},
   "outputs": [
    {
     "data": {
      "text/html": [
       "<div>\n",
       "<style scoped>\n",
       "    .dataframe tbody tr th:only-of-type {\n",
       "        vertical-align: middle;\n",
       "    }\n",
       "\n",
       "    .dataframe tbody tr th {\n",
       "        vertical-align: top;\n",
       "    }\n",
       "\n",
       "    .dataframe thead th {\n",
       "        text-align: right;\n",
       "    }\n",
       "</style>\n",
       "<table border=\"1\" class=\"dataframe\">\n",
       "  <thead>\n",
       "    <tr style=\"text-align: right;\">\n",
       "      <th></th>\n",
       "      <th>SEQN</th>\n",
       "      <th>herpes_2</th>\n",
       "    </tr>\n",
       "  </thead>\n",
       "  <tbody>\n",
       "    <tr>\n",
       "      <th>0</th>\n",
       "      <td>83736.0</td>\n",
       "      <td>1.0</td>\n",
       "    </tr>\n",
       "    <tr>\n",
       "      <th>1</th>\n",
       "      <td>83741.0</td>\n",
       "      <td>2.0</td>\n",
       "    </tr>\n",
       "  </tbody>\n",
       "</table>\n",
       "</div>"
      ],
      "text/plain": [
       "      SEQN  herpes_2\n",
       "0  83736.0       1.0\n",
       "1  83741.0       2.0"
      ]
     },
     "execution_count": 543,
     "metadata": {},
     "output_type": "execute_result"
    }
   ],
   "source": [
    "HSV_I.head(2)"
   ]
  },
  {
   "cell_type": "markdown",
   "metadata": {},
   "source": [
    "### HIV Antibody Test (HIV_I)"
   ]
  },
  {
   "cell_type": "markdown",
   "metadata": {},
   "source": [
    "variables:\n",
    "- LBDHI : HIV - HIV antibody test result, 1 pos, 2, neg, 3 indeterminant"
   ]
  },
  {
   "cell_type": "code",
   "execution_count": 544,
   "metadata": {},
   "outputs": [],
   "source": [
    "HIV_2015_2016 = pd.read_csv('./Laboratory/HIV_I.csv')\n",
    "\n",
    "HIV_I = HIV_2015_2016.filter(['SEQN', 'LBXHIVC'], axis=1)\n",
    "HIV_cols = {'SEQN':'SEQN', 'LBXHIVC': 'HIV'}\n",
    "\n",
    "HIV_I.columns = HIV_I.columns.map(HIV_cols)"
   ]
  },
  {
   "cell_type": "code",
   "execution_count": 545,
   "metadata": {},
   "outputs": [
    {
     "data": {
      "text/html": [
       "<div>\n",
       "<style scoped>\n",
       "    .dataframe tbody tr th:only-of-type {\n",
       "        vertical-align: middle;\n",
       "    }\n",
       "\n",
       "    .dataframe tbody tr th {\n",
       "        vertical-align: top;\n",
       "    }\n",
       "\n",
       "    .dataframe thead th {\n",
       "        text-align: right;\n",
       "    }\n",
       "</style>\n",
       "<table border=\"1\" class=\"dataframe\">\n",
       "  <thead>\n",
       "    <tr style=\"text-align: right;\">\n",
       "      <th></th>\n",
       "      <th>SEQN</th>\n",
       "      <th>HIV</th>\n",
       "    </tr>\n",
       "  </thead>\n",
       "  <tbody>\n",
       "    <tr>\n",
       "      <th>0</th>\n",
       "      <td>83733.0</td>\n",
       "      <td>2.0</td>\n",
       "    </tr>\n",
       "    <tr>\n",
       "      <th>1</th>\n",
       "      <td>83735.0</td>\n",
       "      <td>2.0</td>\n",
       "    </tr>\n",
       "  </tbody>\n",
       "</table>\n",
       "</div>"
      ],
      "text/plain": [
       "      SEQN  HIV\n",
       "0  83733.0  2.0\n",
       "1  83735.0  2.0"
      ]
     },
     "execution_count": 545,
     "metadata": {},
     "output_type": "execute_result"
    }
   ],
   "source": [
    "HIV_I.head(2)"
   ]
  },
  {
   "cell_type": "markdown",
   "metadata": {},
   "source": [
    "### High-Sensitivity C-Reactive Protein (hs-CRP) (HSCRP_I) - NOT IN 2013-2014"
   ]
  },
  {
   "cell_type": "markdown",
   "metadata": {},
   "source": [
    "variables:\n",
    "- LBXHSCRP : CRP - HS C-Reactive Protein (mg/L), values 0-188, missing values are mostly below detection limit --> can be made to 0"
   ]
  },
  {
   "cell_type": "code",
   "execution_count": 546,
   "metadata": {},
   "outputs": [],
   "source": [
    "HSCRP_2015_2016 = pd.read_csv('./Laboratory/HSCRP_I.csv')\n",
    "\n",
    "HSCRP_I = HSCRP_2015_2016.filter(['SEQN', 'LBXHSCRP'], axis=1)\n",
    "HSCRP_cols = {'SEQN':'SEQN', 'LBXHSCRP': 'CRP'}\n",
    "\n",
    "HSCRP_I.columns = HSCRP_I.columns.map(HSCRP_cols)"
   ]
  },
  {
   "cell_type": "code",
   "execution_count": 547,
   "metadata": {},
   "outputs": [
    {
     "data": {
      "text/html": [
       "<div>\n",
       "<style scoped>\n",
       "    .dataframe tbody tr th:only-of-type {\n",
       "        vertical-align: middle;\n",
       "    }\n",
       "\n",
       "    .dataframe tbody tr th {\n",
       "        vertical-align: top;\n",
       "    }\n",
       "\n",
       "    .dataframe thead th {\n",
       "        text-align: right;\n",
       "    }\n",
       "</style>\n",
       "<table border=\"1\" class=\"dataframe\">\n",
       "  <thead>\n",
       "    <tr style=\"text-align: right;\">\n",
       "      <th></th>\n",
       "      <th>SEQN</th>\n",
       "      <th>CRP</th>\n",
       "    </tr>\n",
       "  </thead>\n",
       "  <tbody>\n",
       "    <tr>\n",
       "      <th>0</th>\n",
       "      <td>83732.0</td>\n",
       "      <td>0.6</td>\n",
       "    </tr>\n",
       "    <tr>\n",
       "      <th>1</th>\n",
       "      <td>83733.0</td>\n",
       "      <td>1.4</td>\n",
       "    </tr>\n",
       "    <tr>\n",
       "      <th>2</th>\n",
       "      <td>83734.0</td>\n",
       "      <td>0.6</td>\n",
       "    </tr>\n",
       "    <tr>\n",
       "      <th>3</th>\n",
       "      <td>83735.0</td>\n",
       "      <td>9.0</td>\n",
       "    </tr>\n",
       "    <tr>\n",
       "      <th>4</th>\n",
       "      <td>83736.0</td>\n",
       "      <td>0.5</td>\n",
       "    </tr>\n",
       "  </tbody>\n",
       "</table>\n",
       "</div>"
      ],
      "text/plain": [
       "      SEQN  CRP\n",
       "0  83732.0  0.6\n",
       "1  83733.0  1.4\n",
       "2  83734.0  0.6\n",
       "3  83735.0  9.0\n",
       "4  83736.0  0.5"
      ]
     },
     "execution_count": 547,
     "metadata": {},
     "output_type": "execute_result"
    }
   ],
   "source": [
    "HSCRP_I.head()"
   ]
  },
  {
   "cell_type": "markdown",
   "metadata": {},
   "source": [
    "### Serums"
   ]
  },
  {
   "cell_type": "markdown",
   "metadata": {},
   "source": [
    "CUSEZN_I\n",
    "- LBXSSE - Serum Selenium (ug/L) - cont range, missing\n",
    "- LBXSZN - Serum Zinc (ug/dL) - continuous range, missing\n",
    "- URXUCR - Urinary creatinine (mg/dL) - continuous range, missing"
   ]
  },
  {
   "cell_type": "code",
   "execution_count": 548,
   "metadata": {},
   "outputs": [],
   "source": [
    "CUSEZN_2015_2016 = pd.read_csv('./Laboratory/CUSEZN_I.csv')\n",
    "\n",
    "CUSEZN_I = CUSEZN_2015_2016.filter(['SEQN', 'LBXSSE','LBXSZN','URXUCR'], axis=1)\n",
    "CUSEZN_cols = {'SEQN':'SEQN', 'LBXSSE': 'serum_selenium', 'LBXSZN':'serum_zinc','URXUCR':'urine_creatinine'}\n",
    "\n",
    "CUSEZN_I.columns = CUSEZN_I.columns.map(CUSEZN_cols)"
   ]
  },
  {
   "cell_type": "code",
   "execution_count": 549,
   "metadata": {},
   "outputs": [
    {
     "data": {
      "text/html": [
       "<div>\n",
       "<style scoped>\n",
       "    .dataframe tbody tr th:only-of-type {\n",
       "        vertical-align: middle;\n",
       "    }\n",
       "\n",
       "    .dataframe tbody tr th {\n",
       "        vertical-align: top;\n",
       "    }\n",
       "\n",
       "    .dataframe thead th {\n",
       "        text-align: right;\n",
       "    }\n",
       "</style>\n",
       "<table border=\"1\" class=\"dataframe\">\n",
       "  <thead>\n",
       "    <tr style=\"text-align: right;\">\n",
       "      <th></th>\n",
       "      <th>SEQN</th>\n",
       "      <th>serum_selenium</th>\n",
       "      <th>serum_zinc</th>\n",
       "    </tr>\n",
       "  </thead>\n",
       "  <tbody>\n",
       "    <tr>\n",
       "      <th>0</th>\n",
       "      <td>83732.0</td>\n",
       "      <td>141.1</td>\n",
       "      <td>88.5</td>\n",
       "    </tr>\n",
       "    <tr>\n",
       "      <th>1</th>\n",
       "      <td>83733.0</td>\n",
       "      <td>130.4</td>\n",
       "      <td>100.6</td>\n",
       "    </tr>\n",
       "    <tr>\n",
       "      <th>2</th>\n",
       "      <td>83734.0</td>\n",
       "      <td>126.4</td>\n",
       "      <td>98.7</td>\n",
       "    </tr>\n",
       "    <tr>\n",
       "      <th>3</th>\n",
       "      <td>83738.0</td>\n",
       "      <td>110.4</td>\n",
       "      <td>61.1</td>\n",
       "    </tr>\n",
       "    <tr>\n",
       "      <th>4</th>\n",
       "      <td>83741.0</td>\n",
       "      <td>119.9</td>\n",
       "      <td>86.2</td>\n",
       "    </tr>\n",
       "  </tbody>\n",
       "</table>\n",
       "</div>"
      ],
      "text/plain": [
       "      SEQN  serum_selenium  serum_zinc\n",
       "0  83732.0           141.1        88.5\n",
       "1  83733.0           130.4       100.6\n",
       "2  83734.0           126.4        98.7\n",
       "3  83738.0           110.4        61.1\n",
       "4  83741.0           119.9        86.2"
      ]
     },
     "execution_count": 549,
     "metadata": {},
     "output_type": "execute_result"
    }
   ],
   "source": [
    "CUSEZN_I.head()"
   ]
  },
  {
   "cell_type": "markdown",
   "metadata": {},
   "source": [
    "### Folate"
   ]
  },
  {
   "cell_type": "markdown",
   "metadata": {},
   "source": [
    "FOLATE_I\n",
    "- LBDRFO - RBC folate (ng/mL) -  continuous range, missing\n",
    "\n",
    "FOLFMS_I\n",
    "- LBDFOT - Serum total folate (ng/mL) -  continuous range, missing"
   ]
  },
  {
   "cell_type": "code",
   "execution_count": 550,
   "metadata": {},
   "outputs": [],
   "source": [
    "FOLATE_2015_2016 = pd.read_csv('./Laboratory/FOLATE_I.csv')\n",
    "FOLFMS_2015_2016 = pd.read_csv('./Laboratory/FOLFMS_I.csv')\n",
    "\n",
    "FOLATE_I = FOLATE_2015_2016.filter(['SEQN', 'LBDRFO'], axis=1)\n",
    "FOLATE_cols = {'SEQN':'SEQN', 'LBDRFO':'rbc_folate'}\n",
    "FOLFMS_I = FOLFMS_2015_2016.filter(['SEQN', 'LBDFOT'], axis=1)\n",
    "FOLFMS_cols = {'SEQN':'SEQN', 'LBDFOT':'serum_folate'}\n",
    "\n",
    "FOLATE_I.columns = FOLATE_I.columns.map(FOLATE_cols)\n",
    "FOLFMS_I.columns = FOLFMS_I.columns.map(FOLFMS_cols)"
   ]
  },
  {
   "cell_type": "code",
   "execution_count": 551,
   "metadata": {},
   "outputs": [
    {
     "data": {
      "text/html": [
       "<div>\n",
       "<style scoped>\n",
       "    .dataframe tbody tr th:only-of-type {\n",
       "        vertical-align: middle;\n",
       "    }\n",
       "\n",
       "    .dataframe tbody tr th {\n",
       "        vertical-align: top;\n",
       "    }\n",
       "\n",
       "    .dataframe thead th {\n",
       "        text-align: right;\n",
       "    }\n",
       "</style>\n",
       "<table border=\"1\" class=\"dataframe\">\n",
       "  <thead>\n",
       "    <tr style=\"text-align: right;\">\n",
       "      <th></th>\n",
       "      <th>SEQN</th>\n",
       "      <th>serum_folate</th>\n",
       "    </tr>\n",
       "  </thead>\n",
       "  <tbody>\n",
       "    <tr>\n",
       "      <th>0</th>\n",
       "      <td>83732.0</td>\n",
       "      <td>37.1</td>\n",
       "    </tr>\n",
       "    <tr>\n",
       "      <th>1</th>\n",
       "      <td>83733.0</td>\n",
       "      <td>11.6</td>\n",
       "    </tr>\n",
       "    <tr>\n",
       "      <th>2</th>\n",
       "      <td>83734.0</td>\n",
       "      <td>29.3</td>\n",
       "    </tr>\n",
       "    <tr>\n",
       "      <th>3</th>\n",
       "      <td>83735.0</td>\n",
       "      <td>8.7</td>\n",
       "    </tr>\n",
       "    <tr>\n",
       "      <th>4</th>\n",
       "      <td>83736.0</td>\n",
       "      <td>12.1</td>\n",
       "    </tr>\n",
       "  </tbody>\n",
       "</table>\n",
       "</div>"
      ],
      "text/plain": [
       "      SEQN  serum_folate\n",
       "0  83732.0          37.1\n",
       "1  83733.0          11.6\n",
       "2  83734.0          29.3\n",
       "3  83735.0           8.7\n",
       "4  83736.0          12.1"
      ]
     },
     "execution_count": 551,
     "metadata": {},
     "output_type": "execute_result"
    }
   ],
   "source": [
    "FOLFMS_I.head()"
   ]
  },
  {
   "cell_type": "code",
   "execution_count": 552,
   "metadata": {},
   "outputs": [
    {
     "data": {
      "text/html": [
       "<div>\n",
       "<style scoped>\n",
       "    .dataframe tbody tr th:only-of-type {\n",
       "        vertical-align: middle;\n",
       "    }\n",
       "\n",
       "    .dataframe tbody tr th {\n",
       "        vertical-align: top;\n",
       "    }\n",
       "\n",
       "    .dataframe thead th {\n",
       "        text-align: right;\n",
       "    }\n",
       "</style>\n",
       "<table border=\"1\" class=\"dataframe\">\n",
       "  <thead>\n",
       "    <tr style=\"text-align: right;\">\n",
       "      <th></th>\n",
       "      <th>SEQN</th>\n",
       "      <th>rbc_folate</th>\n",
       "    </tr>\n",
       "  </thead>\n",
       "  <tbody>\n",
       "    <tr>\n",
       "      <th>0</th>\n",
       "      <td>83732.0</td>\n",
       "      <td>812.0</td>\n",
       "    </tr>\n",
       "    <tr>\n",
       "      <th>1</th>\n",
       "      <td>83733.0</td>\n",
       "      <td>413.0</td>\n",
       "    </tr>\n",
       "    <tr>\n",
       "      <th>2</th>\n",
       "      <td>83734.0</td>\n",
       "      <td>1080.0</td>\n",
       "    </tr>\n",
       "    <tr>\n",
       "      <th>3</th>\n",
       "      <td>83735.0</td>\n",
       "      <td>374.0</td>\n",
       "    </tr>\n",
       "    <tr>\n",
       "      <th>4</th>\n",
       "      <td>83736.0</td>\n",
       "      <td>196.0</td>\n",
       "    </tr>\n",
       "  </tbody>\n",
       "</table>\n",
       "</div>"
      ],
      "text/plain": [
       "      SEQN  rbc_folate\n",
       "0  83732.0       812.0\n",
       "1  83733.0       413.0\n",
       "2  83734.0      1080.0\n",
       "3  83735.0       374.0\n",
       "4  83736.0       196.0"
      ]
     },
     "execution_count": 552,
     "metadata": {},
     "output_type": "execute_result"
    }
   ],
   "source": [
    "FOLATE_I.head()"
   ]
  },
  {
   "cell_type": "markdown",
   "metadata": {},
   "source": [
    "### Fasting Glucose"
   ]
  },
  {
   "cell_type": "markdown",
   "metadata": {},
   "source": [
    "GLU_I\n",
    "- LBXGLU - Fasting Glucose (mg/dL) - 51 to 421, missing"
   ]
  },
  {
   "cell_type": "code",
   "execution_count": 553,
   "metadata": {},
   "outputs": [],
   "source": [
    "GLU_2015_2016 = pd.read_csv('./Laboratory/GLU_I.csv')\n",
    "\n",
    "GLU_I = GLU_2015_2016.filter(['SEQN', 'LBXGLU'], axis=1)\n",
    "GLU_cols = {'SEQN':'SEQN', 'LBXGLU': 'fasting_glucose'}\n",
    "\n",
    "GLU_I.columns = GLU_I.columns.map(GLU_cols)"
   ]
  },
  {
   "cell_type": "code",
   "execution_count": 554,
   "metadata": {},
   "outputs": [
    {
     "data": {
      "text/html": [
       "<div>\n",
       "<style scoped>\n",
       "    .dataframe tbody tr th:only-of-type {\n",
       "        vertical-align: middle;\n",
       "    }\n",
       "\n",
       "    .dataframe tbody tr th {\n",
       "        vertical-align: top;\n",
       "    }\n",
       "\n",
       "    .dataframe thead th {\n",
       "        text-align: right;\n",
       "    }\n",
       "</style>\n",
       "<table border=\"1\" class=\"dataframe\">\n",
       "  <thead>\n",
       "    <tr style=\"text-align: right;\">\n",
       "      <th></th>\n",
       "      <th>SEQN</th>\n",
       "      <th>fasting_glucose</th>\n",
       "    </tr>\n",
       "  </thead>\n",
       "  <tbody>\n",
       "    <tr>\n",
       "      <th>0</th>\n",
       "      <td>83733.0</td>\n",
       "      <td>101.0</td>\n",
       "    </tr>\n",
       "    <tr>\n",
       "      <th>1</th>\n",
       "      <td>83734.0</td>\n",
       "      <td>84.0</td>\n",
       "    </tr>\n",
       "    <tr>\n",
       "      <th>2</th>\n",
       "      <td>83736.0</td>\n",
       "      <td>84.0</td>\n",
       "    </tr>\n",
       "    <tr>\n",
       "      <th>3</th>\n",
       "      <td>83737.0</td>\n",
       "      <td>107.0</td>\n",
       "    </tr>\n",
       "    <tr>\n",
       "      <th>4</th>\n",
       "      <td>83741.0</td>\n",
       "      <td>95.0</td>\n",
       "    </tr>\n",
       "  </tbody>\n",
       "</table>\n",
       "</div>"
      ],
      "text/plain": [
       "      SEQN  fasting_glucose\n",
       "0  83733.0            101.0\n",
       "1  83734.0             84.0\n",
       "2  83736.0             84.0\n",
       "3  83737.0            107.0\n",
       "4  83741.0             95.0"
      ]
     },
     "execution_count": 554,
     "metadata": {},
     "output_type": "execute_result"
    }
   ],
   "source": [
    "GLU_I.head()"
   ]
  },
  {
   "cell_type": "markdown",
   "metadata": {},
   "source": [
    "### Vitamins B12 and D"
   ]
  },
  {
   "cell_type": "markdown",
   "metadata": {},
   "source": [
    "VITB12_I\n",
    "- LBDB12 - Vitamin B12(pg/mL) - range, missing\n",
    "\n",
    "VID_I\n",
    "- LBXVIDMS - 25OHD2+25OHD3 (nmol/L) - range, missing (vitamin D)"
   ]
  },
  {
   "cell_type": "code",
   "execution_count": 555,
   "metadata": {},
   "outputs": [],
   "source": [
    "# VITB12_2015_2016 = pd.read_csv('./Laboratory/VITB12_I.csv')\n",
    "\n",
    "# VITB12_I = VITB12_2015_2016.filter(['SEQN', 'LBDB12'], axis=1)\n",
    "# VITB12_cols = {'SEQN':'SEQN', 'LBDB12': 'lab_VitB12'}\n",
    "\n",
    "# VITB12_I.columns = VITB12_I.columns.map(VITB12_cols)\n",
    "\n",
    "\n",
    "# VID_2015_2016 = pd.read_csv('./Laboratory/VID_I.csv')\n",
    "\n",
    "# VID_I = VID_2015_2016.filter(['SEQN', 'LBXVIDMS'], axis=1)\n",
    "# VID_cols = {'SEQN':'SEQN', 'LBXVIDMS': 'lab_VitD'}\n",
    "\n",
    "# VID_I.columns = VID_I.columns.map(VID_cols)\n"
   ]
  },
  {
   "cell_type": "code",
   "execution_count": 556,
   "metadata": {},
   "outputs": [],
   "source": [
    "#VITB12_I.head()"
   ]
  },
  {
   "cell_type": "code",
   "execution_count": 557,
   "metadata": {},
   "outputs": [],
   "source": [
    "#VID_I.head()"
   ]
  },
  {
   "cell_type": "markdown",
   "metadata": {},
   "source": [
    "## Examination Data"
   ]
  },
  {
   "cell_type": "markdown",
   "metadata": {},
   "source": [
    "### Blood Pressure (BPX_I)"
   ]
  },
  {
   "cell_type": "markdown",
   "metadata": {},
   "source": [
    "variables:\n",
    "- BPXSY1 : systolic_BP - Systolic: Blood pres (1st rdg) mm Hg\n",
    "- BPXDI1 : diastolic_BP - Diastolic: Blood pres (1st rdg) mm Hg\n",
    "- BPXPLS - 60 sec. pulse (30 sec. pulse * 2) - 0 to 180, missing"
   ]
  },
  {
   "cell_type": "code",
   "execution_count": 558,
   "metadata": {},
   "outputs": [],
   "source": [
    "BPX_2015_2016 = pd.read_csv('./Examination/BPX_I.csv')\n",
    "\n",
    "BPX_I = BPX_2015_2016.filter(['SEQN', 'BPXSY1', 'BPXDI1','BPXPLS'], axis=1)\n",
    "BPX_cols = {'SEQN':'SEQN', 'BPXSY1': 'systolic_BP', 'BPXDI1' : 'diastolic_BP','BPXPLS':'pulse'}\n",
    "\n",
    "BPX_I.columns = BPX_I.columns.map(BPX_cols)"
   ]
  },
  {
   "cell_type": "code",
   "execution_count": 559,
   "metadata": {},
   "outputs": [
    {
     "data": {
      "text/html": [
       "<div>\n",
       "<style scoped>\n",
       "    .dataframe tbody tr th:only-of-type {\n",
       "        vertical-align: middle;\n",
       "    }\n",
       "\n",
       "    .dataframe tbody tr th {\n",
       "        vertical-align: top;\n",
       "    }\n",
       "\n",
       "    .dataframe thead th {\n",
       "        text-align: right;\n",
       "    }\n",
       "</style>\n",
       "<table border=\"1\" class=\"dataframe\">\n",
       "  <thead>\n",
       "    <tr style=\"text-align: right;\">\n",
       "      <th></th>\n",
       "      <th>SEQN</th>\n",
       "      <th>systolic_BP</th>\n",
       "      <th>diastolic_BP</th>\n",
       "      <th>pulse</th>\n",
       "    </tr>\n",
       "  </thead>\n",
       "  <tbody>\n",
       "    <tr>\n",
       "      <th>0</th>\n",
       "      <td>83732.0</td>\n",
       "      <td>128.0</td>\n",
       "      <td>70.0</td>\n",
       "      <td>76.0</td>\n",
       "    </tr>\n",
       "    <tr>\n",
       "      <th>1</th>\n",
       "      <td>83733.0</td>\n",
       "      <td>146.0</td>\n",
       "      <td>88.0</td>\n",
       "      <td>72.0</td>\n",
       "    </tr>\n",
       "  </tbody>\n",
       "</table>\n",
       "</div>"
      ],
      "text/plain": [
       "      SEQN  systolic_BP  diastolic_BP  pulse\n",
       "0  83732.0        128.0          70.0   76.0\n",
       "1  83733.0        146.0          88.0   72.0"
      ]
     },
     "execution_count": 559,
     "metadata": {},
     "output_type": "execute_result"
    }
   ],
   "source": [
    "BPX_I.head(2)"
   ]
  },
  {
   "cell_type": "markdown",
   "metadata": {},
   "source": [
    "### Body Measures (BMX_I)"
   ]
  },
  {
   "cell_type": "markdown",
   "metadata": {},
   "source": [
    "variables:\n",
    "- BMXBMI : BMI - Body Mass Index (kg/m**2), range 12.1 to 82.9\n",
    "- BMXWAIST : waist_C - Waist Circumference (cm), 40.2 to 177.9"
   ]
  },
  {
   "cell_type": "code",
   "execution_count": 560,
   "metadata": {},
   "outputs": [],
   "source": [
    "BMX_2015_2016 = pd.read_csv('./Examination/BMX_I.csv')\n",
    "\n",
    "BMX_I = BMX_2015_2016.filter(['SEQN', 'BMXBMI', 'BMXWAIST'], axis=1)\n",
    "BMX_cols = {'SEQN':'SEQN', 'BMXBMI': 'BMI', 'BMXWAIST' : 'waist_C'}\n",
    "\n",
    "BMX_I.columns = BMX_I.columns.map(BMX_cols)"
   ]
  },
  {
   "cell_type": "code",
   "execution_count": 561,
   "metadata": {},
   "outputs": [
    {
     "data": {
      "text/html": [
       "<div>\n",
       "<style scoped>\n",
       "    .dataframe tbody tr th:only-of-type {\n",
       "        vertical-align: middle;\n",
       "    }\n",
       "\n",
       "    .dataframe tbody tr th {\n",
       "        vertical-align: top;\n",
       "    }\n",
       "\n",
       "    .dataframe thead th {\n",
       "        text-align: right;\n",
       "    }\n",
       "</style>\n",
       "<table border=\"1\" class=\"dataframe\">\n",
       "  <thead>\n",
       "    <tr style=\"text-align: right;\">\n",
       "      <th></th>\n",
       "      <th>SEQN</th>\n",
       "      <th>BMI</th>\n",
       "      <th>waist_C</th>\n",
       "    </tr>\n",
       "  </thead>\n",
       "  <tbody>\n",
       "    <tr>\n",
       "      <th>0</th>\n",
       "      <td>83732.0</td>\n",
       "      <td>27.8</td>\n",
       "      <td>101.1</td>\n",
       "    </tr>\n",
       "    <tr>\n",
       "      <th>1</th>\n",
       "      <td>83733.0</td>\n",
       "      <td>30.8</td>\n",
       "      <td>107.9</td>\n",
       "    </tr>\n",
       "  </tbody>\n",
       "</table>\n",
       "</div>"
      ],
      "text/plain": [
       "      SEQN   BMI  waist_C\n",
       "0  83732.0  27.8    101.1\n",
       "1  83733.0  30.8    107.9"
      ]
     },
     "execution_count": 561,
     "metadata": {},
     "output_type": "execute_result"
    }
   ],
   "source": [
    "BMX_I.head(2)"
   ]
  },
  {
   "cell_type": "markdown",
   "metadata": {},
   "source": [
    "### Dual-Energy X-ray Absorptiometry - Whole Body (DXX_I)"
   ]
  },
  {
   "cell_type": "markdown",
   "metadata": {},
   "source": [
    "variables:\n",
    "- DXDTOBMD : bone_mineral_density - Total Bone Mineral Density (g/cm^2), range 0.559 to 1.548"
   ]
  },
  {
   "cell_type": "code",
   "execution_count": 562,
   "metadata": {},
   "outputs": [],
   "source": [
    "DXX_2015_2016 = pd.read_csv('./Examination/DXX_I.csv')\n",
    "\n",
    "DXX_I = DXX_2015_2016.filter(['SEQN', 'DXDTOBMD'], axis=1)\n",
    "DXX_cols = {'SEQN':'SEQN', 'DXDTOBMD': 'bone_mineral_density'}\n",
    "\n",
    "DXX_I.columns = DXX_I.columns.map(DXX_cols)"
   ]
  },
  {
   "cell_type": "code",
   "execution_count": 563,
   "metadata": {},
   "outputs": [
    {
     "data": {
      "text/html": [
       "<div>\n",
       "<style scoped>\n",
       "    .dataframe tbody tr th:only-of-type {\n",
       "        vertical-align: middle;\n",
       "    }\n",
       "\n",
       "    .dataframe tbody tr th {\n",
       "        vertical-align: top;\n",
       "    }\n",
       "\n",
       "    .dataframe thead th {\n",
       "        text-align: right;\n",
       "    }\n",
       "</style>\n",
       "<table border=\"1\" class=\"dataframe\">\n",
       "  <thead>\n",
       "    <tr style=\"text-align: right;\">\n",
       "      <th></th>\n",
       "      <th>SEQN</th>\n",
       "      <th>bone_mineral_density</th>\n",
       "    </tr>\n",
       "  </thead>\n",
       "  <tbody>\n",
       "    <tr>\n",
       "      <th>0</th>\n",
       "      <td>83733.0</td>\n",
       "      <td>1.082</td>\n",
       "    </tr>\n",
       "    <tr>\n",
       "      <th>1</th>\n",
       "      <td>83735.0</td>\n",
       "      <td>1.025</td>\n",
       "    </tr>\n",
       "  </tbody>\n",
       "</table>\n",
       "</div>"
      ],
      "text/plain": [
       "      SEQN  bone_mineral_density\n",
       "0  83733.0                 1.082\n",
       "1  83735.0                 1.025"
      ]
     },
     "execution_count": 563,
     "metadata": {},
     "output_type": "execute_result"
    }
   ],
   "source": [
    "DXX_I.head(2)"
   ]
  },
  {
   "cell_type": "markdown",
   "metadata": {},
   "source": [
    "### Oral Health"
   ]
  },
  {
   "cell_type": "markdown",
   "metadata": {},
   "source": [
    "OHXREF_I\n",
    "- OHAREC - Overall recommendation for care\n",
    "    - 1 - See a dentist immediately\n",
    "    - 2 - See a dentist within the next 2 weeks\t\n",
    "    - 3 - See a dentist at your earliest convenience\n",
    "    - 4 - Continue your regular routine care\n",
    "    - Missing\n"
   ]
  },
  {
   "cell_type": "code",
   "execution_count": 564,
   "metadata": {},
   "outputs": [],
   "source": [
    "OHXREF_2015_2016 = pd.read_csv('./Examination/OHXREF_I.csv')\n",
    "\n",
    "OHXREF_I = OHXREF_2015_2016.filter(['SEQN', 'OHAREC'], axis=1)\n",
    "OHXREF_cols = {'SEQN':'SEQN', 'OHAREC': 'oral_rec'}\n",
    "\n",
    "OHXREF_I.columns = OHXREF_I.columns.map(OHXREF_cols)"
   ]
  },
  {
   "cell_type": "code",
   "execution_count": 565,
   "metadata": {},
   "outputs": [
    {
     "data": {
      "text/html": [
       "<div>\n",
       "<style scoped>\n",
       "    .dataframe tbody tr th:only-of-type {\n",
       "        vertical-align: middle;\n",
       "    }\n",
       "\n",
       "    .dataframe tbody tr th {\n",
       "        vertical-align: top;\n",
       "    }\n",
       "\n",
       "    .dataframe thead th {\n",
       "        text-align: right;\n",
       "    }\n",
       "</style>\n",
       "<table border=\"1\" class=\"dataframe\">\n",
       "  <thead>\n",
       "    <tr style=\"text-align: right;\">\n",
       "      <th></th>\n",
       "      <th>SEQN</th>\n",
       "      <th>oral_rec</th>\n",
       "    </tr>\n",
       "  </thead>\n",
       "  <tbody>\n",
       "    <tr>\n",
       "      <th>0</th>\n",
       "      <td>83732.0</td>\n",
       "      <td>4.0</td>\n",
       "    </tr>\n",
       "    <tr>\n",
       "      <th>1</th>\n",
       "      <td>83733.0</td>\n",
       "      <td>4.0</td>\n",
       "    </tr>\n",
       "    <tr>\n",
       "      <th>2</th>\n",
       "      <td>83734.0</td>\n",
       "      <td>4.0</td>\n",
       "    </tr>\n",
       "    <tr>\n",
       "      <th>3</th>\n",
       "      <td>83735.0</td>\n",
       "      <td>4.0</td>\n",
       "    </tr>\n",
       "    <tr>\n",
       "      <th>4</th>\n",
       "      <td>83736.0</td>\n",
       "      <td>3.0</td>\n",
       "    </tr>\n",
       "  </tbody>\n",
       "</table>\n",
       "</div>"
      ],
      "text/plain": [
       "      SEQN  oral_rec\n",
       "0  83732.0       4.0\n",
       "1  83733.0       4.0\n",
       "2  83734.0       4.0\n",
       "3  83735.0       4.0\n",
       "4  83736.0       3.0"
      ]
     },
     "execution_count": 565,
     "metadata": {},
     "output_type": "execute_result"
    }
   ],
   "source": [
    "OHXREF_I.head()"
   ]
  },
  {
   "cell_type": "markdown",
   "metadata": {},
   "source": [
    "# Merging dataframes"
   ]
  },
  {
   "cell_type": "code",
   "execution_count": 566,
   "metadata": {},
   "outputs": [],
   "source": [
    "from functools import reduce\n",
    "\n",
    "# list of df\n",
    "# OSQ_I, VITB12_I, VID_I, CSQ_I,\n",
    "data_frames = [DPQ_I, DEMO_I, DIET_I, DIQ_I, DBQ_I, DLQ_I, DUQ_I, HUQ_I, HIQ_I, \n",
    "               HOQ_I, ECQ_I, FSQ_I, INQ_I, MCQ_I, KIQ_U_I, OCQ_I, OHQ_I, \n",
    "               PAQ_I, PFQ_I, SLQ_I, SMQ_I, SMQRTU_I, SXQ_I, ALQ_I, WHQ_I, \n",
    "               HDL_I, TRIGLY_I, TCHOL_I, GHB_I, HSV_I, HIV_I, CUSEZN_I, FOLFMS_I, \n",
    "               FOLATE_I, GLU_I, BPX_I, BMX_I, DXX_I, OHXREF_I]\n",
    "\n",
    "df_2015_2016 = reduce(lambda  left,right: pd.merge(left,right,on=['SEQN'],\n",
    "                                            how='outer'), data_frames)"
   ]
  },
  {
   "cell_type": "code",
   "execution_count": 567,
   "metadata": {},
   "outputs": [
    {
     "data": {
      "text/plain": [
       "0       0.0\n",
       "1       0.0\n",
       "2       0.0\n",
       "3       1.0\n",
       "4       0.0\n",
       "       ... \n",
       "9966    NaN\n",
       "9967    NaN\n",
       "9968    NaN\n",
       "9969    NaN\n",
       "9970    NaN\n",
       "Name: depressed, Length: 9971, dtype: float64"
      ]
     },
     "execution_count": 567,
     "metadata": {},
     "output_type": "execute_result"
    }
   ],
   "source": [
    "df_2015_2016.depressed"
   ]
  },
  {
   "cell_type": "code",
   "execution_count": 568,
   "metadata": {},
   "outputs": [],
   "source": [
    "df_2015_2016.dropna(subset=['depressed'], inplace=True)"
   ]
  },
  {
   "cell_type": "code",
   "execution_count": 569,
   "metadata": {},
   "outputs": [
    {
     "data": {
      "text/plain": [
       "(5161, 107)"
      ]
     },
     "execution_count": 569,
     "metadata": {},
     "output_type": "execute_result"
    }
   ],
   "source": [
    "df_2015_2016.shape"
   ]
  },
  {
   "cell_type": "code",
   "execution_count": 570,
   "metadata": {},
   "outputs": [
    {
     "data": {
      "text/plain": [
       "Index(['SEQN', 'depressed', 'race_ethnicity', 'edu_level', '#_ppl_household',\n",
       "       'age', 'gender', 'annual_HI', 'marital_status', 'caffeine',\n",
       "       ...\n",
       "       'serum_folate', 'rbc_folate', 'fasting_glucose', 'systolic_BP',\n",
       "       'diastolic_BP', 'pulse', 'BMI', 'waist_C', 'bone_mineral_density',\n",
       "       'oral_rec'],\n",
       "      dtype='object', length=107)"
      ]
     },
     "execution_count": 570,
     "metadata": {},
     "output_type": "execute_result"
    }
   ],
   "source": [
    "df_2015_2016.columns"
   ]
  },
  {
   "cell_type": "markdown",
   "metadata": {},
   "source": [
    "# Export 2015-2016 data"
   ]
  },
  {
   "cell_type": "code",
   "execution_count": 571,
   "metadata": {},
   "outputs": [],
   "source": [
    "df_2015_2016.to_csv('/Users/carolinesklaver/Desktop/Capstone/NHANES/data/csv_data/df_2015_2016_ext.csv', index=False)"
   ]
  },
  {
   "cell_type": "code",
   "execution_count": null,
   "metadata": {},
   "outputs": [],
   "source": []
  },
  {
   "cell_type": "code",
   "execution_count": null,
   "metadata": {},
   "outputs": [],
   "source": []
  }
 ],
 "metadata": {
  "kernelspec": {
   "display_name": "Python 3",
   "language": "python",
   "name": "python3"
  },
  "language_info": {
   "codemirror_mode": {
    "name": "ipython",
    "version": 3
   },
   "file_extension": ".py",
   "mimetype": "text/x-python",
   "name": "python",
   "nbconvert_exporter": "python",
   "pygments_lexer": "ipython3",
   "version": "3.7.6"
  }
 },
 "nbformat": 4,
 "nbformat_minor": 4
}
