{
 "cells": [
  {
   "cell_type": "code",
   "execution_count": 1,
   "metadata": {},
   "outputs": [
    {
     "name": "stderr",
     "output_type": "stream",
     "text": [
      "/opt/anaconda3/lib/python3.7/site-packages/tensorflow/python/framework/dtypes.py:516: FutureWarning: Passing (type, 1) or '1type' as a synonym of type is deprecated; in a future version of numpy, it will be understood as (type, (1,)) / '(1,)type'.\n",
      "  _np_qint8 = np.dtype([(\"qint8\", np.int8, 1)])\n",
      "/opt/anaconda3/lib/python3.7/site-packages/tensorflow/python/framework/dtypes.py:517: FutureWarning: Passing (type, 1) or '1type' as a synonym of type is deprecated; in a future version of numpy, it will be understood as (type, (1,)) / '(1,)type'.\n",
      "  _np_quint8 = np.dtype([(\"quint8\", np.uint8, 1)])\n",
      "/opt/anaconda3/lib/python3.7/site-packages/tensorflow/python/framework/dtypes.py:518: FutureWarning: Passing (type, 1) or '1type' as a synonym of type is deprecated; in a future version of numpy, it will be understood as (type, (1,)) / '(1,)type'.\n",
      "  _np_qint16 = np.dtype([(\"qint16\", np.int16, 1)])\n",
      "/opt/anaconda3/lib/python3.7/site-packages/tensorflow/python/framework/dtypes.py:519: FutureWarning: Passing (type, 1) or '1type' as a synonym of type is deprecated; in a future version of numpy, it will be understood as (type, (1,)) / '(1,)type'.\n",
      "  _np_quint16 = np.dtype([(\"quint16\", np.uint16, 1)])\n",
      "/opt/anaconda3/lib/python3.7/site-packages/tensorflow/python/framework/dtypes.py:520: FutureWarning: Passing (type, 1) or '1type' as a synonym of type is deprecated; in a future version of numpy, it will be understood as (type, (1,)) / '(1,)type'.\n",
      "  _np_qint32 = np.dtype([(\"qint32\", np.int32, 1)])\n",
      "/opt/anaconda3/lib/python3.7/site-packages/tensorflow/python/framework/dtypes.py:525: FutureWarning: Passing (type, 1) or '1type' as a synonym of type is deprecated; in a future version of numpy, it will be understood as (type, (1,)) / '(1,)type'.\n",
      "  np_resource = np.dtype([(\"resource\", np.ubyte, 1)])\n",
      "/opt/anaconda3/lib/python3.7/site-packages/tensorboard/compat/tensorflow_stub/dtypes.py:541: FutureWarning: Passing (type, 1) or '1type' as a synonym of type is deprecated; in a future version of numpy, it will be understood as (type, (1,)) / '(1,)type'.\n",
      "  _np_qint8 = np.dtype([(\"qint8\", np.int8, 1)])\n",
      "/opt/anaconda3/lib/python3.7/site-packages/tensorboard/compat/tensorflow_stub/dtypes.py:542: FutureWarning: Passing (type, 1) or '1type' as a synonym of type is deprecated; in a future version of numpy, it will be understood as (type, (1,)) / '(1,)type'.\n",
      "  _np_quint8 = np.dtype([(\"quint8\", np.uint8, 1)])\n",
      "/opt/anaconda3/lib/python3.7/site-packages/tensorboard/compat/tensorflow_stub/dtypes.py:543: FutureWarning: Passing (type, 1) or '1type' as a synonym of type is deprecated; in a future version of numpy, it will be understood as (type, (1,)) / '(1,)type'.\n",
      "  _np_qint16 = np.dtype([(\"qint16\", np.int16, 1)])\n",
      "/opt/anaconda3/lib/python3.7/site-packages/tensorboard/compat/tensorflow_stub/dtypes.py:544: FutureWarning: Passing (type, 1) or '1type' as a synonym of type is deprecated; in a future version of numpy, it will be understood as (type, (1,)) / '(1,)type'.\n",
      "  _np_quint16 = np.dtype([(\"quint16\", np.uint16, 1)])\n",
      "/opt/anaconda3/lib/python3.7/site-packages/tensorboard/compat/tensorflow_stub/dtypes.py:545: FutureWarning: Passing (type, 1) or '1type' as a synonym of type is deprecated; in a future version of numpy, it will be understood as (type, (1,)) / '(1,)type'.\n",
      "  _np_qint32 = np.dtype([(\"qint32\", np.int32, 1)])\n",
      "/opt/anaconda3/lib/python3.7/site-packages/tensorboard/compat/tensorflow_stub/dtypes.py:550: FutureWarning: Passing (type, 1) or '1type' as a synonym of type is deprecated; in a future version of numpy, it will be understood as (type, (1,)) / '(1,)type'.\n",
      "  np_resource = np.dtype([(\"resource\", np.ubyte, 1)])\n",
      "Using TensorFlow backend.\n"
     ]
    }
   ],
   "source": [
    "# %% --------------------------------------- Imports -------------------------------------------------------------------\n",
    "import os\n",
    "from time import time\n",
    "import random\n",
    "import numpy as np\n",
    "import pandas as pd\n",
    "import tensorflow as tf\n",
    "from keras.models import Sequential\n",
    "from keras.layers import Dense, Dropout, BatchNormalization\n",
    "from keras.optimizers import Adam\n",
    "from sklearn.model_selection import train_test_split\n",
    "from keras.wrappers.scikit_learn import KerasRegressor\n",
    "from sklearn.model_selection import GridSearchCV, KFold\n",
    "import pandas as pd\n",
    "import numpy as np\n",
    "import math\n",
    "import matplotlib.pyplot as plt\n",
    "\n",
    "path = ('/Users/carolinesklaver/Desktop/Capstone/NHANES/data/csv_data/')\n",
    "\n",
    "import os\n",
    "\n",
    "os.chdir(path)\n",
    "\n",
    "SEED = 42"
   ]
  },
  {
   "cell_type": "code",
   "execution_count": 2,
   "metadata": {},
   "outputs": [],
   "source": [
    "# %% --------------------------------------- Load data --------------------------------------------------------------------\n",
    "\n",
    "\n",
    "# continuous features\n",
    "cont = ['#_ppl_household', 'age', 'triglyceride', 'caffeine', 'lifetime_partners',\n",
    "        'glycohemoglobin', 'CRP', 'tot_cholesterol', 'systolic_BP', 'diastolic_BP', 'BMI', 'waist_C',\n",
    "        '#meals_fast_food',\n",
    "        'min_sedetary', 'bone_mineral_density']\n",
    "\n",
    "# categorical features\n",
    "cat = ['race_ethnicity', 'edu_level', 'gender', 'marital_status', 'annual_HI',\n",
    "       'doc_diabetes', 'how_healthy_diet', 'used_CMH',\n",
    "       'health_insurance', 'doc_asthma', 'doc_overweight', 'doc_arthritis',\n",
    "       'doc_CHF', 'doc_CHD', 'doc_heart_attack', 'doc_stroke',\n",
    "       'doc_chronic_bronchitis', 'doc_liver_condition', 'doc_thyroid_problem',\n",
    "       'doc_cancer', 'difficult_seeing', 'doc_kidney', 'broken_hip',\n",
    "       'doc_osteoporosis', 'vigorous_activity', 'moderate_activity',\n",
    "       'doc_sleeping_disorder', 'smoker', 'sexual_orientation',\n",
    "       'alcoholic', 'herpes_2', 'HIV', 'doc_HPV', 'difficult_hearing', 'doc_COPD']\n",
    "\n",
    "# multi-class features\n",
    "cat_encode = ['race_ethnicity', 'edu_level', 'gender', 'marital_status', 'annual_HI', 'how_healthy_diet',\n",
    "              'sexual_orientation']\n",
    "\n",
    "# target binary feature\n",
    "target = 'depressed'\n",
    "\n",
    "df_raw = pd.read_csv('df_raw_v2.csv')\n",
    "\n",
    "# bring year and target col to the beginning of df\n",
    "year = df_raw.pop('year')\n",
    "df_raw.insert(1, 'year', year)\n",
    "\n",
    "dep = df_raw.pop('depressed')\n",
    "df_raw.insert(2, 'depressed', dep)\n",
    "\n",
    "# drop marijuana use\n",
    "df_raw.drop(['used_marijuana'], axis=1, inplace=True)\n",
    "# drop year?\n",
    "df_raw.drop(['year'], axis=1, inplace=True)"
   ]
  },
  {
   "cell_type": "code",
   "execution_count": 3,
   "metadata": {},
   "outputs": [],
   "source": [
    "# ---------------------------- Read in or Create Imputed Data -----------------------------\n",
    "# FOR MLP/KNN IMPUTED DATA\n",
    "df_mlp_impute = pd.read_csv('df_progressive_mlp_2.csv')\n",
    "df_mlp_impute.drop(['year'], axis=1, inplace=True)\n",
    "# df_knn_impute = pd.read_csv('df_progressive_knn_2.csv')\n",
    "# df_knn_impute.drop(['year'],axis=1, inplace=True)\n",
    "\n",
    "# FOR MEAN/MEDIAN IMPUTED DATA\n",
    "# from nan_helper import nan_helper\n",
    "# from mean_median_imputation import missing_values\n",
    "#\n",
    "# nan_df = nan_helper(df_raw)\n",
    "# df_mean_50 = missing_values(df_raw, 0.50,0.50, 'mean')"
   ]
  },
  {
   "cell_type": "code",
   "execution_count": 4,
   "metadata": {},
   "outputs": [],
   "source": [
    "# ---------------------------- Split, Encode, & Standardize --------------------------------\n",
    "\n",
    "from sklearn.model_selection import train_test_split\n",
    "\n",
    "\n",
    "# Function to One-hot-encode the categorical features\n",
    "def one_hot_encode(df):\n",
    "    cols = df.columns\n",
    "    e_cols = list(set(cols).intersection(set(cat_encode)))\n",
    "    df_encode = pd.get_dummies(df, columns=e_cols)\n",
    "\n",
    "    return (df_encode)\n",
    "\n",
    "\n",
    "df = one_hot_encode(df_mlp_impute)\n",
    "\n",
    "from sklearn.preprocessing import StandardScaler\n",
    "ss = StandardScaler()\n",
    "df[cont] = ss.fit_transform(df[cont])"
   ]
  },
  {
   "cell_type": "code",
   "execution_count": 5,
   "metadata": {},
   "outputs": [
    {
     "name": "stdout",
     "output_type": "stream",
     "text": [
      "Training data shape: (15364, 85)\n",
      "Validation data shape: (6585, 85)\n",
      "Test data shape: (9408, 85)\n"
     ]
    }
   ],
   "source": [
    "# get the name of the features\n",
    "features = np.setdiff1d(df.columns, [target])\n",
    "\n",
    "# divide into training and testing\n",
    "df_raw_train, df_raw_test = train_test_split(df, test_size=0.3, random_state=SEED)\n",
    "# Reset the index\n",
    "df_raw_train, df_raw_test = df_raw_train.reset_index(drop=True), df_raw_test.reset_index(drop=True)\n",
    "\n",
    "# Make a copy of df_raw_train\n",
    "df_train = df_raw_train.copy(deep=True)\n",
    "# Make a copy of df_raw_test\n",
    "df_test = df_raw_test.copy(deep=True)\n",
    "\n",
    "# split training into train and validation\n",
    "df_train_2, df_val = train_test_split(df_train, test_size=0.3, random_state=SEED, stratify=df_train['depressed'])\n",
    "\n",
    "# get feautre matrix\n",
    "train_inputs = np.asarray(df_train_2[features])\n",
    "test_inputs = np.asarray(df_test[features])\n",
    "val_inputs = np.asarray(df_val[features])\n",
    "train_target = np.asarray(df_train_2[target])\n",
    "test_target = np.asarray(df_test[target])\n",
    "val_target = np.asarray(df_val[target])\n",
    "\n",
    "print('Training data shape:', df_train_2.shape)\n",
    "print('Validation data shape:', df_val.shape)\n",
    "print('Test data shape:', df_test.shape)"
   ]
  },
  {
   "cell_type": "code",
   "execution_count": 6,
   "metadata": {},
   "outputs": [],
   "source": [
    "import keras\n",
    "from keras import layers\n",
    "from sklearn.model_selection import KFold\n",
    "import numpy as np\n",
    "import keras.backend as K\n",
    "\n",
    "# The known number of output classes.\n",
    "num_classes = 2\n",
    "\n",
    "# Input image dimensions\n",
    "in_shape = (84,)\n",
    "\n",
    "# Convert class vectors to binary class matrices. This uses 1 hot encoding.\n",
    "train_target_binary = keras.utils.to_categorical(train_target,2)\n",
    "val_target_binary = keras.utils.to_categorical(val_target, num_classes)\n",
    "test_target_binary = keras.utils.to_categorical(test_target, num_classes)\n",
    "\n",
    "x_train = train_inputs.reshape(15364, 84,1)\n",
    "x_val = val_inputs.reshape(6585,84,1)\n",
    "x_test = test_inputs.reshape(9408, 84,1)\n"
   ]
  },
  {
   "cell_type": "code",
   "execution_count": 7,
   "metadata": {},
   "outputs": [
    {
     "data": {
      "text/plain": [
       "array([[1., 0.],\n",
       "       [1., 0.],\n",
       "       [1., 0.],\n",
       "       ...,\n",
       "       [1., 0.],\n",
       "       [1., 0.],\n",
       "       [1., 0.]], dtype=float32)"
      ]
     },
     "execution_count": 7,
     "metadata": {},
     "output_type": "execute_result"
    }
   ],
   "source": [
    "train_target_binary"
   ]
  },
  {
   "cell_type": "code",
   "execution_count": 25,
   "metadata": {},
   "outputs": [
    {
     "name": "stdout",
     "output_type": "stream",
     "text": [
      "Model: \"sequential_4\"\n",
      "_________________________________________________________________\n",
      "Layer (type)                 Output Shape              Param #   \n",
      "=================================================================\n",
      "conv1d_13 (Conv1D)           (None, 83, 32)            96        \n",
      "_________________________________________________________________\n",
      "batch_normalization_16 (Batc (None, 83, 32)            128       \n",
      "_________________________________________________________________\n",
      "conv1d_14 (Conv1D)           (None, 82, 32)            2080      \n",
      "_________________________________________________________________\n",
      "batch_normalization_17 (Batc (None, 82, 32)            128       \n",
      "_________________________________________________________________\n",
      "conv1d_15 (Conv1D)           (None, 81, 64)            4160      \n",
      "_________________________________________________________________\n",
      "batch_normalization_18 (Batc (None, 81, 64)            256       \n",
      "_________________________________________________________________\n",
      "conv1d_16 (Conv1D)           (None, 80, 128)           16512     \n",
      "_________________________________________________________________\n",
      "batch_normalization_19 (Batc (None, 80, 128)           512       \n",
      "_________________________________________________________________\n",
      "flatten_4 (Flatten)          (None, 10240)             0         \n",
      "_________________________________________________________________\n",
      "dense_7 (Dense)              (None, 128)               1310848   \n",
      "_________________________________________________________________\n",
      "dropout_4 (Dropout)          (None, 128)               0         \n",
      "_________________________________________________________________\n",
      "batch_normalization_20 (Batc (None, 128)               512       \n",
      "_________________________________________________________________\n",
      "dense_8 (Dense)              (None, 2)                 258       \n",
      "=================================================================\n",
      "Total params: 1,335,490\n",
      "Trainable params: 1,334,722\n",
      "Non-trainable params: 768\n",
      "_________________________________________________________________\n"
     ]
    }
   ],
   "source": [
    "from __future__ import print_function    \n",
    "from keras.models import Sequential\n",
    "import keras\n",
    "from keras.models import Sequential\n",
    "from keras.layers import Dense, Flatten, Conv1D\n",
    "from keras.callbacks import ModelCheckpoint\n",
    "from keras.models import model_from_json\n",
    "from keras import backend as K\n",
    "\n",
    "model = Sequential()\n",
    "model.add(Conv1D(32, (2), input_shape=(84,1), activation='relu'))\n",
    "model.add(BatchNormalization())\n",
    "model.add(Conv1D(32, 2, activation=\"relu\"))\n",
    "model.add(BatchNormalization())\n",
    "model.add(Conv1D(64, 2, activation=\"relu\"))\n",
    "model.add(BatchNormalization())\n",
    "model.add(Conv1D(128, 2, activation=\"relu\"))\n",
    "model.add(BatchNormalization())\n",
    "model.add(Flatten())\n",
    "model.add(Dense(128, activation=\"relu\"))  # Intermediate linear layer that comes back to the kernel size\n",
    "model.add(Dropout(0.2))\n",
    "model.add(BatchNormalization())\n",
    "model.add(Dense(2, activation='softmax'))\n",
    "\n",
    "model.compile(loss=keras.losses.categorical_crossentropy,\n",
    "              optimizer=keras.optimizers.Adam(),\n",
    "              metrics=['accuracy', keras.metrics.Precision(name='precision'),\n",
    "                                        keras.metrics.Recall(name='recall'),\n",
    "                                        keras.metrics.AUC(name='AUC')])\n",
    "\n",
    "model.summary()"
   ]
  },
  {
   "cell_type": "code",
   "execution_count": 133,
   "metadata": {},
   "outputs": [
    {
     "name": "stdout",
     "output_type": "stream",
     "text": [
      "12998 new random picked points\n",
      "(28362, 84)\n",
      "(28362,)\n"
     ]
    }
   ],
   "source": [
    "import imblearn\n",
    "from imblearn.over_sampling import RandomOverSampler\n",
    "#\n",
    "ros = RandomOverSampler(random_state=SEED)\n",
    "def ROS(features, target):\n",
    "    X_train_ros, y_train_ros = ros.fit_sample(features, target)\n",
    "    print(X_train_ros.shape[0] - features.shape[0], 'new random picked points')\n",
    "    return X_train_ros, y_train_ros\n",
    "\n",
    "train_inputs_ros, train_target_ros = ROS(train_inputs, train_target)\n",
    "\n",
    "print(train_inputs_ros.shape)\n",
    "print(train_target_ros.shape)"
   ]
  },
  {
   "cell_type": "code",
   "execution_count": 134,
   "metadata": {},
   "outputs": [],
   "source": [
    "# x_train_ros = train_inputs_ros.reshape(28362, 84,1)\n",
    "# train_target_binary = keras.utils.to_categorical(train_target_ros, num_classes)\n"
   ]
  },
  {
   "cell_type": "code",
   "execution_count": 21,
   "metadata": {},
   "outputs": [
    {
     "name": "stdout",
     "output_type": "stream",
     "text": [
      "Train on 15364 samples, validate on 6585 samples\n",
      "Epoch 1/15\n",
      "15364/15364 [==============================] - 102s 7ms/step - loss: 0.4934 - accuracy: 0.7812 - precision: 0.7812 - recall: 0.7812 - AUC: 0.8490 - val_loss: 0.2772 - val_accuracy: 0.9248 - val_precision: 0.9248 - val_recall: 0.9248 - val_AUC: 0.9250\n",
      "Epoch 2/15\n",
      "15364/15364 [==============================] - 98s 6ms/step - loss: 0.2423 - accuracy: 0.9235 - precision: 0.9235 - recall: 0.9235 - AUC: 0.9585 - val_loss: 0.2780 - val_accuracy: 0.9248 - val_precision: 0.9248 - val_recall: 0.9248 - val_AUC: 0.9291\n",
      "Epoch 3/15\n",
      "15364/15364 [==============================] - 110s 7ms/step - loss: 0.2293 - accuracy: 0.9245 - precision: 0.9245 - recall: 0.9245 - AUC: 0.9635 - val_loss: 0.2672 - val_accuracy: 0.9248 - val_precision: 0.9248 - val_recall: 0.9248 - val_AUC: 0.9433\n",
      "Epoch 4/15\n",
      "15364/15364 [==============================] - 96s 6ms/step - loss: 0.2243 - accuracy: 0.9256 - precision: 0.9256 - recall: 0.9256 - AUC: 0.9654 - val_loss: 0.2654 - val_accuracy: 0.9248 - val_precision: 0.9248 - val_recall: 0.9248 - val_AUC: 0.9637\n",
      "Epoch 5/15\n",
      "15364/15364 [==============================] - 104s 7ms/step - loss: 0.2178 - accuracy: 0.9259 - precision: 0.9259 - recall: 0.9259 - AUC: 0.9678 - val_loss: 0.2265 - val_accuracy: 0.9259 - val_precision: 0.9259 - val_recall: 0.9259 - val_AUC: 0.9656\n",
      "Epoch 6/15\n",
      "15364/15364 [==============================] - 113s 7ms/step - loss: 0.2150 - accuracy: 0.9263 - precision: 0.9263 - recall: 0.9263 - AUC: 0.9684 - val_loss: 0.2607 - val_accuracy: 0.9213 - val_precision: 0.9213 - val_recall: 0.9213 - val_AUC: 0.9629\n",
      "Epoch 7/15\n",
      "15364/15364 [==============================] - 91s 6ms/step - loss: 0.2180 - accuracy: 0.9266 - precision: 0.9266 - recall: 0.9266 - AUC: 0.9672 - val_loss: 0.2492 - val_accuracy: 0.9245 - val_precision: 0.9245 - val_recall: 0.9245 - val_AUC: 0.9615\n",
      "Epoch 8/15\n",
      "15364/15364 [==============================] - 83s 5ms/step - loss: 0.2147 - accuracy: 0.9275 - precision: 0.9275 - recall: 0.9275 - AUC: 0.9684 - val_loss: 0.2299 - val_accuracy: 0.9263 - val_precision: 0.9263 - val_recall: 0.9263 - val_AUC: 0.9642\n",
      "Epoch 9/15\n",
      "15364/15364 [==============================] - 83s 5ms/step - loss: 0.2118 - accuracy: 0.9272 - precision: 0.9272 - recall: 0.9272 - AUC: 0.9695 - val_loss: 0.2241 - val_accuracy: 0.9265 - val_precision: 0.9265 - val_recall: 0.9265 - val_AUC: 0.9648\n",
      "Epoch 10/15\n",
      "15364/15364 [==============================] - 83s 5ms/step - loss: 0.2084 - accuracy: 0.9287 - precision: 0.9287 - recall: 0.9287 - AUC: 0.9709 - val_loss: 0.2284 - val_accuracy: 0.9256 - val_precision: 0.9256 - val_recall: 0.9256 - val_AUC: 0.9640\n",
      "Epoch 11/15\n",
      "15364/15364 [==============================] - 83s 5ms/step - loss: 0.2064 - accuracy: 0.9281 - precision: 0.9281 - recall: 0.9281 - AUC: 0.9715 - val_loss: 0.2372 - val_accuracy: 0.9270 - val_precision: 0.9270 - val_recall: 0.9270 - val_AUC: 0.9648\n",
      "Epoch 12/15\n",
      "15364/15364 [==============================] - 83s 5ms/step - loss: 0.2061 - accuracy: 0.9286 - precision: 0.9286 - recall: 0.9286 - AUC: 0.9716 - val_loss: 0.2278 - val_accuracy: 0.9259 - val_precision: 0.9259 - val_recall: 0.9259 - val_AUC: 0.9640\n",
      "Epoch 13/15\n",
      "15364/15364 [==============================] - 123s 8ms/step - loss: 0.2050 - accuracy: 0.9294 - precision: 0.9294 - recall: 0.9294 - AUC: 0.9720 - val_loss: 0.2421 - val_accuracy: 0.9194 - val_precision: 0.9194 - val_recall: 0.9194 - val_AUC: 0.9607\n",
      "Epoch 14/15\n",
      "15364/15364 [==============================] - 126s 8ms/step - loss: 0.1988 - accuracy: 0.9319 - precision: 0.9319 - recall: 0.9319 - AUC: 0.9736 - val_loss: 0.2360 - val_accuracy: 0.9209 - val_precision: 0.9209 - val_recall: 0.9209 - val_AUC: 0.9622\n",
      "Epoch 15/15\n",
      "15364/15364 [==============================] - 125s 8ms/step - loss: 0.1980 - accuracy: 0.9320 - precision: 0.9320 - recall: 0.9320 - AUC: 0.9741 - val_loss: 0.2437 - val_accuracy: 0.9216 - val_precision: 0.9216 - val_recall: 0.9216 - val_AUC: 0.9611\n"
     ]
    }
   ],
   "source": [
    "batch_size = 128\n",
    "epochs = 10\n",
    "history = model.fit(x_train, train_target_binary,#class_weight={1:7, 0:1},\n",
    "          batch_size=batch_size,\n",
    "          epochs=15,\n",
    "          verbose=1,\n",
    "          validation_data=(x_val, val_target_binary))"
   ]
  },
  {
   "cell_type": "code",
   "execution_count": 22,
   "metadata": {},
   "outputs": [
    {
     "data": {
      "image/png": "[encoded data removed]",
      "text/plain": [
       "<Figure size 432x288 with 1 Axes>"
      ]
     },
     "metadata": {
      "needs_background": "light"
     },
     "output_type": "display_data"
    },
    {
     "data": {
      "image/png": "[encoded data removed]",
      "text/plain": [
       "<Figure size 432x288 with 1 Axes>"
      ]
     },
     "metadata": {
      "needs_background": "light"
     },
     "output_type": "display_data"
    }
   ],
   "source": [
    "# (test_inputs, test_target_binar\n",
    "\n",
    "plt.plot(history.history['loss'])\n",
    "plt.plot(history.history['val_loss'])\n",
    "plt.title('model train vs validation loss')\n",
    "plt.ylabel('loss')\n",
    "plt.xlabel('epoch')\n",
    "plt.legend(['train', 'validation'], loc='upper right')\n",
    "plt.show()\n",
    "\n",
    "plt.plot(history.history['accuracy'])\n",
    "plt.plot(history.history['val_accuracy'])\n",
    "plt.title('model train vs validation accuracy')\n",
    "plt.ylabel('accuracy')\n",
    "plt.xlabel('epoch')\n",
    "plt.legend(['train', 'validation'], loc='upper right')\n",
    "plt.show()"
   ]
  },
  {
   "cell_type": "code",
   "execution_count": 23,
   "metadata": {},
   "outputs": [],
   "source": [
    "y_pred = model.predict(x_test)"
   ]
  },
  {
   "cell_type": "code",
   "execution_count": 24,
   "metadata": {},
   "outputs": [
    {
     "name": "stdout",
     "output_type": "stream",
     "text": [
      "[[8563  145]\n",
      " [ 595  105]]\n",
      "F1 score: 0.2210526315789474\n",
      "Precision: 0.42\n",
      "Recall: 0.15\n"
     ]
    }
   ],
   "source": [
    "from sklearn.metrics import confusion_matrix, f1_score, precision_score, recall_score\n",
    "print(confusion_matrix(test_target_binary.argmax(axis=1), y_pred.argmax(axis=1)))\n",
    "print('F1 score:',f1_score(test_target_binary.argmax(axis=1), y_pred.argmax(axis=1)))\n",
    "print('Precision:',precision_score(test_target_binary.argmax(axis=1), y_pred.argmax(axis=1)))\n",
    "print('Recall:',recall_score(test_target_binary.argmax(axis=1), y_pred.argmax(axis=1)))"
   ]
  },
  {
   "cell_type": "code",
   "execution_count": null,
   "metadata": {},
   "outputs": [],
   "source": []
  }
 ],
 "metadata": {
  "kernelspec": {
   "display_name": "Python 3",
   "language": "python",
   "name": "python3"
  },
  "language_info": {
   "codemirror_mode": {
    "name": "ipython",
    "version": 3
   },
   "file_extension": ".py",
   "mimetype": "text/x-python",
   "name": "python",
   "nbconvert_exporter": "python",
   "pygments_lexer": "ipython3",
   "version": "3.7.6"
  }
 },
 "nbformat": 4,
 "nbformat_minor": 4
}
